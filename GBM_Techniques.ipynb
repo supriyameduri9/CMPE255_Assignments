{
  "nbformat": 4,
  "nbformat_minor": 0,
  "metadata": {
    "colab": {
      "name": "GBM_Techniques.ipynb",
      "provenance": [],
      "authorship_tag": "ABX9TyP9BdK2VNq1NJlYAzrS89Ic",
      "include_colab_link": true
    },
    "kernelspec": {
      "name": "python3",
      "display_name": "Python 3"
    },
    "language_info": {
      "name": "python"
    },
    "widgets": {
      "application/vnd.jupyter.widget-state+json": {
        "62208fdc1bfa44189fd268b2fe694953": {
          "model_module": "catboost-widget",
          "model_name": "CatboostWidgetModel",
          "model_module_version": "^1.0.0",
          "state": {
            "_view_name": "CatboostWidgetView",
            "_dom_classes": [],
            "_model_name": "CatboostWidgetModel",
            "data": {
              "catboost_info": {
                "content": {
                  "data": {
                    "meta": {
                      "name": "experiment",
                      "parameters": "",
                      "test_metrics": [],
                      "learn_sets": [
                        "learn"
                      ],
                      "launch_mode": "Train",
                      "learn_metrics": [
                        {
                          "best_value": "Min",
                          "name": "Logloss"
                        },
                        {
                          "best_value": "Max",
                          "name": "Accuracy"
                        }
                      ],
                      "iteration_count": 1000,
                      "test_sets": []
                    },
                    "iterations": [
                      {
                        "passed_time": 0.001435413285,
                        "iteration": 0,
                        "remaining_time": 1.433977872,
                        "learn": [
                          0.6869023235,
                          0.8155230596
                        ]
                      },
                      {
                        "passed_time": 0.006097823416,
                        "iteration": 1,
                        "remaining_time": 3.042813885,
                        "learn": [
                          0.6809477439,
                          0.8098987627
                        ]
                      },
                      {
                        "passed_time": 0.008608972013,
                        "iteration": 2,
                        "remaining_time": 2.861048366,
                        "learn": [
                          0.6751064324,
                          0.8098987627
                        ]
                      },
                      {
                        "passed_time": 0.009324773444,
                        "iteration": 3,
                        "remaining_time": 2.321868587,
                        "learn": [
                          0.6702939533,
                          0.8098987627
                        ]
                      },
                      {
                        "passed_time": 0.01063989817,
                        "iteration": 4,
                        "remaining_time": 2.117339735,
                        "learn": [
                          0.6643498569,
                          0.811023622
                        ]
                      },
                      {
                        "passed_time": 0.01187838124,
                        "iteration": 5,
                        "remaining_time": 1.967851825,
                        "learn": [
                          0.6588257477,
                          0.8087739033
                        ]
                      },
                      {
                        "passed_time": 0.01314829542,
                        "iteration": 6,
                        "remaining_time": 1.865179622,
                        "learn": [
                          0.6533861562,
                          0.8098987627
                        ]
                      },
                      {
                        "passed_time": 0.01446803692,
                        "iteration": 7,
                        "remaining_time": 1.794036578,
                        "learn": [
                          0.6482843464,
                          0.811023622
                        ]
                      },
                      {
                        "passed_time": 0.01600851571,
                        "iteration": 8,
                        "remaining_time": 1.762715453,
                        "learn": [
                          0.6432104567,
                          0.8098987627
                        ]
                      },
                      {
                        "passed_time": 0.01725403646,
                        "iteration": 9,
                        "remaining_time": 1.708149609,
                        "learn": [
                          0.6384117411,
                          0.8098987627
                        ]
                      },
                      {
                        "passed_time": 0.01853363192,
                        "iteration": 10,
                        "remaining_time": 1.666341998,
                        "learn": [
                          0.6337290053,
                          0.8098987627
                        ]
                      },
                      {
                        "passed_time": 0.01985825475,
                        "iteration": 11,
                        "remaining_time": 1.634996308,
                        "learn": [
                          0.6293405016,
                          0.8087739033
                        ]
                      },
                      {
                        "passed_time": 0.02110161006,
                        "iteration": 12,
                        "remaining_time": 1.602099164,
                        "learn": [
                          0.6247989388,
                          0.8076490439
                        ]
                      },
                      {
                        "passed_time": 0.02227950772,
                        "iteration": 13,
                        "remaining_time": 1.569113901,
                        "learn": [
                          0.6206111914,
                          0.8132733408
                        ]
                      },
                      {
                        "passed_time": 0.02352872207,
                        "iteration": 14,
                        "remaining_time": 1.545052749,
                        "learn": [
                          0.6161288314,
                          0.8132733408
                        ]
                      },
                      {
                        "passed_time": 0.02475380661,
                        "iteration": 15,
                        "remaining_time": 1.522359107,
                        "learn": [
                          0.6119685226,
                          0.811023622
                        ]
                      },
                      {
                        "passed_time": 0.02600308778,
                        "iteration": 16,
                        "remaining_time": 1.503590311,
                        "learn": [
                          0.6077479582,
                          0.8098987627
                        ]
                      },
                      {
                        "passed_time": 0.02689255734,
                        "iteration": 17,
                        "remaining_time": 1.467138406,
                        "learn": [
                          0.6038243807,
                          0.8098987627
                        ]
                      },
                      {
                        "passed_time": 0.0281455653,
                        "iteration": 18,
                        "remaining_time": 1.453199977,
                        "learn": [
                          0.5996790902,
                          0.8087739033
                        ]
                      },
                      {
                        "passed_time": 0.02939945825,
                        "iteration": 19,
                        "remaining_time": 1.440573454,
                        "learn": [
                          0.5966003959,
                          0.8098987627
                        ]
                      },
                      {
                        "passed_time": 0.03071294116,
                        "iteration": 20,
                        "remaining_time": 1.431808067,
                        "learn": [
                          0.5935146245,
                          0.811023622
                        ]
                      },
                      {
                        "passed_time": 0.03140540642,
                        "iteration": 21,
                        "remaining_time": 1.396113067,
                        "learn": [
                          0.590095369,
                          0.811023622
                        ]
                      },
                      {
                        "passed_time": 0.032103238,
                        "iteration": 22,
                        "remaining_time": 1.363689718,
                        "learn": [
                          0.586767701,
                          0.811023622
                        ]
                      },
                      {
                        "passed_time": 0.03297461543,
                        "iteration": 23,
                        "remaining_time": 1.340967694,
                        "learn": [
                          0.5830606337,
                          0.8132733408
                        ]
                      },
                      {
                        "passed_time": 0.03423178881,
                        "iteration": 24,
                        "remaining_time": 1.335039764,
                        "learn": [
                          0.5795742362,
                          0.8121484814
                        ]
                      },
                      {
                        "passed_time": 0.03546220513,
                        "iteration": 25,
                        "remaining_time": 1.328468761,
                        "learn": [
                          0.5758501164,
                          0.8121484814
                        ]
                      },
                      {
                        "passed_time": 0.03667578568,
                        "iteration": 26,
                        "remaining_time": 1.321686647,
                        "learn": [
                          0.5727849514,
                          0.8121484814
                        ]
                      },
                      {
                        "passed_time": 0.03790980379,
                        "iteration": 27,
                        "remaining_time": 1.31601176,
                        "learn": [
                          0.5698996394,
                          0.8121484814
                        ]
                      },
                      {
                        "passed_time": 0.03914891004,
                        "iteration": 28,
                        "remaining_time": 1.310813505,
                        "learn": [
                          0.5668381812,
                          0.8121484814
                        ]
                      },
                      {
                        "passed_time": 0.040401953,
                        "iteration": 29,
                        "remaining_time": 1.306329814,
                        "learn": [
                          0.5631130276,
                          0.8121484814
                        ]
                      },
                      {
                        "passed_time": 0.04166050773,
                        "iteration": 30,
                        "remaining_time": 1.302226838,
                        "learn": [
                          0.5594404978,
                          0.8121484814
                        ]
                      },
                      {
                        "passed_time": 0.04287601826,
                        "iteration": 31,
                        "remaining_time": 1.296999552,
                        "learn": [
                          0.5561878701,
                          0.811023622
                        ]
                      },
                      {
                        "passed_time": 0.04414460654,
                        "iteration": 32,
                        "remaining_time": 1.293570743,
                        "learn": [
                          0.5532270222,
                          0.8121484814
                        ]
                      },
                      {
                        "passed_time": 0.04537936828,
                        "iteration": 33,
                        "remaining_time": 1.289307934,
                        "learn": [
                          0.5499511514,
                          0.8121484814
                        ]
                      },
                      {
                        "passed_time": 0.0462552625,
                        "iteration": 34,
                        "remaining_time": 1.275323666,
                        "learn": [
                          0.5480856104,
                          0.8132733408
                        ]
                      },
                      {
                        "passed_time": 0.04687498381,
                        "iteration": 35,
                        "remaining_time": 1.2552079,
                        "learn": [
                          0.5464390138,
                          0.8132733408
                        ]
                      },
                      {
                        "passed_time": 0.04780116216,
                        "iteration": 36,
                        "remaining_time": 1.244122139,
                        "learn": [
                          0.543480453,
                          0.8132733408
                        ]
                      },
                      {
                        "passed_time": 0.0491609556,
                        "iteration": 37,
                        "remaining_time": 1.244548402,
                        "learn": [
                          0.5407398225,
                          0.8121484814
                        ]
                      },
                      {
                        "passed_time": 0.05045440232,
                        "iteration": 38,
                        "remaining_time": 1.243248221,
                        "learn": [
                          0.5379742712,
                          0.8132733408
                        ]
                      },
                      {
                        "passed_time": 0.05196367909,
                        "iteration": 39,
                        "remaining_time": 1.247128298,
                        "learn": [
                          0.5353832956,
                          0.8121484814
                        ]
                      },
                      {
                        "passed_time": 0.05269273951,
                        "iteration": 40,
                        "remaining_time": 1.232496029,
                        "learn": [
                          0.5331613408,
                          0.8121484814
                        ]
                      },
                      {
                        "passed_time": 0.05363368546,
                        "iteration": 41,
                        "remaining_time": 1.223358826,
                        "learn": [
                          0.5315496566,
                          0.811023622
                        ]
                      },
                      {
                        "passed_time": 0.05492205768,
                        "iteration": 42,
                        "remaining_time": 1.222335098,
                        "learn": [
                          0.5290573228,
                          0.811023622
                        ]
                      },
                      {
                        "passed_time": 0.05630520503,
                        "iteration": 43,
                        "remaining_time": 1.223358546,
                        "learn": [
                          0.5263314857,
                          0.8121484814
                        ]
                      },
                      {
                        "passed_time": 0.05760546032,
                        "iteration": 44,
                        "remaining_time": 1.22251588,
                        "learn": [
                          0.523777654,
                          0.8121484814
                        ]
                      },
                      {
                        "passed_time": 0.05883694345,
                        "iteration": 45,
                        "remaining_time": 1.220227045,
                        "learn": [
                          0.5213604471,
                          0.8121484814
                        ]
                      },
                      {
                        "passed_time": 0.06023689112,
                        "iteration": 46,
                        "remaining_time": 1.22139909,
                        "learn": [
                          0.5193642949,
                          0.811023622
                        ]
                      },
                      {
                        "passed_time": 0.06157704336,
                        "iteration": 47,
                        "remaining_time": 1.221278027,
                        "learn": [
                          0.5172213099,
                          0.8121484814
                        ]
                      },
                      {
                        "passed_time": 0.0628064706,
                        "iteration": 48,
                        "remaining_time": 1.218958236,
                        "learn": [
                          0.5153088746,
                          0.8121484814
                        ]
                      },
                      {
                        "passed_time": 0.06423455168,
                        "iteration": 49,
                        "remaining_time": 1.220456482,
                        "learn": [
                          0.5131204344,
                          0.8121484814
                        ]
                      },
                      {
                        "passed_time": 0.06549823273,
                        "iteration": 50,
                        "remaining_time": 1.21878084,
                        "learn": [
                          0.5114757842,
                          0.8121484814
                        ]
                      },
                      {
                        "passed_time": 0.06674672208,
                        "iteration": 51,
                        "remaining_time": 1.216844087,
                        "learn": [
                          0.5094904223,
                          0.8121484814
                        ]
                      },
                      {
                        "passed_time": 0.06799674824,
                        "iteration": 52,
                        "remaining_time": 1.214960766,
                        "learn": [
                          0.5074201791,
                          0.8121484814
                        ]
                      },
                      {
                        "passed_time": 0.06926055293,
                        "iteration": 53,
                        "remaining_time": 1.213342279,
                        "learn": [
                          0.5055220636,
                          0.8121484814
                        ]
                      },
                      {
                        "passed_time": 0.07052680441,
                        "iteration": 54,
                        "remaining_time": 1.21177873,
                        "learn": [
                          0.5036250162,
                          0.8121484814
                        ]
                      },
                      {
                        "passed_time": 0.07189241963,
                        "iteration": 55,
                        "remaining_time": 1.211900788,
                        "learn": [
                          0.5015674843,
                          0.8121484814
                        ]
                      },
                      {
                        "passed_time": 0.07313737856,
                        "iteration": 56,
                        "remaining_time": 1.209974526,
                        "learn": [
                          0.4995528046,
                          0.8121484814
                        ]
                      },
                      {
                        "passed_time": 0.07436281811,
                        "iteration": 57,
                        "remaining_time": 1.207754735,
                        "learn": [
                          0.4979004522,
                          0.8121484814
                        ]
                      },
                      {
                        "passed_time": 0.07665923755,
                        "iteration": 58,
                        "remaining_time": 1.222649873,
                        "learn": [
                          0.4962716907,
                          0.8121484814
                        ]
                      },
                      {
                        "passed_time": 0.07790807872,
                        "iteration": 59,
                        "remaining_time": 1.2205599,
                        "learn": [
                          0.4946537827,
                          0.8121484814
                        ]
                      },
                      {
                        "passed_time": 0.07918134469,
                        "iteration": 60,
                        "remaining_time": 1.218873486,
                        "learn": [
                          0.4931313956,
                          0.8121484814
                        ]
                      },
                      {
                        "passed_time": 0.08047391096,
                        "iteration": 61,
                        "remaining_time": 1.217492395,
                        "learn": [
                          0.4913905346,
                          0.8121484814
                        ]
                      },
                      {
                        "passed_time": 0.0817175199,
                        "iteration": 62,
                        "remaining_time": 1.215385971,
                        "learn": [
                          0.4900725645,
                          0.8121484814
                        ]
                      },
                      {
                        "passed_time": 0.08300292305,
                        "iteration": 63,
                        "remaining_time": 1.21391775,
                        "learn": [
                          0.4883796368,
                          0.8121484814
                        ]
                      },
                      {
                        "passed_time": 0.08428583212,
                        "iteration": 64,
                        "remaining_time": 1.212419277,
                        "learn": [
                          0.4864682738,
                          0.8121484814
                        ]
                      },
                      {
                        "passed_time": 0.08556614622,
                        "iteration": 65,
                        "remaining_time": 1.210890615,
                        "learn": [
                          0.4845003601,
                          0.8121484814
                        ]
                      },
                      {
                        "passed_time": 0.08679376211,
                        "iteration": 66,
                        "remaining_time": 1.208635523,
                        "learn": [
                          0.4831552401,
                          0.8121484814
                        ]
                      },
                      {
                        "passed_time": 0.08762662031,
                        "iteration": 67,
                        "remaining_time": 1.201000149,
                        "learn": [
                          0.4822656397,
                          0.8121484814
                        ]
                      },
                      {
                        "passed_time": 0.08886992835,
                        "iteration": 68,
                        "remaining_time": 1.199100048,
                        "learn": [
                          0.480805153,
                          0.8121484814
                        ]
                      },
                      {
                        "passed_time": 0.09016118645,
                        "iteration": 69,
                        "remaining_time": 1.197855763,
                        "learn": [
                          0.4795942528,
                          0.8121484814
                        ]
                      },
                      {
                        "passed_time": 0.09142176979,
                        "iteration": 70,
                        "remaining_time": 1.196208791,
                        "learn": [
                          0.4785431224,
                          0.8121484814
                        ]
                      },
                      {
                        "passed_time": 0.09265784152,
                        "iteration": 71,
                        "remaining_time": 1.194256624,
                        "learn": [
                          0.4772202789,
                          0.8121484814
                        ]
                      },
                      {
                        "passed_time": 0.09392787571,
                        "iteration": 72,
                        "remaining_time": 1.192755353,
                        "learn": [
                          0.475564412,
                          0.8121484814
                        ]
                      },
                      {
                        "passed_time": 0.09525778803,
                        "iteration": 73,
                        "remaining_time": 1.192009618,
                        "learn": [
                          0.4744016803,
                          0.8121484814
                        ]
                      },
                      {
                        "passed_time": 0.09663628678,
                        "iteration": 74,
                        "remaining_time": 1.191847537,
                        "learn": [
                          0.4728407807,
                          0.8121484814
                        ]
                      },
                      {
                        "passed_time": 0.09803315038,
                        "iteration": 75,
                        "remaining_time": 1.191876723,
                        "learn": [
                          0.4718925084,
                          0.8121484814
                        ]
                      },
                      {
                        "passed_time": 0.09869235,
                        "iteration": 76,
                        "remaining_time": 1.183026481,
                        "learn": [
                          0.4713164196,
                          0.8132733408
                        ]
                      },
                      {
                        "passed_time": 0.1001670884,
                        "iteration": 77,
                        "remaining_time": 1.184026353,
                        "learn": [
                          0.4700391849,
                          0.8121484814
                        ]
                      },
                      {
                        "passed_time": 0.1015965331,
                        "iteration": 78,
                        "remaining_time": 1.184435532,
                        "learn": [
                          0.4688936789,
                          0.8132733408
                        ]
                      },
                      {
                        "passed_time": 0.1024990917,
                        "iteration": 79,
                        "remaining_time": 1.178739554,
                        "learn": [
                          0.4681897952,
                          0.8121484814
                        ]
                      },
                      {
                        "passed_time": 0.103302056,
                        "iteration": 80,
                        "remaining_time": 1.172031969,
                        "learn": [
                          0.4675595115,
                          0.8121484814
                        ]
                      },
                      {
                        "passed_time": 0.1046401496,
                        "iteration": 81,
                        "remaining_time": 1.171459236,
                        "learn": [
                          0.4663103078,
                          0.8121484814
                        ]
                      },
                      {
                        "passed_time": 0.107367036,
                        "iteration": 82,
                        "remaining_time": 1.186211711,
                        "learn": [
                          0.4654004932,
                          0.8121484814
                        ]
                      },
                      {
                        "passed_time": 0.1088090865,
                        "iteration": 83,
                        "remaining_time": 1.186537182,
                        "learn": [
                          0.4639618868,
                          0.8121484814
                        ]
                      },
                      {
                        "passed_time": 0.1121188259,
                        "iteration": 84,
                        "remaining_time": 1.206926184,
                        "learn": [
                          0.4628709715,
                          0.8121484814
                        ]
                      },
                      {
                        "passed_time": 0.1136914276,
                        "iteration": 85,
                        "remaining_time": 1.208301916,
                        "learn": [
                          0.4613810992,
                          0.8121484814
                        ]
                      },
                      {
                        "passed_time": 0.1151253386,
                        "iteration": 86,
                        "remaining_time": 1.208154416,
                        "learn": [
                          0.4599111861,
                          0.8121484814
                        ]
                      },
                      {
                        "passed_time": 0.1162218551,
                        "iteration": 87,
                        "remaining_time": 1.204481044,
                        "learn": [
                          0.459265176,
                          0.8121484814
                        ]
                      },
                      {
                        "passed_time": 0.1176782832,
                        "iteration": 88,
                        "remaining_time": 1.204549618,
                        "learn": [
                          0.4583840212,
                          0.8121484814
                        ]
                      },
                      {
                        "passed_time": 0.1191223083,
                        "iteration": 89,
                        "remaining_time": 1.204458895,
                        "learn": [
                          0.4573822635,
                          0.8121484814
                        ]
                      },
                      {
                        "passed_time": 0.1205645724,
                        "iteration": 90,
                        "remaining_time": 1.204320839,
                        "learn": [
                          0.4566286622,
                          0.8121484814
                        ]
                      },
                      {
                        "passed_time": 0.1219968916,
                        "iteration": 91,
                        "remaining_time": 1.204056278,
                        "learn": [
                          0.4555937397,
                          0.8121484814
                        ]
                      },
                      {
                        "passed_time": 0.1233908916,
                        "iteration": 92,
                        "remaining_time": 1.203392889,
                        "learn": [
                          0.4547495566,
                          0.8121484814
                        ]
                      },
                      {
                        "passed_time": 0.1248172845,
                        "iteration": 93,
                        "remaining_time": 1.203026168,
                        "learn": [
                          0.4538947686,
                          0.8121484814
                        ]
                      },
                      {
                        "passed_time": 0.1262231985,
                        "iteration": 94,
                        "remaining_time": 1.202442049,
                        "learn": [
                          0.4527973411,
                          0.8121484814
                        ]
                      },
                      {
                        "passed_time": 0.1276092386,
                        "iteration": 95,
                        "remaining_time": 1.201653663,
                        "learn": [
                          0.4520460192,
                          0.8121484814
                        ]
                      },
                      {
                        "passed_time": 0.1290053608,
                        "iteration": 96,
                        "remaining_time": 1.200946812,
                        "learn": [
                          0.4512441676,
                          0.8121484814
                        ]
                      },
                      {
                        "passed_time": 0.1305233307,
                        "iteration": 97,
                        "remaining_time": 1.201347391,
                        "learn": [
                          0.4503490897,
                          0.8121484814
                        ]
                      },
                      {
                        "passed_time": 0.1318854546,
                        "iteration": 98,
                        "remaining_time": 1.200290854,
                        "learn": [
                          0.449436178,
                          0.8132733408
                        ]
                      },
                      {
                        "passed_time": 0.1334068631,
                        "iteration": 99,
                        "remaining_time": 1.200661767,
                        "learn": [
                          0.44837086,
                          0.8132733408
                        ]
                      },
                      {
                        "passed_time": 0.1347950035,
                        "iteration": 100,
                        "remaining_time": 1.199808992,
                        "learn": [
                          0.4473389699,
                          0.8132733408
                        ]
                      },
                      {
                        "passed_time": 0.1362505308,
                        "iteration": 101,
                        "remaining_time": 1.199538986,
                        "learn": [
                          0.446397032,
                          0.8132733408
                        ]
                      },
                      {
                        "passed_time": 0.1376638897,
                        "iteration": 102,
                        "remaining_time": 1.198878729,
                        "learn": [
                          0.4457209671,
                          0.8132733408
                        ]
                      },
                      {
                        "passed_time": 0.1384172308,
                        "iteration": 103,
                        "remaining_time": 1.192517681,
                        "learn": [
                          0.4453869197,
                          0.8132733408
                        ]
                      },
                      {
                        "passed_time": 0.1399164254,
                        "iteration": 104,
                        "remaining_time": 1.192620959,
                        "learn": [
                          0.4446372974,
                          0.8132733408
                        ]
                      },
                      {
                        "passed_time": 0.1413321193,
                        "iteration": 105,
                        "remaining_time": 1.191989761,
                        "learn": [
                          0.4438570232,
                          0.8132733408
                        ]
                      },
                      {
                        "passed_time": 0.1422975782,
                        "iteration": 106,
                        "remaining_time": 1.18758633,
                        "learn": [
                          0.4434794789,
                          0.8132733408
                        ]
                      },
                      {
                        "passed_time": 0.1436373387,
                        "iteration": 107,
                        "remaining_time": 1.186338019,
                        "learn": [
                          0.4425411185,
                          0.8121484814
                        ]
                      },
                      {
                        "passed_time": 0.1444807381,
                        "iteration": 108,
                        "remaining_time": 1.181030621,
                        "learn": [
                          0.4422217131,
                          0.8132733408
                        ]
                      },
                      {
                        "passed_time": 0.1459824318,
                        "iteration": 109,
                        "remaining_time": 1.181130584,
                        "learn": [
                          0.4414138786,
                          0.8132733408
                        ]
                      },
                      {
                        "passed_time": 0.1474118065,
                        "iteration": 110,
                        "remaining_time": 1.180622486,
                        "learn": [
                          0.4406872048,
                          0.8132733408
                        ]
                      },
                      {
                        "passed_time": 0.1501699217,
                        "iteration": 111,
                        "remaining_time": 1.190632951,
                        "learn": [
                          0.4396590587,
                          0.8132733408
                        ]
                      },
                      {
                        "passed_time": 0.1515658244,
                        "iteration": 112,
                        "remaining_time": 1.189724657,
                        "learn": [
                          0.4389207902,
                          0.8132733408
                        ]
                      },
                      {
                        "passed_time": 0.1528598316,
                        "iteration": 113,
                        "remaining_time": 1.188015884,
                        "learn": [
                          0.4385576753,
                          0.8143982002
                        ]
                      },
                      {
                        "passed_time": 0.1541771372,
                        "iteration": 114,
                        "remaining_time": 1.186493621,
                        "learn": [
                          0.4377311885,
                          0.8143982002
                        ]
                      },
                      {
                        "passed_time": 0.1555087654,
                        "iteration": 115,
                        "remaining_time": 1.18508404,
                        "learn": [
                          0.4369391952,
                          0.8132733408
                        ]
                      },
                      {
                        "passed_time": 0.1567583097,
                        "iteration": 116,
                        "remaining_time": 1.183056303,
                        "learn": [
                          0.4363282043,
                          0.8132733408
                        ]
                      },
                      {
                        "passed_time": 0.1580001601,
                        "iteration": 117,
                        "remaining_time": 1.180984247,
                        "learn": [
                          0.4357331862,
                          0.8132733408
                        ]
                      },
                      {
                        "passed_time": 0.159263112,
                        "iteration": 118,
                        "remaining_time": 1.179082367,
                        "learn": [
                          0.4348843519,
                          0.8132733408
                        ]
                      },
                      {
                        "passed_time": 0.1604608245,
                        "iteration": 119,
                        "remaining_time": 1.176712713,
                        "learn": [
                          0.4342819636,
                          0.8132733408
                        ]
                      },
                      {
                        "passed_time": 0.1617465527,
                        "iteration": 120,
                        "remaining_time": 1.175001817,
                        "learn": [
                          0.4336367832,
                          0.8132733408
                        ]
                      },
                      {
                        "passed_time": 0.1629905743,
                        "iteration": 121,
                        "remaining_time": 1.17299774,
                        "learn": [
                          0.4329899165,
                          0.8132733408
                        ]
                      },
                      {
                        "passed_time": 0.1643065372,
                        "iteration": 122,
                        "remaining_time": 1.171518969,
                        "learn": [
                          0.4322510094,
                          0.8132733408
                        ]
                      },
                      {
                        "passed_time": 0.1652351092,
                        "iteration": 123,
                        "remaining_time": 1.167306094,
                        "learn": [
                          0.4317802961,
                          0.8143982002
                        ]
                      },
                      {
                        "passed_time": 0.1659450834,
                        "iteration": 124,
                        "remaining_time": 1.161615584,
                        "learn": [
                          0.4314558223,
                          0.8143982002
                        ]
                      },
                      {
                        "passed_time": 0.1683006742,
                        "iteration": 125,
                        "remaining_time": 1.167418962,
                        "learn": [
                          0.4310275923,
                          0.8143982002
                        ]
                      },
                      {
                        "passed_time": 0.170381774,
                        "iteration": 126,
                        "remaining_time": 1.171206998,
                        "learn": [
                          0.4306922681,
                          0.8143982002
                        ]
                      },
                      {
                        "passed_time": 0.1710832915,
                        "iteration": 127,
                        "remaining_time": 1.165504923,
                        "learn": [
                          0.4305077258,
                          0.8143982002
                        ]
                      },
                      {
                        "passed_time": 0.173014508,
                        "iteration": 128,
                        "remaining_time": 1.168183228,
                        "learn": [
                          0.4301110814,
                          0.8143982002
                        ]
                      },
                      {
                        "passed_time": 0.1735875115,
                        "iteration": 129,
                        "remaining_time": 1.161701038,
                        "learn": [
                          0.4299407567,
                          0.8143982002
                        ]
                      },
                      {
                        "passed_time": 0.1753791037,
                        "iteration": 130,
                        "remaining_time": 1.16339268,
                        "learn": [
                          0.4293908678,
                          0.8143982002
                        ]
                      },
                      {
                        "passed_time": 0.1767537879,
                        "iteration": 131,
                        "remaining_time": 1.16229006,
                        "learn": [
                          0.4287247137,
                          0.8143982002
                        ]
                      },
                      {
                        "passed_time": 0.1781032501,
                        "iteration": 132,
                        "remaining_time": 1.161018931,
                        "learn": [
                          0.4279085532,
                          0.8143982002
                        ]
                      },
                      {
                        "passed_time": 0.1793927273,
                        "iteration": 133,
                        "remaining_time": 1.159358969,
                        "learn": [
                          0.4273983039,
                          0.8143982002
                        ]
                      },
                      {
                        "passed_time": 0.1806582983,
                        "iteration": 134,
                        "remaining_time": 1.157551319,
                        "learn": [
                          0.4270542505,
                          0.8143982002
                        ]
                      },
                      {
                        "passed_time": 0.1820965452,
                        "iteration": 135,
                        "remaining_time": 1.15684864,
                        "learn": [
                          0.4265453733,
                          0.8155230596
                        ]
                      },
                      {
                        "passed_time": 0.1835118591,
                        "iteration": 136,
                        "remaining_time": 1.155990762,
                        "learn": [
                          0.4261130812,
                          0.8155230596
                        ]
                      },
                      {
                        "passed_time": 0.1849271994,
                        "iteration": 137,
                        "remaining_time": 1.15512497,
                        "learn": [
                          0.4258234474,
                          0.8177727784
                        ]
                      },
                      {
                        "passed_time": 0.186377058,
                        "iteration": 138,
                        "remaining_time": 1.154465086,
                        "learn": [
                          0.4251295573,
                          0.8177727784
                        ]
                      },
                      {
                        "passed_time": 0.1877570036,
                        "iteration": 139,
                        "remaining_time": 1.153364451,
                        "learn": [
                          0.4246907238,
                          0.8177727784
                        ]
                      },
                      {
                        "passed_time": 0.1891960214,
                        "iteration": 140,
                        "remaining_time": 1.152619733,
                        "learn": [
                          0.4243081808,
                          0.8177727784
                        ]
                      },
                      {
                        "passed_time": 0.1905892286,
                        "iteration": 141,
                        "remaining_time": 1.151588438,
                        "learn": [
                          0.4237346477,
                          0.8177727784
                        ]
                      },
                      {
                        "passed_time": 0.1919691815,
                        "iteration": 142,
                        "remaining_time": 1.150472647,
                        "learn": [
                          0.4232346421,
                          0.8177727784
                        ]
                      },
                      {
                        "passed_time": 0.1933968303,
                        "iteration": 143,
                        "remaining_time": 1.149636713,
                        "learn": [
                          0.4228100786,
                          0.8177727784
                        ]
                      },
                      {
                        "passed_time": 0.1947913403,
                        "iteration": 144,
                        "remaining_time": 1.148597213,
                        "learn": [
                          0.4223012287,
                          0.8177727784
                        ]
                      },
                      {
                        "passed_time": 0.1961739376,
                        "iteration": 145,
                        "remaining_time": 1.147483169,
                        "learn": [
                          0.4218096968,
                          0.8177727784
                        ]
                      },
                      {
                        "passed_time": 0.1976446965,
                        "iteration": 146,
                        "remaining_time": 1.146877049,
                        "learn": [
                          0.4212261195,
                          0.8177727784
                        ]
                      },
                      {
                        "passed_time": 0.199080538,
                        "iteration": 147,
                        "remaining_time": 1.146058232,
                        "learn": [
                          0.4208150469,
                          0.8177727784
                        ]
                      },
                      {
                        "passed_time": 0.200446025,
                        "iteration": 148,
                        "remaining_time": 1.144829311,
                        "learn": [
                          0.42051494,
                          0.8177727784
                        ]
                      },
                      {
                        "passed_time": 0.2018361719,
                        "iteration": 149,
                        "remaining_time": 1.143738307,
                        "learn": [
                          0.4202128544,
                          0.8177727784
                        ]
                      },
                      {
                        "passed_time": 0.2032117138,
                        "iteration": 150,
                        "remaining_time": 1.142561225,
                        "learn": [
                          0.4198482804,
                          0.8177727784
                        ]
                      },
                      {
                        "passed_time": 0.2055840567,
                        "iteration": 151,
                        "remaining_time": 1.146942632,
                        "learn": [
                          0.4194623909,
                          0.8177727784
                        ]
                      },
                      {
                        "passed_time": 0.2073590045,
                        "iteration": 152,
                        "remaining_time": 1.147928607,
                        "learn": [
                          0.4191603996,
                          0.8177727784
                        ]
                      },
                      {
                        "passed_time": 0.2085785009,
                        "iteration": 153,
                        "remaining_time": 1.145827349,
                        "learn": [
                          0.4190221683,
                          0.8188976378
                        ]
                      },
                      {
                        "passed_time": 0.2111073885,
                        "iteration": 154,
                        "remaining_time": 1.150875763,
                        "learn": [
                          0.4187953975,
                          0.8188976378
                        ]
                      },
                      {
                        "passed_time": 0.2131526995,
                        "iteration": 155,
                        "remaining_time": 1.153210759,
                        "learn": [
                          0.418343541,
                          0.8188976378
                        ]
                      },
                      {
                        "passed_time": 0.2154258391,
                        "iteration": 156,
                        "remaining_time": 1.156713264,
                        "learn": [
                          0.417886286,
                          0.8188976378
                        ]
                      },
                      {
                        "passed_time": 0.2174937541,
                        "iteration": 157,
                        "remaining_time": 1.159048993,
                        "learn": [
                          0.4176712425,
                          0.8188976378
                        ]
                      },
                      {
                        "passed_time": 0.2211941189,
                        "iteration": 158,
                        "remaining_time": 1.169963861,
                        "learn": [
                          0.4172658583,
                          0.8177727784
                        ]
                      },
                      {
                        "passed_time": 0.2251009102,
                        "iteration": 159,
                        "remaining_time": 1.181779778,
                        "learn": [
                          0.4169777072,
                          0.8188976378
                        ]
                      },
                      {
                        "passed_time": 0.2266313909,
                        "iteration": 160,
                        "remaining_time": 1.181017,
                        "learn": [
                          0.4166760511,
                          0.8188976378
                        ]
                      },
                      {
                        "passed_time": 0.2282196488,
                        "iteration": 161,
                        "remaining_time": 1.180543615,
                        "learn": [
                          0.4163185904,
                          0.8188976378
                        ]
                      },
                      {
                        "passed_time": 0.2298039463,
                        "iteration": 162,
                        "remaining_time": 1.180036215,
                        "learn": [
                          0.4159065486,
                          0.8188976378
                        ]
                      },
                      {
                        "passed_time": 0.2312369196,
                        "iteration": 163,
                        "remaining_time": 1.178744298,
                        "learn": [
                          0.4155239497,
                          0.8188976378
                        ]
                      },
                      {
                        "passed_time": 0.2326721397,
                        "iteration": 164,
                        "remaining_time": 1.177462041,
                        "learn": [
                          0.4150868173,
                          0.8188976378
                        ]
                      },
                      {
                        "passed_time": 0.2341525504,
                        "iteration": 165,
                        "remaining_time": 1.176404982,
                        "learn": [
                          0.4148712331,
                          0.8188976378
                        ]
                      },
                      {
                        "passed_time": 0.234833073,
                        "iteration": 166,
                        "remaining_time": 1.171352993,
                        "learn": [
                          0.4147913404,
                          0.8188976378
                        ]
                      },
                      {
                        "passed_time": 0.2363463116,
                        "iteration": 167,
                        "remaining_time": 1.170476972,
                        "learn": [
                          0.4143467301,
                          0.8188976378
                        ]
                      },
                      {
                        "passed_time": 0.2377573119,
                        "iteration": 168,
                        "remaining_time": 1.169090687,
                        "learn": [
                          0.4141267606,
                          0.8188976378
                        ]
                      },
                      {
                        "passed_time": 0.2391449806,
                        "iteration": 169,
                        "remaining_time": 1.167590199,
                        "learn": [
                          0.4138786657,
                          0.8188976378
                        ]
                      },
                      {
                        "passed_time": 0.2406038755,
                        "iteration": 170,
                        "remaining_time": 1.166436332,
                        "learn": [
                          0.4134768489,
                          0.8200224972
                        ]
                      },
                      {
                        "passed_time": 0.2419967286,
                        "iteration": 171,
                        "remaining_time": 1.164960996,
                        "learn": [
                          0.4129015194,
                          0.8200224972
                        ]
                      },
                      {
                        "passed_time": 0.2430679585,
                        "iteration": 172,
                        "remaining_time": 1.161949143,
                        "learn": [
                          0.4127632471,
                          0.8200224972
                        ]
                      },
                      {
                        "passed_time": 0.2445779144,
                        "iteration": 173,
                        "remaining_time": 1.161042283,
                        "learn": [
                          0.4122914666,
                          0.8200224972
                        ]
                      },
                      {
                        "passed_time": 0.2460140445,
                        "iteration": 174,
                        "remaining_time": 1.159780495,
                        "learn": [
                          0.4121641189,
                          0.8200224972
                        ]
                      },
                      {
                        "passed_time": 0.2474985397,
                        "iteration": 175,
                        "remaining_time": 1.158743163,
                        "learn": [
                          0.4118896899,
                          0.8200224972
                        ]
                      },
                      {
                        "passed_time": 0.2488764125,
                        "iteration": 176,
                        "remaining_time": 1.157205014,
                        "learn": [
                          0.411798387,
                          0.8200224972
                        ]
                      },
                      {
                        "passed_time": 0.2510906794,
                        "iteration": 177,
                        "remaining_time": 1.159531115,
                        "learn": [
                          0.4115397398,
                          0.8200224972
                        ]
                      },
                      {
                        "passed_time": 0.2518112558,
                        "iteration": 178,
                        "remaining_time": 1.154955536,
                        "learn": [
                          0.4114447626,
                          0.8200224972
                        ]
                      },
                      {
                        "passed_time": 0.2535074206,
                        "iteration": 179,
                        "remaining_time": 1.154867138,
                        "learn": [
                          0.4110910207,
                          0.8200224972
                        ]
                      },
                      {
                        "passed_time": 0.2561620489,
                        "iteration": 180,
                        "remaining_time": 1.15909789,
                        "learn": [
                          0.4108183644,
                          0.8200224972
                        ]
                      },
                      {
                        "passed_time": 0.2568762958,
                        "iteration": 181,
                        "remaining_time": 1.154531923,
                        "learn": [
                          0.4107574281,
                          0.8200224972
                        ]
                      },
                      {
                        "passed_time": 0.259625667,
                        "iteration": 182,
                        "remaining_time": 1.159093825,
                        "learn": [
                          0.4103800951,
                          0.8200224972
                        ]
                      },
                      {
                        "passed_time": 0.2610090535,
                        "iteration": 183,
                        "remaining_time": 1.157518411,
                        "learn": [
                          0.4101546104,
                          0.8200224972
                        ]
                      },
                      {
                        "passed_time": 0.2623202537,
                        "iteration": 184,
                        "remaining_time": 1.155627064,
                        "learn": [
                          0.4100690321,
                          0.8200224972
                        ]
                      },
                      {
                        "passed_time": 0.2637133582,
                        "iteration": 185,
                        "remaining_time": 1.154100396,
                        "learn": [
                          0.4097753917,
                          0.8211473566
                        ]
                      },
                      {
                        "passed_time": 0.2655696122,
                        "iteration": 186,
                        "remaining_time": 1.154588742,
                        "learn": [
                          0.4092915811,
                          0.822272216
                        ]
                      },
                      {
                        "passed_time": 0.2675263457,
                        "iteration": 187,
                        "remaining_time": 1.155486132,
                        "learn": [
                          0.4090963414,
                          0.8211473566
                        ]
                      },
                      {
                        "passed_time": 0.26928618,
                        "iteration": 188,
                        "remaining_time": 1.155508423,
                        "learn": [
                          0.4087783994,
                          0.8211473566
                        ]
                      },
                      {
                        "passed_time": 0.2711401508,
                        "iteration": 189,
                        "remaining_time": 1.155913274,
                        "learn": [
                          0.4081972783,
                          0.8211473566
                        ]
                      },
                      {
                        "passed_time": 0.2718420069,
                        "iteration": 190,
                        "remaining_time": 1.151414574,
                        "learn": [
                          0.4081300305,
                          0.8211473566
                        ]
                      },
                      {
                        "passed_time": 0.2725344012,
                        "iteration": 191,
                        "remaining_time": 1.146915605,
                        "learn": [
                          0.4080971004,
                          0.8211473566
                        ]
                      },
                      {
                        "passed_time": 0.2737661403,
                        "iteration": 192,
                        "remaining_time": 1.14471127,
                        "learn": [
                          0.4079769076,
                          0.8211473566
                        ]
                      },
                      {
                        "passed_time": 0.2750807282,
                        "iteration": 193,
                        "remaining_time": 1.14286117,
                        "learn": [
                          0.4076646361,
                          0.8211473566
                        ]
                      },
                      {
                        "passed_time": 0.2764068151,
                        "iteration": 194,
                        "remaining_time": 1.141064032,
                        "learn": [
                          0.4071995223,
                          0.8211473566
                        ]
                      },
                      {
                        "passed_time": 0.2777153026,
                        "iteration": 195,
                        "remaining_time": 1.139199507,
                        "learn": [
                          0.4069373597,
                          0.8211473566
                        ]
                      },
                      {
                        "passed_time": 0.2792352743,
                        "iteration": 196,
                        "remaining_time": 1.138202666,
                        "learn": [
                          0.4065912971,
                          0.8211473566
                        ]
                      },
                      {
                        "passed_time": 0.2802920416,
                        "iteration": 197,
                        "remaining_time": 1.13532433,
                        "learn": [
                          0.4063723619,
                          0.8211473566
                        ]
                      },
                      {
                        "passed_time": 0.2817173986,
                        "iteration": 198,
                        "remaining_time": 1.133947921,
                        "learn": [
                          0.4062032377,
                          0.8211473566
                        ]
                      },
                      {
                        "passed_time": 0.283162285,
                        "iteration": 199,
                        "remaining_time": 1.13264914,
                        "learn": [
                          0.4058711697,
                          0.8211473566
                        ]
                      },
                      {
                        "passed_time": 0.2846359452,
                        "iteration": 200,
                        "remaining_time": 1.131463285,
                        "learn": [
                          0.4056773376,
                          0.8211473566
                        ]
                      },
                      {
                        "passed_time": 0.286094671,
                        "iteration": 201,
                        "remaining_time": 1.130215582,
                        "learn": [
                          0.405505148,
                          0.8211473566
                        ]
                      },
                      {
                        "passed_time": 0.2868777942,
                        "iteration": 202,
                        "remaining_time": 1.12631331,
                        "learn": [
                          0.4054403431,
                          0.8211473566
                        ]
                      },
                      {
                        "passed_time": 0.2883182847,
                        "iteration": 203,
                        "remaining_time": 1.12500664,
                        "learn": [
                          0.4053347637,
                          0.8211473566
                        ]
                      },
                      {
                        "passed_time": 0.2897731369,
                        "iteration": 204,
                        "remaining_time": 1.12375436,
                        "learn": [
                          0.4050506423,
                          0.8211473566
                        ]
                      },
                      {
                        "passed_time": 0.2911863281,
                        "iteration": 205,
                        "remaining_time": 1.122339536,
                        "learn": [
                          0.4048051911,
                          0.8211473566
                        ]
                      },
                      {
                        "passed_time": 0.2922591007,
                        "iteration": 206,
                        "remaining_time": 1.119620613,
                        "learn": [
                          0.4047431958,
                          0.8211473566
                        ]
                      },
                      {
                        "passed_time": 0.2937402195,
                        "iteration": 207,
                        "remaining_time": 1.118472374,
                        "learn": [
                          0.4046531173,
                          0.8211473566
                        ]
                      },
                      {
                        "passed_time": 0.2949176772,
                        "iteration": 208,
                        "remaining_time": 1.116171687,
                        "learn": [
                          0.4045514079,
                          0.8211473566
                        ]
                      },
                      {
                        "passed_time": 0.29635334,
                        "iteration": 209,
                        "remaining_time": 1.114853041,
                        "learn": [
                          0.4043604669,
                          0.8211473566
                        ]
                      },
                      {
                        "passed_time": 0.2977458173,
                        "iteration": 210,
                        "remaining_time": 1.1133718,
                        "learn": [
                          0.4041162699,
                          0.8211473566
                        ]
                      },
                      {
                        "passed_time": 0.2991350069,
                        "iteration": 211,
                        "remaining_time": 1.111879176,
                        "learn": [
                          0.4037216733,
                          0.8211473566
                        ]
                      },
                      {
                        "passed_time": 0.3005304018,
                        "iteration": 212,
                        "remaining_time": 1.110410452,
                        "learn": [
                          0.40357596,
                          0.8211473566
                        ]
                      },
                      {
                        "passed_time": 0.3019461498,
                        "iteration": 213,
                        "remaining_time": 1.109017167,
                        "learn": [
                          0.4032387153,
                          0.822272216
                        ]
                      },
                      {
                        "passed_time": 0.3027581459,
                        "iteration": 214,
                        "remaining_time": 1.105419277,
                        "learn": [
                          0.4031979874,
                          0.822272216
                        ]
                      },
                      {
                        "passed_time": 0.3042889675,
                        "iteration": 215,
                        "remaining_time": 1.104456253,
                        "learn": [
                          0.4029413305,
                          0.822272216
                        ]
                      },
                      {
                        "passed_time": 0.3056919756,
                        "iteration": 216,
                        "remaining_time": 1.103026806,
                        "learn": [
                          0.4026792895,
                          0.822272216
                        ]
                      },
                      {
                        "passed_time": 0.3071347239,
                        "iteration": 217,
                        "remaining_time": 1.101740156,
                        "learn": [
                          0.4025031326,
                          0.822272216
                        ]
                      },
                      {
                        "passed_time": 0.3085452073,
                        "iteration": 218,
                        "remaining_time": 1.100337018,
                        "learn": [
                          0.4023709054,
                          0.822272216
                        ]
                      },
                      {
                        "passed_time": 0.3099944442,
                        "iteration": 219,
                        "remaining_time": 1.099071211,
                        "learn": [
                          0.4021372935,
                          0.822272216
                        ]
                      },
                      {
                        "passed_time": 0.3114500941,
                        "iteration": 220,
                        "remaining_time": 1.09782635,
                        "learn": [
                          0.4017791607,
                          0.822272216
                        ]
                      },
                      {
                        "passed_time": 0.3128712325,
                        "iteration": 221,
                        "remaining_time": 1.096458644,
                        "learn": [
                          0.4015652029,
                          0.822272216
                        ]
                      },
                      {
                        "passed_time": 0.3135867821,
                        "iteration": 222,
                        "remaining_time": 1.092631972,
                        "learn": [
                          0.4015436369,
                          0.822272216
                        ]
                      },
                      {
                        "passed_time": 0.3150286508,
                        "iteration": 223,
                        "remaining_time": 1.091349255,
                        "learn": [
                          0.4011576723,
                          0.822272216
                        ]
                      },
                      {
                        "passed_time": 0.3164702195,
                        "iteration": 224,
                        "remaining_time": 1.090064089,
                        "learn": [
                          0.4010391564,
                          0.822272216
                        ]
                      },
                      {
                        "passed_time": 0.3172189347,
                        "iteration": 225,
                        "remaining_time": 1.08640467,
                        "learn": [
                          0.4010052582,
                          0.822272216
                        ]
                      },
                      {
                        "passed_time": 0.3187564658,
                        "iteration": 226,
                        "remaining_time": 1.08545704,
                        "learn": [
                          0.4008458539,
                          0.822272216
                        ]
                      },
                      {
                        "passed_time": 0.3221149511,
                        "iteration": 227,
                        "remaining_time": 1.090669922,
                        "learn": [
                          0.4007353606,
                          0.822272216
                        ]
                      },
                      {
                        "passed_time": 0.3240501794,
                        "iteration": 228,
                        "remaining_time": 1.091016106,
                        "learn": [
                          0.4005535089,
                          0.822272216
                        ]
                      },
                      {
                        "passed_time": 0.327172294,
                        "iteration": 229,
                        "remaining_time": 1.095315941,
                        "learn": [
                          0.4001626185,
                          0.822272216
                        ]
                      },
                      {
                        "passed_time": 0.3286615136,
                        "iteration": 230,
                        "remaining_time": 1.094115602,
                        "learn": [
                          0.3999846197,
                          0.822272216
                        ]
                      },
                      {
                        "passed_time": 0.3292884121,
                        "iteration": 231,
                        "remaining_time": 1.090058192,
                        "learn": [
                          0.3999575187,
                          0.822272216
                        ]
                      },
                      {
                        "passed_time": 0.3306063768,
                        "iteration": 232,
                        "remaining_time": 1.088305112,
                        "learn": [
                          0.399720357,
                          0.822272216
                        ]
                      },
                      {
                        "passed_time": 0.3319087571,
                        "iteration": 233,
                        "remaining_time": 1.086504735,
                        "learn": [
                          0.3995522551,
                          0.822272216
                        ]
                      },
                      {
                        "passed_time": 0.333223705,
                        "iteration": 234,
                        "remaining_time": 1.084749508,
                        "learn": [
                          0.3993953586,
                          0.822272216
                        ]
                      },
                      {
                        "passed_time": 0.3340998233,
                        "iteration": 235,
                        "remaining_time": 1.081577394,
                        "learn": [
                          0.3993297825,
                          0.822272216
                        ]
                      },
                      {
                        "passed_time": 0.3350167049,
                        "iteration": 236,
                        "remaining_time": 1.07855589,
                        "learn": [
                          0.3991918459,
                          0.822272216
                        ]
                      },
                      {
                        "passed_time": 0.3363428687,
                        "iteration": 237,
                        "remaining_time": 1.076862462,
                        "learn": [
                          0.3989401345,
                          0.822272216
                        ]
                      },
                      {
                        "passed_time": 0.3376367858,
                        "iteration": 238,
                        "remaining_time": 1.075069431,
                        "learn": [
                          0.3986348708,
                          0.822272216
                        ]
                      },
                      {
                        "passed_time": 0.3391149124,
                        "iteration": 239,
                        "remaining_time": 1.073863889,
                        "learn": [
                          0.3985034272,
                          0.822272216
                        ]
                      },
                      {
                        "passed_time": 0.340364684,
                        "iteration": 240,
                        "remaining_time": 1.071936909,
                        "learn": [
                          0.398364589,
                          0.822272216
                        ]
                      },
                      {
                        "passed_time": 0.3416385041,
                        "iteration": 241,
                        "remaining_time": 1.070090852,
                        "learn": [
                          0.3982418452,
                          0.822272216
                        ]
                      },
                      {
                        "passed_time": 0.3429312772,
                        "iteration": 242,
                        "remaining_time": 1.068308547,
                        "learn": [
                          0.3979042864,
                          0.822272216
                        ]
                      },
                      {
                        "passed_time": 0.3442083136,
                        "iteration": 243,
                        "remaining_time": 1.066481496,
                        "learn": [
                          0.3977447274,
                          0.822272216
                        ]
                      },
                      {
                        "passed_time": 0.3458930562,
                        "iteration": 244,
                        "remaining_time": 1.065915336,
                        "learn": [
                          0.3976720789,
                          0.8245219348
                        ]
                      },
                      {
                        "passed_time": 0.3476033172,
                        "iteration": 245,
                        "remaining_time": 1.065418297,
                        "learn": [
                          0.3974060451,
                          0.8245219348
                        ]
                      },
                      {
                        "passed_time": 0.3493267668,
                        "iteration": 246,
                        "remaining_time": 1.064951641,
                        "learn": [
                          0.3973509446,
                          0.8245219348
                        ]
                      },
                      {
                        "passed_time": 0.3512542997,
                        "iteration": 247,
                        "remaining_time": 1.065093683,
                        "learn": [
                          0.3971661786,
                          0.8245219348
                        ]
                      },
                      {
                        "passed_time": 0.3517789663,
                        "iteration": 248,
                        "remaining_time": 1.060987967,
                        "learn": [
                          0.3971546151,
                          0.8245219348
                        ]
                      },
                      {
                        "passed_time": 0.3533675361,
                        "iteration": 249,
                        "remaining_time": 1.060102608,
                        "learn": [
                          0.3969957694,
                          0.8245219348
                        ]
                      },
                      {
                        "passed_time": 0.3548336932,
                        "iteration": 250,
                        "remaining_time": 1.058846359,
                        "learn": [
                          0.3968786992,
                          0.8278965129
                        ]
                      },
                      {
                        "passed_time": 0.3563683807,
                        "iteration": 251,
                        "remaining_time": 1.05779186,
                        "learn": [
                          0.3967646616,
                          0.8278965129
                        ]
                      },
                      {
                        "passed_time": 0.357801579,
                        "iteration": 252,
                        "remaining_time": 1.056433911,
                        "learn": [
                          0.3965337745,
                          0.8278965129
                        ]
                      },
                      {
                        "passed_time": 0.3592073639,
                        "iteration": 253,
                        "remaining_time": 1.054994856,
                        "learn": [
                          0.396466315,
                          0.8278965129
                        ]
                      },
                      {
                        "passed_time": 0.3606027675,
                        "iteration": 254,
                        "remaining_time": 1.053525732,
                        "learn": [
                          0.3962287737,
                          0.8278965129
                        ]
                      },
                      {
                        "passed_time": 0.362452281,
                        "iteration": 255,
                        "remaining_time": 1.053376942,
                        "learn": [
                          0.3961148767,
                          0.8278965129
                        ]
                      },
                      {
                        "passed_time": 0.3639233004,
                        "iteration": 256,
                        "remaining_time": 1.05212067,
                        "learn": [
                          0.3958710673,
                          0.8278965129
                        ]
                      },
                      {
                        "passed_time": 0.3653171336,
                        "iteration": 257,
                        "remaining_time": 1.050640748,
                        "learn": [
                          0.3957651189,
                          0.8278965129
                        ]
                      },
                      {
                        "passed_time": 0.3667718176,
                        "iteration": 258,
                        "remaining_time": 1.049335586,
                        "learn": [
                          0.3955733482,
                          0.8278965129
                        ]
                      },
                      {
                        "passed_time": 0.3681958469,
                        "iteration": 259,
                        "remaining_time": 1.047942026,
                        "learn": [
                          0.3954172894,
                          0.8278965129
                        ]
                      },
                      {
                        "passed_time": 0.3696752284,
                        "iteration": 260,
                        "remaining_time": 1.046704957,
                        "learn": [
                          0.3950972383,
                          0.8278965129
                        ]
                      },
                      {
                        "passed_time": 0.3715004231,
                        "iteration": 261,
                        "remaining_time": 1.046440123,
                        "learn": [
                          0.3948439157,
                          0.8278965129
                        ]
                      },
                      {
                        "passed_time": 0.3728829827,
                        "iteration": 262,
                        "remaining_time": 1.044923035,
                        "learn": [
                          0.3947641877,
                          0.8278965129
                        ]
                      },
                      {
                        "passed_time": 0.3744278601,
                        "iteration": 263,
                        "remaining_time": 1.043859489,
                        "learn": [
                          0.3945697508,
                          0.8278965129
                        ]
                      },
                      {
                        "passed_time": 0.3758390095,
                        "iteration": 264,
                        "remaining_time": 1.042421404,
                        "learn": [
                          0.3942095449,
                          0.8301462317
                        ]
                      },
                      {
                        "passed_time": 0.3770048791,
                        "iteration": 265,
                        "remaining_time": 1.040306696,
                        "learn": [
                          0.3941142462,
                          0.8301462317
                        ]
                      },
                      {
                        "passed_time": 0.3786603574,
                        "iteration": 266,
                        "remaining_time": 1.039543228,
                        "learn": [
                          0.393804435,
                          0.8312710911
                        ]
                      },
                      {
                        "passed_time": 0.3801697314,
                        "iteration": 267,
                        "remaining_time": 1.038374043,
                        "learn": [
                          0.3936339713,
                          0.8301462317
                        ]
                      },
                      {
                        "passed_time": 0.3817905373,
                        "iteration": 268,
                        "remaining_time": 1.03750514,
                        "learn": [
                          0.393405654,
                          0.8312710911
                        ]
                      },
                      {
                        "passed_time": 0.3833666317,
                        "iteration": 269,
                        "remaining_time": 1.036509782,
                        "learn": [
                          0.3932081319,
                          0.8312710911
                        ]
                      },
                      {
                        "passed_time": 0.3848418633,
                        "iteration": 270,
                        "remaining_time": 1.035238813,
                        "learn": [
                          0.3931370209,
                          0.8312710911
                        ]
                      },
                      {
                        "passed_time": 0.3862380655,
                        "iteration": 271,
                        "remaining_time": 1.033754822,
                        "learn": [
                          0.3929517893,
                          0.8312710911
                        ]
                      },
                      {
                        "passed_time": 0.3876561512,
                        "iteration": 272,
                        "remaining_time": 1.032329751,
                        "learn": [
                          0.3927946551,
                          0.8312710911
                        ]
                      },
                      {
                        "passed_time": 0.3890450958,
                        "iteration": 273,
                        "remaining_time": 1.030827517,
                        "learn": [
                          0.3926684624,
                          0.8312710911
                        ]
                      },
                      {
                        "passed_time": 0.3905679534,
                        "iteration": 274,
                        "remaining_time": 1.02967915,
                        "learn": [
                          0.3924530153,
                          0.8312710911
                        ]
                      },
                      {
                        "passed_time": 0.3920318596,
                        "iteration": 275,
                        "remaining_time": 1.028373429,
                        "learn": [
                          0.3921870041,
                          0.8312710911
                        ]
                      },
                      {
                        "passed_time": 0.3934450017,
                        "iteration": 276,
                        "remaining_time": 1.026934066,
                        "learn": [
                          0.3921401182,
                          0.8312710911
                        ]
                      },
                      {
                        "passed_time": 0.3950071644,
                        "iteration": 277,
                        "remaining_time": 1.025881916,
                        "learn": [
                          0.3919681342,
                          0.8312710911
                        ]
                      },
                      {
                        "passed_time": 0.3957942603,
                        "iteration": 278,
                        "remaining_time": 1.02282316,
                        "learn": [
                          0.3919435366,
                          0.8312710911
                        ]
                      },
                      {
                        "passed_time": 0.3972611633,
                        "iteration": 279,
                        "remaining_time": 1.021528706,
                        "learn": [
                          0.3918335454,
                          0.8312710911
                        ]
                      },
                      {
                        "passed_time": 0.3988367764,
                        "iteration": 280,
                        "remaining_time": 1.020511182,
                        "learn": [
                          0.39162822,
                          0.8312710911
                        ]
                      },
                      {
                        "passed_time": 0.4002275218,
                        "iteration": 281,
                        "remaining_time": 1.019019009,
                        "learn": [
                          0.3915242985,
                          0.8312710911
                        ]
                      },
                      {
                        "passed_time": 0.4016090924,
                        "iteration": 282,
                        "remaining_time": 1.017504308,
                        "learn": [
                          0.3913861633,
                          0.8312710911
                        ]
                      },
                      {
                        "passed_time": 0.402997021,
                        "iteration": 283,
                        "remaining_time": 1.016006574,
                        "learn": [
                          0.3913104042,
                          0.8312710911
                        ]
                      },
                      {
                        "passed_time": 0.4044140536,
                        "iteration": 284,
                        "remaining_time": 1.014582626,
                        "learn": [
                          0.3912074712,
                          0.8312710911
                        ]
                      },
                      {
                        "passed_time": 0.4058453764,
                        "iteration": 285,
                        "remaining_time": 1.013194401,
                        "learn": [
                          0.391133169,
                          0.8312710911
                        ]
                      },
                      {
                        "passed_time": 0.4072787156,
                        "iteration": 286,
                        "remaining_time": 1.011810886,
                        "learn": [
                          0.3910252495,
                          0.8312710911
                        ]
                      },
                      {
                        "passed_time": 0.4081413191,
                        "iteration": 287,
                        "remaining_time": 1.009016039,
                        "learn": [
                          0.3910048034,
                          0.8312710911
                        ]
                      },
                      {
                        "passed_time": 0.4096689152,
                        "iteration": 288,
                        "remaining_time": 1.007870584,
                        "learn": [
                          0.3907051303,
                          0.8312710911
                        ]
                      },
                      {
                        "passed_time": 0.4111666244,
                        "iteration": 289,
                        "remaining_time": 1.006649322,
                        "learn": [
                          0.3905191125,
                          0.8312710911
                        ]
                      },
                      {
                        "passed_time": 0.4125641711,
                        "iteration": 290,
                        "remaining_time": 1.005182121,
                        "learn": [
                          0.3902549168,
                          0.8323959505
                        ]
                      },
                      {
                        "passed_time": 0.413973336,
                        "iteration": 291,
                        "remaining_time": 1.003743568,
                        "learn": [
                          0.3901756767,
                          0.8323959505
                        ]
                      },
                      {
                        "passed_time": 0.4153927549,
                        "iteration": 292,
                        "remaining_time": 1.002329958,
                        "learn": [
                          0.3900473453,
                          0.8323959505
                        ]
                      },
                      {
                        "passed_time": 0.4167743822,
                        "iteration": 293,
                        "remaining_time": 1.000825557,
                        "learn": [
                          0.3899815613,
                          0.8323959505
                        ]
                      },
                      {
                        "passed_time": 0.4182155387,
                        "iteration": 294,
                        "remaining_time": 0.9994642534,
                        "learn": [
                          0.3897692128,
                          0.8323959505
                        ]
                      },
                      {
                        "passed_time": 0.4196380448,
                        "iteration": 295,
                        "remaining_time": 0.9980580524,
                        "learn": [
                          0.389576948,
                          0.8323959505
                        ]
                      },
                      {
                        "passed_time": 0.4210930229,
                        "iteration": 296,
                        "remaining_time": 0.996728603,
                        "learn": [
                          0.3894515096,
                          0.8323959505
                        ]
                      },
                      {
                        "passed_time": 0.4219496959,
                        "iteration": 297,
                        "remaining_time": 0.993988881,
                        "learn": [
                          0.3894304037,
                          0.8323959505
                        ]
                      },
                      {
                        "passed_time": 0.4228943823,
                        "iteration": 298,
                        "remaining_time": 0.9914681003,
                        "learn": [
                          0.3893827042,
                          0.8323959505
                        ]
                      },
                      {
                        "passed_time": 0.4242308691,
                        "iteration": 299,
                        "remaining_time": 0.9898720279,
                        "learn": [
                          0.3892048985,
                          0.8323959505
                        ]
                      },
                      {
                        "passed_time": 0.42562543,
                        "iteration": 300,
                        "remaining_time": 0.9884125434,
                        "learn": [
                          0.38909695,
                          0.8323959505
                        ]
                      },
                      {
                        "passed_time": 0.4270372194,
                        "iteration": 301,
                        "remaining_time": 0.9869933084,
                        "learn": [
                          0.3889078713,
                          0.8335208099
                        ]
                      },
                      {
                        "passed_time": 0.4285612388,
                        "iteration": 302,
                        "remaining_time": 0.9858322885,
                        "learn": [
                          0.3888252896,
                          0.8335208099
                        ]
                      },
                      {
                        "passed_time": 0.430053957,
                        "iteration": 303,
                        "remaining_time": 0.9845972174,
                        "learn": [
                          0.3886685872,
                          0.8335208099
                        ]
                      },
                      {
                        "passed_time": 0.4314731309,
                        "iteration": 304,
                        "remaining_time": 0.9831928721,
                        "learn": [
                          0.3885220754,
                          0.8335208099
                        ]
                      },
                      {
                        "passed_time": 0.4328928534,
                        "iteration": 305,
                        "remaining_time": 0.9817896741,
                        "learn": [
                          0.3883429017,
                          0.8335208099
                        ]
                      },
                      {
                        "passed_time": 0.4342663186,
                        "iteration": 306,
                        "remaining_time": 0.9802819504,
                        "learn": [
                          0.3883127071,
                          0.8335208099
                        ]
                      },
                      {
                        "passed_time": 0.4356603977,
                        "iteration": 307,
                        "remaining_time": 0.9788214129,
                        "learn": [
                          0.3882367996,
                          0.8335208099
                        ]
                      },
                      {
                        "passed_time": 0.4373064319,
                        "iteration": 308,
                        "remaining_time": 0.9779247394,
                        "learn": [
                          0.3881510755,
                          0.8335208099
                        ]
                      },
                      {
                        "passed_time": 0.4386997351,
                        "iteration": 309,
                        "remaining_time": 0.9764607008,
                        "learn": [
                          0.3881157011,
                          0.8335208099
                        ]
                      },
                      {
                        "passed_time": 0.4402655764,
                        "iteration": 310,
                        "remaining_time": 0.9753793639,
                        "learn": [
                          0.3880358611,
                          0.8335208099
                        ]
                      },
                      {
                        "passed_time": 0.4416801558,
                        "iteration": 311,
                        "remaining_time": 0.9739613692,
                        "learn": [
                          0.3878743406,
                          0.8357705287
                        ]
                      },
                      {
                        "passed_time": 0.4431383448,
                        "iteration": 312,
                        "remaining_time": 0.9726391146,
                        "learn": [
                          0.3876823846,
                          0.8357705287
                        ]
                      },
                      {
                        "passed_time": 0.4445704481,
                        "iteration": 313,
                        "remaining_time": 0.9712590045,
                        "learn": [
                          0.3876302471,
                          0.8357705287
                        ]
                      },
                      {
                        "passed_time": 0.4459903029,
                        "iteration": 314,
                        "remaining_time": 0.9698519285,
                        "learn": [
                          0.3875066736,
                          0.8357705287
                        ]
                      },
                      {
                        "passed_time": 0.4473685744,
                        "iteration": 315,
                        "remaining_time": 0.9683547623,
                        "learn": [
                          0.3873678325,
                          0.8368953881
                        ]
                      },
                      {
                        "passed_time": 0.4487739493,
                        "iteration": 316,
                        "remaining_time": 0.9669167424,
                        "learn": [
                          0.3872671592,
                          0.8357705287
                        ]
                      },
                      {
                        "passed_time": 0.4501835009,
                        "iteration": 317,
                        "remaining_time": 0.9654878857,
                        "learn": [
                          0.3871251428,
                          0.8368953881
                        ]
                      },
                      {
                        "passed_time": 0.4515635206,
                        "iteration": 318,
                        "remaining_time": 0.9639961051,
                        "learn": [
                          0.3870008092,
                          0.8368953881
                        ]
                      },
                      {
                        "passed_time": 0.4530778382,
                        "iteration": 319,
                        "remaining_time": 0.9627904062,
                        "learn": [
                          0.3869019974,
                          0.8368953881
                        ]
                      },
                      {
                        "passed_time": 0.4544648515,
                        "iteration": 320,
                        "remaining_time": 0.961313502,
                        "learn": [
                          0.3868399736,
                          0.8368953881
                        ]
                      },
                      {
                        "passed_time": 0.4558761168,
                        "iteration": 321,
                        "remaining_time": 0.959888221,
                        "learn": [
                          0.3866914413,
                          0.8368953881
                        ]
                      },
                      {
                        "passed_time": 0.4572835507,
                        "iteration": 322,
                        "remaining_time": 0.9584549964,
                        "learn": [
                          0.3866418934,
                          0.8357705287
                        ]
                      },
                      {
                        "passed_time": 0.4586577059,
                        "iteration": 323,
                        "remaining_time": 0.9569524974,
                        "learn": [
                          0.3865765739,
                          0.8357705287
                        ]
                      },
                      {
                        "passed_time": 0.4601215639,
                        "iteration": 324,
                        "remaining_time": 0.9556370943,
                        "learn": [
                          0.38642024,
                          0.8357705287
                        ]
                      },
                      {
                        "passed_time": 0.4615299347,
                        "iteration": 325,
                        "remaining_time": 0.9542060613,
                        "learn": [
                          0.3862791345,
                          0.8357705287
                        ]
                      },
                      {
                        "passed_time": 0.4629846078,
                        "iteration": 326,
                        "remaining_time": 0.952870462,
                        "learn": [
                          0.3862020073,
                          0.8357705287
                        ]
                      },
                      {
                        "passed_time": 0.4644374101,
                        "iteration": 327,
                        "remaining_time": 0.9515303036,
                        "learn": [
                          0.386111721,
                          0.8357705287
                        ]
                      },
                      {
                        "passed_time": 0.4658152897,
                        "iteration": 328,
                        "remaining_time": 0.9500366547,
                        "learn": [
                          0.3858671608,
                          0.8357705287
                        ]
                      },
                      {
                        "passed_time": 0.4672632293,
                        "iteration": 329,
                        "remaining_time": 0.9486859504,
                        "learn": [
                          0.3857234988,
                          0.8357705287
                        ]
                      },
                      {
                        "passed_time": 0.4686433498,
                        "iteration": 330,
                        "remaining_time": 0.9471975862,
                        "learn": [
                          0.3855731415,
                          0.8357705287
                        ]
                      },
                      {
                        "passed_time": 0.4701529571,
                        "iteration": 331,
                        "remaining_time": 0.9459704076,
                        "learn": [
                          0.3854456206,
                          0.8357705287
                        ]
                      },
                      {
                        "passed_time": 0.4715554965,
                        "iteration": 332,
                        "remaining_time": 0.9445270756,
                        "learn": [
                          0.3852870603,
                          0.8357705287
                        ]
                      },
                      {
                        "passed_time": 0.4729288858,
                        "iteration": 333,
                        "remaining_time": 0.943025862,
                        "learn": [
                          0.3852312468,
                          0.8357705287
                        ]
                      },
                      {
                        "passed_time": 0.4743069027,
                        "iteration": 334,
                        "remaining_time": 0.9415345979,
                        "learn": [
                          0.385149258,
                          0.8357705287
                        ]
                      },
                      {
                        "passed_time": 0.4757283716,
                        "iteration": 335,
                        "remaining_time": 0.9401298771,
                        "learn": [
                          0.3849611843,
                          0.8357705287
                        ]
                      },
                      {
                        "passed_time": 0.4771758157,
                        "iteration": 336,
                        "remaining_time": 0.9387761596,
                        "learn": [
                          0.3847838161,
                          0.8357705287
                        ]
                      },
                      {
                        "passed_time": 0.4786087971,
                        "iteration": 337,
                        "remaining_time": 0.9373935613,
                        "learn": [
                          0.3846267025,
                          0.8357705287
                        ]
                      },
                      {
                        "passed_time": 0.4800635912,
                        "iteration": 338,
                        "remaining_time": 0.936053197,
                        "learn": [
                          0.3845064099,
                          0.8357705287
                        ]
                      },
                      {
                        "passed_time": 0.4814329527,
                        "iteration": 339,
                        "remaining_time": 0.93454632,
                        "learn": [
                          0.3844328467,
                          0.8346456693
                        ]
                      },
                      {
                        "passed_time": 0.482836764,
                        "iteration": 340,
                        "remaining_time": 0.9331068254,
                        "learn": [
                          0.384307613,
                          0.8357705287
                        ]
                      },
                      {
                        "passed_time": 0.4842635378,
                        "iteration": 341,
                        "remaining_time": 0.9317117189,
                        "learn": [
                          0.3841543982,
                          0.8357705287
                        ]
                      },
                      {
                        "passed_time": 0.4856394007,
                        "iteration": 342,
                        "remaining_time": 0.9302189103,
                        "learn": [
                          0.3840158749,
                          0.8357705287
                        ]
                      },
                      {
                        "passed_time": 0.4867203728,
                        "iteration": 343,
                        "remaining_time": 0.9281644318,
                        "learn": [
                          0.3840007902,
                          0.8357705287
                        ]
                      },
                      {
                        "passed_time": 0.4881911562,
                        "iteration": 344,
                        "remaining_time": 0.9268556734,
                        "learn": [
                          0.3839198893,
                          0.8357705287
                        ]
                      },
                      {
                        "passed_time": 0.4897103597,
                        "iteration": 345,
                        "remaining_time": 0.9256375007,
                        "learn": [
                          0.3838696545,
                          0.8368953881
                        ]
                      },
                      {
                        "passed_time": 0.49123826,
                        "iteration": 346,
                        "remaining_time": 0.924433959,
                        "learn": [
                          0.383763615,
                          0.8368953881
                        ]
                      },
                      {
                        "passed_time": 0.4926743051,
                        "iteration": 347,
                        "remaining_time": 0.9230564566,
                        "learn": [
                          0.3835680883,
                          0.8368953881
                        ]
                      },
                      {
                        "passed_time": 0.4941157647,
                        "iteration": 348,
                        "remaining_time": 0.9216887186,
                        "learn": [
                          0.3834654837,
                          0.8357705287
                        ]
                      },
                      {
                        "passed_time": 0.4949883671,
                        "iteration": 349,
                        "remaining_time": 0.9192641103,
                        "learn": [
                          0.3834476553,
                          0.8357705287
                        ]
                      },
                      {
                        "passed_time": 0.4964966248,
                        "iteration": 350,
                        "remaining_time": 0.9180236738,
                        "learn": [
                          0.3833089328,
                          0.8357705287
                        ]
                      },
                      {
                        "passed_time": 0.4980213233,
                        "iteration": 351,
                        "remaining_time": 0.9168119815,
                        "learn": [
                          0.3832409023,
                          0.8357705287
                        ]
                      },
                      {
                        "passed_time": 0.4994514257,
                        "iteration": 352,
                        "remaining_time": 0.9154251343,
                        "learn": [
                          0.3831834385,
                          0.8357705287
                        ]
                      },
                      {
                        "passed_time": 0.5009176855,
                        "iteration": 353,
                        "remaining_time": 0.914104025,
                        "learn": [
                          0.3829908062,
                          0.8357705287
                        ]
                      },
                      {
                        "passed_time": 0.502085671,
                        "iteration": 354,
                        "remaining_time": 0.9122401628,
                        "learn": [
                          0.3829344118,
                          0.8368953881
                        ]
                      },
                      {
                        "passed_time": 0.5036237448,
                        "iteration": 355,
                        "remaining_time": 0.9110496957,
                        "learn": [
                          0.3828810205,
                          0.8368953881
                        ]
                      },
                      {
                        "passed_time": 0.5053638442,
                        "iteration": 356,
                        "remaining_time": 0.9102211536,
                        "learn": [
                          0.3826910312,
                          0.8368953881
                        ]
                      },
                      {
                        "passed_time": 0.5068909022,
                        "iteration": 357,
                        "remaining_time": 0.9090054727,
                        "learn": [
                          0.3824197869,
                          0.8391451069
                        ]
                      },
                      {
                        "passed_time": 0.5083441149,
                        "iteration": 358,
                        "remaining_time": 0.9076562052,
                        "learn": [
                          0.3822954436,
                          0.8391451069
                        ]
                      },
                      {
                        "passed_time": 0.5097328395,
                        "iteration": 359,
                        "remaining_time": 0.9061917147,
                        "learn": [
                          0.3821475189,
                          0.8391451069
                        ]
                      },
                      {
                        "passed_time": 0.5111356226,
                        "iteration": 360,
                        "remaining_time": 0.9047525286,
                        "learn": [
                          0.3820135368,
                          0.8391451069
                        ]
                      },
                      {
                        "passed_time": 0.512589673,
                        "iteration": 361,
                        "remaining_time": 0.9034038988,
                        "learn": [
                          0.3819274319,
                          0.8391451069
                        ]
                      },
                      {
                        "passed_time": 0.5140428443,
                        "iteration": 362,
                        "remaining_time": 0.9020531455,
                        "learn": [
                          0.3817865207,
                          0.8391451069
                        ]
                      },
                      {
                        "passed_time": 0.5154882793,
                        "iteration": 363,
                        "remaining_time": 0.9006883123,
                        "learn": [
                          0.3816858059,
                          0.8391451069
                        ]
                      },
                      {
                        "passed_time": 0.5168802975,
                        "iteration": 364,
                        "remaining_time": 0.8992301067,
                        "learn": [
                          0.3815314318,
                          0.8413948256
                        ]
                      },
                      {
                        "passed_time": 0.5183001746,
                        "iteration": 365,
                        "remaining_time": 0.897820521,
                        "learn": [
                          0.3814465579,
                          0.8413948256
                        ]
                      },
                      {
                        "passed_time": 0.5196998432,
                        "iteration": 366,
                        "remaining_time": 0.8963760237,
                        "learn": [
                          0.3813716874,
                          0.8413948256
                        ]
                      },
                      {
                        "passed_time": 0.5209840363,
                        "iteration": 367,
                        "remaining_time": 0.8947334537,
                        "learn": [
                          0.3812804083,
                          0.8413948256
                        ]
                      },
                      {
                        "passed_time": 0.5224412853,
                        "iteration": 368,
                        "remaining_time": 0.8933887562,
                        "learn": [
                          0.381062007,
                          0.8402699663
                        ]
                      },
                      {
                        "passed_time": 0.5238518179,
                        "iteration": 369,
                        "remaining_time": 0.8919639062,
                        "learn": [
                          0.3809289275,
                          0.8402699663
                        ]
                      },
                      {
                        "passed_time": 0.5270949096,
                        "iteration": 370,
                        "remaining_time": 0.8936460867,
                        "learn": [
                          0.3807124457,
                          0.8402699663
                        ]
                      },
                      {
                        "passed_time": 0.5310081377,
                        "iteration": 371,
                        "remaining_time": 0.8964330926,
                        "learn": [
                          0.3805430289,
                          0.8413948256
                        ]
                      },
                      {
                        "passed_time": 0.533499296,
                        "iteration": 372,
                        "remaining_time": 0.8967937227,
                        "learn": [
                          0.3804362841,
                          0.8413948256
                        ]
                      },
                      {
                        "passed_time": 0.5368363024,
                        "iteration": 373,
                        "remaining_time": 0.8985548805,
                        "learn": [
                          0.3802801268,
                          0.8413948256
                        ]
                      },
                      {
                        "passed_time": 0.5381446131,
                        "iteration": 374,
                        "remaining_time": 0.8969076885,
                        "learn": [
                          0.3801826607,
                          0.8413948256
                        ]
                      },
                      {
                        "passed_time": 0.5394976652,
                        "iteration": 375,
                        "remaining_time": 0.8953365508,
                        "learn": [
                          0.3800001675,
                          0.8413948256
                        ]
                      },
                      {
                        "passed_time": 0.5402310742,
                        "iteration": 376,
                        "remaining_time": 0.8927425975,
                        "learn": [
                          0.3799480893,
                          0.8413948256
                        ]
                      },
                      {
                        "passed_time": 0.5415124801,
                        "iteration": 377,
                        "remaining_time": 0.8910602186,
                        "learn": [
                          0.3798504577,
                          0.8413948256
                        ]
                      },
                      {
                        "passed_time": 0.54280767,
                        "iteration": 378,
                        "remaining_time": 0.8894025411,
                        "learn": [
                          0.3797104142,
                          0.8413948256
                        ]
                      },
                      {
                        "passed_time": 0.5440662757,
                        "iteration": 379,
                        "remaining_time": 0.8876870813,
                        "learn": [
                          0.3795655009,
                          0.8413948256
                        ]
                      },
                      {
                        "passed_time": 0.5453071392,
                        "iteration": 380,
                        "remaining_time": 0.8859451946,
                        "learn": [
                          0.3795137222,
                          0.8413948256
                        ]
                      },
                      {
                        "passed_time": 0.5465860155,
                        "iteration": 381,
                        "remaining_time": 0.8842674283,
                        "learn": [
                          0.3793845708,
                          0.8413948256
                        ]
                      },
                      {
                        "passed_time": 0.5478562602,
                        "iteration": 382,
                        "remaining_time": 0.8825778395,
                        "learn": [
                          0.3792759547,
                          0.8413948256
                        ]
                      },
                      {
                        "passed_time": 0.5491417501,
                        "iteration": 383,
                        "remaining_time": 0.8809148909,
                        "learn": [
                          0.3792291652,
                          0.8413948256
                        ]
                      },
                      {
                        "passed_time": 0.5496614673,
                        "iteration": 384,
                        "remaining_time": 0.8780306555,
                        "learn": [
                          0.379225904,
                          0.8413948256
                        ]
                      },
                      {
                        "passed_time": 0.5508422235,
                        "iteration": 385,
                        "remaining_time": 0.876210169,
                        "learn": [
                          0.3790921516,
                          0.842519685
                        ]
                      },
                      {
                        "passed_time": 0.5523597516,
                        "iteration": 386,
                        "remaining_time": 0.8749264283,
                        "learn": [
                          0.3790691482,
                          0.8413948256
                        ]
                      },
                      {
                        "passed_time": 0.5536809431,
                        "iteration": 387,
                        "remaining_time": 0.8733317968,
                        "learn": [
                          0.37902142,
                          0.842519685
                        ]
                      },
                      {
                        "passed_time": 0.5549789707,
                        "iteration": 388,
                        "remaining_time": 0.8717021879,
                        "learn": [
                          0.3789594074,
                          0.842519685
                        ]
                      },
                      {
                        "passed_time": 0.5562581921,
                        "iteration": 389,
                        "remaining_time": 0.8700448645,
                        "learn": [
                          0.3788354585,
                          0.842519685
                        ]
                      },
                      {
                        "passed_time": 0.5571833913,
                        "iteration": 390,
                        "remaining_time": 0.8678380699,
                        "learn": [
                          0.3788024563,
                          0.842519685
                        ]
                      },
                      {
                        "passed_time": 0.5585485056,
                        "iteration": 391,
                        "remaining_time": 0.8663201312,
                        "learn": [
                          0.3786459001,
                          0.8413948256
                        ]
                      },
                      {
                        "passed_time": 0.5599500951,
                        "iteration": 392,
                        "remaining_time": 0.8648593072,
                        "learn": [
                          0.3785035177,
                          0.8413948256
                        ]
                      },
                      {
                        "passed_time": 0.5613823084,
                        "iteration": 393,
                        "remaining_time": 0.8634458855,
                        "learn": [
                          0.3783839796,
                          0.8413948256
                        ]
                      },
                      {
                        "passed_time": 0.562824993,
                        "iteration": 394,
                        "remaining_time": 0.862048407,
                        "learn": [
                          0.3782500145,
                          0.8413948256
                        ]
                      },
                      {
                        "passed_time": 0.5642320443,
                        "iteration": 395,
                        "remaining_time": 0.8605963503,
                        "learn": [
                          0.3781196527,
                          0.8413948256
                        ]
                      },
                      {
                        "passed_time": 0.5650900941,
                        "iteration": 396,
                        "remaining_time": 0.8583106467,
                        "learn": [
                          0.37808332,
                          0.8413948256
                        ]
                      },
                      {
                        "passed_time": 0.5662652895,
                        "iteration": 397,
                        "remaining_time": 0.8565118198,
                        "learn": [
                          0.3780473778,
                          0.8413948256
                        ]
                      },
                      {
                        "passed_time": 0.5676367678,
                        "iteration": 398,
                        "remaining_time": 0.8550117731,
                        "learn": [
                          0.377991757,
                          0.8413948256
                        ]
                      },
                      {
                        "passed_time": 0.5690437977,
                        "iteration": 399,
                        "remaining_time": 0.8535656966,
                        "learn": [
                          0.3778705705,
                          0.8413948256
                        ]
                      },
                      {
                        "passed_time": 0.5704604157,
                        "iteration": 400,
                        "remaining_time": 0.8521341372,
                        "learn": [
                          0.377840231,
                          0.8413948256
                        ]
                      },
                      {
                        "passed_time": 0.571853973,
                        "iteration": 401,
                        "remaining_time": 0.8506683478,
                        "learn": [
                          0.3776909997,
                          0.8413948256
                        ]
                      },
                      {
                        "passed_time": 0.5732588942,
                        "iteration": 402,
                        "remaining_time": 0.8492197515,
                        "learn": [
                          0.3776379732,
                          0.8413948256
                        ]
                      },
                      {
                        "passed_time": 0.574653391,
                        "iteration": 403,
                        "remaining_time": 0.8477559927,
                        "learn": [
                          0.3775913935,
                          0.8413948256
                        ]
                      },
                      {
                        "passed_time": 0.5761028706,
                        "iteration": 404,
                        "remaining_time": 0.846373353,
                        "learn": [
                          0.37744001,
                          0.8413948256
                        ]
                      },
                      {
                        "passed_time": 0.5774865838,
                        "iteration": 405,
                        "remaining_time": 0.8448941645,
                        "learn": [
                          0.3772784439,
                          0.8413948256
                        ]
                      },
                      {
                        "passed_time": 0.5789274661,
                        "iteration": 406,
                        "remaining_time": 0.8434987406,
                        "learn": [
                          0.3771650363,
                          0.8413948256
                        ]
                      },
                      {
                        "passed_time": 0.5799749903,
                        "iteration": 407,
                        "remaining_time": 0.8415323389,
                        "learn": [
                          0.3771460032,
                          0.8413948256
                        ]
                      },
                      {
                        "passed_time": 0.5807373777,
                        "iteration": 408,
                        "remaining_time": 0.8391584114,
                        "learn": [
                          0.3771235285,
                          0.8413948256
                        ]
                      },
                      {
                        "passed_time": 0.5820642933,
                        "iteration": 409,
                        "remaining_time": 0.8376047147,
                        "learn": [
                          0.3770163212,
                          0.8413948256
                        ]
                      },
                      {
                        "passed_time": 0.5834400584,
                        "iteration": 410,
                        "remaining_time": 0.8361221275,
                        "learn": [
                          0.3768930361,
                          0.8413948256
                        ]
                      },
                      {
                        "passed_time": 0.5848812439,
                        "iteration": 411,
                        "remaining_time": 0.8347334258,
                        "learn": [
                          0.3768078125,
                          0.8413948256
                        ]
                      },
                      {
                        "passed_time": 0.5856370868,
                        "iteration": 412,
                        "remaining_time": 0.8323703873,
                        "learn": [
                          0.3767939473,
                          0.8413948256
                        ]
                      },
                      {
                        "passed_time": 0.5871305315,
                        "iteration": 413,
                        "remaining_time": 0.8310591581,
                        "learn": [
                          0.3766622832,
                          0.8413948256
                        ]
                      },
                      {
                        "passed_time": 0.5885684675,
                        "iteration": 414,
                        "remaining_time": 0.8296688035,
                        "learn": [
                          0.3765879979,
                          0.8413948256
                        ]
                      },
                      {
                        "passed_time": 0.5900033308,
                        "iteration": 415,
                        "remaining_time": 0.8282739066,
                        "learn": [
                          0.3765001414,
                          0.8413948256
                        ]
                      },
                      {
                        "passed_time": 0.5910432777,
                        "iteration": 416,
                        "remaining_time": 0.8263266928,
                        "learn": [
                          0.3764648804,
                          0.8413948256
                        ]
                      },
                      {
                        "passed_time": 0.5924516317,
                        "iteration": 417,
                        "remaining_time": 0.8248967695,
                        "learn": [
                          0.3763338639,
                          0.8413948256
                        ]
                      },
                      {
                        "passed_time": 0.5939645962,
                        "iteration": 418,
                        "remaining_time": 0.8236120056,
                        "learn": [
                          0.3762393386,
                          0.8413948256
                        ]
                      },
                      {
                        "passed_time": 0.5954243656,
                        "iteration": 419,
                        "remaining_time": 0.8222526954,
                        "learn": [
                          0.3760699358,
                          0.8413948256
                        ]
                      },
                      {
                        "passed_time": 0.5968125925,
                        "iteration": 420,
                        "remaining_time": 0.8207945155,
                        "learn": [
                          0.3759673102,
                          0.8413948256
                        ]
                      },
                      {
                        "passed_time": 0.5982316631,
                        "iteration": 421,
                        "remaining_time": 0.819378913,
                        "learn": [
                          0.3759080102,
                          0.8413948256
                        ]
                      },
                      {
                        "passed_time": 0.5990692431,
                        "iteration": 422,
                        "remaining_time": 0.8171701023,
                        "learn": [
                          0.375879663,
                          0.8413948256
                        ]
                      },
                      {
                        "passed_time": 0.6005527783,
                        "iteration": 423,
                        "remaining_time": 0.8158452837,
                        "learn": [
                          0.3758151464,
                          0.8413948256
                        ]
                      },
                      {
                        "passed_time": 0.6019358765,
                        "iteration": 424,
                        "remaining_time": 0.814383833,
                        "learn": [
                          0.3756919083,
                          0.8413948256
                        ]
                      },
                      {
                        "passed_time": 0.6029823816,
                        "iteration": 425,
                        "remaining_time": 0.8124692185,
                        "learn": [
                          0.3756693748,
                          0.8413948256
                        ]
                      },
                      {
                        "passed_time": 0.6055112006,
                        "iteration": 426,
                        "remaining_time": 0.8125478171,
                        "learn": [
                          0.375599448,
                          0.842519685
                        ]
                      },
                      {
                        "passed_time": 0.6110665084,
                        "iteration": 427,
                        "remaining_time": 0.8166589785,
                        "learn": [
                          0.3755839537,
                          0.842519685
                        ]
                      },
                      {
                        "passed_time": 0.6123809272,
                        "iteration": 428,
                        "remaining_time": 0.8150804416,
                        "learn": [
                          0.3755638005,
                          0.8413948256
                        ]
                      },
                      {
                        "passed_time": 0.6141106654,
                        "iteration": 429,
                        "remaining_time": 0.8140536727,
                        "learn": [
                          0.375395698,
                          0.842519685
                        ]
                      },
                      {
                        "passed_time": 0.6153598647,
                        "iteration": 430,
                        "remaining_time": 0.8123892414,
                        "learn": [
                          0.3753454711,
                          0.842519685
                        ]
                      },
                      {
                        "passed_time": 0.6166609936,
                        "iteration": 431,
                        "remaining_time": 0.8107950102,
                        "learn": [
                          0.3752069304,
                          0.842519685
                        ]
                      },
                      {
                        "passed_time": 0.6179769197,
                        "iteration": 432,
                        "remaining_time": 0.8092215092,
                        "learn": [
                          0.3749670151,
                          0.8413948256
                        ]
                      },
                      {
                        "passed_time": 0.6192926794,
                        "iteration": 433,
                        "remaining_time": 0.8076489783,
                        "learn": [
                          0.3748841579,
                          0.8413948256
                        ]
                      },
                      {
                        "passed_time": 0.6205783071,
                        "iteration": 434,
                        "remaining_time": 0.8060384909,
                        "learn": [
                          0.3748426076,
                          0.8413948256
                        ]
                      },
                      {
                        "passed_time": 0.6218462786,
                        "iteration": 435,
                        "remaining_time": 0.804406654,
                        "learn": [
                          0.374639868,
                          0.842519685
                        ]
                      },
                      {
                        "passed_time": 0.6231012215,
                        "iteration": 436,
                        "remaining_time": 0.8027596973,
                        "learn": [
                          0.3744914487,
                          0.842519685
                        ]
                      },
                      {
                        "passed_time": 0.6244125417,
                        "iteration": 437,
                        "remaining_time": 0.8011868686,
                        "learn": [
                          0.3744634121,
                          0.842519685
                        ]
                      },
                      {
                        "passed_time": 0.6256367836,
                        "iteration": 438,
                        "remaining_time": 0.7995039535,
                        "learn": [
                          0.3744130144,
                          0.842519685
                        ]
                      },
                      {
                        "passed_time": 0.6269258003,
                        "iteration": 439,
                        "remaining_time": 0.7979055641,
                        "learn": [
                          0.3743583032,
                          0.842519685
                        ]
                      },
                      {
                        "passed_time": 0.6278318561,
                        "iteration": 440,
                        "remaining_time": 0.7958231464,
                        "learn": [
                          0.3743220628,
                          0.842519685
                        ]
                      },
                      {
                        "passed_time": 0.6290753182,
                        "iteration": 441,
                        "remaining_time": 0.7941720081,
                        "learn": [
                          0.374288734,
                          0.842519685
                        ]
                      },
                      {
                        "passed_time": 0.6305141442,
                        "iteration": 442,
                        "remaining_time": 0.7927683484,
                        "learn": [
                          0.3741431998,
                          0.842519685
                        ]
                      },
                      {
                        "passed_time": 0.631942238,
                        "iteration": 443,
                        "remaining_time": 0.7913510909,
                        "learn": [
                          0.3740373173,
                          0.842519685
                        ]
                      },
                      {
                        "passed_time": 0.6334814841,
                        "iteration": 444,
                        "remaining_time": 0.7900724128,
                        "learn": [
                          0.3739231737,
                          0.842519685
                        ]
                      },
                      {
                        "passed_time": 0.6348972371,
                        "iteration": 445,
                        "remaining_time": 0.7886391689,
                        "learn": [
                          0.3738972108,
                          0.842519685
                        ]
                      },
                      {
                        "passed_time": 0.6363634928,
                        "iteration": 446,
                        "remaining_time": 0.7872684822,
                        "learn": [
                          0.3738431908,
                          0.842519685
                        ]
                      },
                      {
                        "passed_time": 0.6374561153,
                        "iteration": 447,
                        "remaining_time": 0.7854369992,
                        "learn": [
                          0.3738030379,
                          0.842519685
                        ]
                      },
                      {
                        "passed_time": 0.6388723742,
                        "iteration": 448,
                        "remaining_time": 0.7840059648,
                        "learn": [
                          0.3737507132,
                          0.842519685
                        ]
                      },
                      {
                        "passed_time": 0.6402786818,
                        "iteration": 449,
                        "remaining_time": 0.7825628333,
                        "learn": [
                          0.3736688455,
                          0.842519685
                        ]
                      },
                      {
                        "passed_time": 0.6416777604,
                        "iteration": 450,
                        "remaining_time": 0.7811110653,
                        "learn": [
                          0.3734558511,
                          0.8436445444
                        ]
                      },
                      {
                        "passed_time": 0.6430787508,
                        "iteration": 451,
                        "remaining_time": 0.7796618483,
                        "learn": [
                          0.37323237,
                          0.8436445444
                        ]
                      },
                      {
                        "passed_time": 0.6444919538,
                        "iteration": 452,
                        "remaining_time": 0.778227591,
                        "learn": [
                          0.373148544,
                          0.8436445444
                        ]
                      },
                      {
                        "passed_time": 0.6458707934,
                        "iteration": 453,
                        "remaining_time": 0.7767520996,
                        "learn": [
                          0.3730968835,
                          0.8436445444
                        ]
                      },
                      {
                        "passed_time": 0.6473044776,
                        "iteration": 454,
                        "remaining_time": 0.775342726,
                        "learn": [
                          0.3729509815,
                          0.8447694038
                        ]
                      },
                      {
                        "passed_time": 0.6487214015,
                        "iteration": 455,
                        "remaining_time": 0.773913251,
                        "learn": [
                          0.372833885,
                          0.8447694038
                        ]
                      },
                      {
                        "passed_time": 0.6502230243,
                        "iteration": 456,
                        "remaining_time": 0.7725844687,
                        "learn": [
                          0.3727590983,
                          0.8447694038
                        ]
                      },
                      {
                        "passed_time": 0.6515924099,
                        "iteration": 457,
                        "remaining_time": 0.7710984414,
                        "learn": [
                          0.3726520798,
                          0.8447694038
                        ]
                      },
                      {
                        "passed_time": 0.6530144051,
                        "iteration": 458,
                        "remaining_time": 0.7696749307,
                        "learn": [
                          0.3726164898,
                          0.8447694038
                        ]
                      },
                      {
                        "passed_time": 0.6544685405,
                        "iteration": 459,
                        "remaining_time": 0.7682891563,
                        "learn": [
                          0.372435451,
                          0.8447694038
                        ]
                      },
                      {
                        "passed_time": 0.6583927672,
                        "iteration": 460,
                        "remaining_time": 0.7697911095,
                        "learn": [
                          0.3723814354,
                          0.8447694038
                        ]
                      },
                      {
                        "passed_time": 0.6604012399,
                        "iteration": 461,
                        "remaining_time": 0.7690386732,
                        "learn": [
                          0.3722699211,
                          0.8447694038
                        ]
                      },
                      {
                        "passed_time": 0.6632152873,
                        "iteration": 462,
                        "remaining_time": 0.7692151389,
                        "learn": [
                          0.372194914,
                          0.8447694038
                        ]
                      },
                      {
                        "passed_time": 0.666316247,
                        "iteration": 463,
                        "remaining_time": 0.7697101474,
                        "learn": [
                          0.3721214725,
                          0.8447694038
                        ]
                      },
                      {
                        "passed_time": 0.6679527223,
                        "iteration": 464,
                        "remaining_time": 0.768504745,
                        "learn": [
                          0.3720340197,
                          0.8447694038
                        ]
                      },
                      {
                        "passed_time": 0.6688655126,
                        "iteration": 465,
                        "remaining_time": 0.7664682054,
                        "learn": [
                          0.3720171288,
                          0.8447694038
                        ]
                      },
                      {
                        "passed_time": 0.6705988225,
                        "iteration": 466,
                        "remaining_time": 0.7653729602,
                        "learn": [
                          0.3719291083,
                          0.8458942632
                        ]
                      },
                      {
                        "passed_time": 0.6720301131,
                        "iteration": 467,
                        "remaining_time": 0.7639316671,
                        "learn": [
                          0.3717854694,
                          0.8458942632
                        ]
                      },
                      {
                        "passed_time": 0.673510741,
                        "iteration": 468,
                        "remaining_time": 0.7625462761,
                        "learn": [
                          0.3716880152,
                          0.8458942632
                        ]
                      },
                      {
                        "passed_time": 0.6749747523,
                        "iteration": 469,
                        "remaining_time": 0.7611417419,
                        "learn": [
                          0.3716088159,
                          0.8458942632
                        ]
                      },
                      {
                        "passed_time": 0.6764182737,
                        "iteration": 470,
                        "remaining_time": 0.7597139422,
                        "learn": [
                          0.3715279262,
                          0.8458942632
                        ]
                      },
                      {
                        "passed_time": 0.6778140859,
                        "iteration": 471,
                        "remaining_time": 0.7582327063,
                        "learn": [
                          0.3714065974,
                          0.8458942632
                        ]
                      },
                      {
                        "passed_time": 0.6792250062,
                        "iteration": 472,
                        "remaining_time": 0.7567686644,
                        "learn": [
                          0.3712988356,
                          0.8458942632
                        ]
                      },
                      {
                        "passed_time": 0.6806259925,
                        "iteration": 473,
                        "remaining_time": 0.7552938229,
                        "learn": [
                          0.371236582,
                          0.8458942632
                        ]
                      },
                      {
                        "passed_time": 0.6820354992,
                        "iteration": 474,
                        "remaining_time": 0.7538287096,
                        "learn": [
                          0.371118951,
                          0.8447694038
                        ]
                      },
                      {
                        "passed_time": 0.68343538,
                        "iteration": 475,
                        "remaining_time": 0.7523532335,
                        "learn": [
                          0.3709926552,
                          0.8470191226
                        ]
                      },
                      {
                        "passed_time": 0.6848646711,
                        "iteration": 476,
                        "remaining_time": 0.7509103207,
                        "learn": [
                          0.3708926333,
                          0.8458942632
                        ]
                      },
                      {
                        "passed_time": 0.6863932768,
                        "iteration": 477,
                        "remaining_time": 0.7495759215,
                        "learn": [
                          0.3707782834,
                          0.848143982
                        ]
                      },
                      {
                        "passed_time": 0.6872633652,
                        "iteration": 478,
                        "remaining_time": 0.7475244536,
                        "learn": [
                          0.3707197433,
                          0.8470191226
                        ]
                      },
                      {
                        "passed_time": 0.6886480921,
                        "iteration": 479,
                        "remaining_time": 0.7460354331,
                        "learn": [
                          0.3706229143,
                          0.8470191226
                        ]
                      },
                      {
                        "passed_time": 0.690035143,
                        "iteration": 480,
                        "remaining_time": 0.7445493539,
                        "learn": [
                          0.3705530711,
                          0.8470191226
                        ]
                      },
                      {
                        "passed_time": 0.691453806,
                        "iteration": 481,
                        "remaining_time": 0.7430976587,
                        "learn": [
                          0.3703950539,
                          0.8470191226
                        ]
                      },
                      {
                        "passed_time": 0.6928652163,
                        "iteration": 482,
                        "remaining_time": 0.7416383371,
                        "learn": [
                          0.3703425248,
                          0.8470191226
                        ]
                      },
                      {
                        "passed_time": 0.6947174616,
                        "iteration": 483,
                        "remaining_time": 0.7406491946,
                        "learn": [
                          0.370287497,
                          0.8470191226
                        ]
                      },
                      {
                        "passed_time": 0.6962965364,
                        "iteration": 484,
                        "remaining_time": 0.7393664253,
                        "learn": [
                          0.3702073348,
                          0.8470191226
                        ]
                      },
                      {
                        "passed_time": 0.6978255372,
                        "iteration": 485,
                        "remaining_time": 0.7380294776,
                        "learn": [
                          0.370087324,
                          0.8503937008
                        ]
                      },
                      {
                        "passed_time": 0.6992146926,
                        "iteration": 486,
                        "remaining_time": 0.7365444298,
                        "learn": [
                          0.3699933716,
                          0.8503937008
                        ]
                      },
                      {
                        "passed_time": 0.7006205557,
                        "iteration": 487,
                        "remaining_time": 0.7350773043,
                        "learn": [
                          0.3698404203,
                          0.8503937008
                        ]
                      },
                      {
                        "passed_time": 0.7020044258,
                        "iteration": 488,
                        "remaining_time": 0.733587447,
                        "learn": [
                          0.3696340028,
                          0.8515185602
                        ]
                      },
                      {
                        "passed_time": 0.7082959822,
                        "iteration": 489,
                        "remaining_time": 0.7372060222,
                        "learn": [
                          0.3696290649,
                          0.8515185602
                        ]
                      },
                      {
                        "passed_time": 0.70994838,
                        "iteration": 490,
                        "remaining_time": 0.7359750009,
                        "learn": [
                          0.3695899202,
                          0.8515185602
                        ]
                      },
                      {
                        "passed_time": 0.7115935916,
                        "iteration": 491,
                        "remaining_time": 0.7347348466,
                        "learn": [
                          0.3695076398,
                          0.8515185602
                        ]
                      },
                      {
                        "passed_time": 0.7132756883,
                        "iteration": 492,
                        "remaining_time": 0.7335309817,
                        "learn": [
                          0.369384222,
                          0.8503937008
                        ]
                      },
                      {
                        "passed_time": 0.7147611326,
                        "iteration": 493,
                        "remaining_time": 0.7321237512,
                        "learn": [
                          0.3691578771,
                          0.8515185602
                        ]
                      },
                      {
                        "passed_time": 0.7165139155,
                        "iteration": 494,
                        "remaining_time": 0.7309889441,
                        "learn": [
                          0.3690902137,
                          0.8515185602
                        ]
                      },
                      {
                        "passed_time": 0.718150164,
                        "iteration": 495,
                        "remaining_time": 0.7297332312,
                        "learn": [
                          0.3689311492,
                          0.8503937008
                        ]
                      },
                      {
                        "passed_time": 0.719749406,
                        "iteration": 496,
                        "remaining_time": 0.7284385336,
                        "learn": [
                          0.368821243,
                          0.8503937008
                        ]
                      },
                      {
                        "passed_time": 0.7211981028,
                        "iteration": 497,
                        "remaining_time": 0.7269908586,
                        "learn": [
                          0.368792457,
                          0.8503937008
                        ]
                      },
                      {
                        "passed_time": 0.7226776357,
                        "iteration": 498,
                        "remaining_time": 0.7255741392,
                        "learn": [
                          0.368610167,
                          0.8503937008
                        ]
                      },
                      {
                        "passed_time": 0.724140931,
                        "iteration": 499,
                        "remaining_time": 0.724140931,
                        "learn": [
                          0.3685419584,
                          0.8503937008
                        ]
                      },
                      {
                        "passed_time": 0.7255549131,
                        "iteration": 500,
                        "remaining_time": 0.7226584863,
                        "learn": [
                          0.3684395774,
                          0.8503937008
                        ]
                      },
                      {
                        "passed_time": 0.72694152,
                        "iteration": 501,
                        "remaining_time": 0.7211491573,
                        "learn": [
                          0.3683926528,
                          0.8503937008
                        ]
                      },
                      {
                        "passed_time": 0.7283310046,
                        "iteration": 502,
                        "remaining_time": 0.7196431596,
                        "learn": [
                          0.3683712812,
                          0.8503937008
                        ]
                      },
                      {
                        "passed_time": 0.729714706,
                        "iteration": 503,
                        "remaining_time": 0.7181319329,
                        "learn": [
                          0.3682748298,
                          0.8503937008
                        ]
                      },
                      {
                        "passed_time": 0.7311824367,
                        "iteration": 504,
                        "remaining_time": 0.7167035766,
                        "learn": [
                          0.368117604,
                          0.8515185602
                        ]
                      },
                      {
                        "passed_time": 0.7325123632,
                        "iteration": 505,
                        "remaining_time": 0.7151405285,
                        "learn": [
                          0.3680147235,
                          0.8515185602
                        ]
                      },
                      {
                        "passed_time": 0.7340579755,
                        "iteration": 506,
                        "remaining_time": 0.7137881301,
                        "learn": [
                          0.3679676244,
                          0.8515185602
                        ]
                      },
                      {
                        "passed_time": 0.7355971621,
                        "iteration": 507,
                        "remaining_time": 0.7124287475,
                        "learn": [
                          0.3678771346,
                          0.8515185602
                        ]
                      },
                      {
                        "passed_time": 0.7369833962,
                        "iteration": 508,
                        "remaining_time": 0.710921115,
                        "learn": [
                          0.3678496442,
                          0.8515185602
                        ]
                      },
                      {
                        "passed_time": 0.7384383921,
                        "iteration": 509,
                        "remaining_time": 0.7094800237,
                        "learn": [
                          0.36764945,
                          0.8515185602
                        ]
                      },
                      {
                        "passed_time": 0.7398805871,
                        "iteration": 510,
                        "remaining_time": 0.7080266284,
                        "learn": [
                          0.3676149373,
                          0.8515185602
                        ]
                      },
                      {
                        "passed_time": 0.741460401,
                        "iteration": 511,
                        "remaining_time": 0.7067044447,
                        "learn": [
                          0.3675054765,
                          0.8515185602
                        ]
                      },
                      {
                        "passed_time": 0.7429370658,
                        "iteration": 512,
                        "remaining_time": 0.7052833354,
                        "learn": [
                          0.3674506739,
                          0.8503937008
                        ]
                      },
                      {
                        "passed_time": 0.7443342599,
                        "iteration": 513,
                        "remaining_time": 0.7037868683,
                        "learn": [
                          0.3673752137,
                          0.8515185602
                        ]
                      },
                      {
                        "passed_time": 0.7454236819,
                        "iteration": 514,
                        "remaining_time": 0.7020009431,
                        "learn": [
                          0.3673265,
                          0.8526434196
                        ]
                      },
                      {
                        "passed_time": 0.746851492,
                        "iteration": 515,
                        "remaining_time": 0.7005351204,
                        "learn": [
                          0.3671669729,
                          0.8526434196
                        ]
                      },
                      {
                        "passed_time": 0.7479052516,
                        "iteration": 516,
                        "remaining_time": 0.6987199933,
                        "learn": [
                          0.3671338086,
                          0.8526434196
                        ]
                      },
                      {
                        "passed_time": 0.749326185,
                        "iteration": 517,
                        "remaining_time": 0.6972494617,
                        "learn": [
                          0.3670257635,
                          0.8526434196
                        ]
                      },
                      {
                        "passed_time": 0.7507327949,
                        "iteration": 518,
                        "remaining_time": 0.6957658465,
                        "learn": [
                          0.366949061,
                          0.8526434196
                        ]
                      },
                      {
                        "passed_time": 0.7521156054,
                        "iteration": 519,
                        "remaining_time": 0.6942605589,
                        "learn": [
                          0.3669133095,
                          0.8526434196
                        ]
                      },
                      {
                        "passed_time": 0.7535363407,
                        "iteration": 520,
                        "remaining_time": 0.6927906088,
                        "learn": [
                          0.3668018809,
                          0.8526434196
                        ]
                      },
                      {
                        "passed_time": 0.754970644,
                        "iteration": 521,
                        "remaining_time": 0.6913332717,
                        "learn": [
                          0.3667068512,
                          0.8526434196
                        ]
                      },
                      {
                        "passed_time": 0.7560176459,
                        "iteration": 522,
                        "remaining_time": 0.689522786,
                        "learn": [
                          0.3666224021,
                          0.8526434196
                        ]
                      },
                      {
                        "passed_time": 0.7571740542,
                        "iteration": 523,
                        "remaining_time": 0.6878145988,
                        "learn": [
                          0.3665812037,
                          0.8526434196
                        ]
                      },
                      {
                        "passed_time": 0.7587139248,
                        "iteration": 524,
                        "remaining_time": 0.6864554557,
                        "learn": [
                          0.3664962003,
                          0.8526434196
                        ]
                      },
                      {
                        "passed_time": 0.7600192709,
                        "iteration": 525,
                        "remaining_time": 0.684884286,
                        "learn": [
                          0.3664533253,
                          0.8526434196
                        ]
                      },
                      {
                        "passed_time": 0.7614088869,
                        "iteration": 526,
                        "remaining_time": 0.6833897599,
                        "learn": [
                          0.3662620787,
                          0.8526434196
                        ]
                      },
                      {
                        "passed_time": 0.7629487675,
                        "iteration": 527,
                        "remaining_time": 0.6820299588,
                        "learn": [
                          0.3661369392,
                          0.8526434196
                        ]
                      },
                      {
                        "passed_time": 0.7644656937,
                        "iteration": 528,
                        "remaining_time": 0.6806490392,
                        "learn": [
                          0.3660540829,
                          0.8526434196
                        ]
                      },
                      {
                        "passed_time": 0.7659011438,
                        "iteration": 529,
                        "remaining_time": 0.679195354,
                        "learn": [
                          0.3659358818,
                          0.8526434196
                        ]
                      },
                      {
                        "passed_time": 0.7673265718,
                        "iteration": 530,
                        "remaining_time": 0.6777328854,
                        "learn": [
                          0.3658709454,
                          0.8526434196
                        ]
                      },
                      {
                        "passed_time": 0.7687003801,
                        "iteration": 531,
                        "remaining_time": 0.6762251464,
                        "learn": [
                          0.3658117665,
                          0.8526434196
                        ]
                      },
                      {
                        "passed_time": 0.7700702494,
                        "iteration": 532,
                        "remaining_time": 0.6747144586,
                        "learn": [
                          0.3656489117,
                          0.8526434196
                        ]
                      },
                      {
                        "passed_time": 0.7710311352,
                        "iteration": 533,
                        "remaining_time": 0.6728473951,
                        "learn": [
                          0.3656317339,
                          0.8526434196
                        ]
                      },
                      {
                        "passed_time": 0.7723523644,
                        "iteration": 534,
                        "remaining_time": 0.6712969148,
                        "learn": [
                          0.365594585,
                          0.8526434196
                        ]
                      },
                      {
                        "passed_time": 0.77405551,
                        "iteration": 535,
                        "remaining_time": 0.6700779042,
                        "learn": [
                          0.3654791437,
                          0.8526434196
                        ]
                      },
                      {
                        "passed_time": 0.7754789393,
                        "iteration": 536,
                        "remaining_time": 0.6686159197,
                        "learn": [
                          0.3653920281,
                          0.8526434196
                        ]
                      },
                      {
                        "passed_time": 0.776917298,
                        "iteration": 537,
                        "remaining_time": 0.6671668991,
                        "learn": [
                          0.3653539619,
                          0.8526434196
                        ]
                      },
                      {
                        "passed_time": 0.7784726667,
                        "iteration": 538,
                        "remaining_time": 0.6658179951,
                        "learn": [
                          0.3652703277,
                          0.8526434196
                        ]
                      },
                      {
                        "passed_time": 0.7800494029,
                        "iteration": 539,
                        "remaining_time": 0.6644865284,
                        "learn": [
                          0.3651840904,
                          0.8526434196
                        ]
                      },
                      {
                        "passed_time": 0.7815934262,
                        "iteration": 540,
                        "remaining_time": 0.6631264004,
                        "learn": [
                          0.3651429922,
                          0.8526434196
                        ]
                      },
                      {
                        "passed_time": 0.7831273319,
                        "iteration": 541,
                        "remaining_time": 0.6617570443,
                        "learn": [
                          0.365089001,
                          0.8526434196
                        ]
                      },
                      {
                        "passed_time": 0.784562382,
                        "iteration": 542,
                        "remaining_time": 0.6603038832,
                        "learn": [
                          0.3649463911,
                          0.8526434196
                        ]
                      },
                      {
                        "passed_time": 0.7861088671,
                        "iteration": 543,
                        "remaining_time": 0.6589441974,
                        "learn": [
                          0.3649001112,
                          0.8526434196
                        ]
                      },
                      {
                        "passed_time": 0.7875234233,
                        "iteration": 544,
                        "remaining_time": 0.6574736837,
                        "learn": [
                          0.3648636139,
                          0.8526434196
                        ]
                      },
                      {
                        "passed_time": 0.7890220124,
                        "iteration": 545,
                        "remaining_time": 0.6560732484,
                        "learn": [
                          0.3647120332,
                          0.8526434196
                        ]
                      },
                      {
                        "passed_time": 0.7904089143,
                        "iteration": 546,
                        "remaining_time": 0.6545799601,
                        "learn": [
                          0.364569084,
                          0.853768279
                        ]
                      },
                      {
                        "passed_time": 0.7918749241,
                        "iteration": 547,
                        "remaining_time": 0.6531523097,
                        "learn": [
                          0.3644495673,
                          0.8526434196
                        ]
                      },
                      {
                        "passed_time": 0.7932716727,
                        "iteration": 548,
                        "remaining_time": 0.6516676219,
                        "learn": [
                          0.364390909,
                          0.8526434196
                        ]
                      },
                      {
                        "passed_time": 0.7943216769,
                        "iteration": 549,
                        "remaining_time": 0.6498995538,
                        "learn": [
                          0.3643721503,
                          0.8526434196
                        ]
                      },
                      {
                        "passed_time": 0.795706721,
                        "iteration": 550,
                        "remaining_time": 0.6484071103,
                        "learn": [
                          0.3642947915,
                          0.8526434196
                        ]
                      },
                      {
                        "passed_time": 0.7971132941,
                        "iteration": 551,
                        "remaining_time": 0.6469325286,
                        "learn": [
                          0.3642602028,
                          0.853768279
                        ]
                      },
                      {
                        "passed_time": 0.7985423052,
                        "iteration": 552,
                        "remaining_time": 0.6454763299,
                        "learn": [
                          0.3641915589,
                          0.853768279
                        ]
                      },
                      {
                        "passed_time": 0.7999326938,
                        "iteration": 553,
                        "remaining_time": 0.6439891362,
                        "learn": [
                          0.3640638709,
                          0.853768279
                        ]
                      },
                      {
                        "passed_time": 0.801356609,
                        "iteration": 554,
                        "remaining_time": 0.642529173,
                        "learn": [
                          0.3640263824,
                          0.853768279
                        ]
                      },
                      {
                        "passed_time": 0.8023988751,
                        "iteration": 555,
                        "remaining_time": 0.6407645693,
                        "learn": [
                          0.3639622255,
                          0.853768279
                        ]
                      },
                      {
                        "passed_time": 0.8039005087,
                        "iteration": 556,
                        "remaining_time": 0.6393679091,
                        "learn": [
                          0.3638093401,
                          0.853768279
                        ]
                      },
                      {
                        "passed_time": 0.8052903374,
                        "iteration": 557,
                        "remaining_time": 0.6378823103,
                        "learn": [
                          0.3636997227,
                          0.853768279
                        ]
                      },
                      {
                        "passed_time": 0.8066706929,
                        "iteration": 558,
                        "remaining_time": 0.6363895806,
                        "learn": [
                          0.3636491662,
                          0.853768279
                        ]
                      },
                      {
                        "passed_time": 0.808044264,
                        "iteration": 559,
                        "remaining_time": 0.6348919217,
                        "learn": [
                          0.3634894572,
                          0.853768279
                        ]
                      },
                      {
                        "passed_time": 0.809406262,
                        "iteration": 560,
                        "remaining_time": 0.6333856489,
                        "learn": [
                          0.3634395921,
                          0.853768279
                        ]
                      },
                      {
                        "passed_time": 0.8108188564,
                        "iteration": 561,
                        "remaining_time": 0.6319193222,
                        "learn": [
                          0.3633977687,
                          0.853768279
                        ]
                      },
                      {
                        "passed_time": 0.8121670599,
                        "iteration": 562,
                        "remaining_time": 0.6304032063,
                        "learn": [
                          0.36322893,
                          0.853768279
                        ]
                      },
                      {
                        "passed_time": 0.8135401673,
                        "iteration": 563,
                        "remaining_time": 0.6289069379,
                        "learn": [
                          0.3631672387,
                          0.853768279
                        ]
                      },
                      {
                        "passed_time": 0.814946504,
                        "iteration": 564,
                        "remaining_time": 0.6274366889,
                        "learn": [
                          0.3631118108,
                          0.853768279
                        ]
                      },
                      {
                        "passed_time": 0.8156218658,
                        "iteration": 565,
                        "remaining_time": 0.6254061656,
                        "learn": [
                          0.3631095565,
                          0.853768279
                        ]
                      },
                      {
                        "passed_time": 0.816864347,
                        "iteration": 566,
                        "remaining_time": 0.6238135137,
                        "learn": [
                          0.3630611203,
                          0.853768279
                        ]
                      },
                      {
                        "passed_time": 0.8183165424,
                        "iteration": 567,
                        "remaining_time": 0.6223815957,
                        "learn": [
                          0.3630297191,
                          0.853768279
                        ]
                      },
                      {
                        "passed_time": 0.8197363558,
                        "iteration": 568,
                        "remaining_time": 0.620925078,
                        "learn": [
                          0.3629129754,
                          0.853768279
                        ]
                      },
                      {
                        "passed_time": 0.8212943181,
                        "iteration": 569,
                        "remaining_time": 0.6195729067,
                        "learn": [
                          0.3628327214,
                          0.853768279
                        ]
                      },
                      {
                        "passed_time": 0.8226685633,
                        "iteration": 570,
                        "remaining_time": 0.6180819854,
                        "learn": [
                          0.362739935,
                          0.853768279
                        ]
                      },
                      {
                        "passed_time": 0.8240745963,
                        "iteration": 571,
                        "remaining_time": 0.6166152574,
                        "learn": [
                          0.3626691216,
                          0.853768279
                        ]
                      },
                      {
                        "passed_time": 0.8254864716,
                        "iteration": 572,
                        "remaining_time": 0.6151530949,
                        "learn": [
                          0.3625539008,
                          0.853768279
                        ]
                      },
                      {
                        "passed_time": 0.8268978069,
                        "iteration": 573,
                        "remaining_time": 0.6136907069,
                        "learn": [
                          0.3624662191,
                          0.853768279
                        ]
                      },
                      {
                        "passed_time": 0.8282746516,
                        "iteration": 574,
                        "remaining_time": 0.6122030034,
                        "learn": [
                          0.36235305,
                          0.853768279
                        ]
                      },
                      {
                        "passed_time": 0.8296813456,
                        "iteration": 575,
                        "remaining_time": 0.6107376572,
                        "learn": [
                          0.3623218359,
                          0.853768279
                        ]
                      },
                      {
                        "passed_time": 0.8310917554,
                        "iteration": 576,
                        "remaining_time": 0.6092752384,
                        "learn": [
                          0.362245884,
                          0.853768279
                        ]
                      },
                      {
                        "passed_time": 0.8325340532,
                        "iteration": 577,
                        "remaining_time": 0.6078362811,
                        "learn": [
                          0.3621052813,
                          0.853768279
                        ]
                      },
                      {
                        "passed_time": 0.8341107217,
                        "iteration": 578,
                        "remaining_time": 0.6064950153,
                        "learn": [
                          0.3620537567,
                          0.853768279
                        ]
                      },
                      {
                        "passed_time": 0.8373443381,
                        "iteration": 579,
                        "remaining_time": 0.6063527965,
                        "learn": [
                          0.3618912708,
                          0.853768279
                        ]
                      },
                      {
                        "passed_time": 0.8390621977,
                        "iteration": 580,
                        "remaining_time": 0.6051068173,
                        "learn": [
                          0.3617760546,
                          0.853768279
                        ]
                      },
                      {
                        "passed_time": 0.8405301098,
                        "iteration": 581,
                        "remaining_time": 0.6036797008,
                        "learn": [
                          0.3617028744,
                          0.853768279
                        ]
                      },
                      {
                        "passed_time": 0.8415815917,
                        "iteration": 582,
                        "remaining_time": 0.6019545861,
                        "learn": [
                          0.3616658241,
                          0.853768279
                        ]
                      },
                      {
                        "passed_time": 0.8431012656,
                        "iteration": 583,
                        "remaining_time": 0.6005652851,
                        "learn": [
                          0.361510355,
                          0.853768279
                        ]
                      },
                      {
                        "passed_time": 0.8445251058,
                        "iteration": 584,
                        "remaining_time": 0.5991075537,
                        "learn": [
                          0.3614597036,
                          0.853768279
                        ]
                      },
                      {
                        "passed_time": 0.8459754622,
                        "iteration": 585,
                        "remaining_time": 0.5976686712,
                        "learn": [
                          0.3613155806,
                          0.8560179978
                        ]
                      },
                      {
                        "passed_time": 0.8474916634,
                        "iteration": 586,
                        "remaining_time": 0.5962760766,
                        "learn": [
                          0.361216461,
                          0.8560179978
                        ]
                      },
                      {
                        "passed_time": 0.8489370098,
                        "iteration": 587,
                        "remaining_time": 0.594833415,
                        "learn": [
                          0.3611096896,
                          0.8560179978
                        ]
                      },
                      {
                        "passed_time": 0.8503167695,
                        "iteration": 588,
                        "remaining_time": 0.5933449783,
                        "learn": [
                          0.3610000528,
                          0.8560179978
                        ]
                      },
                      {
                        "passed_time": 0.8517362988,
                        "iteration": 589,
                        "remaining_time": 0.5918845466,
                        "learn": [
                          0.3609456886,
                          0.8560179978
                        ]
                      },
                      {
                        "passed_time": 0.853169368,
                        "iteration": 590,
                        "remaining_time": 0.5904336235,
                        "learn": [
                          0.3609078731,
                          0.8560179978
                        ]
                      },
                      {
                        "passed_time": 0.854554114,
                        "iteration": 591,
                        "remaining_time": 0.5889494569,
                        "learn": [
                          0.3607382003,
                          0.8560179978
                        ]
                      },
                      {
                        "passed_time": 0.855989795,
                        "iteration": 592,
                        "remaining_time": 0.5875005844,
                        "learn": [
                          0.3607000095,
                          0.8560179978
                        ]
                      },
                      {
                        "passed_time": 0.8574112466,
                        "iteration": 593,
                        "remaining_time": 0.5860420305,
                        "learn": [
                          0.3606379894,
                          0.8560179978
                        ]
                      },
                      {
                        "passed_time": 0.8588264955,
                        "iteration": 594,
                        "remaining_time": 0.5845793793,
                        "learn": [
                          0.3605824974,
                          0.8560179978
                        ]
                      },
                      {
                        "passed_time": 0.8602197227,
                        "iteration": 595,
                        "remaining_time": 0.5831019597,
                        "learn": [
                          0.3605121401,
                          0.8560179978
                        ]
                      },
                      {
                        "passed_time": 0.8616043955,
                        "iteration": 596,
                        "remaining_time": 0.5816190476,
                        "learn": [
                          0.3604189452,
                          0.8560179978
                        ]
                      },
                      {
                        "passed_time": 0.8888820929,
                        "iteration": 597,
                        "remaining_time": 0.5975428116,
                        "learn": [
                          0.3603262511,
                          0.8560179978
                        ]
                      },
                      {
                        "passed_time": 0.890774787,
                        "iteration": 598,
                        "remaining_time": 0.5963283632,
                        "learn": [
                          0.3602407197,
                          0.8560179978
                        ]
                      },
                      {
                        "passed_time": 0.8947868379,
                        "iteration": 599,
                        "remaining_time": 0.5965245586,
                        "learn": [
                          0.360123529,
                          0.8560179978
                        ]
                      },
                      {
                        "passed_time": 0.8966205266,
                        "iteration": 600,
                        "remaining_time": 0.5952605492,
                        "learn": [
                          0.3600665517,
                          0.8560179978
                        ]
                      },
                      {
                        "passed_time": 0.8984061693,
                        "iteration": 601,
                        "remaining_time": 0.5939628827,
                        "learn": [
                          0.3599413796,
                          0.8560179978
                        ]
                      },
                      {
                        "passed_time": 0.9002933561,
                        "iteration": 602,
                        "remaining_time": 0.5927304517,
                        "learn": [
                          0.3597914316,
                          0.8560179978
                        ]
                      },
                      {
                        "passed_time": 0.9020604758,
                        "iteration": 603,
                        "remaining_time": 0.5914171331,
                        "learn": [
                          0.3597452406,
                          0.8560179978
                        ]
                      },
                      {
                        "passed_time": 0.9038626706,
                        "iteration": 604,
                        "remaining_time": 0.5901252147,
                        "learn": [
                          0.3596593172,
                          0.8560179978
                        ]
                      },
                      {
                        "passed_time": 0.9054292578,
                        "iteration": 605,
                        "remaining_time": 0.5886784284,
                        "learn": [
                          0.3595713074,
                          0.8560179978
                        ]
                      },
                      {
                        "passed_time": 0.9068809133,
                        "iteration": 606,
                        "remaining_time": 0.5871568351,
                        "learn": [
                          0.3594554315,
                          0.8560179978
                        ]
                      },
                      {
                        "passed_time": 0.9086013856,
                        "iteration": 607,
                        "remaining_time": 0.5858087881,
                        "learn": [
                          0.3593534802,
                          0.8560179978
                        ]
                      },
                      {
                        "passed_time": 0.9100999934,
                        "iteration": 608,
                        "remaining_time": 0.5843170729,
                        "learn": [
                          0.3592447957,
                          0.8571428571
                        ]
                      },
                      {
                        "passed_time": 0.9113084217,
                        "iteration": 609,
                        "remaining_time": 0.5826398106,
                        "learn": [
                          0.3591335339,
                          0.8571428571
                        ]
                      },
                      {
                        "passed_time": 0.9121703992,
                        "iteration": 610,
                        "remaining_time": 0.5807435111,
                        "learn": [
                          0.3590951287,
                          0.8571428571
                        ]
                      },
                      {
                        "passed_time": 0.9146081688,
                        "iteration": 611,
                        "remaining_time": 0.5798496234,
                        "learn": [
                          0.3589931673,
                          0.8571428571
                        ]
                      },
                      {
                        "passed_time": 0.9159571783,
                        "iteration": 612,
                        "remaining_time": 0.5782633409,
                        "learn": [
                          0.3589105229,
                          0.8571428571
                        ]
                      },
                      {
                        "passed_time": 0.9179048733,
                        "iteration": 613,
                        "remaining_time": 0.5770542037,
                        "learn": [
                          0.3588592979,
                          0.8571428571
                        ]
                      },
                      {
                        "passed_time": 0.9196402351,
                        "iteration": 614,
                        "remaining_time": 0.5757097406,
                        "learn": [
                          0.3587211304,
                          0.8571428571
                        ]
                      },
                      {
                        "passed_time": 0.9255609649,
                        "iteration": 615,
                        "remaining_time": 0.576973069,
                        "learn": [
                          0.358693998,
                          0.8571428571
                        ]
                      },
                      {
                        "passed_time": 0.9268418931,
                        "iteration": 616,
                        "remaining_time": 0.5753329742,
                        "learn": [
                          0.3585968627,
                          0.8571428571
                        ]
                      },
                      {
                        "passed_time": 0.9281575928,
                        "iteration": 617,
                        "remaining_time": 0.5737155347,
                        "learn": [
                          0.3583850516,
                          0.8571428571
                        ]
                      },
                      {
                        "passed_time": 0.9297031747,
                        "iteration": 618,
                        "remaining_time": 0.5722405647,
                        "learn": [
                          0.3583165174,
                          0.8571428571
                        ]
                      },
                      {
                        "passed_time": 0.9312466535,
                        "iteration": 619,
                        "remaining_time": 0.570764078,
                        "learn": [
                          0.3581117797,
                          0.8571428571
                        ]
                      },
                      {
                        "passed_time": 0.9326437785,
                        "iteration": 620,
                        "remaining_time": 0.5691980548,
                        "learn": [
                          0.3580523371,
                          0.8571428571
                        ]
                      },
                      {
                        "passed_time": 0.9334820303,
                        "iteration": 621,
                        "remaining_time": 0.567292938,
                        "learn": [
                          0.3580455928,
                          0.8571428571
                        ]
                      },
                      {
                        "passed_time": 0.9349827676,
                        "iteration": 622,
                        "remaining_time": 0.5657921402,
                        "learn": [
                          0.3579706442,
                          0.8560179978
                        ]
                      },
                      {
                        "passed_time": 0.936435663,
                        "iteration": 623,
                        "remaining_time": 0.5642625149,
                        "learn": [
                          0.3579170213,
                          0.8560179978
                        ]
                      },
                      {
                        "passed_time": 0.9378612418,
                        "iteration": 624,
                        "remaining_time": 0.5627167451,
                        "learn": [
                          0.3578587757,
                          0.8560179978
                        ]
                      },
                      {
                        "passed_time": 0.9393177949,
                        "iteration": 625,
                        "remaining_time": 0.5611898647,
                        "learn": [
                          0.3577676264,
                          0.8560179978
                        ]
                      },
                      {
                        "passed_time": 0.9408617332,
                        "iteration": 626,
                        "remaining_time": 0.5597151938,
                        "learn": [
                          0.3577175223,
                          0.8571428571
                        ]
                      },
                      {
                        "passed_time": 0.9424047829,
                        "iteration": 627,
                        "remaining_time": 0.5582397759,
                        "learn": [
                          0.3576462011,
                          0.8560179978
                        ]
                      },
                      {
                        "passed_time": 0.9439648129,
                        "iteration": 628,
                        "remaining_time": 0.5567741583,
                        "learn": [
                          0.3576268888,
                          0.8560179978
                        ]
                      },
                      {
                        "passed_time": 0.945473217,
                        "iteration": 629,
                        "remaining_time": 0.5552779211,
                        "learn": [
                          0.3575633956,
                          0.8571428571
                        ]
                      },
                      {
                        "passed_time": 0.9468657506,
                        "iteration": 630,
                        "remaining_time": 0.5537138858,
                        "learn": [
                          0.3575446616,
                          0.8571428571
                        ]
                      },
                      {
                        "passed_time": 0.9482901308,
                        "iteration": 631,
                        "remaining_time": 0.5521689369,
                        "learn": [
                          0.3573040876,
                          0.8571428571
                        ]
                      },
                      {
                        "passed_time": 0.9496729172,
                        "iteration": 632,
                        "remaining_time": 0.5506002537,
                        "learn": [
                          0.3572616204,
                          0.8571428571
                        ]
                      },
                      {
                        "passed_time": 0.9512176687,
                        "iteration": 633,
                        "remaining_time": 0.5491256573,
                        "learn": [
                          0.3572419945,
                          0.8571428571
                        ]
                      },
                      {
                        "passed_time": 0.952719351,
                        "iteration": 634,
                        "remaining_time": 0.5476260836,
                        "learn": [
                          0.3572143055,
                          0.8571428571
                        ]
                      },
                      {
                        "passed_time": 0.9542859309,
                        "iteration": 635,
                        "remaining_time": 0.546163646,
                        "learn": [
                          0.3571745256,
                          0.8571428571
                        ]
                      },
                      {
                        "passed_time": 0.9558096971,
                        "iteration": 636,
                        "remaining_time": 0.5446764836,
                        "learn": [
                          0.357020179,
                          0.8582677165
                        ]
                      },
                      {
                        "passed_time": 0.9572315914,
                        "iteration": 637,
                        "remaining_time": 0.5431314045,
                        "learn": [
                          0.3569770015,
                          0.8571428571
                        ]
                      },
                      {
                        "passed_time": 0.9586710133,
                        "iteration": 638,
                        "remaining_time": 0.5415966132,
                        "learn": [
                          0.3568640687,
                          0.8571428571
                        ]
                      },
                      {
                        "passed_time": 0.9600895354,
                        "iteration": 639,
                        "remaining_time": 0.5400503637,
                        "learn": [
                          0.3567738754,
                          0.8582677165
                        ]
                      },
                      {
                        "passed_time": 0.9614635146,
                        "iteration": 640,
                        "remaining_time": 0.5384795659,
                        "learn": [
                          0.3566441473,
                          0.8571428571
                        ]
                      },
                      {
                        "passed_time": 0.9628423184,
                        "iteration": 641,
                        "remaining_time": 0.5369120716,
                        "learn": [
                          0.3564784937,
                          0.8571428571
                        ]
                      },
                      {
                        "passed_time": 0.9642541078,
                        "iteration": 642,
                        "remaining_time": 0.5353634782,
                        "learn": [
                          0.3564041426,
                          0.8571428571
                        ]
                      },
                      {
                        "passed_time": 0.965659889,
                        "iteration": 643,
                        "remaining_time": 0.5338119883,
                        "learn": [
                          0.3562849022,
                          0.8571428571
                        ]
                      },
                      {
                        "passed_time": 0.9671138462,
                        "iteration": 644,
                        "remaining_time": 0.5322874658,
                        "learn": [
                          0.3562045305,
                          0.8571428571
                        ]
                      },
                      {
                        "passed_time": 0.9685155616,
                        "iteration": 645,
                        "remaining_time": 0.5307345338,
                        "learn": [
                          0.3561164064,
                          0.8582677165
                        ]
                      },
                      {
                        "passed_time": 0.9698771887,
                        "iteration": 646,
                        "remaining_time": 0.5291601972,
                        "learn": [
                          0.3560707284,
                          0.8582677165
                        ]
                      },
                      {
                        "passed_time": 0.9712963917,
                        "iteration": 647,
                        "remaining_time": 0.527617793,
                        "learn": [
                          0.3559802998,
                          0.8582677165
                        ]
                      },
                      {
                        "passed_time": 0.9726700636,
                        "iteration": 648,
                        "remaining_time": 0.5260511438,
                        "learn": [
                          0.3559388173,
                          0.8582677165
                        ]
                      },
                      {
                        "passed_time": 0.9740391625,
                        "iteration": 649,
                        "remaining_time": 0.5244826259,
                        "learn": [
                          0.3557698223,
                          0.8582677165
                        ]
                      },
                      {
                        "passed_time": 0.9754137035,
                        "iteration": 650,
                        "remaining_time": 0.5229176383,
                        "learn": [
                          0.3557250342,
                          0.8582677165
                        ]
                      },
                      {
                        "passed_time": 0.976915414,
                        "iteration": 651,
                        "remaining_time": 0.5214211105,
                        "learn": [
                          0.3556375318,
                          0.8582677165
                        ]
                      },
                      {
                        "passed_time": 0.9783123076,
                        "iteration": 652,
                        "remaining_time": 0.5198688679,
                        "learn": [
                          0.3555232434,
                          0.8582677165
                        ]
                      },
                      {
                        "passed_time": 0.9796601811,
                        "iteration": 653,
                        "remaining_time": 0.5182911662,
                        "learn": [
                          0.3554873051,
                          0.8582677165
                        ]
                      },
                      {
                        "passed_time": 0.9805422657,
                        "iteration": 654,
                        "remaining_time": 0.516468827,
                        "learn": [
                          0.3554597722,
                          0.8582677165
                        ]
                      },
                      {
                        "passed_time": 0.9820076029,
                        "iteration": 655,
                        "remaining_time": 0.5149552064,
                        "learn": [
                          0.3554379496,
                          0.8582677165
                        ]
                      },
                      {
                        "passed_time": 0.9834357508,
                        "iteration": 656,
                        "remaining_time": 0.5134223174,
                        "learn": [
                          0.3553197755,
                          0.8582677165
                        ]
                      },
                      {
                        "passed_time": 0.9848067596,
                        "iteration": 657,
                        "remaining_time": 0.5118600483,
                        "learn": [
                          0.3552876172,
                          0.8582677165
                        ]
                      },
                      {
                        "passed_time": 0.9861719407,
                        "iteration": 658,
                        "remaining_time": 0.5102953441,
                        "learn": [
                          0.3551685926,
                          0.8582677165
                        ]
                      },
                      {
                        "passed_time": 0.9869530839,
                        "iteration": 659,
                        "remaining_time": 0.5084303765,
                        "learn": [
                          0.355145775,
                          0.8582677165
                        ]
                      },
                      {
                        "passed_time": 0.9882892189,
                        "iteration": 660,
                        "remaining_time": 0.506853321,
                        "learn": [
                          0.3548682066,
                          0.8582677165
                        ]
                      },
                      {
                        "passed_time": 0.9901669554,
                        "iteration": 661,
                        "remaining_time": 0.505553521,
                        "learn": [
                          0.3546777487,
                          0.8582677165
                        ]
                      },
                      {
                        "passed_time": 0.991525142,
                        "iteration": 662,
                        "remaining_time": 0.5039878927,
                        "learn": [
                          0.3545608192,
                          0.8582677165
                        ]
                      },
                      {
                        "passed_time": 0.9927226568,
                        "iteration": 663,
                        "remaining_time": 0.5023415854,
                        "learn": [
                          0.3545344954,
                          0.8582677165
                        ]
                      },
                      {
                        "passed_time": 0.9941344412,
                        "iteration": 664,
                        "remaining_time": 0.5008045681,
                        "learn": [
                          0.3544839817,
                          0.8582677165
                        ]
                      },
                      {
                        "passed_time": 0.9955565968,
                        "iteration": 665,
                        "remaining_time": 0.4992731281,
                        "learn": [
                          0.354436069,
                          0.8582677165
                        ]
                      },
                      {
                        "passed_time": 0.9969389328,
                        "iteration": 666,
                        "remaining_time": 0.4977221359,
                        "learn": [
                          0.3543209299,
                          0.8582677165
                        ]
                      },
                      {
                        "passed_time": 0.9983680194,
                        "iteration": 667,
                        "remaining_time": 0.4961948839,
                        "learn": [
                          0.354204099,
                          0.8582677165
                        ]
                      },
                      {
                        "passed_time": 0.9998060831,
                        "iteration": 668,
                        "remaining_time": 0.494672367,
                        "learn": [
                          0.3540932985,
                          0.8582677165
                        ]
                      },
                      {
                        "passed_time": 1.00064351,
                        "iteration": 669,
                        "remaining_time": 0.4928542661,
                        "learn": [
                          0.3540083577,
                          0.8582677165
                        ]
                      },
                      {
                        "passed_time": 1.002179571,
                        "iteration": 670,
                        "remaining_time": 0.4913816376,
                        "learn": [
                          0.3539644548,
                          0.8582677165
                        ]
                      },
                      {
                        "passed_time": 1.003332259,
                        "iteration": 671,
                        "remaining_time": 0.4897216978,
                        "learn": [
                          0.3539570481,
                          0.8582677165
                        ]
                      },
                      {
                        "passed_time": 1.004716991,
                        "iteration": 672,
                        "remaining_time": 0.4881760118,
                        "learn": [
                          0.3539022326,
                          0.8582677165
                        ]
                      },
                      {
                        "passed_time": 1.006239789,
                        "iteration": 673,
                        "remaining_time": 0.4866975835,
                        "learn": [
                          0.3538309924,
                          0.8582677165
                        ]
                      },
                      {
                        "passed_time": 1.007632566,
                        "iteration": 674,
                        "remaining_time": 0.4851564205,
                        "learn": [
                          0.3537620181,
                          0.8582677165
                        ]
                      },
                      {
                        "passed_time": 1.009432038,
                        "iteration": 675,
                        "remaining_time": 0.4838106216,
                        "learn": [
                          0.35354439,
                          0.8582677165
                        ]
                      },
                      {
                        "passed_time": 1.011316848,
                        "iteration": 676,
                        "remaining_time": 0.4825041977,
                        "learn": [
                          0.3534627275,
                          0.8582677165
                        ]
                      },
                      {
                        "passed_time": 1.012993396,
                        "iteration": 677,
                        "remaining_time": 0.4810971587,
                        "learn": [
                          0.3533816591,
                          0.8582677165
                        ]
                      },
                      {
                        "passed_time": 1.015551164,
                        "iteration": 678,
                        "remaining_time": 0.4801059257,
                        "learn": [
                          0.3533118051,
                          0.8582677165
                        ]
                      },
                      {
                        "passed_time": 1.017631868,
                        "iteration": 679,
                        "remaining_time": 0.478885585,
                        "learn": [
                          0.3532279393,
                          0.8582677165
                        ]
                      },
                      {
                        "passed_time": 1.019351816,
                        "iteration": 680,
                        "remaining_time": 0.4774937289,
                        "learn": [
                          0.3531582195,
                          0.8582677165
                        ]
                      },
                      {
                        "passed_time": 1.023388515,
                        "iteration": 681,
                        "remaining_time": 0.4771811552,
                        "learn": [
                          0.3530846223,
                          0.8582677165
                        ]
                      },
                      {
                        "passed_time": 1.024718249,
                        "iteration": 682,
                        "remaining_time": 0.4756012956,
                        "learn": [
                          0.3530506887,
                          0.8582677165
                        ]
                      },
                      {
                        "passed_time": 1.026003081,
                        "iteration": 683,
                        "remaining_time": 0.4740014232,
                        "learn": [
                          0.3529355908,
                          0.8582677165
                        ]
                      },
                      {
                        "passed_time": 1.027280026,
                        "iteration": 684,
                        "remaining_time": 0.4723988441,
                        "learn": [
                          0.3528963653,
                          0.8582677165
                        ]
                      },
                      {
                        "passed_time": 1.028574854,
                        "iteration": 685,
                        "remaining_time": 0.4708053997,
                        "learn": [
                          0.3528063952,
                          0.8582677165
                        ]
                      },
                      {
                        "passed_time": 1.029855361,
                        "iteration": 686,
                        "remaining_time": 0.4692062996,
                        "learn": [
                          0.3527120041,
                          0.8582677165
                        ]
                      },
                      {
                        "passed_time": 1.031109176,
                        "iteration": 687,
                        "remaining_time": 0.4675960218,
                        "learn": [
                          0.3525980928,
                          0.8582677165
                        ]
                      },
                      {
                        "passed_time": 1.032482622,
                        "iteration": 688,
                        "remaining_time": 0.4660407773,
                        "learn": [
                          0.3525168865,
                          0.8582677165
                        ]
                      },
                      {
                        "passed_time": 1.033892271,
                        "iteration": 689,
                        "remaining_time": 0.4645023246,
                        "learn": [
                          0.3524348118,
                          0.8582677165
                        ]
                      },
                      {
                        "passed_time": 1.036146241,
                        "iteration": 690,
                        "remaining_time": 0.463341807,
                        "learn": [
                          0.3523143618,
                          0.8582677165
                        ]
                      },
                      {
                        "passed_time": 1.037438109,
                        "iteration": 691,
                        "remaining_time": 0.4617499096,
                        "learn": [
                          0.3522511569,
                          0.8582677165
                        ]
                      },
                      {
                        "passed_time": 1.039715065,
                        "iteration": 692,
                        "remaining_time": 0.4605952741,
                        "learn": [
                          0.352145506,
                          0.8582677165
                        ]
                      },
                      {
                        "passed_time": 1.040993142,
                        "iteration": 693,
                        "remaining_time": 0.4589969763,
                        "learn": [
                          0.3520677847,
                          0.8582677165
                        ]
                      },
                      {
                        "passed_time": 1.042243399,
                        "iteration": 694,
                        "remaining_time": 0.4573873911,
                        "learn": [
                          0.3518743472,
                          0.8582677165
                        ]
                      },
                      {
                        "passed_time": 1.043489932,
                        "iteration": 695,
                        "remaining_time": 0.4557772117,
                        "learn": [
                          0.3518596649,
                          0.8582677165
                        ]
                      },
                      {
                        "passed_time": 1.044755385,
                        "iteration": 696,
                        "remaining_time": 0.4541763007,
                        "learn": [
                          0.3517731857,
                          0.8582677165
                        ]
                      },
                      {
                        "passed_time": 1.046002146,
                        "iteration": 697,
                        "remaining_time": 0.4525682636,
                        "learn": [
                          0.3516730974,
                          0.8582677165
                        ]
                      },
                      {
                        "passed_time": 1.047348041,
                        "iteration": 698,
                        "remaining_time": 0.4510039488,
                        "learn": [
                          0.3515642193,
                          0.8582677165
                        ]
                      },
                      {
                        "passed_time": 1.048586899,
                        "iteration": 699,
                        "remaining_time": 0.4493943853,
                        "learn": [
                          0.3514310739,
                          0.8582677165
                        ]
                      },
                      {
                        "passed_time": 1.049833734,
                        "iteration": 700,
                        "remaining_time": 0.4477892818,
                        "learn": [
                          0.3512599735,
                          0.8593925759
                        ]
                      },
                      {
                        "passed_time": 1.051057703,
                        "iteration": 701,
                        "remaining_time": 0.4461754923,
                        "learn": [
                          0.3511596349,
                          0.8593925759
                        ]
                      },
                      {
                        "passed_time": 1.052327972,
                        "iteration": 702,
                        "remaining_time": 0.4445823721,
                        "learn": [
                          0.3510946538,
                          0.8582677165
                        ]
                      },
                      {
                        "passed_time": 1.053574343,
                        "iteration": 703,
                        "remaining_time": 0.4429801216,
                        "learn": [
                          0.3510410299,
                          0.8582677165
                        ]
                      },
                      {
                        "passed_time": 1.054458851,
                        "iteration": 704,
                        "remaining_time": 0.4412274623,
                        "learn": [
                          0.3510075741,
                          0.8593925759
                        ]
                      },
                      {
                        "passed_time": 1.055703351,
                        "iteration": 705,
                        "remaining_time": 0.4396271743,
                        "learn": [
                          0.3509638553,
                          0.8605174353
                        ]
                      },
                      {
                        "passed_time": 1.057056025,
                        "iteration": 706,
                        "remaining_time": 0.4380727232,
                        "learn": [
                          0.3508500167,
                          0.8605174353
                        ]
                      },
                      {
                        "passed_time": 1.058318866,
                        "iteration": 707,
                        "remaining_time": 0.4364817922,
                        "learn": [
                          0.3506874427,
                          0.8605174353
                        ]
                      },
                      {
                        "passed_time": 1.059627118,
                        "iteration": 708,
                        "remaining_time": 0.4349104252,
                        "learn": [
                          0.3506026018,
                          0.8605174353
                        ]
                      },
                      {
                        "passed_time": 1.060908506,
                        "iteration": 709,
                        "remaining_time": 0.4333288263,
                        "learn": [
                          0.3505298021,
                          0.8605174353
                        ]
                      },
                      {
                        "passed_time": 1.062097742,
                        "iteration": 710,
                        "remaining_time": 0.4317106152,
                        "learn": [
                          0.3504886118,
                          0.8605174353
                        ]
                      },
                      {
                        "passed_time": 1.063353809,
                        "iteration": 711,
                        "remaining_time": 0.4301206417,
                        "learn": [
                          0.3504296155,
                          0.8605174353
                        ]
                      },
                      {
                        "passed_time": 1.064566711,
                        "iteration": 712,
                        "remaining_time": 0.4285142302,
                        "learn": [
                          0.3503624559,
                          0.8605174353
                        ]
                      },
                      {
                        "passed_time": 1.065851463,
                        "iteration": 713,
                        "remaining_time": 0.4269377009,
                        "learn": [
                          0.3502671139,
                          0.8605174353
                        ]
                      },
                      {
                        "passed_time": 1.067094189,
                        "iteration": 714,
                        "remaining_time": 0.4253452363,
                        "learn": [
                          0.3501703596,
                          0.8605174353
                        ]
                      },
                      {
                        "passed_time": 1.068286026,
                        "iteration": 715,
                        "remaining_time": 0.4237335634,
                        "learn": [
                          0.3500637586,
                          0.8605174353
                        ]
                      },
                      {
                        "passed_time": 1.073097355,
                        "iteration": 716,
                        "remaining_time": 0.4235516757,
                        "learn": [
                          0.3500067347,
                          0.8605174353
                        ]
                      },
                      {
                        "passed_time": 1.076325325,
                        "iteration": 717,
                        "remaining_time": 0.4227350162,
                        "learn": [
                          0.3498251741,
                          0.8605174353
                        ]
                      },
                      {
                        "passed_time": 1.07949673,
                        "iteration": 718,
                        "remaining_time": 0.4218895424,
                        "learn": [
                          0.3497599649,
                          0.8605174353
                        ]
                      },
                      {
                        "passed_time": 1.082994201,
                        "iteration": 719,
                        "remaining_time": 0.4211644117,
                        "learn": [
                          0.3497168345,
                          0.8605174353
                        ]
                      },
                      {
                        "passed_time": 1.08473458,
                        "iteration": 720,
                        "remaining_time": 0.4197516615,
                        "learn": [
                          0.3496494184,
                          0.8605174353
                        ]
                      },
                      {
                        "passed_time": 1.086192027,
                        "iteration": 721,
                        "remaining_time": 0.4182290629,
                        "learn": [
                          0.3495505688,
                          0.8593925759
                        ]
                      },
                      {
                        "passed_time": 1.087655637,
                        "iteration": 722,
                        "remaining_time": 0.4167090062,
                        "learn": [
                          0.3494587047,
                          0.8593925759
                        ]
                      },
                      {
                        "passed_time": 1.089174332,
                        "iteration": 723,
                        "remaining_time": 0.4152101044,
                        "learn": [
                          0.3493369467,
                          0.8593925759
                        ]
                      },
                      {
                        "passed_time": 1.090602007,
                        "iteration": 724,
                        "remaining_time": 0.4136766234,
                        "learn": [
                          0.3492167615,
                          0.8593925759
                        ]
                      },
                      {
                        "passed_time": 1.092076731,
                        "iteration": 725,
                        "remaining_time": 0.4121611906,
                        "learn": [
                          0.3490517015,
                          0.8593925759
                        ]
                      },
                      {
                        "passed_time": 1.093600646,
                        "iteration": 726,
                        "remaining_time": 0.4106643415,
                        "learn": [
                          0.3489824266,
                          0.8593925759
                        ]
                      },
                      {
                        "passed_time": 1.095056082,
                        "iteration": 727,
                        "remaining_time": 0.4091418329,
                        "learn": [
                          0.3488698372,
                          0.8593925759
                        ]
                      },
                      {
                        "passed_time": 1.096485596,
                        "iteration": 728,
                        "remaining_time": 0.4076098717,
                        "learn": [
                          0.3487290278,
                          0.8605174353
                        ]
                      },
                      {
                        "passed_time": 1.097921972,
                        "iteration": 729,
                        "remaining_time": 0.4060807293,
                        "learn": [
                          0.3485115503,
                          0.8605174353
                        ]
                      },
                      {
                        "passed_time": 1.099404583,
                        "iteration": 730,
                        "remaining_time": 0.4045688547,
                        "learn": [
                          0.3484171683,
                          0.8605174353
                        ]
                      },
                      {
                        "passed_time": 1.100856429,
                        "iteration": 731,
                        "remaining_time": 0.4030457965,
                        "learn": [
                          0.3483532424,
                          0.8605174353
                        ]
                      },
                      {
                        "passed_time": 1.102341222,
                        "iteration": 732,
                        "remaining_time": 0.4015349336,
                        "learn": [
                          0.3482598034,
                          0.8605174353
                        ]
                      },
                      {
                        "passed_time": 1.103767428,
                        "iteration": 733,
                        "remaining_time": 0.4000029098,
                        "learn": [
                          0.3481538078,
                          0.8605174353
                        ]
                      },
                      {
                        "passed_time": 1.105221817,
                        "iteration": 734,
                        "remaining_time": 0.3984813355,
                        "learn": [
                          0.3480238298,
                          0.8605174353
                        ]
                      },
                      {
                        "passed_time": 1.106643476,
                        "iteration": 735,
                        "remaining_time": 0.3969482032,
                        "learn": [
                          0.3479314248,
                          0.8605174353
                        ]
                      },
                      {
                        "passed_time": 1.108154002,
                        "iteration": 736,
                        "remaining_time": 0.3954470864,
                        "learn": [
                          0.3478159805,
                          0.8605174353
                        ]
                      },
                      {
                        "passed_time": 1.110015921,
                        "iteration": 737,
                        "remaining_time": 0.3940706928,
                        "learn": [
                          0.3477141821,
                          0.8605174353
                        ]
                      },
                      {
                        "passed_time": 1.11182609,
                        "iteration": 738,
                        "remaining_time": 0.3926747085,
                        "learn": [
                          0.347692849,
                          0.8605174353
                        ]
                      },
                      {
                        "passed_time": 1.113523995,
                        "iteration": 739,
                        "remaining_time": 0.3912381602,
                        "learn": [
                          0.347639592,
                          0.8605174353
                        ]
                      },
                      {
                        "passed_time": 1.117213477,
                        "iteration": 740,
                        "remaining_time": 0.3904970182,
                        "learn": [
                          0.3475472925,
                          0.8605174353
                        ]
                      },
                      {
                        "passed_time": 1.12090983,
                        "iteration": 741,
                        "remaining_time": 0.3897503183,
                        "learn": [
                          0.3474393687,
                          0.8605174353
                        ]
                      },
                      {
                        "passed_time": 1.124567717,
                        "iteration": 742,
                        "remaining_time": 0.3889823732,
                        "learn": [
                          0.3473455736,
                          0.8605174353
                        ]
                      },
                      {
                        "passed_time": 1.126932524,
                        "iteration": 743,
                        "remaining_time": 0.3877617288,
                        "learn": [
                          0.3472955219,
                          0.8605174353
                        ]
                      },
                      {
                        "passed_time": 1.128469528,
                        "iteration": 744,
                        "remaining_time": 0.3862546708,
                        "learn": [
                          0.3472054848,
                          0.8605174353
                        ]
                      },
                      {
                        "passed_time": 1.1300088,
                        "iteration": 745,
                        "remaining_time": 0.3847483047,
                        "learn": [
                          0.3471183934,
                          0.8616422947
                        ]
                      },
                      {
                        "passed_time": 1.131479172,
                        "iteration": 746,
                        "remaining_time": 0.3832185148,
                        "learn": [
                          0.3468841877,
                          0.8627671541
                        ]
                      },
                      {
                        "passed_time": 1.132894209,
                        "iteration": 747,
                        "remaining_time": 0.3816702416,
                        "learn": [
                          0.3468043519,
                          0.8627671541
                        ]
                      },
                      {
                        "passed_time": 1.134330539,
                        "iteration": 748,
                        "remaining_time": 0.3801294598,
                        "learn": [
                          0.3467252942,
                          0.8616422947
                        ]
                      },
                      {
                        "passed_time": 1.135751434,
                        "iteration": 749,
                        "remaining_time": 0.3785838113,
                        "learn": [
                          0.3466474354,
                          0.8616422947
                        ]
                      },
                      {
                        "passed_time": 1.13729099,
                        "iteration": 750,
                        "remaining_time": 0.3770778383,
                        "learn": [
                          0.3465836946,
                          0.8616422947
                        ]
                      },
                      {
                        "passed_time": 1.140107428,
                        "iteration": 751,
                        "remaining_time": 0.3759928751,
                        "learn": [
                          0.3465447992,
                          0.8616422947
                        ]
                      },
                      {
                        "passed_time": 1.141968986,
                        "iteration": 752,
                        "remaining_time": 0.3745900925,
                        "learn": [
                          0.3464987586,
                          0.8616422947
                        ]
                      },
                      {
                        "passed_time": 1.144433985,
                        "iteration": 753,
                        "remaining_time": 0.3733829714,
                        "learn": [
                          0.3464067155,
                          0.8616422947
                        ]
                      },
                      {
                        "passed_time": 1.145928593,
                        "iteration": 754,
                        "remaining_time": 0.3718576228,
                        "learn": [
                          0.346363314,
                          0.8616422947
                        ]
                      },
                      {
                        "passed_time": 1.147344392,
                        "iteration": 755,
                        "remaining_time": 0.3703069202,
                        "learn": [
                          0.3463106062,
                          0.8616422947
                        ]
                      },
                      {
                        "passed_time": 1.148711879,
                        "iteration": 756,
                        "remaining_time": 0.3687410656,
                        "learn": [
                          0.3462453607,
                          0.8616422947
                        ]
                      },
                      {
                        "passed_time": 1.150115455,
                        "iteration": 757,
                        "remaining_time": 0.3671872559,
                        "learn": [
                          0.3461871152,
                          0.8616422947
                        ]
                      },
                      {
                        "passed_time": 1.151515188,
                        "iteration": 758,
                        "remaining_time": 0.3656326223,
                        "learn": [
                          0.3460694378,
                          0.8627671541
                        ]
                      },
                      {
                        "passed_time": 1.153025633,
                        "iteration": 759,
                        "remaining_time": 0.3641133578,
                        "learn": [
                          0.3459371984,
                          0.8627671541
                        ]
                      },
                      {
                        "passed_time": 1.154399475,
                        "iteration": 760,
                        "remaining_time": 0.362551215,
                        "learn": [
                          0.3459026885,
                          0.8627671541
                        ]
                      },
                      {
                        "passed_time": 1.155767024,
                        "iteration": 761,
                        "remaining_time": 0.3609876008,
                        "learn": [
                          0.3458401691,
                          0.8627671541
                        ]
                      },
                      {
                        "passed_time": 1.156813974,
                        "iteration": 762,
                        "remaining_time": 0.3593249171,
                        "learn": [
                          0.3456763402,
                          0.8627671541
                        ]
                      },
                      {
                        "passed_time": 1.158296864,
                        "iteration": 763,
                        "remaining_time": 0.3577985078,
                        "learn": [
                          0.3455488116,
                          0.8627671541
                        ]
                      },
                      {
                        "passed_time": 1.159648258,
                        "iteration": 764,
                        "remaining_time": 0.3562318177,
                        "learn": [
                          0.3454834886,
                          0.8627671541
                        ]
                      },
                      {
                        "passed_time": 1.161066929,
                        "iteration": 765,
                        "remaining_time": 0.3546862421,
                        "learn": [
                          0.345365349,
                          0.8638920135
                        ]
                      },
                      {
                        "passed_time": 1.162459529,
                        "iteration": 766,
                        "remaining_time": 0.3531330772,
                        "learn": [
                          0.3452610846,
                          0.8638920135
                        ]
                      },
                      {
                        "passed_time": 1.163876805,
                        "iteration": 767,
                        "remaining_time": 0.351587785,
                        "learn": [
                          0.3452096367,
                          0.8638920135
                        ]
                      },
                      {
                        "passed_time": 1.165375442,
                        "iteration": 768,
                        "remaining_time": 0.3500672655,
                        "learn": [
                          0.3450904968,
                          0.8627671541
                        ]
                      },
                      {
                        "passed_time": 1.166768334,
                        "iteration": 769,
                        "remaining_time": 0.3485152165,
                        "learn": [
                          0.3449992067,
                          0.8627671541
                        ]
                      },
                      {
                        "passed_time": 1.168160852,
                        "iteration": 770,
                        "remaining_time": 0.3469634696,
                        "learn": [
                          0.3449164422,
                          0.8638920135
                        ]
                      },
                      {
                        "passed_time": 1.169540334,
                        "iteration": 771,
                        "remaining_time": 0.3454082852,
                        "learn": [
                          0.3448783838,
                          0.8638920135
                        ]
                      },
                      {
                        "passed_time": 1.171078645,
                        "iteration": 772,
                        "remaining_time": 0.3439001973,
                        "learn": [
                          0.3446887296,
                          0.8627671541
                        ]
                      },
                      {
                        "passed_time": 1.172476144,
                        "iteration": 773,
                        "remaining_time": 0.3423509155,
                        "learn": [
                          0.3445958483,
                          0.8627671541
                        ]
                      },
                      {
                        "passed_time": 1.17387732,
                        "iteration": 774,
                        "remaining_time": 0.3408030928,
                        "learn": [
                          0.3445269562,
                          0.8627671541
                        ]
                      },
                      {
                        "passed_time": 1.174944206,
                        "iteration": 775,
                        "remaining_time": 0.3391591522,
                        "learn": [
                          0.3444546081,
                          0.8627671541
                        ]
                      },
                      {
                        "passed_time": 1.17645598,
                        "iteration": 776,
                        "remaining_time": 0.3376443802,
                        "learn": [
                          0.34431289,
                          0.8627671541
                        ]
                      },
                      {
                        "passed_time": 1.177899948,
                        "iteration": 777,
                        "remaining_time": 0.3361102679,
                        "learn": [
                          0.3441675879,
                          0.8627671541
                        ]
                      },
                      {
                        "passed_time": 1.179486371,
                        "iteration": 778,
                        "remaining_time": 0.3346168011,
                        "learn": [
                          0.3440969526,
                          0.8627671541
                        ]
                      },
                      {
                        "passed_time": 1.181373212,
                        "iteration": 779,
                        "remaining_time": 0.3332078291,
                        "learn": [
                          0.3440384432,
                          0.8627671541
                        ]
                      },
                      {
                        "passed_time": 1.183730899,
                        "iteration": 780,
                        "remaining_time": 0.3319296631,
                        "learn": [
                          0.3439640391,
                          0.8638920135
                        ]
                      },
                      {
                        "passed_time": 1.185700205,
                        "iteration": 781,
                        "remaining_time": 0.3305404662,
                        "learn": [
                          0.3439037413,
                          0.8627671541
                        ]
                      },
                      {
                        "passed_time": 1.187147283,
                        "iteration": 782,
                        "remaining_time": 0.3290050579,
                        "learn": [
                          0.3438556825,
                          0.8627671541
                        ]
                      },
                      {
                        "passed_time": 1.188826412,
                        "iteration": 783,
                        "remaining_time": 0.3275338075,
                        "learn": [
                          0.34372777,
                          0.8627671541
                        ]
                      },
                      {
                        "passed_time": 1.190245669,
                        "iteration": 784,
                        "remaining_time": 0.325990852,
                        "learn": [
                          0.3436503866,
                          0.8627671541
                        ]
                      },
                      {
                        "passed_time": 1.19180314,
                        "iteration": 785,
                        "remaining_time": 0.3244858423,
                        "learn": [
                          0.3435391105,
                          0.8627671541
                        ]
                      },
                      {
                        "passed_time": 1.193189765,
                        "iteration": 786,
                        "remaining_time": 0.32293446,
                        "learn": [
                          0.3434209191,
                          0.8627671541
                        ]
                      },
                      {
                        "passed_time": 1.19463768,
                        "iteration": 787,
                        "remaining_time": 0.321399985,
                        "learn": [
                          0.343373752,
                          0.8638920135
                        ]
                      },
                      {
                        "passed_time": 1.196247684,
                        "iteration": 788,
                        "remaining_time": 0.3199090766,
                        "learn": [
                          0.3432854594,
                          0.8627671541
                        ]
                      },
                      {
                        "passed_time": 1.197672931,
                        "iteration": 789,
                        "remaining_time": 0.3183687539,
                        "learn": [
                          0.3432158917,
                          0.8627671541
                        ]
                      },
                      {
                        "passed_time": 1.199076814,
                        "iteration": 790,
                        "remaining_time": 0.3168230772,
                        "learn": [
                          0.3431201108,
                          0.8638920135
                        ]
                      },
                      {
                        "passed_time": 1.200455972,
                        "iteration": 791,
                        "remaining_time": 0.3152712655,
                        "learn": [
                          0.3430579858,
                          0.8638920135
                        ]
                      },
                      {
                        "passed_time": 1.204087943,
                        "iteration": 792,
                        "remaining_time": 0.3143079497,
                        "learn": [
                          0.3429691999,
                          0.8638920135
                        ]
                      },
                      {
                        "passed_time": 1.205886533,
                        "iteration": 793,
                        "remaining_time": 0.3128622491,
                        "learn": [
                          0.3428945419,
                          0.8638920135
                        ]
                      },
                      {
                        "passed_time": 1.207978315,
                        "iteration": 794,
                        "remaining_time": 0.3114912637,
                        "learn": [
                          0.3427502667,
                          0.8638920135
                        ]
                      },
                      {
                        "passed_time": 1.209810113,
                        "iteration": 795,
                        "remaining_time": 0.310051838,
                        "learn": [
                          0.3426235215,
                          0.8638920135
                        ]
                      },
                      {
                        "passed_time": 1.211487508,
                        "iteration": 796,
                        "remaining_time": 0.3085721005,
                        "learn": [
                          0.3425501226,
                          0.8638920135
                        ]
                      },
                      {
                        "passed_time": 1.212900213,
                        "iteration": 797,
                        "remaining_time": 0.307024866,
                        "learn": [
                          0.3424270579,
                          0.8638920135
                        ]
                      },
                      {
                        "passed_time": 1.214413088,
                        "iteration": 798,
                        "remaining_time": 0.3055031674,
                        "learn": [
                          0.3423646436,
                          0.8638920135
                        ]
                      },
                      {
                        "passed_time": 1.215849796,
                        "iteration": 799,
                        "remaining_time": 0.3039624491,
                        "learn": [
                          0.3422637869,
                          0.8638920135
                        ]
                      },
                      {
                        "passed_time": 1.217247724,
                        "iteration": 800,
                        "remaining_time": 0.3024123559,
                        "learn": [
                          0.3421847443,
                          0.8638920135
                        ]
                      },
                      {
                        "passed_time": 1.218656136,
                        "iteration": 801,
                        "remaining_time": 0.3008652305,
                        "learn": [
                          0.3421013134,
                          0.8638920135
                        ]
                      },
                      {
                        "passed_time": 1.220093422,
                        "iteration": 802,
                        "remaining_time": 0.2993255343,
                        "learn": [
                          0.342071188,
                          0.8650168729
                        ]
                      },
                      {
                        "passed_time": 1.221601553,
                        "iteration": 803,
                        "remaining_time": 0.2978033637,
                        "learn": [
                          0.3419980848,
                          0.8650168729
                        ]
                      },
                      {
                        "passed_time": 1.223057089,
                        "iteration": 804,
                        "remaining_time": 0.2962684875,
                        "learn": [
                          0.3419044305,
                          0.8650168729
                        ]
                      },
                      {
                        "passed_time": 1.224594082,
                        "iteration": 805,
                        "remaining_time": 0.2947534142,
                        "learn": [
                          0.3417876165,
                          0.8650168729
                        ]
                      },
                      {
                        "passed_time": 1.226218836,
                        "iteration": 806,
                        "remaining_time": 0.2932592756,
                        "learn": [
                          0.3416604012,
                          0.8650168729
                        ]
                      },
                      {
                        "passed_time": 1.227830132,
                        "iteration": 807,
                        "remaining_time": 0.2917616156,
                        "learn": [
                          0.3415030622,
                          0.8650168729
                        ]
                      },
                      {
                        "passed_time": 1.229334443,
                        "iteration": 808,
                        "remaining_time": 0.2902384162,
                        "learn": [
                          0.3414339438,
                          0.8650168729
                        ]
                      },
                      {
                        "passed_time": 1.230819265,
                        "iteration": 809,
                        "remaining_time": 0.2887106917,
                        "learn": [
                          0.3412979943,
                          0.8650168729
                        ]
                      },
                      {
                        "passed_time": 1.232272465,
                        "iteration": 810,
                        "remaining_time": 0.2871757039,
                        "learn": [
                          0.3412222349,
                          0.8650168729
                        ]
                      },
                      {
                        "passed_time": 1.233706194,
                        "iteration": 811,
                        "remaining_time": 0.2856364095,
                        "learn": [
                          0.341159952,
                          0.8650168729
                        ]
                      },
                      {
                        "passed_time": 1.235111387,
                        "iteration": 812,
                        "remaining_time": 0.2840908111,
                        "learn": [
                          0.3410687105,
                          0.8650168729
                        ]
                      },
                      {
                        "passed_time": 1.236484424,
                        "iteration": 813,
                        "remaining_time": 0.2825382099,
                        "learn": [
                          0.3409894202,
                          0.8650168729
                        ]
                      },
                      {
                        "passed_time": 1.237865408,
                        "iteration": 814,
                        "remaining_time": 0.2809878534,
                        "learn": [
                          0.3409130578,
                          0.8650168729
                        ]
                      },
                      {
                        "passed_time": 1.239301308,
                        "iteration": 815,
                        "remaining_time": 0.2794502951,
                        "learn": [
                          0.3408509473,
                          0.8650168729
                        ]
                      },
                      {
                        "passed_time": 1.240690953,
                        "iteration": 816,
                        "remaining_time": 0.2779026247,
                        "learn": [
                          0.3406593339,
                          0.8650168729
                        ]
                      },
                      {
                        "passed_time": 1.242121341,
                        "iteration": 817,
                        "remaining_time": 0.2763644059,
                        "learn": [
                          0.340587482,
                          0.8650168729
                        ]
                      },
                      {
                        "passed_time": 1.24351158,
                        "iteration": 818,
                        "remaining_time": 0.2748175775,
                        "learn": [
                          0.340568667,
                          0.8650168729
                        ]
                      },
                      {
                        "passed_time": 1.244882272,
                        "iteration": 819,
                        "remaining_time": 0.2732668401,
                        "learn": [
                          0.3404809844,
                          0.8650168729
                        ]
                      },
                      {
                        "passed_time": 1.246257674,
                        "iteration": 820,
                        "remaining_time": 0.2717175685,
                        "learn": [
                          0.3403645479,
                          0.8650168729
                        ]
                      },
                      {
                        "passed_time": 1.247635053,
                        "iteration": 821,
                        "remaining_time": 0.2701691478,
                        "learn": [
                          0.3402425805,
                          0.8650168729
                        ]
                      },
                      {
                        "passed_time": 1.249027363,
                        "iteration": 822,
                        "remaining_time": 0.2686243539,
                        "learn": [
                          0.3401132631,
                          0.8661417323
                        ]
                      },
                      {
                        "passed_time": 1.250518419,
                        "iteration": 823,
                        "remaining_time": 0.2671010215,
                        "learn": [
                          0.3400377853,
                          0.8661417323
                        ]
                      },
                      {
                        "passed_time": 1.251856472,
                        "iteration": 824,
                        "remaining_time": 0.2655453123,
                        "learn": [
                          0.3399386927,
                          0.8661417323
                        ]
                      },
                      {
                        "passed_time": 1.2532512,
                        "iteration": 825,
                        "remaining_time": 0.2640020687,
                        "learn": [
                          0.3398328514,
                          0.8661417323
                        ]
                      },
                      {
                        "passed_time": 1.260592275,
                        "iteration": 826,
                        "remaining_time": 0.2637030999,
                        "learn": [
                          0.3397594456,
                          0.8661417323
                        ]
                      },
                      {
                        "passed_time": 1.262131787,
                        "iteration": 827,
                        "remaining_time": 0.2621819655,
                        "learn": [
                          0.3396590739,
                          0.8661417323
                        ]
                      },
                      {
                        "passed_time": 1.263551397,
                        "iteration": 828,
                        "remaining_time": 0.2606360541,
                        "learn": [
                          0.3395676321,
                          0.8661417323
                        ]
                      },
                      {
                        "passed_time": 1.264932801,
                        "iteration": 829,
                        "remaining_time": 0.2590826218,
                        "learn": [
                          0.3394101988,
                          0.8661417323
                        ]
                      },
                      {
                        "passed_time": 1.266344036,
                        "iteration": 830,
                        "remaining_time": 0.2575356704,
                        "learn": [
                          0.3393412125,
                          0.8661417323
                        ]
                      },
                      {
                        "passed_time": 1.267713853,
                        "iteration": 831,
                        "remaining_time": 0.2559806819,
                        "learn": [
                          0.3392818909,
                          0.8661417323
                        ]
                      },
                      {
                        "passed_time": 1.269091854,
                        "iteration": 832,
                        "remaining_time": 0.2544277787,
                        "learn": [
                          0.3392406098,
                          0.8661417323
                        ]
                      },
                      {
                        "passed_time": 1.270460091,
                        "iteration": 833,
                        "remaining_time": 0.2528733514,
                        "learn": [
                          0.3391633597,
                          0.8661417323
                        ]
                      },
                      {
                        "passed_time": 1.271842233,
                        "iteration": 834,
                        "remaining_time": 0.2513221179,
                        "learn": [
                          0.339051086,
                          0.8661417323
                        ]
                      },
                      {
                        "passed_time": 1.273216538,
                        "iteration": 835,
                        "remaining_time": 0.2497697515,
                        "learn": [
                          0.3389797147,
                          0.8661417323
                        ]
                      },
                      {
                        "passed_time": 1.274690782,
                        "iteration": 836,
                        "remaining_time": 0.248237273,
                        "learn": [
                          0.3389049789,
                          0.8661417323
                        ]
                      },
                      {
                        "passed_time": 1.276096921,
                        "iteration": 837,
                        "remaining_time": 0.2466917676,
                        "learn": [
                          0.3387656586,
                          0.8706411699
                        ]
                      },
                      {
                        "passed_time": 1.277609555,
                        "iteration": 838,
                        "remaining_time": 0.2451670302,
                        "learn": [
                          0.3386980156,
                          0.8706411699
                        ]
                      },
                      {
                        "passed_time": 1.27903261,
                        "iteration": 839,
                        "remaining_time": 0.2436252591,
                        "learn": [
                          0.3385629613,
                          0.8706411699
                        ]
                      },
                      {
                        "passed_time": 1.280576443,
                        "iteration": 840,
                        "remaining_time": 0.2421066045,
                        "learn": [
                          0.3384872957,
                          0.8706411699
                        ]
                      },
                      {
                        "passed_time": 1.281975001,
                        "iteration": 841,
                        "remaining_time": 0.2405606297,
                        "learn": [
                          0.3383503858,
                          0.8706411699
                        ]
                      },
                      {
                        "passed_time": 1.283469708,
                        "iteration": 842,
                        "remaining_time": 0.2390329113,
                        "learn": [
                          0.3382877787,
                          0.8717660292
                        ]
                      },
                      {
                        "passed_time": 1.28499807,
                        "iteration": 843,
                        "remaining_time": 0.2375114916,
                        "learn": [
                          0.3381329991,
                          0.8717660292
                        ]
                      },
                      {
                        "passed_time": 1.286549623,
                        "iteration": 844,
                        "remaining_time": 0.2359943095,
                        "learn": [
                          0.338032225,
                          0.8717660292
                        ]
                      },
                      {
                        "passed_time": 1.288064121,
                        "iteration": 845,
                        "remaining_time": 0.2344703011,
                        "learn": [
                          0.3379484949,
                          0.8717660292
                        ]
                      },
                      {
                        "passed_time": 1.289494286,
                        "iteration": 846,
                        "remaining_time": 0.2329310812,
                        "learn": [
                          0.3377784517,
                          0.8717660292
                        ]
                      },
                      {
                        "passed_time": 1.290897976,
                        "iteration": 847,
                        "remaining_time": 0.2313873731,
                        "learn": [
                          0.3376814,
                          0.8717660292
                        ]
                      },
                      {
                        "passed_time": 1.292271121,
                        "iteration": 848,
                        "remaining_time": 0.2298385621,
                        "learn": [
                          0.3376335543,
                          0.8717660292
                        ]
                      },
                      {
                        "passed_time": 1.293661686,
                        "iteration": 849,
                        "remaining_time": 0.2282932387,
                        "learn": [
                          0.3375973502,
                          0.8717660292
                        ]
                      },
                      {
                        "passed_time": 1.295097981,
                        "iteration": 850,
                        "remaining_time": 0.2267562858,
                        "learn": [
                          0.3375218264,
                          0.8717660292
                        ]
                      },
                      {
                        "passed_time": 1.296474545,
                        "iteration": 851,
                        "remaining_time": 0.2252091933,
                        "learn": [
                          0.3373952963,
                          0.8717660292
                        ]
                      },
                      {
                        "passed_time": 1.297845228,
                        "iteration": 852,
                        "remaining_time": 0.2236614872,
                        "learn": [
                          0.3373066569,
                          0.8717660292
                        ]
                      },
                      {
                        "passed_time": 1.299243889,
                        "iteration": 853,
                        "remaining_time": 0.2221189787,
                        "learn": [
                          0.3371494047,
                          0.8717660292
                        ]
                      },
                      {
                        "passed_time": 1.300601987,
                        "iteration": 854,
                        "remaining_time": 0.2205699276,
                        "learn": [
                          0.3370535862,
                          0.8717660292
                        ]
                      },
                      {
                        "passed_time": 1.30202264,
                        "iteration": 855,
                        "remaining_time": 0.219031846,
                        "learn": [
                          0.3368875636,
                          0.8717660292
                        ]
                      },
                      {
                        "passed_time": 1.303436426,
                        "iteration": 856,
                        "remaining_time": 0.2174928926,
                        "learn": [
                          0.3367163449,
                          0.8717660292
                        ]
                      },
                      {
                        "passed_time": 1.304819926,
                        "iteration": 857,
                        "remaining_time": 0.2159492185,
                        "learn": [
                          0.3366427226,
                          0.8717660292
                        ]
                      },
                      {
                        "passed_time": 1.306186904,
                        "iteration": 858,
                        "remaining_time": 0.2144032054,
                        "learn": [
                          0.3365765209,
                          0.8717660292
                        ]
                      },
                      {
                        "passed_time": 1.30691657,
                        "iteration": 859,
                        "remaining_time": 0.2127538603,
                        "learn": [
                          0.3365719261,
                          0.8717660292
                        ]
                      },
                      {
                        "passed_time": 1.308405638,
                        "iteration": 860,
                        "remaining_time": 0.2112292494,
                        "learn": [
                          0.3365287008,
                          0.8717660292
                        ]
                      },
                      {
                        "passed_time": 1.30978909,
                        "iteration": 861,
                        "remaining_time": 0.2096878126,
                        "learn": [
                          0.3364031167,
                          0.8717660292
                        ]
                      },
                      {
                        "passed_time": 1.311151939,
                        "iteration": 862,
                        "remaining_time": 0.2081434713,
                        "learn": [
                          0.3363426107,
                          0.8717660292
                        ]
                      },
                      {
                        "passed_time": 1.312565038,
                        "iteration": 863,
                        "remaining_time": 0.2066074597,
                        "learn": [
                          0.3362857295,
                          0.8717660292
                        ]
                      },
                      {
                        "passed_time": 1.31396861,
                        "iteration": 864,
                        "remaining_time": 0.2050702455,
                        "learn": [
                          0.3360887346,
                          0.8717660292
                        ]
                      },
                      {
                        "passed_time": 1.315359465,
                        "iteration": 865,
                        "remaining_time": 0.2035313721,
                        "learn": [
                          0.3359217976,
                          0.8717660292
                        ]
                      },
                      {
                        "passed_time": 1.316731098,
                        "iteration": 866,
                        "remaining_time": 0.2019898916,
                        "learn": [
                          0.3358700187,
                          0.8717660292
                        ]
                      },
                      {
                        "passed_time": 1.31814836,
                        "iteration": 867,
                        "remaining_time": 0.2004557415,
                        "learn": [
                          0.3357364309,
                          0.8717660292
                        ]
                      },
                      {
                        "passed_time": 1.3195538,
                        "iteration": 868,
                        "remaining_time": 0.1989200781,
                        "learn": [
                          0.3356656687,
                          0.8717660292
                        ]
                      },
                      {
                        "passed_time": 1.320927261,
                        "iteration": 869,
                        "remaining_time": 0.1973799356,
                        "learn": [
                          0.3355792492,
                          0.8717660292
                        ]
                      },
                      {
                        "passed_time": 1.322316241,
                        "iteration": 870,
                        "remaining_time": 0.1958424743,
                        "learn": [
                          0.3354780005,
                          0.8717660292
                        ]
                      },
                      {
                        "passed_time": 1.323743359,
                        "iteration": 871,
                        "remaining_time": 0.1943109518,
                        "learn": [
                          0.3353684121,
                          0.8717660292
                        ]
                      },
                      {
                        "passed_time": 1.325147921,
                        "iteration": 872,
                        "remaining_time": 0.1927763871,
                        "learn": [
                          0.3353103605,
                          0.8717660292
                        ]
                      },
                      {
                        "passed_time": 1.326652159,
                        "iteration": 873,
                        "remaining_time": 0.1912564898,
                        "learn": [
                          0.3351462687,
                          0.8717660292
                        ]
                      },
                      {
                        "passed_time": 1.328046777,
                        "iteration": 874,
                        "remaining_time": 0.1897209682,
                        "learn": [
                          0.3350753027,
                          0.8717660292
                        ]
                      },
                      {
                        "passed_time": 1.329406472,
                        "iteration": 875,
                        "remaining_time": 0.1881808248,
                        "learn": [
                          0.3349841383,
                          0.8717660292
                        ]
                      },
                      {
                        "passed_time": 1.330782739,
                        "iteration": 876,
                        "remaining_time": 0.1866434172,
                        "learn": [
                          0.3349349788,
                          0.8717660292
                        ]
                      },
                      {
                        "passed_time": 1.332181232,
                        "iteration": 877,
                        "remaining_time": 0.185109465,
                        "learn": [
                          0.3348585885,
                          0.8717660292
                        ]
                      },
                      {
                        "passed_time": 1.333651748,
                        "iteration": 878,
                        "remaining_time": 0.1835857354,
                        "learn": [
                          0.3347837636,
                          0.8717660292
                        ]
                      },
                      {
                        "passed_time": 1.3350095,
                        "iteration": 879,
                        "remaining_time": 0.18204675,
                        "learn": [
                          0.3346365116,
                          0.8717660292
                        ]
                      },
                      {
                        "passed_time": 1.336374763,
                        "iteration": 880,
                        "remaining_time": 0.1805091905,
                        "learn": [
                          0.3345569306,
                          0.8717660292
                        ]
                      },
                      {
                        "passed_time": 1.337732987,
                        "iteration": 881,
                        "remaining_time": 0.1789710798,
                        "learn": [
                          0.3344734504,
                          0.8717660292
                        ]
                      },
                      {
                        "passed_time": 1.339115098,
                        "iteration": 882,
                        "remaining_time": 0.1774365419,
                        "learn": [
                          0.3344250009,
                          0.8717660292
                        ]
                      },
                      {
                        "passed_time": 1.340552109,
                        "iteration": 883,
                        "remaining_time": 0.1759095528,
                        "learn": [
                          0.3343903721,
                          0.8717660292
                        ]
                      },
                      {
                        "passed_time": 1.341923037,
                        "iteration": 884,
                        "remaining_time": 0.17437418,
                        "learn": [
                          0.3342458396,
                          0.8717660292
                        ]
                      },
                      {
                        "passed_time": 1.343299659,
                        "iteration": 885,
                        "remaining_time": 0.172839911,
                        "learn": [
                          0.3341448951,
                          0.8717660292
                        ]
                      },
                      {
                        "passed_time": 1.344835664,
                        "iteration": 886,
                        "remaining_time": 0.1713263021,
                        "learn": [
                          0.3340366014,
                          0.8717660292
                        ]
                      },
                      {
                        "passed_time": 1.346212719,
                        "iteration": 887,
                        "remaining_time": 0.1697925952,
                        "learn": [
                          0.3338728199,
                          0.8717660292
                        ]
                      },
                      {
                        "passed_time": 1.347550199,
                        "iteration": 888,
                        "remaining_time": 0.1682542993,
                        "learn": [
                          0.3338195001,
                          0.8717660292
                        ]
                      },
                      {
                        "passed_time": 1.348958111,
                        "iteration": 889,
                        "remaining_time": 0.1667251598,
                        "learn": [
                          0.3337569828,
                          0.8717660292
                        ]
                      },
                      {
                        "passed_time": 1.350394964,
                        "iteration": 890,
                        "remaining_time": 0.1651998328,
                        "learn": [
                          0.3337342969,
                          0.8717660292
                        ]
                      },
                      {
                        "passed_time": 1.351786318,
                        "iteration": 891,
                        "remaining_time": 0.1636691955,
                        "learn": [
                          0.3336942523,
                          0.8717660292
                        ]
                      },
                      {
                        "passed_time": 1.353182702,
                        "iteration": 892,
                        "remaining_time": 0.1621394727,
                        "learn": [
                          0.3336347937,
                          0.8717660292
                        ]
                      },
                      {
                        "passed_time": 1.354662197,
                        "iteration": 893,
                        "remaining_time": 0.1606199025,
                        "learn": [
                          0.3335665857,
                          0.8717660292
                        ]
                      },
                      {
                        "passed_time": 1.356071886,
                        "iteration": 894,
                        "remaining_time": 0.1590922324,
                        "learn": [
                          0.3334919536,
                          0.8717660292
                        ]
                      },
                      {
                        "passed_time": 1.35745185,
                        "iteration": 895,
                        "remaining_time": 0.1575613755,
                        "learn": [
                          0.3333773413,
                          0.8717660292
                        ]
                      },
                      {
                        "passed_time": 1.358826704,
                        "iteration": 896,
                        "remaining_time": 0.1560302682,
                        "learn": [
                          0.3333003349,
                          0.8717660292
                        ]
                      },
                      {
                        "passed_time": 1.360336369,
                        "iteration": 897,
                        "remaining_time": 0.1545148215,
                        "learn": [
                          0.3331833958,
                          0.8717660292
                        ]
                      },
                      {
                        "passed_time": 1.36175911,
                        "iteration": 898,
                        "remaining_time": 0.1529896219,
                        "learn": [
                          0.3330439587,
                          0.8717660292
                        ]
                      },
                      {
                        "passed_time": 1.363145086,
                        "iteration": 899,
                        "remaining_time": 0.1514605651,
                        "learn": [
                          0.3329017287,
                          0.8717660292
                        ]
                      },
                      {
                        "passed_time": 1.364658452,
                        "iteration": 900,
                        "remaining_time": 0.1499458233,
                        "learn": [
                          0.3328348126,
                          0.8717660292
                        ]
                      },
                      {
                        "passed_time": 1.366179539,
                        "iteration": 901,
                        "remaining_time": 0.1484319233,
                        "learn": [
                          0.3327798038,
                          0.8717660292
                        ]
                      },
                      {
                        "passed_time": 1.367612855,
                        "iteration": 902,
                        "remaining_time": 0.1469085792,
                        "learn": [
                          0.332725211,
                          0.8717660292
                        ]
                      },
                      {
                        "passed_time": 1.370765171,
                        "iteration": 903,
                        "remaining_time": 0.1455679827,
                        "learn": [
                          0.3326669721,
                          0.8717660292
                        ]
                      },
                      {
                        "passed_time": 1.373188613,
                        "iteration": 904,
                        "remaining_time": 0.1441468709,
                        "learn": [
                          0.3325775186,
                          0.8717660292
                        ]
                      },
                      {
                        "passed_time": 1.375875476,
                        "iteration": 905,
                        "remaining_time": 0.1427508772,
                        "learn": [
                          0.332448949,
                          0.8717660292
                        ]
                      },
                      {
                        "passed_time": 1.377532464,
                        "iteration": 906,
                        "remaining_time": 0.1412464379,
                        "learn": [
                          0.3323011676,
                          0.8717660292
                        ]
                      },
                      {
                        "passed_time": 1.380714622,
                        "iteration": 907,
                        "remaining_time": 0.1398961951,
                        "learn": [
                          0.3322173047,
                          0.8717660292
                        ]
                      },
                      {
                        "passed_time": 1.382200723,
                        "iteration": 908,
                        "remaining_time": 0.1383721296,
                        "learn": [
                          0.3321545846,
                          0.8717660292
                        ]
                      },
                      {
                        "passed_time": 1.383502572,
                        "iteration": 909,
                        "remaining_time": 0.1368299247,
                        "learn": [
                          0.3320296265,
                          0.8717660292
                        ]
                      },
                      {
                        "passed_time": 1.384799292,
                        "iteration": 910,
                        "remaining_time": 0.1352877465,
                        "learn": [
                          0.3319684181,
                          0.8717660292
                        ]
                      },
                      {
                        "passed_time": 1.386099938,
                        "iteration": 911,
                        "remaining_time": 0.1337464852,
                        "learn": [
                          0.3318362495,
                          0.8717660292
                        ]
                      },
                      {
                        "passed_time": 1.387381856,
                        "iteration": 912,
                        "remaining_time": 0.1322039666,
                        "learn": [
                          0.3317647993,
                          0.8717660292
                        ]
                      },
                      {
                        "passed_time": 1.38865587,
                        "iteration": 913,
                        "remaining_time": 0.1306612745,
                        "learn": [
                          0.3317140083,
                          0.8717660292
                        ]
                      },
                      {
                        "passed_time": 1.389945749,
                        "iteration": 914,
                        "remaining_time": 0.1291206433,
                        "learn": [
                          0.3315943039,
                          0.8717660292
                        ]
                      },
                      {
                        "passed_time": 1.391221238,
                        "iteration": 915,
                        "remaining_time": 0.1275792402,
                        "learn": [
                          0.3315284424,
                          0.874015748
                        ]
                      },
                      {
                        "passed_time": 1.392508446,
                        "iteration": 916,
                        "remaining_time": 0.1260394777,
                        "learn": [
                          0.3314480137,
                          0.874015748
                        ]
                      },
                      {
                        "passed_time": 1.393776038,
                        "iteration": 917,
                        "remaining_time": 0.1244985132,
                        "learn": [
                          0.3313927794,
                          0.874015748
                        ]
                      },
                      {
                        "passed_time": 1.395028078,
                        "iteration": 918,
                        "remaining_time": 0.1229567729,
                        "learn": [
                          0.3313018303,
                          0.874015748
                        ]
                      },
                      {
                        "passed_time": 1.396298364,
                        "iteration": 919,
                        "remaining_time": 0.121417249,
                        "learn": [
                          0.3311927096,
                          0.874015748
                        ]
                      },
                      {
                        "passed_time": 1.39755209,
                        "iteration": 920,
                        "remaining_time": 0.1198768893,
                        "learn": [
                          0.3311131738,
                          0.874015748
                        ]
                      },
                      {
                        "passed_time": 1.398812275,
                        "iteration": 921,
                        "remaining_time": 0.1183376979,
                        "learn": [
                          0.3310619032,
                          0.874015748
                        ]
                      },
                      {
                        "passed_time": 1.400058966,
                        "iteration": 922,
                        "remaining_time": 0.1167979852,
                        "learn": [
                          0.3310141718,
                          0.874015748
                        ]
                      },
                      {
                        "passed_time": 1.40133639,
                        "iteration": 923,
                        "remaining_time": 0.1152614347,
                        "learn": [
                          0.3309513958,
                          0.874015748
                        ]
                      },
                      {
                        "passed_time": 1.402577781,
                        "iteration": 924,
                        "remaining_time": 0.1137225228,
                        "learn": [
                          0.3308418805,
                          0.874015748
                        ]
                      },
                      {
                        "passed_time": 1.403850315,
                        "iteration": 925,
                        "remaining_time": 0.1121867422,
                        "learn": [
                          0.3307716168,
                          0.874015748
                        ]
                      },
                      {
                        "passed_time": 1.405152239,
                        "iteration": 926,
                        "remaining_time": 0.110653844,
                        "learn": [
                          0.3306479762,
                          0.874015748
                        ]
                      },
                      {
                        "passed_time": 1.40654027,
                        "iteration": 927,
                        "remaining_time": 0.1091281244,
                        "learn": [
                          0.3304962988,
                          0.874015748
                        ]
                      },
                      {
                        "passed_time": 1.407800216,
                        "iteration": 928,
                        "remaining_time": 0.1075929121,
                        "learn": [
                          0.3304335718,
                          0.874015748
                        ]
                      },
                      {
                        "passed_time": 1.409306333,
                        "iteration": 929,
                        "remaining_time": 0.1060768208,
                        "learn": [
                          0.3303145731,
                          0.874015748
                        ]
                      },
                      {
                        "passed_time": 1.410678504,
                        "iteration": 930,
                        "remaining_time": 0.1045508236,
                        "learn": [
                          0.3302641716,
                          0.874015748
                        ]
                      },
                      {
                        "passed_time": 1.412083452,
                        "iteration": 931,
                        "remaining_time": 0.103027548,
                        "learn": [
                          0.330203824,
                          0.874015748
                        ]
                      },
                      {
                        "passed_time": 1.41346188,
                        "iteration": 932,
                        "remaining_time": 0.1015026216,
                        "learn": [
                          0.3301715203,
                          0.874015748
                        ]
                      },
                      {
                        "passed_time": 1.41485839,
                        "iteration": 933,
                        "remaining_time": 0.09997928668,
                        "learn": [
                          0.3300632698,
                          0.874015748
                        ]
                      },
                      {
                        "passed_time": 1.416277734,
                        "iteration": 934,
                        "remaining_time": 0.0984578104,
                        "learn": [
                          0.3298862655,
                          0.874015748
                        ]
                      },
                      {
                        "passed_time": 1.417725171,
                        "iteration": 935,
                        "remaining_time": 0.09693847326,
                        "learn": [
                          0.329825273,
                          0.874015748
                        ]
                      },
                      {
                        "passed_time": 1.419172546,
                        "iteration": 936,
                        "remaining_time": 0.09541928534,
                        "learn": [
                          0.3297746679,
                          0.874015748
                        ]
                      },
                      {
                        "passed_time": 1.420543986,
                        "iteration": 937,
                        "remaining_time": 0.09389523146,
                        "learn": [
                          0.3296306487,
                          0.874015748
                        ]
                      },
                      {
                        "passed_time": 1.421975384,
                        "iteration": 938,
                        "remaining_time": 0.09237539771,
                        "learn": [
                          0.3295126912,
                          0.874015748
                        ]
                      },
                      {
                        "passed_time": 1.424481838,
                        "iteration": 939,
                        "remaining_time": 0.09092437264,
                        "learn": [
                          0.3294435727,
                          0.874015748
                        ]
                      },
                      {
                        "passed_time": 1.426217625,
                        "iteration": 940,
                        "remaining_time": 0.08942278413,
                        "learn": [
                          0.3293313417,
                          0.874015748
                        ]
                      },
                      {
                        "passed_time": 1.42821527,
                        "iteration": 941,
                        "remaining_time": 0.08793682129,
                        "learn": [
                          0.3292515744,
                          0.874015748
                        ]
                      },
                      {
                        "passed_time": 1.430908742,
                        "iteration": 942,
                        "remaining_time": 0.08649183273,
                        "learn": [
                          0.3291505824,
                          0.874015748
                        ]
                      },
                      {
                        "passed_time": 1.432970098,
                        "iteration": 943,
                        "remaining_time": 0.08500670072,
                        "learn": [
                          0.3290980292,
                          0.874015748
                        ]
                      },
                      {
                        "passed_time": 1.434417367,
                        "iteration": 944,
                        "remaining_time": 0.08348460866,
                        "learn": [
                          0.3290228017,
                          0.874015748
                        ]
                      },
                      {
                        "passed_time": 1.435958803,
                        "iteration": 945,
                        "remaining_time": 0.08196805004,
                        "learn": [
                          0.3289083176,
                          0.874015748
                        ]
                      },
                      {
                        "passed_time": 1.438496686,
                        "iteration": 946,
                        "remaining_time": 0.08050720627,
                        "learn": [
                          0.3288399112,
                          0.874015748
                        ]
                      },
                      {
                        "passed_time": 1.440573498,
                        "iteration": 947,
                        "remaining_time": 0.07901879945,
                        "learn": [
                          0.3287583135,
                          0.874015748
                        ]
                      },
                      {
                        "passed_time": 1.441904294,
                        "iteration": 948,
                        "remaining_time": 0.07748906112,
                        "learn": [
                          0.3286730418,
                          0.874015748
                        ]
                      },
                      {
                        "passed_time": 1.443192881,
                        "iteration": 949,
                        "remaining_time": 0.07595752007,
                        "learn": [
                          0.3286009868,
                          0.874015748
                        ]
                      },
                      {
                        "passed_time": 1.444465589,
                        "iteration": 950,
                        "remaining_time": 0.07442567178,
                        "learn": [
                          0.3285427176,
                          0.874015748
                        ]
                      },
                      {
                        "passed_time": 1.445751264,
                        "iteration": 951,
                        "remaining_time": 0.07289502172,
                        "learn": [
                          0.3285061901,
                          0.874015748
                        ]
                      },
                      {
                        "passed_time": 1.447067039,
                        "iteration": 952,
                        "remaining_time": 0.07136637025,
                        "learn": [
                          0.3284770935,
                          0.874015748
                        ]
                      },
                      {
                        "passed_time": 1.44837018,
                        "iteration": 953,
                        "remaining_time": 0.06983755583,
                        "learn": [
                          0.3283994853,
                          0.874015748
                        ]
                      },
                      {
                        "passed_time": 1.449791235,
                        "iteration": 954,
                        "remaining_time": 0.06831477024,
                        "learn": [
                          0.3283465514,
                          0.874015748
                        ]
                      },
                      {
                        "passed_time": 1.451237543,
                        "iteration": 955,
                        "remaining_time": 0.06679335974,
                        "learn": [
                          0.3281287879,
                          0.874015748
                        ]
                      },
                      {
                        "passed_time": 1.452645928,
                        "iteration": 956,
                        "remaining_time": 0.06527040221,
                        "learn": [
                          0.3280768995,
                          0.874015748
                        ]
                      },
                      {
                        "passed_time": 1.454077485,
                        "iteration": 957,
                        "remaining_time": 0.06374869975,
                        "learn": [
                          0.3279728876,
                          0.874015748
                        ]
                      },
                      {
                        "passed_time": 1.455559944,
                        "iteration": 958,
                        "remaining_time": 0.06222936155,
                        "learn": [
                          0.3279157307,
                          0.874015748
                        ]
                      },
                      {
                        "passed_time": 1.457179081,
                        "iteration": 959,
                        "remaining_time": 0.06071579503,
                        "learn": [
                          0.327741611,
                          0.874015748
                        ]
                      },
                      {
                        "passed_time": 1.458639187,
                        "iteration": 960,
                        "remaining_time": 0.05919555492,
                        "learn": [
                          0.3276667155,
                          0.874015748
                        ]
                      },
                      {
                        "passed_time": 1.460097923,
                        "iteration": 961,
                        "remaining_time": 0.05767538575,
                        "learn": [
                          0.3274888264,
                          0.874015748
                        ]
                      },
                      {
                        "passed_time": 1.461486666,
                        "iteration": 962,
                        "remaining_time": 0.05615265488,
                        "learn": [
                          0.3274203653,
                          0.874015748
                        ]
                      },
                      {
                        "passed_time": 1.462900547,
                        "iteration": 963,
                        "remaining_time": 0.05463114077,
                        "learn": [
                          0.3273211456,
                          0.874015748
                        ]
                      },
                      {
                        "passed_time": 1.464340351,
                        "iteration": 964,
                        "remaining_time": 0.05311078993,
                        "learn": [
                          0.3272787859,
                          0.874015748
                        ]
                      },
                      {
                        "passed_time": 1.465759389,
                        "iteration": 965,
                        "remaining_time": 0.05158987499,
                        "learn": [
                          0.3272286694,
                          0.874015748
                        ]
                      },
                      {
                        "passed_time": 1.467140624,
                        "iteration": 966,
                        "remaining_time": 0.05006788064,
                        "learn": [
                          0.3270584427,
                          0.874015748
                        ]
                      },
                      {
                        "passed_time": 1.468569509,
                        "iteration": 967,
                        "remaining_time": 0.04854775237,
                        "learn": [
                          0.3270224657,
                          0.874015748
                        ]
                      },
                      {
                        "passed_time": 1.469997304,
                        "iteration": 968,
                        "remaining_time": 0.04702777752,
                        "learn": [
                          0.3269308472,
                          0.874015748
                        ]
                      },
                      {
                        "passed_time": 1.471572325,
                        "iteration": 969,
                        "remaining_time": 0.04551254614,
                        "learn": [
                          0.3268822885,
                          0.874015748
                        ]
                      },
                      {
                        "passed_time": 1.473028133,
                        "iteration": 970,
                        "remaining_time": 0.04399363116,
                        "learn": [
                          0.3268292204,
                          0.874015748
                        ]
                      },
                      {
                        "passed_time": 1.474545519,
                        "iteration": 971,
                        "remaining_time": 0.04247661989,
                        "learn": [
                          0.3267810942,
                          0.874015748
                        ]
                      },
                      {
                        "passed_time": 1.476077483,
                        "iteration": 972,
                        "remaining_time": 0.04096001239,
                        "learn": [
                          0.3267136822,
                          0.874015748
                        ]
                      },
                      {
                        "passed_time": 1.477522235,
                        "iteration": 973,
                        "remaining_time": 0.03944104528,
                        "learn": [
                          0.3265406452,
                          0.874015748
                        ]
                      },
                      {
                        "passed_time": 1.478910388,
                        "iteration": 974,
                        "remaining_time": 0.03792077919,
                        "learn": [
                          0.3264484692,
                          0.874015748
                        ]
                      },
                      {
                        "passed_time": 1.480309538,
                        "iteration": 975,
                        "remaining_time": 0.03640105421,
                        "learn": [
                          0.326400719,
                          0.874015748
                        ]
                      },
                      {
                        "passed_time": 1.481694407,
                        "iteration": 976,
                        "remaining_time": 0.03488123988,
                        "learn": [
                          0.3263695097,
                          0.874015748
                        ]
                      },
                      {
                        "passed_time": 1.483117715,
                        "iteration": 977,
                        "remaining_time": 0.0333625662,
                        "learn": [
                          0.3262891153,
                          0.874015748
                        ]
                      },
                      {
                        "passed_time": 1.484523867,
                        "iteration": 978,
                        "remaining_time": 0.03184371932,
                        "learn": [
                          0.3261795208,
                          0.874015748
                        ]
                      },
                      {
                        "passed_time": 1.485911623,
                        "iteration": 979,
                        "remaining_time": 0.030324727,
                        "learn": [
                          0.3260830146,
                          0.874015748
                        ]
                      },
                      {
                        "passed_time": 1.487306077,
                        "iteration": 980,
                        "remaining_time": 0.02880613197,
                        "learn": [
                          0.3259451229,
                          0.874015748
                        ]
                      },
                      {
                        "passed_time": 1.488715441,
                        "iteration": 981,
                        "remaining_time": 0.02728806307,
                        "learn": [
                          0.3258997619,
                          0.874015748
                        ]
                      },
                      {
                        "passed_time": 1.49011824,
                        "iteration": 982,
                        "remaining_time": 0.02577010181,
                        "learn": [
                          0.3257148275,
                          0.874015748
                        ]
                      },
                      {
                        "passed_time": 1.491505572,
                        "iteration": 983,
                        "remaining_time": 0.02425212311,
                        "learn": [
                          0.3256117494,
                          0.874015748
                        ]
                      },
                      {
                        "passed_time": 1.492920988,
                        "iteration": 984,
                        "remaining_time": 0.02273483738,
                        "learn": [
                          0.3254602556,
                          0.874015748
                        ]
                      },
                      {
                        "passed_time": 1.494382394,
                        "iteration": 985,
                        "remaining_time": 0.02121841127,
                        "learn": [
                          0.3253963884,
                          0.874015748
                        ]
                      },
                      {
                        "passed_time": 1.495952513,
                        "iteration": 986,
                        "remaining_time": 0.01970352853,
                        "learn": [
                          0.3253370733,
                          0.874015748
                        ]
                      },
                      {
                        "passed_time": 1.497566371,
                        "iteration": 987,
                        "remaining_time": 0.01818906524,
                        "learn": [
                          0.3252530394,
                          0.874015748
                        ]
                      },
                      {
                        "passed_time": 1.499087452,
                        "iteration": 988,
                        "remaining_time": 0.01667336903,
                        "learn": [
                          0.3251366818,
                          0.874015748
                        ]
                      },
                      {
                        "passed_time": 1.500607667,
                        "iteration": 989,
                        "remaining_time": 0.0151576532,
                        "learn": [
                          0.3250742527,
                          0.874015748
                        ]
                      },
                      {
                        "passed_time": 1.502265648,
                        "iteration": 990,
                        "remaining_time": 0.01364317945,
                        "learn": [
                          0.3249033279,
                          0.874015748
                        ]
                      },
                      {
                        "passed_time": 1.503791783,
                        "iteration": 991,
                        "remaining_time": 0.01212735309,
                        "learn": [
                          0.324859996,
                          0.874015748
                        ]
                      },
                      {
                        "passed_time": 1.50550641,
                        "iteration": 992,
                        "remaining_time": 0.01061283471,
                        "learn": [
                          0.3247321696,
                          0.874015748
                        ]
                      },
                      {
                        "passed_time": 1.506977053,
                        "iteration": 993,
                        "remaining_time": 0.009096440967,
                        "learn": [
                          0.3246788058,
                          0.874015748
                        ]
                      },
                      {
                        "passed_time": 1.508461715,
                        "iteration": 994,
                        "remaining_time": 0.007580209621,
                        "learn": [
                          0.3246184373,
                          0.874015748
                        ]
                      },
                      {
                        "passed_time": 1.510001033,
                        "iteration": 995,
                        "remaining_time": 0.006064261178,
                        "learn": [
                          0.3245050129,
                          0.874015748
                        ]
                      },
                      {
                        "passed_time": 1.511588519,
                        "iteration": 996,
                        "remaining_time": 0.004548410791,
                        "learn": [
                          0.3243795756,
                          0.874015748
                        ]
                      },
                      {
                        "passed_time": 1.512394479,
                        "iteration": 997,
                        "remaining_time": 0.00303085066,
                        "learn": [
                          0.3243717798,
                          0.874015748
                        ]
                      },
                      {
                        "passed_time": 1.513928698,
                        "iteration": 998,
                        "remaining_time": 0.001515444142,
                        "learn": [
                          0.3242573426,
                          0.874015748
                        ]
                      },
                      {
                        "passed_time": 1.515323226,
                        "iteration": 999,
                        "remaining_time": 0,
                        "learn": [
                          0.3241693856,
                          0.874015748
                        ]
                      }
                    ]
                  },
                  "total_iterations": 1000,
                  "passed_iterations": 999
                },
                "path": "catboost_info",
                "name": "catboost_info"
              }
            },
            "_view_module": "catboost-widget",
            "_model_module_version": "^1.0.0",
            "_view_count": null,
            "_view_module_version": "^1.0.0",
            "layout": "IPY_MODEL_8aabedffb38e44f8903eccd7e2499691",
            "_model_module": "catboost-widget"
          }
        }
      }
    }
  },
  "cells": [
    {
      "cell_type": "markdown",
      "metadata": {
        "id": "view-in-github",
        "colab_type": "text"
      },
      "source": [
        "<a href=\"https://colab.research.google.com/github/supriyameduri9/CMPE255_Assignments/blob/main/GBM_Techniques.ipynb\" target=\"_parent\"><img src=\"https://colab.research.google.com/assets/colab-badge.svg\" alt=\"Open In Colab\"/></a>"
      ]
    },
    {
      "cell_type": "markdown",
      "source": [
        "Import Necessary Dependencies"
      ],
      "metadata": {
        "id": "nP5izqEt2Kcr"
      }
    },
    {
      "cell_type": "code",
      "source": [
        "pip install catboost"
      ],
      "metadata": {
        "colab": {
          "base_uri": "https://localhost:8080/"
        },
        "id": "UjGXuuyileJd",
        "outputId": "d91703ef-3883-497e-eba8-4887745016a4"
      },
      "execution_count": 23,
      "outputs": [
        {
          "output_type": "stream",
          "name": "stdout",
          "text": [
            "Collecting catboost\n",
            "  Downloading catboost-1.0.3-cp37-none-manylinux1_x86_64.whl (76.3 MB)\n",
            "\u001b[K     |████████████████████████████████| 76.3 MB 60 kB/s \n",
            "\u001b[?25hRequirement already satisfied: pandas>=0.24.0 in /usr/local/lib/python3.7/dist-packages (from catboost) (1.1.5)\n",
            "Requirement already satisfied: scipy in /usr/local/lib/python3.7/dist-packages (from catboost) (1.4.1)\n",
            "Requirement already satisfied: plotly in /usr/local/lib/python3.7/dist-packages (from catboost) (4.4.1)\n",
            "Requirement already satisfied: graphviz in /usr/local/lib/python3.7/dist-packages (from catboost) (0.10.1)\n",
            "Requirement already satisfied: numpy>=1.16.0 in /usr/local/lib/python3.7/dist-packages (from catboost) (1.19.5)\n",
            "Requirement already satisfied: matplotlib in /usr/local/lib/python3.7/dist-packages (from catboost) (3.2.2)\n",
            "Requirement already satisfied: six in /usr/local/lib/python3.7/dist-packages (from catboost) (1.15.0)\n",
            "Requirement already satisfied: python-dateutil>=2.7.3 in /usr/local/lib/python3.7/dist-packages (from pandas>=0.24.0->catboost) (2.8.2)\n",
            "Requirement already satisfied: pytz>=2017.2 in /usr/local/lib/python3.7/dist-packages (from pandas>=0.24.0->catboost) (2018.9)\n",
            "Requirement already satisfied: pyparsing!=2.0.4,!=2.1.2,!=2.1.6,>=2.0.1 in /usr/local/lib/python3.7/dist-packages (from matplotlib->catboost) (3.0.6)\n",
            "Requirement already satisfied: kiwisolver>=1.0.1 in /usr/local/lib/python3.7/dist-packages (from matplotlib->catboost) (1.3.2)\n",
            "Requirement already satisfied: cycler>=0.10 in /usr/local/lib/python3.7/dist-packages (from matplotlib->catboost) (0.11.0)\n",
            "Requirement already satisfied: retrying>=1.3.3 in /usr/local/lib/python3.7/dist-packages (from plotly->catboost) (1.3.3)\n",
            "Installing collected packages: catboost\n",
            "Successfully installed catboost-1.0.3\n"
          ]
        }
      ]
    },
    {
      "cell_type": "code",
      "execution_count": 102,
      "metadata": {
        "id": "PC4vCqd8eyPJ"
      },
      "outputs": [],
      "source": [
        "%matplotlib inline\n",
        "import numpy as np\n",
        "import pandas as pd\n",
        "import matplotlib.pyplot as plt\n",
        "import seaborn as sns\n",
        "plt.style.use('seaborn-whitegrid')\n",
        "\n",
        "from sklearn.preprocessing import OneHotEncoder,LabelEncoder, label_binarize\n",
        "import catboost\n",
        "from sklearn.model_selection import train_test_split\n",
        "from sklearn.ensemble import GradientBoostingClassifier\n",
        "from catboost import CatBoostClassifier\n",
        "import warnings\n",
        "warnings.filterwarnings('ignore')"
      ]
    },
    {
      "cell_type": "code",
      "source": [
        "from google.colab import drive\n",
        "drive._mount('/content/drive')"
      ],
      "metadata": {
        "colab": {
          "base_uri": "https://localhost:8080/"
        },
        "id": "IM9Ex_SwfMYd",
        "outputId": "c8ca33f1-24ce-448b-cb51-143fde8e7fbf"
      },
      "execution_count": 2,
      "outputs": [
        {
          "output_type": "stream",
          "name": "stdout",
          "text": [
            "Mounted at /content/drive\n"
          ]
        }
      ]
    },
    {
      "cell_type": "markdown",
      "source": [
        "Used [Titanic dataset](https://www.kaggle.com/c/titanic/data) from kaggle"
      ],
      "metadata": {
        "id": "zWPA85r92k_4"
      }
    },
    {
      "cell_type": "code",
      "source": [
        "train= pd.read_csv('/content/drive/MyDrive/train.csv')\n",
        "test=pd.read_csv('/content/drive/MyDrive/test.csv')\n",
        "gender_submission=pd.read_csv('/content/drive/MyDrive/gender_submission.csv') # example of what a submission should look like"
      ],
      "metadata": {
        "id": "NiO0gTWefoIG"
      },
      "execution_count": 3,
      "outputs": []
    },
    {
      "cell_type": "code",
      "source": [
        "train.head(20)"
      ],
      "metadata": {
        "colab": {
          "base_uri": "https://localhost:8080/",
          "height": 677
        },
        "id": "ZV8ke8iNf-39",
        "outputId": "98f4e04b-1105-4b21-e7cb-31bdff415a94"
      },
      "execution_count": 4,
      "outputs": [
        {
          "output_type": "execute_result",
          "data": {
            "text/html": [
              "<div>\n",
              "<style scoped>\n",
              "    .dataframe tbody tr th:only-of-type {\n",
              "        vertical-align: middle;\n",
              "    }\n",
              "\n",
              "    .dataframe tbody tr th {\n",
              "        vertical-align: top;\n",
              "    }\n",
              "\n",
              "    .dataframe thead th {\n",
              "        text-align: right;\n",
              "    }\n",
              "</style>\n",
              "<table border=\"1\" class=\"dataframe\">\n",
              "  <thead>\n",
              "    <tr style=\"text-align: right;\">\n",
              "      <th></th>\n",
              "      <th>PassengerId</th>\n",
              "      <th>Survived</th>\n",
              "      <th>Pclass</th>\n",
              "      <th>Name</th>\n",
              "      <th>Sex</th>\n",
              "      <th>Age</th>\n",
              "      <th>SibSp</th>\n",
              "      <th>Parch</th>\n",
              "      <th>Ticket</th>\n",
              "      <th>Fare</th>\n",
              "      <th>Cabin</th>\n",
              "      <th>Embarked</th>\n",
              "    </tr>\n",
              "  </thead>\n",
              "  <tbody>\n",
              "    <tr>\n",
              "      <th>0</th>\n",
              "      <td>1</td>\n",
              "      <td>0</td>\n",
              "      <td>3</td>\n",
              "      <td>Braund, Mr. Owen Harris</td>\n",
              "      <td>male</td>\n",
              "      <td>22.0</td>\n",
              "      <td>1</td>\n",
              "      <td>0</td>\n",
              "      <td>A/5 21171</td>\n",
              "      <td>7.2500</td>\n",
              "      <td>NaN</td>\n",
              "      <td>S</td>\n",
              "    </tr>\n",
              "    <tr>\n",
              "      <th>1</th>\n",
              "      <td>2</td>\n",
              "      <td>1</td>\n",
              "      <td>1</td>\n",
              "      <td>Cumings, Mrs. John Bradley (Florence Briggs Th...</td>\n",
              "      <td>female</td>\n",
              "      <td>38.0</td>\n",
              "      <td>1</td>\n",
              "      <td>0</td>\n",
              "      <td>PC 17599</td>\n",
              "      <td>71.2833</td>\n",
              "      <td>C85</td>\n",
              "      <td>C</td>\n",
              "    </tr>\n",
              "    <tr>\n",
              "      <th>2</th>\n",
              "      <td>3</td>\n",
              "      <td>1</td>\n",
              "      <td>3</td>\n",
              "      <td>Heikkinen, Miss. Laina</td>\n",
              "      <td>female</td>\n",
              "      <td>26.0</td>\n",
              "      <td>0</td>\n",
              "      <td>0</td>\n",
              "      <td>STON/O2. 3101282</td>\n",
              "      <td>7.9250</td>\n",
              "      <td>NaN</td>\n",
              "      <td>S</td>\n",
              "    </tr>\n",
              "    <tr>\n",
              "      <th>3</th>\n",
              "      <td>4</td>\n",
              "      <td>1</td>\n",
              "      <td>1</td>\n",
              "      <td>Futrelle, Mrs. Jacques Heath (Lily May Peel)</td>\n",
              "      <td>female</td>\n",
              "      <td>35.0</td>\n",
              "      <td>1</td>\n",
              "      <td>0</td>\n",
              "      <td>113803</td>\n",
              "      <td>53.1000</td>\n",
              "      <td>C123</td>\n",
              "      <td>S</td>\n",
              "    </tr>\n",
              "    <tr>\n",
              "      <th>4</th>\n",
              "      <td>5</td>\n",
              "      <td>0</td>\n",
              "      <td>3</td>\n",
              "      <td>Allen, Mr. William Henry</td>\n",
              "      <td>male</td>\n",
              "      <td>35.0</td>\n",
              "      <td>0</td>\n",
              "      <td>0</td>\n",
              "      <td>373450</td>\n",
              "      <td>8.0500</td>\n",
              "      <td>NaN</td>\n",
              "      <td>S</td>\n",
              "    </tr>\n",
              "    <tr>\n",
              "      <th>5</th>\n",
              "      <td>6</td>\n",
              "      <td>0</td>\n",
              "      <td>3</td>\n",
              "      <td>Moran, Mr. James</td>\n",
              "      <td>male</td>\n",
              "      <td>NaN</td>\n",
              "      <td>0</td>\n",
              "      <td>0</td>\n",
              "      <td>330877</td>\n",
              "      <td>8.4583</td>\n",
              "      <td>NaN</td>\n",
              "      <td>Q</td>\n",
              "    </tr>\n",
              "    <tr>\n",
              "      <th>6</th>\n",
              "      <td>7</td>\n",
              "      <td>0</td>\n",
              "      <td>1</td>\n",
              "      <td>McCarthy, Mr. Timothy J</td>\n",
              "      <td>male</td>\n",
              "      <td>54.0</td>\n",
              "      <td>0</td>\n",
              "      <td>0</td>\n",
              "      <td>17463</td>\n",
              "      <td>51.8625</td>\n",
              "      <td>E46</td>\n",
              "      <td>S</td>\n",
              "    </tr>\n",
              "    <tr>\n",
              "      <th>7</th>\n",
              "      <td>8</td>\n",
              "      <td>0</td>\n",
              "      <td>3</td>\n",
              "      <td>Palsson, Master. Gosta Leonard</td>\n",
              "      <td>male</td>\n",
              "      <td>2.0</td>\n",
              "      <td>3</td>\n",
              "      <td>1</td>\n",
              "      <td>349909</td>\n",
              "      <td>21.0750</td>\n",
              "      <td>NaN</td>\n",
              "      <td>S</td>\n",
              "    </tr>\n",
              "    <tr>\n",
              "      <th>8</th>\n",
              "      <td>9</td>\n",
              "      <td>1</td>\n",
              "      <td>3</td>\n",
              "      <td>Johnson, Mrs. Oscar W (Elisabeth Vilhelmina Berg)</td>\n",
              "      <td>female</td>\n",
              "      <td>27.0</td>\n",
              "      <td>0</td>\n",
              "      <td>2</td>\n",
              "      <td>347742</td>\n",
              "      <td>11.1333</td>\n",
              "      <td>NaN</td>\n",
              "      <td>S</td>\n",
              "    </tr>\n",
              "    <tr>\n",
              "      <th>9</th>\n",
              "      <td>10</td>\n",
              "      <td>1</td>\n",
              "      <td>2</td>\n",
              "      <td>Nasser, Mrs. Nicholas (Adele Achem)</td>\n",
              "      <td>female</td>\n",
              "      <td>14.0</td>\n",
              "      <td>1</td>\n",
              "      <td>0</td>\n",
              "      <td>237736</td>\n",
              "      <td>30.0708</td>\n",
              "      <td>NaN</td>\n",
              "      <td>C</td>\n",
              "    </tr>\n",
              "    <tr>\n",
              "      <th>10</th>\n",
              "      <td>11</td>\n",
              "      <td>1</td>\n",
              "      <td>3</td>\n",
              "      <td>Sandstrom, Miss. Marguerite Rut</td>\n",
              "      <td>female</td>\n",
              "      <td>4.0</td>\n",
              "      <td>1</td>\n",
              "      <td>1</td>\n",
              "      <td>PP 9549</td>\n",
              "      <td>16.7000</td>\n",
              "      <td>G6</td>\n",
              "      <td>S</td>\n",
              "    </tr>\n",
              "    <tr>\n",
              "      <th>11</th>\n",
              "      <td>12</td>\n",
              "      <td>1</td>\n",
              "      <td>1</td>\n",
              "      <td>Bonnell, Miss. Elizabeth</td>\n",
              "      <td>female</td>\n",
              "      <td>58.0</td>\n",
              "      <td>0</td>\n",
              "      <td>0</td>\n",
              "      <td>113783</td>\n",
              "      <td>26.5500</td>\n",
              "      <td>C103</td>\n",
              "      <td>S</td>\n",
              "    </tr>\n",
              "    <tr>\n",
              "      <th>12</th>\n",
              "      <td>13</td>\n",
              "      <td>0</td>\n",
              "      <td>3</td>\n",
              "      <td>Saundercock, Mr. William Henry</td>\n",
              "      <td>male</td>\n",
              "      <td>20.0</td>\n",
              "      <td>0</td>\n",
              "      <td>0</td>\n",
              "      <td>A/5. 2151</td>\n",
              "      <td>8.0500</td>\n",
              "      <td>NaN</td>\n",
              "      <td>S</td>\n",
              "    </tr>\n",
              "    <tr>\n",
              "      <th>13</th>\n",
              "      <td>14</td>\n",
              "      <td>0</td>\n",
              "      <td>3</td>\n",
              "      <td>Andersson, Mr. Anders Johan</td>\n",
              "      <td>male</td>\n",
              "      <td>39.0</td>\n",
              "      <td>1</td>\n",
              "      <td>5</td>\n",
              "      <td>347082</td>\n",
              "      <td>31.2750</td>\n",
              "      <td>NaN</td>\n",
              "      <td>S</td>\n",
              "    </tr>\n",
              "    <tr>\n",
              "      <th>14</th>\n",
              "      <td>15</td>\n",
              "      <td>0</td>\n",
              "      <td>3</td>\n",
              "      <td>Vestrom, Miss. Hulda Amanda Adolfina</td>\n",
              "      <td>female</td>\n",
              "      <td>14.0</td>\n",
              "      <td>0</td>\n",
              "      <td>0</td>\n",
              "      <td>350406</td>\n",
              "      <td>7.8542</td>\n",
              "      <td>NaN</td>\n",
              "      <td>S</td>\n",
              "    </tr>\n",
              "    <tr>\n",
              "      <th>15</th>\n",
              "      <td>16</td>\n",
              "      <td>1</td>\n",
              "      <td>2</td>\n",
              "      <td>Hewlett, Mrs. (Mary D Kingcome)</td>\n",
              "      <td>female</td>\n",
              "      <td>55.0</td>\n",
              "      <td>0</td>\n",
              "      <td>0</td>\n",
              "      <td>248706</td>\n",
              "      <td>16.0000</td>\n",
              "      <td>NaN</td>\n",
              "      <td>S</td>\n",
              "    </tr>\n",
              "    <tr>\n",
              "      <th>16</th>\n",
              "      <td>17</td>\n",
              "      <td>0</td>\n",
              "      <td>3</td>\n",
              "      <td>Rice, Master. Eugene</td>\n",
              "      <td>male</td>\n",
              "      <td>2.0</td>\n",
              "      <td>4</td>\n",
              "      <td>1</td>\n",
              "      <td>382652</td>\n",
              "      <td>29.1250</td>\n",
              "      <td>NaN</td>\n",
              "      <td>Q</td>\n",
              "    </tr>\n",
              "    <tr>\n",
              "      <th>17</th>\n",
              "      <td>18</td>\n",
              "      <td>1</td>\n",
              "      <td>2</td>\n",
              "      <td>Williams, Mr. Charles Eugene</td>\n",
              "      <td>male</td>\n",
              "      <td>NaN</td>\n",
              "      <td>0</td>\n",
              "      <td>0</td>\n",
              "      <td>244373</td>\n",
              "      <td>13.0000</td>\n",
              "      <td>NaN</td>\n",
              "      <td>S</td>\n",
              "    </tr>\n",
              "    <tr>\n",
              "      <th>18</th>\n",
              "      <td>19</td>\n",
              "      <td>0</td>\n",
              "      <td>3</td>\n",
              "      <td>Vander Planke, Mrs. Julius (Emelia Maria Vande...</td>\n",
              "      <td>female</td>\n",
              "      <td>31.0</td>\n",
              "      <td>1</td>\n",
              "      <td>0</td>\n",
              "      <td>345763</td>\n",
              "      <td>18.0000</td>\n",
              "      <td>NaN</td>\n",
              "      <td>S</td>\n",
              "    </tr>\n",
              "    <tr>\n",
              "      <th>19</th>\n",
              "      <td>20</td>\n",
              "      <td>1</td>\n",
              "      <td>3</td>\n",
              "      <td>Masselmani, Mrs. Fatima</td>\n",
              "      <td>female</td>\n",
              "      <td>NaN</td>\n",
              "      <td>0</td>\n",
              "      <td>0</td>\n",
              "      <td>2649</td>\n",
              "      <td>7.2250</td>\n",
              "      <td>NaN</td>\n",
              "      <td>C</td>\n",
              "    </tr>\n",
              "  </tbody>\n",
              "</table>\n",
              "</div>"
            ],
            "text/plain": [
              "    PassengerId  Survived  Pclass  ...     Fare Cabin  Embarked\n",
              "0             1         0       3  ...   7.2500   NaN         S\n",
              "1             2         1       1  ...  71.2833   C85         C\n",
              "2             3         1       3  ...   7.9250   NaN         S\n",
              "3             4         1       1  ...  53.1000  C123         S\n",
              "4             5         0       3  ...   8.0500   NaN         S\n",
              "5             6         0       3  ...   8.4583   NaN         Q\n",
              "6             7         0       1  ...  51.8625   E46         S\n",
              "7             8         0       3  ...  21.0750   NaN         S\n",
              "8             9         1       3  ...  11.1333   NaN         S\n",
              "9            10         1       2  ...  30.0708   NaN         C\n",
              "10           11         1       3  ...  16.7000    G6         S\n",
              "11           12         1       1  ...  26.5500  C103         S\n",
              "12           13         0       3  ...   8.0500   NaN         S\n",
              "13           14         0       3  ...  31.2750   NaN         S\n",
              "14           15         0       3  ...   7.8542   NaN         S\n",
              "15           16         1       2  ...  16.0000   NaN         S\n",
              "16           17         0       3  ...  29.1250   NaN         Q\n",
              "17           18         1       2  ...  13.0000   NaN         S\n",
              "18           19         0       3  ...  18.0000   NaN         S\n",
              "19           20         1       3  ...   7.2250   NaN         C\n",
              "\n",
              "[20 rows x 12 columns]"
            ]
          },
          "metadata": {},
          "execution_count": 4
        }
      ]
    },
    {
      "cell_type": "code",
      "source": [
        "gender_submission.head()"
      ],
      "metadata": {
        "colab": {
          "base_uri": "https://localhost:8080/",
          "height": 206
        },
        "id": "uf25Wif1gDqh",
        "outputId": "bfe5a246-0ccd-4ff1-c625-847ff01e4713"
      },
      "execution_count": 5,
      "outputs": [
        {
          "output_type": "execute_result",
          "data": {
            "text/html": [
              "<div>\n",
              "<style scoped>\n",
              "    .dataframe tbody tr th:only-of-type {\n",
              "        vertical-align: middle;\n",
              "    }\n",
              "\n",
              "    .dataframe tbody tr th {\n",
              "        vertical-align: top;\n",
              "    }\n",
              "\n",
              "    .dataframe thead th {\n",
              "        text-align: right;\n",
              "    }\n",
              "</style>\n",
              "<table border=\"1\" class=\"dataframe\">\n",
              "  <thead>\n",
              "    <tr style=\"text-align: right;\">\n",
              "      <th></th>\n",
              "      <th>PassengerId</th>\n",
              "      <th>Survived</th>\n",
              "    </tr>\n",
              "  </thead>\n",
              "  <tbody>\n",
              "    <tr>\n",
              "      <th>0</th>\n",
              "      <td>892</td>\n",
              "      <td>0</td>\n",
              "    </tr>\n",
              "    <tr>\n",
              "      <th>1</th>\n",
              "      <td>893</td>\n",
              "      <td>1</td>\n",
              "    </tr>\n",
              "    <tr>\n",
              "      <th>2</th>\n",
              "      <td>894</td>\n",
              "      <td>0</td>\n",
              "    </tr>\n",
              "    <tr>\n",
              "      <th>3</th>\n",
              "      <td>895</td>\n",
              "      <td>0</td>\n",
              "    </tr>\n",
              "    <tr>\n",
              "      <th>4</th>\n",
              "      <td>896</td>\n",
              "      <td>1</td>\n",
              "    </tr>\n",
              "  </tbody>\n",
              "</table>\n",
              "</div>"
            ],
            "text/plain": [
              "   PassengerId  Survived\n",
              "0          892         0\n",
              "1          893         1\n",
              "2          894         0\n",
              "3          895         0\n",
              "4          896         1"
            ]
          },
          "metadata": {},
          "execution_count": 5
        }
      ]
    },
    {
      "cell_type": "code",
      "source": [
        "test.head()"
      ],
      "metadata": {
        "colab": {
          "base_uri": "https://localhost:8080/",
          "height": 206
        },
        "id": "yljx4fPsgIjP",
        "outputId": "8d70bae0-85db-4da6-996a-d3076fdc9a72"
      },
      "execution_count": 6,
      "outputs": [
        {
          "output_type": "execute_result",
          "data": {
            "text/html": [
              "<div>\n",
              "<style scoped>\n",
              "    .dataframe tbody tr th:only-of-type {\n",
              "        vertical-align: middle;\n",
              "    }\n",
              "\n",
              "    .dataframe tbody tr th {\n",
              "        vertical-align: top;\n",
              "    }\n",
              "\n",
              "    .dataframe thead th {\n",
              "        text-align: right;\n",
              "    }\n",
              "</style>\n",
              "<table border=\"1\" class=\"dataframe\">\n",
              "  <thead>\n",
              "    <tr style=\"text-align: right;\">\n",
              "      <th></th>\n",
              "      <th>PassengerId</th>\n",
              "      <th>Pclass</th>\n",
              "      <th>Name</th>\n",
              "      <th>Sex</th>\n",
              "      <th>Age</th>\n",
              "      <th>SibSp</th>\n",
              "      <th>Parch</th>\n",
              "      <th>Ticket</th>\n",
              "      <th>Fare</th>\n",
              "      <th>Cabin</th>\n",
              "      <th>Embarked</th>\n",
              "    </tr>\n",
              "  </thead>\n",
              "  <tbody>\n",
              "    <tr>\n",
              "      <th>0</th>\n",
              "      <td>892</td>\n",
              "      <td>3</td>\n",
              "      <td>Kelly, Mr. James</td>\n",
              "      <td>male</td>\n",
              "      <td>34.5</td>\n",
              "      <td>0</td>\n",
              "      <td>0</td>\n",
              "      <td>330911</td>\n",
              "      <td>7.8292</td>\n",
              "      <td>NaN</td>\n",
              "      <td>Q</td>\n",
              "    </tr>\n",
              "    <tr>\n",
              "      <th>1</th>\n",
              "      <td>893</td>\n",
              "      <td>3</td>\n",
              "      <td>Wilkes, Mrs. James (Ellen Needs)</td>\n",
              "      <td>female</td>\n",
              "      <td>47.0</td>\n",
              "      <td>1</td>\n",
              "      <td>0</td>\n",
              "      <td>363272</td>\n",
              "      <td>7.0000</td>\n",
              "      <td>NaN</td>\n",
              "      <td>S</td>\n",
              "    </tr>\n",
              "    <tr>\n",
              "      <th>2</th>\n",
              "      <td>894</td>\n",
              "      <td>2</td>\n",
              "      <td>Myles, Mr. Thomas Francis</td>\n",
              "      <td>male</td>\n",
              "      <td>62.0</td>\n",
              "      <td>0</td>\n",
              "      <td>0</td>\n",
              "      <td>240276</td>\n",
              "      <td>9.6875</td>\n",
              "      <td>NaN</td>\n",
              "      <td>Q</td>\n",
              "    </tr>\n",
              "    <tr>\n",
              "      <th>3</th>\n",
              "      <td>895</td>\n",
              "      <td>3</td>\n",
              "      <td>Wirz, Mr. Albert</td>\n",
              "      <td>male</td>\n",
              "      <td>27.0</td>\n",
              "      <td>0</td>\n",
              "      <td>0</td>\n",
              "      <td>315154</td>\n",
              "      <td>8.6625</td>\n",
              "      <td>NaN</td>\n",
              "      <td>S</td>\n",
              "    </tr>\n",
              "    <tr>\n",
              "      <th>4</th>\n",
              "      <td>896</td>\n",
              "      <td>3</td>\n",
              "      <td>Hirvonen, Mrs. Alexander (Helga E Lindqvist)</td>\n",
              "      <td>female</td>\n",
              "      <td>22.0</td>\n",
              "      <td>1</td>\n",
              "      <td>1</td>\n",
              "      <td>3101298</td>\n",
              "      <td>12.2875</td>\n",
              "      <td>NaN</td>\n",
              "      <td>S</td>\n",
              "    </tr>\n",
              "  </tbody>\n",
              "</table>\n",
              "</div>"
            ],
            "text/plain": [
              "   PassengerId  Pclass  ... Cabin Embarked\n",
              "0          892       3  ...   NaN        Q\n",
              "1          893       3  ...   NaN        S\n",
              "2          894       2  ...   NaN        Q\n",
              "3          895       3  ...   NaN        S\n",
              "4          896       3  ...   NaN        S\n",
              "\n",
              "[5 rows x 11 columns]"
            ]
          },
          "metadata": {},
          "execution_count": 6
        }
      ]
    },
    {
      "cell_type": "markdown",
      "source": [
        "Created a new dataframe to select the necessary features"
      ],
      "metadata": {
        "id": "pRCZjQPM2xbu"
      }
    },
    {
      "cell_type": "code",
      "source": [
        "df = pd.DataFrame()"
      ],
      "metadata": {
        "id": "78ts2HXHgaTh"
      },
      "execution_count": 8,
      "outputs": []
    },
    {
      "cell_type": "code",
      "source": [
        "df['Survived'] = train['Survived']\n",
        "df['Pclass']= train['Pclass']\n",
        "df['Sex']=LabelEncoder().fit_transform(train['Sex'])\n",
        "df['SibSp'] = train['SibSp']\n",
        "df['Parch']= train['Parch']\n",
        "df['Fare']= train['Fare']\n",
        "df['Embarked'] = train['Embarked']"
      ],
      "metadata": {
        "id": "gN0J8cdxhn__"
      },
      "execution_count": 9,
      "outputs": []
    },
    {
      "cell_type": "code",
      "source": [
        "df"
      ],
      "metadata": {
        "colab": {
          "base_uri": "https://localhost:8080/",
          "height": 423
        },
        "id": "tUVTdR83iZkD",
        "outputId": "7bf3e05c-940c-4aa2-ccb3-b019c08bca0c"
      },
      "execution_count": 10,
      "outputs": [
        {
          "output_type": "execute_result",
          "data": {
            "text/html": [
              "<div>\n",
              "<style scoped>\n",
              "    .dataframe tbody tr th:only-of-type {\n",
              "        vertical-align: middle;\n",
              "    }\n",
              "\n",
              "    .dataframe tbody tr th {\n",
              "        vertical-align: top;\n",
              "    }\n",
              "\n",
              "    .dataframe thead th {\n",
              "        text-align: right;\n",
              "    }\n",
              "</style>\n",
              "<table border=\"1\" class=\"dataframe\">\n",
              "  <thead>\n",
              "    <tr style=\"text-align: right;\">\n",
              "      <th></th>\n",
              "      <th>Survived</th>\n",
              "      <th>Pclass</th>\n",
              "      <th>Sex</th>\n",
              "      <th>SibSp</th>\n",
              "      <th>Parch</th>\n",
              "      <th>Fare</th>\n",
              "      <th>Embarked</th>\n",
              "    </tr>\n",
              "  </thead>\n",
              "  <tbody>\n",
              "    <tr>\n",
              "      <th>0</th>\n",
              "      <td>0</td>\n",
              "      <td>3</td>\n",
              "      <td>1</td>\n",
              "      <td>1</td>\n",
              "      <td>0</td>\n",
              "      <td>7.2500</td>\n",
              "      <td>S</td>\n",
              "    </tr>\n",
              "    <tr>\n",
              "      <th>1</th>\n",
              "      <td>1</td>\n",
              "      <td>1</td>\n",
              "      <td>0</td>\n",
              "      <td>1</td>\n",
              "      <td>0</td>\n",
              "      <td>71.2833</td>\n",
              "      <td>C</td>\n",
              "    </tr>\n",
              "    <tr>\n",
              "      <th>2</th>\n",
              "      <td>1</td>\n",
              "      <td>3</td>\n",
              "      <td>0</td>\n",
              "      <td>0</td>\n",
              "      <td>0</td>\n",
              "      <td>7.9250</td>\n",
              "      <td>S</td>\n",
              "    </tr>\n",
              "    <tr>\n",
              "      <th>3</th>\n",
              "      <td>1</td>\n",
              "      <td>1</td>\n",
              "      <td>0</td>\n",
              "      <td>1</td>\n",
              "      <td>0</td>\n",
              "      <td>53.1000</td>\n",
              "      <td>S</td>\n",
              "    </tr>\n",
              "    <tr>\n",
              "      <th>4</th>\n",
              "      <td>0</td>\n",
              "      <td>3</td>\n",
              "      <td>1</td>\n",
              "      <td>0</td>\n",
              "      <td>0</td>\n",
              "      <td>8.0500</td>\n",
              "      <td>S</td>\n",
              "    </tr>\n",
              "    <tr>\n",
              "      <th>...</th>\n",
              "      <td>...</td>\n",
              "      <td>...</td>\n",
              "      <td>...</td>\n",
              "      <td>...</td>\n",
              "      <td>...</td>\n",
              "      <td>...</td>\n",
              "      <td>...</td>\n",
              "    </tr>\n",
              "    <tr>\n",
              "      <th>886</th>\n",
              "      <td>0</td>\n",
              "      <td>2</td>\n",
              "      <td>1</td>\n",
              "      <td>0</td>\n",
              "      <td>0</td>\n",
              "      <td>13.0000</td>\n",
              "      <td>S</td>\n",
              "    </tr>\n",
              "    <tr>\n",
              "      <th>887</th>\n",
              "      <td>1</td>\n",
              "      <td>1</td>\n",
              "      <td>0</td>\n",
              "      <td>0</td>\n",
              "      <td>0</td>\n",
              "      <td>30.0000</td>\n",
              "      <td>S</td>\n",
              "    </tr>\n",
              "    <tr>\n",
              "      <th>888</th>\n",
              "      <td>0</td>\n",
              "      <td>3</td>\n",
              "      <td>0</td>\n",
              "      <td>1</td>\n",
              "      <td>2</td>\n",
              "      <td>23.4500</td>\n",
              "      <td>S</td>\n",
              "    </tr>\n",
              "    <tr>\n",
              "      <th>889</th>\n",
              "      <td>1</td>\n",
              "      <td>1</td>\n",
              "      <td>1</td>\n",
              "      <td>0</td>\n",
              "      <td>0</td>\n",
              "      <td>30.0000</td>\n",
              "      <td>C</td>\n",
              "    </tr>\n",
              "    <tr>\n",
              "      <th>890</th>\n",
              "      <td>0</td>\n",
              "      <td>3</td>\n",
              "      <td>1</td>\n",
              "      <td>0</td>\n",
              "      <td>0</td>\n",
              "      <td>7.7500</td>\n",
              "      <td>Q</td>\n",
              "    </tr>\n",
              "  </tbody>\n",
              "</table>\n",
              "<p>891 rows × 7 columns</p>\n",
              "</div>"
            ],
            "text/plain": [
              "     Survived  Pclass  Sex  SibSp  Parch     Fare Embarked\n",
              "0           0       3    1      1      0   7.2500        S\n",
              "1           1       1    0      1      0  71.2833        C\n",
              "2           1       3    0      0      0   7.9250        S\n",
              "3           1       1    0      1      0  53.1000        S\n",
              "4           0       3    1      0      0   8.0500        S\n",
              "..        ...     ...  ...    ...    ...      ...      ...\n",
              "886         0       2    1      0      0  13.0000        S\n",
              "887         1       1    0      0      0  30.0000        S\n",
              "888         0       3    0      1      2  23.4500        S\n",
              "889         1       1    1      0      0  30.0000        C\n",
              "890         0       3    1      0      0   7.7500        Q\n",
              "\n",
              "[891 rows x 7 columns]"
            ]
          },
          "metadata": {},
          "execution_count": 10
        }
      ]
    },
    {
      "cell_type": "code",
      "source": [
        "df = df.dropna(subset=['Embarked'])\n",
        "df"
      ],
      "metadata": {
        "colab": {
          "base_uri": "https://localhost:8080/",
          "height": 423
        },
        "id": "2-05b-M6icKJ",
        "outputId": "89d8fb91-310e-4bc6-b465-176c8ab22663"
      },
      "execution_count": 12,
      "outputs": [
        {
          "output_type": "execute_result",
          "data": {
            "text/html": [
              "<div>\n",
              "<style scoped>\n",
              "    .dataframe tbody tr th:only-of-type {\n",
              "        vertical-align: middle;\n",
              "    }\n",
              "\n",
              "    .dataframe tbody tr th {\n",
              "        vertical-align: top;\n",
              "    }\n",
              "\n",
              "    .dataframe thead th {\n",
              "        text-align: right;\n",
              "    }\n",
              "</style>\n",
              "<table border=\"1\" class=\"dataframe\">\n",
              "  <thead>\n",
              "    <tr style=\"text-align: right;\">\n",
              "      <th></th>\n",
              "      <th>Survived</th>\n",
              "      <th>Pclass</th>\n",
              "      <th>Sex</th>\n",
              "      <th>SibSp</th>\n",
              "      <th>Parch</th>\n",
              "      <th>Fare</th>\n",
              "      <th>Embarked</th>\n",
              "    </tr>\n",
              "  </thead>\n",
              "  <tbody>\n",
              "    <tr>\n",
              "      <th>0</th>\n",
              "      <td>0</td>\n",
              "      <td>3</td>\n",
              "      <td>1</td>\n",
              "      <td>1</td>\n",
              "      <td>0</td>\n",
              "      <td>7.2500</td>\n",
              "      <td>S</td>\n",
              "    </tr>\n",
              "    <tr>\n",
              "      <th>1</th>\n",
              "      <td>1</td>\n",
              "      <td>1</td>\n",
              "      <td>0</td>\n",
              "      <td>1</td>\n",
              "      <td>0</td>\n",
              "      <td>71.2833</td>\n",
              "      <td>C</td>\n",
              "    </tr>\n",
              "    <tr>\n",
              "      <th>2</th>\n",
              "      <td>1</td>\n",
              "      <td>3</td>\n",
              "      <td>0</td>\n",
              "      <td>0</td>\n",
              "      <td>0</td>\n",
              "      <td>7.9250</td>\n",
              "      <td>S</td>\n",
              "    </tr>\n",
              "    <tr>\n",
              "      <th>3</th>\n",
              "      <td>1</td>\n",
              "      <td>1</td>\n",
              "      <td>0</td>\n",
              "      <td>1</td>\n",
              "      <td>0</td>\n",
              "      <td>53.1000</td>\n",
              "      <td>S</td>\n",
              "    </tr>\n",
              "    <tr>\n",
              "      <th>4</th>\n",
              "      <td>0</td>\n",
              "      <td>3</td>\n",
              "      <td>1</td>\n",
              "      <td>0</td>\n",
              "      <td>0</td>\n",
              "      <td>8.0500</td>\n",
              "      <td>S</td>\n",
              "    </tr>\n",
              "    <tr>\n",
              "      <th>...</th>\n",
              "      <td>...</td>\n",
              "      <td>...</td>\n",
              "      <td>...</td>\n",
              "      <td>...</td>\n",
              "      <td>...</td>\n",
              "      <td>...</td>\n",
              "      <td>...</td>\n",
              "    </tr>\n",
              "    <tr>\n",
              "      <th>886</th>\n",
              "      <td>0</td>\n",
              "      <td>2</td>\n",
              "      <td>1</td>\n",
              "      <td>0</td>\n",
              "      <td>0</td>\n",
              "      <td>13.0000</td>\n",
              "      <td>S</td>\n",
              "    </tr>\n",
              "    <tr>\n",
              "      <th>887</th>\n",
              "      <td>1</td>\n",
              "      <td>1</td>\n",
              "      <td>0</td>\n",
              "      <td>0</td>\n",
              "      <td>0</td>\n",
              "      <td>30.0000</td>\n",
              "      <td>S</td>\n",
              "    </tr>\n",
              "    <tr>\n",
              "      <th>888</th>\n",
              "      <td>0</td>\n",
              "      <td>3</td>\n",
              "      <td>0</td>\n",
              "      <td>1</td>\n",
              "      <td>2</td>\n",
              "      <td>23.4500</td>\n",
              "      <td>S</td>\n",
              "    </tr>\n",
              "    <tr>\n",
              "      <th>889</th>\n",
              "      <td>1</td>\n",
              "      <td>1</td>\n",
              "      <td>1</td>\n",
              "      <td>0</td>\n",
              "      <td>0</td>\n",
              "      <td>30.0000</td>\n",
              "      <td>C</td>\n",
              "    </tr>\n",
              "    <tr>\n",
              "      <th>890</th>\n",
              "      <td>0</td>\n",
              "      <td>3</td>\n",
              "      <td>1</td>\n",
              "      <td>0</td>\n",
              "      <td>0</td>\n",
              "      <td>7.7500</td>\n",
              "      <td>Q</td>\n",
              "    </tr>\n",
              "  </tbody>\n",
              "</table>\n",
              "<p>889 rows × 7 columns</p>\n",
              "</div>"
            ],
            "text/plain": [
              "     Survived  Pclass  Sex  SibSp  Parch     Fare Embarked\n",
              "0           0       3    1      1      0   7.2500        S\n",
              "1           1       1    0      1      0  71.2833        C\n",
              "2           1       3    0      0      0   7.9250        S\n",
              "3           1       1    0      1      0  53.1000        S\n",
              "4           0       3    1      0      0   8.0500        S\n",
              "..        ...     ...  ...    ...    ...      ...      ...\n",
              "886         0       2    1      0      0  13.0000        S\n",
              "887         1       1    0      0      0  30.0000        S\n",
              "888         0       3    0      1      2  23.4500        S\n",
              "889         1       1    1      0      0  30.0000        C\n",
              "890         0       3    1      0      0   7.7500        Q\n",
              "\n",
              "[889 rows x 7 columns]"
            ]
          },
          "metadata": {},
          "execution_count": 12
        }
      ]
    },
    {
      "cell_type": "markdown",
      "source": [
        "Feature Encoding"
      ],
      "metadata": {
        "id": "FgIxhoGV3wvp"
      }
    },
    {
      "cell_type": "code",
      "source": [
        "df_embarked = pd.get_dummies(df['Embarked'], \n",
        "                                     prefix='embarked')\n",
        "\n",
        "df_sex = pd.get_dummies(df['Sex'], \n",
        "                                prefix='sex')\n",
        "\n",
        "df_plcass = pd.get_dummies(df['Pclass'], \n",
        "                                   prefix='pclass')"
      ],
      "metadata": {
        "id": "iKLaXeVXih3x"
      },
      "execution_count": 103,
      "outputs": []
    },
    {
      "cell_type": "code",
      "source": [
        "# Combine the one hot encoded columns with df_con_enc\n",
        "df_new = pd.concat([df, \n",
        "                    df_embarked, \n",
        "                    df_sex, \n",
        "                    df_plcass], axis=1)\n",
        "\n",
        "# Drop the original categorical columns (because now they've been one hot encoded)\n",
        "df_new = df_new.drop(['Pclass', 'Sex', 'Embarked'], axis=1)"
      ],
      "metadata": {
        "id": "hP3qrMFxjGor"
      },
      "execution_count": 104,
      "outputs": []
    },
    {
      "cell_type": "code",
      "source": [
        "# Split the dataframe into data and labels\n",
        "X_train = df_new.drop('Survived', axis=1) # data\n",
        "y_train = df_new.Survived # labels"
      ],
      "metadata": {
        "id": "gbtM70dCjPRv"
      },
      "execution_count": 105,
      "outputs": []
    },
    {
      "cell_type": "code",
      "source": [
        "print(X_train.shape)\n",
        "print(y_train.shape)"
      ],
      "metadata": {
        "colab": {
          "base_uri": "https://localhost:8080/"
        },
        "id": "BZZiYCSajYAX",
        "outputId": "c2c75e6a-8c03-40de-f522-d9b9f3d510c5"
      },
      "execution_count": 106,
      "outputs": [
        {
          "output_type": "stream",
          "name": "stdout",
          "text": [
            "(889, 11)\n",
            "(889,)\n"
          ]
        }
      ]
    },
    {
      "cell_type": "markdown",
      "source": [
        "## GB Classification Techniques"
      ],
      "metadata": {
        "id": "DeNFKgaozxCi"
      }
    },
    {
      "cell_type": "markdown",
      "source": [
        "Decision Tree Classifier"
      ],
      "metadata": {
        "id": "d4xW4W8Omg9M"
      }
    },
    {
      "cell_type": "code",
      "source": [
        "from sklearn.tree import DecisionTreeClassifier\n",
        "dtc = DecisionTreeClassifier(random_state=1234)\n",
        "model = dtc.fit(X_train, y_train)\n",
        "accuracy_decision = round(model.score(X_train, y_train) * 100, 2)\n",
        "print(\"Accuracy of Decision Tree Classifier: \", accuracy_decision)"
      ],
      "metadata": {
        "colab": {
          "base_uri": "https://localhost:8080/"
        },
        "id": "jwESnF2skfqL",
        "outputId": "a1df2860-4bda-4adf-8c87-94598b38d58e"
      },
      "execution_count": 107,
      "outputs": [
        {
          "output_type": "stream",
          "name": "stdout",
          "text": [
            "Accuracy of Decision Tree Classifier:  92.46\n"
          ]
        }
      ]
    },
    {
      "cell_type": "markdown",
      "source": [
        "Adaboost Classifier"
      ],
      "metadata": {
        "id": "pkFBAZvHmkkr"
      }
    },
    {
      "cell_type": "code",
      "source": [
        "from sklearn.ensemble import AdaBoostClassifier\n",
        "abc = AdaBoostClassifier(n_estimators=100, random_state=0)\n",
        "model = abc.fit(X_train, y_train)\n",
        "accuracy_adaboost = round(model.score(X_train, y_train) * 100, 2)\n",
        "print(\"Accuracy of Adaboost  Classifier: \", accuracy_adaboost)"
      ],
      "metadata": {
        "colab": {
          "base_uri": "https://localhost:8080/"
        },
        "id": "9TglkMHlmjw1",
        "outputId": "e7ff991b-efef-442f-b53d-2b3710fb1386"
      },
      "execution_count": 108,
      "outputs": [
        {
          "output_type": "stream",
          "name": "stdout",
          "text": [
            "Accuracy of Adaboost  Classifier:  80.54\n"
          ]
        }
      ]
    },
    {
      "cell_type": "markdown",
      "source": [
        "Random Forest Classifier"
      ],
      "metadata": {
        "id": "e0hXLsKSnL0o"
      }
    },
    {
      "cell_type": "code",
      "source": [
        "from sklearn.ensemble import RandomForestClassifier\n",
        "rfc = RandomForestClassifier(n_estimators=10, min_samples_split=2)\n",
        "model = rfc.fit(X_train, y_train)\n",
        "accuracy_random = round(model.score(X_train, y_train) * 100, 2)\n",
        "print(\"Accuracy of Random Forest Classifier: \", accuracy_random)"
      ],
      "metadata": {
        "colab": {
          "base_uri": "https://localhost:8080/"
        },
        "id": "2giANBnAnDDH",
        "outputId": "48b4e4ef-cdf9-44c7-c577-e8ac347927d2"
      },
      "execution_count": 109,
      "outputs": [
        {
          "output_type": "stream",
          "name": "stdout",
          "text": [
            "Accuracy of Random Forest Classifier:  91.23\n"
          ]
        }
      ]
    },
    {
      "cell_type": "markdown",
      "source": [
        "XGB Classifier"
      ],
      "metadata": {
        "id": "vcRg8XR7nPw7"
      }
    },
    {
      "cell_type": "code",
      "source": [
        "import xgboost as xgb\n",
        "xgb_cls = xgb.XGBClassifier(tree_method='hist')\n",
        "model = xgb_cls.fit(X_train, y_train)\n",
        "accuracy_xgb = round(model.score(X_train, y_train) * 100, 2)\n",
        "print(\"Accuracy of XGB Classifier: \", accuracy_xgb)"
      ],
      "metadata": {
        "colab": {
          "base_uri": "https://localhost:8080/"
        },
        "id": "4SNDxT-TnStw",
        "outputId": "8466003b-bf8e-49de-c252-d3838ca23231"
      },
      "execution_count": 110,
      "outputs": [
        {
          "output_type": "stream",
          "name": "stdout",
          "text": [
            "Accuracy of XGB Classifier:  84.81\n"
          ]
        }
      ]
    },
    {
      "cell_type": "markdown",
      "source": [
        "LightGBM Classifier"
      ],
      "metadata": {
        "id": "144xyoqfnjPq"
      }
    },
    {
      "cell_type": "code",
      "source": [
        "import lightgbm as lgb\n",
        "lgb_cls = lgb.LGBMClassifier(boosting_type='goss')\n",
        "model = lgb_cls.fit(X_train, y_train)\n",
        "accuracy_lgb = round(model.score(X_train, y_train) * 100, 2)\n",
        "print(\"Accuracy of Light GBM Classifier: \", accuracy_lgb)"
      ],
      "metadata": {
        "colab": {
          "base_uri": "https://localhost:8080/"
        },
        "id": "EVzNLUN8nlgq",
        "outputId": "5332ad4a-aab3-49cc-ef26-4d6ce3732c54"
      },
      "execution_count": 111,
      "outputs": [
        {
          "output_type": "stream",
          "name": "stdout",
          "text": [
            "Accuracy of Light GBM Classifier:  86.5\n"
          ]
        }
      ]
    },
    {
      "cell_type": "markdown",
      "source": [
        "Catboost Classifier"
      ],
      "metadata": {
        "id": "IpGcJyktpQbJ"
      }
    },
    {
      "cell_type": "code",
      "source": [
        "from catboost import CatBoostClassifier \n",
        "catboost_model = CatBoostClassifier(iterations=1000,\n",
        "                                    custom_loss=['Accuracy'],\n",
        "                                    loss_function='Logloss')\n",
        "\n",
        "# Fit CatBoost model\n",
        "catboost_model.fit(X_train, y_train,\n",
        "                   plot=True)\n",
        "\n",
        "# CatBoost accuracy\n",
        "accuracy_catboost = round(catboost_model.score(X_train, y_train) * 100, 2)\n",
        "\n",
        "print(\"Accuracy of Catboost Classifier: \", accuracy_catboost)"
      ],
      "metadata": {
        "colab": {
          "base_uri": "https://localhost:8080/",
          "height": 1000,
          "referenced_widgets": [
            "62208fdc1bfa44189fd268b2fe694953"
          ]
        },
        "id": "guLhp6q2ny4j",
        "outputId": "51d15bae-85eb-4c5e-e2f3-230c0717a9fb"
      },
      "execution_count": 112,
      "outputs": [
        {
          "output_type": "display_data",
          "data": {
            "application/vnd.jupyter.widget-view+json": {
              "model_id": "62208fdc1bfa44189fd268b2fe694953",
              "version_minor": 0,
              "version_major": 2
            },
            "text/plain": [
              "MetricVisualizer(layout=Layout(align_self='stretch', height='500px'))"
            ]
          },
          "metadata": {}
        },
        {
          "output_type": "stream",
          "name": "stdout",
          "text": [
            "Learning rate set to 0.009797\n",
            "0:\tlearn: 0.6869023\ttotal: 1.44ms\tremaining: 1.43s\n",
            "1:\tlearn: 0.6809477\ttotal: 6.1ms\tremaining: 3.04s\n",
            "2:\tlearn: 0.6751064\ttotal: 8.61ms\tremaining: 2.86s\n",
            "3:\tlearn: 0.6702940\ttotal: 9.32ms\tremaining: 2.32s\n",
            "4:\tlearn: 0.6643499\ttotal: 10.6ms\tremaining: 2.12s\n",
            "5:\tlearn: 0.6588257\ttotal: 11.9ms\tremaining: 1.97s\n",
            "6:\tlearn: 0.6533862\ttotal: 13.1ms\tremaining: 1.86s\n",
            "7:\tlearn: 0.6482843\ttotal: 14.5ms\tremaining: 1.79s\n",
            "8:\tlearn: 0.6432105\ttotal: 16ms\tremaining: 1.76s\n",
            "9:\tlearn: 0.6384117\ttotal: 17.3ms\tremaining: 1.71s\n",
            "10:\tlearn: 0.6337290\ttotal: 18.5ms\tremaining: 1.67s\n",
            "11:\tlearn: 0.6293405\ttotal: 19.9ms\tremaining: 1.63s\n",
            "12:\tlearn: 0.6247989\ttotal: 21.1ms\tremaining: 1.6s\n",
            "13:\tlearn: 0.6206112\ttotal: 22.3ms\tremaining: 1.57s\n",
            "14:\tlearn: 0.6161288\ttotal: 23.5ms\tremaining: 1.54s\n",
            "15:\tlearn: 0.6119685\ttotal: 24.8ms\tremaining: 1.52s\n",
            "16:\tlearn: 0.6077480\ttotal: 26ms\tremaining: 1.5s\n",
            "17:\tlearn: 0.6038244\ttotal: 26.9ms\tremaining: 1.47s\n",
            "18:\tlearn: 0.5996791\ttotal: 28.1ms\tremaining: 1.45s\n",
            "19:\tlearn: 0.5966004\ttotal: 29.4ms\tremaining: 1.44s\n",
            "20:\tlearn: 0.5935146\ttotal: 30.7ms\tremaining: 1.43s\n",
            "21:\tlearn: 0.5900954\ttotal: 31.4ms\tremaining: 1.4s\n",
            "22:\tlearn: 0.5867677\ttotal: 32.1ms\tremaining: 1.36s\n",
            "23:\tlearn: 0.5830606\ttotal: 33ms\tremaining: 1.34s\n",
            "24:\tlearn: 0.5795742\ttotal: 34.2ms\tremaining: 1.33s\n",
            "25:\tlearn: 0.5758501\ttotal: 35.5ms\tremaining: 1.33s\n",
            "26:\tlearn: 0.5727850\ttotal: 36.7ms\tremaining: 1.32s\n",
            "27:\tlearn: 0.5698996\ttotal: 37.9ms\tremaining: 1.32s\n",
            "28:\tlearn: 0.5668382\ttotal: 39.1ms\tremaining: 1.31s\n",
            "29:\tlearn: 0.5631130\ttotal: 40.4ms\tremaining: 1.31s\n",
            "30:\tlearn: 0.5594405\ttotal: 41.7ms\tremaining: 1.3s\n",
            "31:\tlearn: 0.5561879\ttotal: 42.9ms\tremaining: 1.3s\n",
            "32:\tlearn: 0.5532270\ttotal: 44.1ms\tremaining: 1.29s\n",
            "33:\tlearn: 0.5499512\ttotal: 45.4ms\tremaining: 1.29s\n",
            "34:\tlearn: 0.5480856\ttotal: 46.3ms\tremaining: 1.27s\n",
            "35:\tlearn: 0.5464390\ttotal: 46.9ms\tremaining: 1.25s\n",
            "36:\tlearn: 0.5434805\ttotal: 47.8ms\tremaining: 1.24s\n",
            "37:\tlearn: 0.5407398\ttotal: 49.2ms\tremaining: 1.24s\n",
            "38:\tlearn: 0.5379743\ttotal: 50.5ms\tremaining: 1.24s\n",
            "39:\tlearn: 0.5353833\ttotal: 52ms\tremaining: 1.25s\n",
            "40:\tlearn: 0.5331613\ttotal: 52.7ms\tremaining: 1.23s\n",
            "41:\tlearn: 0.5315497\ttotal: 53.6ms\tremaining: 1.22s\n",
            "42:\tlearn: 0.5290573\ttotal: 54.9ms\tremaining: 1.22s\n",
            "43:\tlearn: 0.5263315\ttotal: 56.3ms\tremaining: 1.22s\n",
            "44:\tlearn: 0.5237777\ttotal: 57.6ms\tremaining: 1.22s\n",
            "45:\tlearn: 0.5213604\ttotal: 58.8ms\tremaining: 1.22s\n",
            "46:\tlearn: 0.5193643\ttotal: 60.2ms\tremaining: 1.22s\n",
            "47:\tlearn: 0.5172213\ttotal: 61.6ms\tremaining: 1.22s\n",
            "48:\tlearn: 0.5153089\ttotal: 62.8ms\tremaining: 1.22s\n",
            "49:\tlearn: 0.5131204\ttotal: 64.2ms\tremaining: 1.22s\n",
            "50:\tlearn: 0.5114758\ttotal: 65.5ms\tremaining: 1.22s\n",
            "51:\tlearn: 0.5094904\ttotal: 66.7ms\tremaining: 1.22s\n",
            "52:\tlearn: 0.5074202\ttotal: 68ms\tremaining: 1.21s\n",
            "53:\tlearn: 0.5055221\ttotal: 69.3ms\tremaining: 1.21s\n",
            "54:\tlearn: 0.5036250\ttotal: 70.5ms\tremaining: 1.21s\n",
            "55:\tlearn: 0.5015675\ttotal: 71.9ms\tremaining: 1.21s\n",
            "56:\tlearn: 0.4995528\ttotal: 73.1ms\tremaining: 1.21s\n",
            "57:\tlearn: 0.4979005\ttotal: 74.4ms\tremaining: 1.21s\n",
            "58:\tlearn: 0.4962717\ttotal: 76.7ms\tremaining: 1.22s\n",
            "59:\tlearn: 0.4946538\ttotal: 77.9ms\tremaining: 1.22s\n",
            "60:\tlearn: 0.4931314\ttotal: 79.2ms\tremaining: 1.22s\n",
            "61:\tlearn: 0.4913905\ttotal: 80.5ms\tremaining: 1.22s\n",
            "62:\tlearn: 0.4900726\ttotal: 81.7ms\tremaining: 1.22s\n",
            "63:\tlearn: 0.4883796\ttotal: 83ms\tremaining: 1.21s\n",
            "64:\tlearn: 0.4864683\ttotal: 84.3ms\tremaining: 1.21s\n",
            "65:\tlearn: 0.4845004\ttotal: 85.6ms\tremaining: 1.21s\n",
            "66:\tlearn: 0.4831552\ttotal: 86.8ms\tremaining: 1.21s\n",
            "67:\tlearn: 0.4822656\ttotal: 87.6ms\tremaining: 1.2s\n",
            "68:\tlearn: 0.4808052\ttotal: 88.9ms\tremaining: 1.2s\n",
            "69:\tlearn: 0.4795943\ttotal: 90.2ms\tremaining: 1.2s\n",
            "70:\tlearn: 0.4785431\ttotal: 91.4ms\tremaining: 1.2s\n",
            "71:\tlearn: 0.4772203\ttotal: 92.7ms\tremaining: 1.19s\n",
            "72:\tlearn: 0.4755644\ttotal: 93.9ms\tremaining: 1.19s\n",
            "73:\tlearn: 0.4744017\ttotal: 95.3ms\tremaining: 1.19s\n",
            "74:\tlearn: 0.4728408\ttotal: 96.6ms\tremaining: 1.19s\n",
            "75:\tlearn: 0.4718925\ttotal: 98ms\tremaining: 1.19s\n",
            "76:\tlearn: 0.4713164\ttotal: 98.7ms\tremaining: 1.18s\n",
            "77:\tlearn: 0.4700392\ttotal: 100ms\tremaining: 1.18s\n",
            "78:\tlearn: 0.4688937\ttotal: 102ms\tremaining: 1.18s\n",
            "79:\tlearn: 0.4681898\ttotal: 102ms\tremaining: 1.18s\n",
            "80:\tlearn: 0.4675595\ttotal: 103ms\tremaining: 1.17s\n",
            "81:\tlearn: 0.4663103\ttotal: 105ms\tremaining: 1.17s\n",
            "82:\tlearn: 0.4654005\ttotal: 107ms\tremaining: 1.19s\n",
            "83:\tlearn: 0.4639619\ttotal: 109ms\tremaining: 1.19s\n",
            "84:\tlearn: 0.4628710\ttotal: 112ms\tremaining: 1.21s\n",
            "85:\tlearn: 0.4613811\ttotal: 114ms\tremaining: 1.21s\n",
            "86:\tlearn: 0.4599112\ttotal: 115ms\tremaining: 1.21s\n",
            "87:\tlearn: 0.4592652\ttotal: 116ms\tremaining: 1.2s\n",
            "88:\tlearn: 0.4583840\ttotal: 118ms\tremaining: 1.2s\n",
            "89:\tlearn: 0.4573823\ttotal: 119ms\tremaining: 1.2s\n",
            "90:\tlearn: 0.4566287\ttotal: 121ms\tremaining: 1.2s\n",
            "91:\tlearn: 0.4555937\ttotal: 122ms\tremaining: 1.2s\n",
            "92:\tlearn: 0.4547496\ttotal: 123ms\tremaining: 1.2s\n",
            "93:\tlearn: 0.4538948\ttotal: 125ms\tremaining: 1.2s\n",
            "94:\tlearn: 0.4527973\ttotal: 126ms\tremaining: 1.2s\n",
            "95:\tlearn: 0.4520460\ttotal: 128ms\tremaining: 1.2s\n",
            "96:\tlearn: 0.4512442\ttotal: 129ms\tremaining: 1.2s\n",
            "97:\tlearn: 0.4503491\ttotal: 131ms\tremaining: 1.2s\n",
            "98:\tlearn: 0.4494362\ttotal: 132ms\tremaining: 1.2s\n",
            "99:\tlearn: 0.4483709\ttotal: 133ms\tremaining: 1.2s\n",
            "100:\tlearn: 0.4473390\ttotal: 135ms\tremaining: 1.2s\n",
            "101:\tlearn: 0.4463970\ttotal: 136ms\tremaining: 1.2s\n",
            "102:\tlearn: 0.4457210\ttotal: 138ms\tremaining: 1.2s\n",
            "103:\tlearn: 0.4453869\ttotal: 138ms\tremaining: 1.19s\n",
            "104:\tlearn: 0.4446373\ttotal: 140ms\tremaining: 1.19s\n",
            "105:\tlearn: 0.4438570\ttotal: 141ms\tremaining: 1.19s\n",
            "106:\tlearn: 0.4434795\ttotal: 142ms\tremaining: 1.19s\n",
            "107:\tlearn: 0.4425411\ttotal: 144ms\tremaining: 1.19s\n",
            "108:\tlearn: 0.4422217\ttotal: 144ms\tremaining: 1.18s\n",
            "109:\tlearn: 0.4414139\ttotal: 146ms\tremaining: 1.18s\n",
            "110:\tlearn: 0.4406872\ttotal: 147ms\tremaining: 1.18s\n",
            "111:\tlearn: 0.4396591\ttotal: 150ms\tremaining: 1.19s\n",
            "112:\tlearn: 0.4389208\ttotal: 152ms\tremaining: 1.19s\n",
            "113:\tlearn: 0.4385577\ttotal: 153ms\tremaining: 1.19s\n",
            "114:\tlearn: 0.4377312\ttotal: 154ms\tremaining: 1.19s\n",
            "115:\tlearn: 0.4369392\ttotal: 156ms\tremaining: 1.19s\n",
            "116:\tlearn: 0.4363282\ttotal: 157ms\tremaining: 1.18s\n",
            "117:\tlearn: 0.4357332\ttotal: 158ms\tremaining: 1.18s\n",
            "118:\tlearn: 0.4348844\ttotal: 159ms\tremaining: 1.18s\n",
            "119:\tlearn: 0.4342820\ttotal: 160ms\tremaining: 1.18s\n",
            "120:\tlearn: 0.4336368\ttotal: 162ms\tremaining: 1.18s\n",
            "121:\tlearn: 0.4329899\ttotal: 163ms\tremaining: 1.17s\n",
            "122:\tlearn: 0.4322510\ttotal: 164ms\tremaining: 1.17s\n",
            "123:\tlearn: 0.4317803\ttotal: 165ms\tremaining: 1.17s\n",
            "124:\tlearn: 0.4314558\ttotal: 166ms\tremaining: 1.16s\n",
            "125:\tlearn: 0.4310276\ttotal: 168ms\tremaining: 1.17s\n",
            "126:\tlearn: 0.4306923\ttotal: 170ms\tremaining: 1.17s\n",
            "127:\tlearn: 0.4305077\ttotal: 171ms\tremaining: 1.17s\n",
            "128:\tlearn: 0.4301111\ttotal: 173ms\tremaining: 1.17s\n",
            "129:\tlearn: 0.4299408\ttotal: 174ms\tremaining: 1.16s\n",
            "130:\tlearn: 0.4293909\ttotal: 175ms\tremaining: 1.16s\n",
            "131:\tlearn: 0.4287247\ttotal: 177ms\tremaining: 1.16s\n",
            "132:\tlearn: 0.4279086\ttotal: 178ms\tremaining: 1.16s\n",
            "133:\tlearn: 0.4273983\ttotal: 179ms\tremaining: 1.16s\n",
            "134:\tlearn: 0.4270543\ttotal: 181ms\tremaining: 1.16s\n",
            "135:\tlearn: 0.4265454\ttotal: 182ms\tremaining: 1.16s\n",
            "136:\tlearn: 0.4261131\ttotal: 184ms\tremaining: 1.16s\n",
            "137:\tlearn: 0.4258234\ttotal: 185ms\tremaining: 1.16s\n",
            "138:\tlearn: 0.4251296\ttotal: 186ms\tremaining: 1.15s\n",
            "139:\tlearn: 0.4246907\ttotal: 188ms\tremaining: 1.15s\n",
            "140:\tlearn: 0.4243082\ttotal: 189ms\tremaining: 1.15s\n",
            "141:\tlearn: 0.4237346\ttotal: 191ms\tremaining: 1.15s\n",
            "142:\tlearn: 0.4232346\ttotal: 192ms\tremaining: 1.15s\n",
            "143:\tlearn: 0.4228101\ttotal: 193ms\tremaining: 1.15s\n",
            "144:\tlearn: 0.4223012\ttotal: 195ms\tremaining: 1.15s\n",
            "145:\tlearn: 0.4218097\ttotal: 196ms\tremaining: 1.15s\n",
            "146:\tlearn: 0.4212261\ttotal: 198ms\tremaining: 1.15s\n",
            "147:\tlearn: 0.4208150\ttotal: 199ms\tremaining: 1.15s\n",
            "148:\tlearn: 0.4205149\ttotal: 200ms\tremaining: 1.14s\n",
            "149:\tlearn: 0.4202129\ttotal: 202ms\tremaining: 1.14s\n",
            "150:\tlearn: 0.4198483\ttotal: 203ms\tremaining: 1.14s\n",
            "151:\tlearn: 0.4194624\ttotal: 206ms\tremaining: 1.15s\n",
            "152:\tlearn: 0.4191604\ttotal: 207ms\tremaining: 1.15s\n",
            "153:\tlearn: 0.4190222\ttotal: 209ms\tremaining: 1.15s\n",
            "154:\tlearn: 0.4187954\ttotal: 211ms\tremaining: 1.15s\n",
            "155:\tlearn: 0.4183435\ttotal: 213ms\tremaining: 1.15s\n",
            "156:\tlearn: 0.4178863\ttotal: 215ms\tremaining: 1.16s\n",
            "157:\tlearn: 0.4176712\ttotal: 217ms\tremaining: 1.16s\n",
            "158:\tlearn: 0.4172659\ttotal: 221ms\tremaining: 1.17s\n",
            "159:\tlearn: 0.4169777\ttotal: 225ms\tremaining: 1.18s\n",
            "160:\tlearn: 0.4166761\ttotal: 227ms\tremaining: 1.18s\n",
            "161:\tlearn: 0.4163186\ttotal: 228ms\tremaining: 1.18s\n",
            "162:\tlearn: 0.4159065\ttotal: 230ms\tremaining: 1.18s\n",
            "163:\tlearn: 0.4155239\ttotal: 231ms\tremaining: 1.18s\n",
            "164:\tlearn: 0.4150868\ttotal: 233ms\tremaining: 1.18s\n",
            "165:\tlearn: 0.4148712\ttotal: 234ms\tremaining: 1.18s\n",
            "166:\tlearn: 0.4147913\ttotal: 235ms\tremaining: 1.17s\n",
            "167:\tlearn: 0.4143467\ttotal: 236ms\tremaining: 1.17s\n",
            "168:\tlearn: 0.4141268\ttotal: 238ms\tremaining: 1.17s\n",
            "169:\tlearn: 0.4138787\ttotal: 239ms\tremaining: 1.17s\n",
            "170:\tlearn: 0.4134768\ttotal: 241ms\tremaining: 1.17s\n",
            "171:\tlearn: 0.4129015\ttotal: 242ms\tremaining: 1.16s\n",
            "172:\tlearn: 0.4127632\ttotal: 243ms\tremaining: 1.16s\n",
            "173:\tlearn: 0.4122915\ttotal: 245ms\tremaining: 1.16s\n",
            "174:\tlearn: 0.4121641\ttotal: 246ms\tremaining: 1.16s\n",
            "175:\tlearn: 0.4118897\ttotal: 247ms\tremaining: 1.16s\n",
            "176:\tlearn: 0.4117984\ttotal: 249ms\tremaining: 1.16s\n",
            "177:\tlearn: 0.4115397\ttotal: 251ms\tremaining: 1.16s\n",
            "178:\tlearn: 0.4114448\ttotal: 252ms\tremaining: 1.15s\n",
            "179:\tlearn: 0.4110910\ttotal: 254ms\tremaining: 1.15s\n",
            "180:\tlearn: 0.4108184\ttotal: 256ms\tremaining: 1.16s\n",
            "181:\tlearn: 0.4107574\ttotal: 257ms\tremaining: 1.15s\n",
            "182:\tlearn: 0.4103801\ttotal: 260ms\tremaining: 1.16s\n",
            "183:\tlearn: 0.4101546\ttotal: 261ms\tremaining: 1.16s\n",
            "184:\tlearn: 0.4100690\ttotal: 262ms\tremaining: 1.16s\n",
            "185:\tlearn: 0.4097754\ttotal: 264ms\tremaining: 1.15s\n",
            "186:\tlearn: 0.4092916\ttotal: 266ms\tremaining: 1.15s\n",
            "187:\tlearn: 0.4090963\ttotal: 268ms\tremaining: 1.16s\n",
            "188:\tlearn: 0.4087784\ttotal: 269ms\tremaining: 1.16s\n",
            "189:\tlearn: 0.4081973\ttotal: 271ms\tremaining: 1.16s\n",
            "190:\tlearn: 0.4081300\ttotal: 272ms\tremaining: 1.15s\n",
            "191:\tlearn: 0.4080971\ttotal: 273ms\tremaining: 1.15s\n",
            "192:\tlearn: 0.4079769\ttotal: 274ms\tremaining: 1.14s\n",
            "193:\tlearn: 0.4076646\ttotal: 275ms\tremaining: 1.14s\n",
            "194:\tlearn: 0.4071995\ttotal: 276ms\tremaining: 1.14s\n",
            "195:\tlearn: 0.4069374\ttotal: 278ms\tremaining: 1.14s\n",
            "196:\tlearn: 0.4065913\ttotal: 279ms\tremaining: 1.14s\n",
            "197:\tlearn: 0.4063724\ttotal: 280ms\tremaining: 1.14s\n",
            "198:\tlearn: 0.4062032\ttotal: 282ms\tremaining: 1.13s\n",
            "199:\tlearn: 0.4058712\ttotal: 283ms\tremaining: 1.13s\n",
            "200:\tlearn: 0.4056773\ttotal: 285ms\tremaining: 1.13s\n",
            "201:\tlearn: 0.4055051\ttotal: 286ms\tremaining: 1.13s\n",
            "202:\tlearn: 0.4054403\ttotal: 287ms\tremaining: 1.13s\n",
            "203:\tlearn: 0.4053348\ttotal: 288ms\tremaining: 1.13s\n",
            "204:\tlearn: 0.4050506\ttotal: 290ms\tremaining: 1.12s\n",
            "205:\tlearn: 0.4048052\ttotal: 291ms\tremaining: 1.12s\n",
            "206:\tlearn: 0.4047432\ttotal: 292ms\tremaining: 1.12s\n",
            "207:\tlearn: 0.4046531\ttotal: 294ms\tremaining: 1.12s\n",
            "208:\tlearn: 0.4045514\ttotal: 295ms\tremaining: 1.12s\n",
            "209:\tlearn: 0.4043605\ttotal: 296ms\tremaining: 1.11s\n",
            "210:\tlearn: 0.4041163\ttotal: 298ms\tremaining: 1.11s\n",
            "211:\tlearn: 0.4037217\ttotal: 299ms\tremaining: 1.11s\n",
            "212:\tlearn: 0.4035760\ttotal: 301ms\tremaining: 1.11s\n",
            "213:\tlearn: 0.4032387\ttotal: 302ms\tremaining: 1.11s\n",
            "214:\tlearn: 0.4031980\ttotal: 303ms\tremaining: 1.1s\n",
            "215:\tlearn: 0.4029413\ttotal: 304ms\tremaining: 1.1s\n",
            "216:\tlearn: 0.4026793\ttotal: 306ms\tremaining: 1.1s\n",
            "217:\tlearn: 0.4025031\ttotal: 307ms\tremaining: 1.1s\n",
            "218:\tlearn: 0.4023709\ttotal: 309ms\tremaining: 1.1s\n",
            "219:\tlearn: 0.4021373\ttotal: 310ms\tremaining: 1.1s\n",
            "220:\tlearn: 0.4017792\ttotal: 311ms\tremaining: 1.1s\n",
            "221:\tlearn: 0.4015652\ttotal: 313ms\tremaining: 1.1s\n",
            "222:\tlearn: 0.4015436\ttotal: 314ms\tremaining: 1.09s\n",
            "223:\tlearn: 0.4011577\ttotal: 315ms\tremaining: 1.09s\n",
            "224:\tlearn: 0.4010392\ttotal: 316ms\tremaining: 1.09s\n",
            "225:\tlearn: 0.4010053\ttotal: 317ms\tremaining: 1.09s\n",
            "226:\tlearn: 0.4008459\ttotal: 319ms\tremaining: 1.08s\n",
            "227:\tlearn: 0.4007354\ttotal: 322ms\tremaining: 1.09s\n",
            "228:\tlearn: 0.4005535\ttotal: 324ms\tremaining: 1.09s\n",
            "229:\tlearn: 0.4001626\ttotal: 327ms\tremaining: 1.09s\n",
            "230:\tlearn: 0.3999846\ttotal: 329ms\tremaining: 1.09s\n",
            "231:\tlearn: 0.3999575\ttotal: 329ms\tremaining: 1.09s\n",
            "232:\tlearn: 0.3997204\ttotal: 331ms\tremaining: 1.09s\n",
            "233:\tlearn: 0.3995523\ttotal: 332ms\tremaining: 1.09s\n",
            "234:\tlearn: 0.3993954\ttotal: 333ms\tremaining: 1.08s\n",
            "235:\tlearn: 0.3993298\ttotal: 334ms\tremaining: 1.08s\n",
            "236:\tlearn: 0.3991918\ttotal: 335ms\tremaining: 1.08s\n",
            "237:\tlearn: 0.3989401\ttotal: 336ms\tremaining: 1.08s\n",
            "238:\tlearn: 0.3986349\ttotal: 338ms\tremaining: 1.07s\n",
            "239:\tlearn: 0.3985034\ttotal: 339ms\tremaining: 1.07s\n",
            "240:\tlearn: 0.3983646\ttotal: 340ms\tremaining: 1.07s\n",
            "241:\tlearn: 0.3982418\ttotal: 342ms\tremaining: 1.07s\n",
            "242:\tlearn: 0.3979043\ttotal: 343ms\tremaining: 1.07s\n",
            "243:\tlearn: 0.3977447\ttotal: 344ms\tremaining: 1.07s\n",
            "244:\tlearn: 0.3976721\ttotal: 346ms\tremaining: 1.06s\n",
            "245:\tlearn: 0.3974060\ttotal: 348ms\tremaining: 1.06s\n",
            "246:\tlearn: 0.3973509\ttotal: 349ms\tremaining: 1.06s\n",
            "247:\tlearn: 0.3971662\ttotal: 351ms\tremaining: 1.06s\n",
            "248:\tlearn: 0.3971546\ttotal: 352ms\tremaining: 1.06s\n",
            "249:\tlearn: 0.3969958\ttotal: 353ms\tremaining: 1.06s\n",
            "250:\tlearn: 0.3968787\ttotal: 355ms\tremaining: 1.06s\n",
            "251:\tlearn: 0.3967647\ttotal: 356ms\tremaining: 1.06s\n",
            "252:\tlearn: 0.3965338\ttotal: 358ms\tremaining: 1.06s\n",
            "253:\tlearn: 0.3964663\ttotal: 359ms\tremaining: 1.05s\n",
            "254:\tlearn: 0.3962288\ttotal: 361ms\tremaining: 1.05s\n",
            "255:\tlearn: 0.3961149\ttotal: 362ms\tremaining: 1.05s\n",
            "256:\tlearn: 0.3958711\ttotal: 364ms\tremaining: 1.05s\n",
            "257:\tlearn: 0.3957651\ttotal: 365ms\tremaining: 1.05s\n",
            "258:\tlearn: 0.3955733\ttotal: 367ms\tremaining: 1.05s\n",
            "259:\tlearn: 0.3954173\ttotal: 368ms\tremaining: 1.05s\n",
            "260:\tlearn: 0.3950972\ttotal: 370ms\tremaining: 1.05s\n",
            "261:\tlearn: 0.3948439\ttotal: 372ms\tremaining: 1.05s\n",
            "262:\tlearn: 0.3947642\ttotal: 373ms\tremaining: 1.04s\n",
            "263:\tlearn: 0.3945698\ttotal: 374ms\tremaining: 1.04s\n",
            "264:\tlearn: 0.3942095\ttotal: 376ms\tremaining: 1.04s\n",
            "265:\tlearn: 0.3941142\ttotal: 377ms\tremaining: 1.04s\n",
            "266:\tlearn: 0.3938044\ttotal: 379ms\tremaining: 1.04s\n",
            "267:\tlearn: 0.3936340\ttotal: 380ms\tremaining: 1.04s\n",
            "268:\tlearn: 0.3934057\ttotal: 382ms\tremaining: 1.04s\n",
            "269:\tlearn: 0.3932081\ttotal: 383ms\tremaining: 1.04s\n",
            "270:\tlearn: 0.3931370\ttotal: 385ms\tremaining: 1.03s\n",
            "271:\tlearn: 0.3929518\ttotal: 386ms\tremaining: 1.03s\n",
            "272:\tlearn: 0.3927947\ttotal: 388ms\tremaining: 1.03s\n",
            "273:\tlearn: 0.3926685\ttotal: 389ms\tremaining: 1.03s\n",
            "274:\tlearn: 0.3924530\ttotal: 391ms\tremaining: 1.03s\n",
            "275:\tlearn: 0.3921870\ttotal: 392ms\tremaining: 1.03s\n",
            "276:\tlearn: 0.3921401\ttotal: 393ms\tremaining: 1.03s\n",
            "277:\tlearn: 0.3919681\ttotal: 395ms\tremaining: 1.02s\n",
            "278:\tlearn: 0.3919435\ttotal: 396ms\tremaining: 1.02s\n",
            "279:\tlearn: 0.3918335\ttotal: 397ms\tremaining: 1.02s\n",
            "280:\tlearn: 0.3916282\ttotal: 399ms\tremaining: 1.02s\n",
            "281:\tlearn: 0.3915243\ttotal: 400ms\tremaining: 1.02s\n",
            "282:\tlearn: 0.3913862\ttotal: 402ms\tremaining: 1.02s\n",
            "283:\tlearn: 0.3913104\ttotal: 403ms\tremaining: 1.02s\n",
            "284:\tlearn: 0.3912075\ttotal: 404ms\tremaining: 1.01s\n",
            "285:\tlearn: 0.3911332\ttotal: 406ms\tremaining: 1.01s\n",
            "286:\tlearn: 0.3910252\ttotal: 407ms\tremaining: 1.01s\n",
            "287:\tlearn: 0.3910048\ttotal: 408ms\tremaining: 1.01s\n",
            "288:\tlearn: 0.3907051\ttotal: 410ms\tremaining: 1.01s\n",
            "289:\tlearn: 0.3905191\ttotal: 411ms\tremaining: 1.01s\n",
            "290:\tlearn: 0.3902549\ttotal: 413ms\tremaining: 1s\n",
            "291:\tlearn: 0.3901757\ttotal: 414ms\tremaining: 1s\n",
            "292:\tlearn: 0.3900473\ttotal: 415ms\tremaining: 1s\n",
            "293:\tlearn: 0.3899816\ttotal: 417ms\tremaining: 1s\n",
            "294:\tlearn: 0.3897692\ttotal: 418ms\tremaining: 999ms\n",
            "295:\tlearn: 0.3895769\ttotal: 420ms\tremaining: 998ms\n",
            "296:\tlearn: 0.3894515\ttotal: 421ms\tremaining: 997ms\n",
            "297:\tlearn: 0.3894304\ttotal: 422ms\tremaining: 994ms\n",
            "298:\tlearn: 0.3893827\ttotal: 423ms\tremaining: 991ms\n",
            "299:\tlearn: 0.3892049\ttotal: 424ms\tremaining: 990ms\n",
            "300:\tlearn: 0.3890969\ttotal: 426ms\tremaining: 988ms\n",
            "301:\tlearn: 0.3889079\ttotal: 427ms\tremaining: 987ms\n",
            "302:\tlearn: 0.3888253\ttotal: 429ms\tremaining: 986ms\n",
            "303:\tlearn: 0.3886686\ttotal: 430ms\tremaining: 985ms\n",
            "304:\tlearn: 0.3885221\ttotal: 431ms\tremaining: 983ms\n",
            "305:\tlearn: 0.3883429\ttotal: 433ms\tremaining: 982ms\n",
            "306:\tlearn: 0.3883127\ttotal: 434ms\tremaining: 980ms\n",
            "307:\tlearn: 0.3882368\ttotal: 436ms\tremaining: 979ms\n",
            "308:\tlearn: 0.3881511\ttotal: 437ms\tremaining: 978ms\n",
            "309:\tlearn: 0.3881157\ttotal: 439ms\tremaining: 976ms\n",
            "310:\tlearn: 0.3880359\ttotal: 440ms\tremaining: 975ms\n",
            "311:\tlearn: 0.3878743\ttotal: 442ms\tremaining: 974ms\n",
            "312:\tlearn: 0.3876824\ttotal: 443ms\tremaining: 973ms\n",
            "313:\tlearn: 0.3876302\ttotal: 445ms\tremaining: 971ms\n",
            "314:\tlearn: 0.3875067\ttotal: 446ms\tremaining: 970ms\n",
            "315:\tlearn: 0.3873678\ttotal: 447ms\tremaining: 968ms\n",
            "316:\tlearn: 0.3872672\ttotal: 449ms\tremaining: 967ms\n",
            "317:\tlearn: 0.3871251\ttotal: 450ms\tremaining: 965ms\n",
            "318:\tlearn: 0.3870008\ttotal: 452ms\tremaining: 964ms\n",
            "319:\tlearn: 0.3869020\ttotal: 453ms\tremaining: 963ms\n",
            "320:\tlearn: 0.3868400\ttotal: 454ms\tremaining: 961ms\n",
            "321:\tlearn: 0.3866914\ttotal: 456ms\tremaining: 960ms\n",
            "322:\tlearn: 0.3866419\ttotal: 457ms\tremaining: 958ms\n",
            "323:\tlearn: 0.3865766\ttotal: 459ms\tremaining: 957ms\n",
            "324:\tlearn: 0.3864202\ttotal: 460ms\tremaining: 956ms\n",
            "325:\tlearn: 0.3862791\ttotal: 462ms\tremaining: 954ms\n",
            "326:\tlearn: 0.3862020\ttotal: 463ms\tremaining: 953ms\n",
            "327:\tlearn: 0.3861117\ttotal: 464ms\tremaining: 952ms\n",
            "328:\tlearn: 0.3858672\ttotal: 466ms\tremaining: 950ms\n",
            "329:\tlearn: 0.3857235\ttotal: 467ms\tremaining: 949ms\n",
            "330:\tlearn: 0.3855731\ttotal: 469ms\tremaining: 947ms\n",
            "331:\tlearn: 0.3854456\ttotal: 470ms\tremaining: 946ms\n",
            "332:\tlearn: 0.3852871\ttotal: 472ms\tremaining: 945ms\n",
            "333:\tlearn: 0.3852312\ttotal: 473ms\tremaining: 943ms\n",
            "334:\tlearn: 0.3851493\ttotal: 474ms\tremaining: 942ms\n",
            "335:\tlearn: 0.3849612\ttotal: 476ms\tremaining: 940ms\n",
            "336:\tlearn: 0.3847838\ttotal: 477ms\tremaining: 939ms\n",
            "337:\tlearn: 0.3846267\ttotal: 479ms\tremaining: 937ms\n",
            "338:\tlearn: 0.3845064\ttotal: 480ms\tremaining: 936ms\n",
            "339:\tlearn: 0.3844328\ttotal: 481ms\tremaining: 935ms\n",
            "340:\tlearn: 0.3843076\ttotal: 483ms\tremaining: 933ms\n",
            "341:\tlearn: 0.3841544\ttotal: 484ms\tremaining: 932ms\n",
            "342:\tlearn: 0.3840159\ttotal: 486ms\tremaining: 930ms\n",
            "343:\tlearn: 0.3840008\ttotal: 487ms\tremaining: 928ms\n",
            "344:\tlearn: 0.3839199\ttotal: 488ms\tremaining: 927ms\n",
            "345:\tlearn: 0.3838697\ttotal: 490ms\tremaining: 926ms\n",
            "346:\tlearn: 0.3837636\ttotal: 491ms\tremaining: 924ms\n",
            "347:\tlearn: 0.3835681\ttotal: 493ms\tremaining: 923ms\n",
            "348:\tlearn: 0.3834655\ttotal: 494ms\tremaining: 922ms\n",
            "349:\tlearn: 0.3834477\ttotal: 495ms\tremaining: 919ms\n",
            "350:\tlearn: 0.3833089\ttotal: 496ms\tremaining: 918ms\n",
            "351:\tlearn: 0.3832409\ttotal: 498ms\tremaining: 917ms\n",
            "352:\tlearn: 0.3831834\ttotal: 499ms\tremaining: 915ms\n",
            "353:\tlearn: 0.3829908\ttotal: 501ms\tremaining: 914ms\n",
            "354:\tlearn: 0.3829344\ttotal: 502ms\tremaining: 912ms\n",
            "355:\tlearn: 0.3828810\ttotal: 504ms\tremaining: 911ms\n",
            "356:\tlearn: 0.3826910\ttotal: 505ms\tremaining: 910ms\n",
            "357:\tlearn: 0.3824198\ttotal: 507ms\tremaining: 909ms\n",
            "358:\tlearn: 0.3822954\ttotal: 508ms\tremaining: 908ms\n",
            "359:\tlearn: 0.3821475\ttotal: 510ms\tremaining: 906ms\n",
            "360:\tlearn: 0.3820135\ttotal: 511ms\tremaining: 905ms\n",
            "361:\tlearn: 0.3819274\ttotal: 513ms\tremaining: 903ms\n",
            "362:\tlearn: 0.3817865\ttotal: 514ms\tremaining: 902ms\n",
            "363:\tlearn: 0.3816858\ttotal: 515ms\tremaining: 901ms\n",
            "364:\tlearn: 0.3815314\ttotal: 517ms\tremaining: 899ms\n",
            "365:\tlearn: 0.3814466\ttotal: 518ms\tremaining: 898ms\n",
            "366:\tlearn: 0.3813717\ttotal: 520ms\tremaining: 896ms\n",
            "367:\tlearn: 0.3812804\ttotal: 521ms\tremaining: 895ms\n",
            "368:\tlearn: 0.3810620\ttotal: 522ms\tremaining: 893ms\n",
            "369:\tlearn: 0.3809289\ttotal: 524ms\tremaining: 892ms\n",
            "370:\tlearn: 0.3807124\ttotal: 527ms\tremaining: 894ms\n",
            "371:\tlearn: 0.3805430\ttotal: 531ms\tremaining: 896ms\n",
            "372:\tlearn: 0.3804363\ttotal: 533ms\tremaining: 897ms\n",
            "373:\tlearn: 0.3802801\ttotal: 537ms\tremaining: 899ms\n",
            "374:\tlearn: 0.3801827\ttotal: 538ms\tremaining: 897ms\n",
            "375:\tlearn: 0.3800002\ttotal: 539ms\tremaining: 895ms\n",
            "376:\tlearn: 0.3799481\ttotal: 540ms\tremaining: 893ms\n",
            "377:\tlearn: 0.3798505\ttotal: 542ms\tremaining: 891ms\n",
            "378:\tlearn: 0.3797104\ttotal: 543ms\tremaining: 889ms\n",
            "379:\tlearn: 0.3795655\ttotal: 544ms\tremaining: 888ms\n",
            "380:\tlearn: 0.3795137\ttotal: 545ms\tremaining: 886ms\n",
            "381:\tlearn: 0.3793846\ttotal: 547ms\tremaining: 884ms\n",
            "382:\tlearn: 0.3792760\ttotal: 548ms\tremaining: 883ms\n",
            "383:\tlearn: 0.3792292\ttotal: 549ms\tremaining: 881ms\n",
            "384:\tlearn: 0.3792259\ttotal: 550ms\tremaining: 878ms\n",
            "385:\tlearn: 0.3790922\ttotal: 551ms\tremaining: 876ms\n",
            "386:\tlearn: 0.3790691\ttotal: 552ms\tremaining: 875ms\n",
            "387:\tlearn: 0.3790214\ttotal: 554ms\tremaining: 873ms\n",
            "388:\tlearn: 0.3789594\ttotal: 555ms\tremaining: 872ms\n",
            "389:\tlearn: 0.3788355\ttotal: 556ms\tremaining: 870ms\n",
            "390:\tlearn: 0.3788025\ttotal: 557ms\tremaining: 868ms\n",
            "391:\tlearn: 0.3786459\ttotal: 559ms\tremaining: 866ms\n",
            "392:\tlearn: 0.3785035\ttotal: 560ms\tremaining: 865ms\n",
            "393:\tlearn: 0.3783840\ttotal: 561ms\tremaining: 863ms\n",
            "394:\tlearn: 0.3782500\ttotal: 563ms\tremaining: 862ms\n",
            "395:\tlearn: 0.3781197\ttotal: 564ms\tremaining: 861ms\n",
            "396:\tlearn: 0.3780833\ttotal: 565ms\tremaining: 858ms\n",
            "397:\tlearn: 0.3780474\ttotal: 566ms\tremaining: 857ms\n",
            "398:\tlearn: 0.3779918\ttotal: 568ms\tremaining: 855ms\n",
            "399:\tlearn: 0.3778706\ttotal: 569ms\tremaining: 854ms\n",
            "400:\tlearn: 0.3778402\ttotal: 570ms\tremaining: 852ms\n",
            "401:\tlearn: 0.3776910\ttotal: 572ms\tremaining: 851ms\n",
            "402:\tlearn: 0.3776380\ttotal: 573ms\tremaining: 849ms\n",
            "403:\tlearn: 0.3775914\ttotal: 575ms\tremaining: 848ms\n",
            "404:\tlearn: 0.3774400\ttotal: 576ms\tremaining: 846ms\n",
            "405:\tlearn: 0.3772784\ttotal: 577ms\tremaining: 845ms\n",
            "406:\tlearn: 0.3771650\ttotal: 579ms\tremaining: 843ms\n",
            "407:\tlearn: 0.3771460\ttotal: 580ms\tremaining: 842ms\n",
            "408:\tlearn: 0.3771235\ttotal: 581ms\tremaining: 839ms\n",
            "409:\tlearn: 0.3770163\ttotal: 582ms\tremaining: 838ms\n",
            "410:\tlearn: 0.3768930\ttotal: 583ms\tremaining: 836ms\n",
            "411:\tlearn: 0.3768078\ttotal: 585ms\tremaining: 835ms\n",
            "412:\tlearn: 0.3767939\ttotal: 586ms\tremaining: 832ms\n",
            "413:\tlearn: 0.3766623\ttotal: 587ms\tremaining: 831ms\n",
            "414:\tlearn: 0.3765880\ttotal: 589ms\tremaining: 830ms\n",
            "415:\tlearn: 0.3765001\ttotal: 590ms\tremaining: 828ms\n",
            "416:\tlearn: 0.3764649\ttotal: 591ms\tremaining: 826ms\n",
            "417:\tlearn: 0.3763339\ttotal: 592ms\tremaining: 825ms\n",
            "418:\tlearn: 0.3762393\ttotal: 594ms\tremaining: 824ms\n",
            "419:\tlearn: 0.3760699\ttotal: 595ms\tremaining: 822ms\n",
            "420:\tlearn: 0.3759673\ttotal: 597ms\tremaining: 821ms\n",
            "421:\tlearn: 0.3759080\ttotal: 598ms\tremaining: 819ms\n",
            "422:\tlearn: 0.3758797\ttotal: 599ms\tremaining: 817ms\n",
            "423:\tlearn: 0.3758151\ttotal: 601ms\tremaining: 816ms\n",
            "424:\tlearn: 0.3756919\ttotal: 602ms\tremaining: 814ms\n",
            "425:\tlearn: 0.3756694\ttotal: 603ms\tremaining: 812ms\n",
            "426:\tlearn: 0.3755994\ttotal: 606ms\tremaining: 813ms\n",
            "427:\tlearn: 0.3755840\ttotal: 611ms\tremaining: 817ms\n",
            "428:\tlearn: 0.3755638\ttotal: 612ms\tremaining: 815ms\n",
            "429:\tlearn: 0.3753957\ttotal: 614ms\tremaining: 814ms\n",
            "430:\tlearn: 0.3753455\ttotal: 615ms\tremaining: 812ms\n",
            "431:\tlearn: 0.3752069\ttotal: 617ms\tremaining: 811ms\n",
            "432:\tlearn: 0.3749670\ttotal: 618ms\tremaining: 809ms\n",
            "433:\tlearn: 0.3748842\ttotal: 619ms\tremaining: 808ms\n",
            "434:\tlearn: 0.3748426\ttotal: 621ms\tremaining: 806ms\n",
            "435:\tlearn: 0.3746399\ttotal: 622ms\tremaining: 804ms\n",
            "436:\tlearn: 0.3744914\ttotal: 623ms\tremaining: 803ms\n",
            "437:\tlearn: 0.3744634\ttotal: 624ms\tremaining: 801ms\n",
            "438:\tlearn: 0.3744130\ttotal: 626ms\tremaining: 800ms\n",
            "439:\tlearn: 0.3743583\ttotal: 627ms\tremaining: 798ms\n",
            "440:\tlearn: 0.3743221\ttotal: 628ms\tremaining: 796ms\n",
            "441:\tlearn: 0.3742887\ttotal: 629ms\tremaining: 794ms\n",
            "442:\tlearn: 0.3741432\ttotal: 631ms\tremaining: 793ms\n",
            "443:\tlearn: 0.3740373\ttotal: 632ms\tremaining: 791ms\n",
            "444:\tlearn: 0.3739232\ttotal: 633ms\tremaining: 790ms\n",
            "445:\tlearn: 0.3738972\ttotal: 635ms\tremaining: 789ms\n",
            "446:\tlearn: 0.3738432\ttotal: 636ms\tremaining: 787ms\n",
            "447:\tlearn: 0.3738030\ttotal: 637ms\tremaining: 785ms\n",
            "448:\tlearn: 0.3737507\ttotal: 639ms\tremaining: 784ms\n",
            "449:\tlearn: 0.3736688\ttotal: 640ms\tremaining: 783ms\n",
            "450:\tlearn: 0.3734559\ttotal: 642ms\tremaining: 781ms\n",
            "451:\tlearn: 0.3732324\ttotal: 643ms\tremaining: 780ms\n",
            "452:\tlearn: 0.3731485\ttotal: 644ms\tremaining: 778ms\n",
            "453:\tlearn: 0.3730969\ttotal: 646ms\tremaining: 777ms\n",
            "454:\tlearn: 0.3729510\ttotal: 647ms\tremaining: 775ms\n",
            "455:\tlearn: 0.3728339\ttotal: 649ms\tremaining: 774ms\n",
            "456:\tlearn: 0.3727591\ttotal: 650ms\tremaining: 773ms\n",
            "457:\tlearn: 0.3726521\ttotal: 652ms\tremaining: 771ms\n",
            "458:\tlearn: 0.3726165\ttotal: 653ms\tremaining: 770ms\n",
            "459:\tlearn: 0.3724355\ttotal: 654ms\tremaining: 768ms\n",
            "460:\tlearn: 0.3723814\ttotal: 658ms\tremaining: 770ms\n",
            "461:\tlearn: 0.3722699\ttotal: 660ms\tremaining: 769ms\n",
            "462:\tlearn: 0.3721949\ttotal: 663ms\tremaining: 769ms\n",
            "463:\tlearn: 0.3721215\ttotal: 666ms\tremaining: 770ms\n",
            "464:\tlearn: 0.3720340\ttotal: 668ms\tremaining: 769ms\n",
            "465:\tlearn: 0.3720171\ttotal: 669ms\tremaining: 766ms\n",
            "466:\tlearn: 0.3719291\ttotal: 671ms\tremaining: 765ms\n",
            "467:\tlearn: 0.3717855\ttotal: 672ms\tremaining: 764ms\n",
            "468:\tlearn: 0.3716880\ttotal: 674ms\tremaining: 763ms\n",
            "469:\tlearn: 0.3716088\ttotal: 675ms\tremaining: 761ms\n",
            "470:\tlearn: 0.3715279\ttotal: 676ms\tremaining: 760ms\n",
            "471:\tlearn: 0.3714066\ttotal: 678ms\tremaining: 758ms\n",
            "472:\tlearn: 0.3712988\ttotal: 679ms\tremaining: 757ms\n",
            "473:\tlearn: 0.3712366\ttotal: 681ms\tremaining: 755ms\n",
            "474:\tlearn: 0.3711190\ttotal: 682ms\tremaining: 754ms\n",
            "475:\tlearn: 0.3709927\ttotal: 683ms\tremaining: 752ms\n",
            "476:\tlearn: 0.3708926\ttotal: 685ms\tremaining: 751ms\n",
            "477:\tlearn: 0.3707783\ttotal: 686ms\tremaining: 750ms\n",
            "478:\tlearn: 0.3707197\ttotal: 687ms\tremaining: 748ms\n",
            "479:\tlearn: 0.3706229\ttotal: 689ms\tremaining: 746ms\n",
            "480:\tlearn: 0.3705531\ttotal: 690ms\tremaining: 745ms\n",
            "481:\tlearn: 0.3703951\ttotal: 691ms\tremaining: 743ms\n",
            "482:\tlearn: 0.3703425\ttotal: 693ms\tremaining: 742ms\n",
            "483:\tlearn: 0.3702875\ttotal: 695ms\tremaining: 741ms\n",
            "484:\tlearn: 0.3702073\ttotal: 696ms\tremaining: 739ms\n",
            "485:\tlearn: 0.3700873\ttotal: 698ms\tremaining: 738ms\n",
            "486:\tlearn: 0.3699934\ttotal: 699ms\tremaining: 737ms\n",
            "487:\tlearn: 0.3698404\ttotal: 701ms\tremaining: 735ms\n",
            "488:\tlearn: 0.3696340\ttotal: 702ms\tremaining: 734ms\n",
            "489:\tlearn: 0.3696291\ttotal: 708ms\tremaining: 737ms\n",
            "490:\tlearn: 0.3695899\ttotal: 710ms\tremaining: 736ms\n",
            "491:\tlearn: 0.3695076\ttotal: 712ms\tremaining: 735ms\n",
            "492:\tlearn: 0.3693842\ttotal: 713ms\tremaining: 734ms\n",
            "493:\tlearn: 0.3691579\ttotal: 715ms\tremaining: 732ms\n",
            "494:\tlearn: 0.3690902\ttotal: 717ms\tremaining: 731ms\n",
            "495:\tlearn: 0.3689311\ttotal: 718ms\tremaining: 730ms\n",
            "496:\tlearn: 0.3688212\ttotal: 720ms\tremaining: 728ms\n",
            "497:\tlearn: 0.3687925\ttotal: 721ms\tremaining: 727ms\n",
            "498:\tlearn: 0.3686102\ttotal: 723ms\tremaining: 726ms\n",
            "499:\tlearn: 0.3685420\ttotal: 724ms\tremaining: 724ms\n",
            "500:\tlearn: 0.3684396\ttotal: 726ms\tremaining: 723ms\n",
            "501:\tlearn: 0.3683927\ttotal: 727ms\tremaining: 721ms\n",
            "502:\tlearn: 0.3683713\ttotal: 728ms\tremaining: 720ms\n",
            "503:\tlearn: 0.3682748\ttotal: 730ms\tremaining: 718ms\n",
            "504:\tlearn: 0.3681176\ttotal: 731ms\tremaining: 717ms\n",
            "505:\tlearn: 0.3680147\ttotal: 733ms\tremaining: 715ms\n",
            "506:\tlearn: 0.3679676\ttotal: 734ms\tremaining: 714ms\n",
            "507:\tlearn: 0.3678771\ttotal: 736ms\tremaining: 712ms\n",
            "508:\tlearn: 0.3678496\ttotal: 737ms\tremaining: 711ms\n",
            "509:\tlearn: 0.3676495\ttotal: 738ms\tremaining: 709ms\n",
            "510:\tlearn: 0.3676149\ttotal: 740ms\tremaining: 708ms\n",
            "511:\tlearn: 0.3675055\ttotal: 741ms\tremaining: 707ms\n",
            "512:\tlearn: 0.3674507\ttotal: 743ms\tremaining: 705ms\n",
            "513:\tlearn: 0.3673752\ttotal: 744ms\tremaining: 704ms\n",
            "514:\tlearn: 0.3673265\ttotal: 745ms\tremaining: 702ms\n",
            "515:\tlearn: 0.3671670\ttotal: 747ms\tremaining: 701ms\n",
            "516:\tlearn: 0.3671338\ttotal: 748ms\tremaining: 699ms\n",
            "517:\tlearn: 0.3670258\ttotal: 749ms\tremaining: 697ms\n",
            "518:\tlearn: 0.3669491\ttotal: 751ms\tremaining: 696ms\n",
            "519:\tlearn: 0.3669133\ttotal: 752ms\tremaining: 694ms\n",
            "520:\tlearn: 0.3668019\ttotal: 754ms\tremaining: 693ms\n",
            "521:\tlearn: 0.3667069\ttotal: 755ms\tremaining: 691ms\n",
            "522:\tlearn: 0.3666224\ttotal: 756ms\tremaining: 690ms\n",
            "523:\tlearn: 0.3665812\ttotal: 757ms\tremaining: 688ms\n",
            "524:\tlearn: 0.3664962\ttotal: 759ms\tremaining: 686ms\n",
            "525:\tlearn: 0.3664533\ttotal: 760ms\tremaining: 685ms\n",
            "526:\tlearn: 0.3662621\ttotal: 761ms\tremaining: 683ms\n",
            "527:\tlearn: 0.3661369\ttotal: 763ms\tremaining: 682ms\n",
            "528:\tlearn: 0.3660541\ttotal: 764ms\tremaining: 681ms\n",
            "529:\tlearn: 0.3659359\ttotal: 766ms\tremaining: 679ms\n",
            "530:\tlearn: 0.3658709\ttotal: 767ms\tremaining: 678ms\n",
            "531:\tlearn: 0.3658118\ttotal: 769ms\tremaining: 676ms\n",
            "532:\tlearn: 0.3656489\ttotal: 770ms\tremaining: 675ms\n",
            "533:\tlearn: 0.3656317\ttotal: 771ms\tremaining: 673ms\n",
            "534:\tlearn: 0.3655946\ttotal: 772ms\tremaining: 671ms\n",
            "535:\tlearn: 0.3654791\ttotal: 774ms\tremaining: 670ms\n",
            "536:\tlearn: 0.3653920\ttotal: 775ms\tremaining: 669ms\n",
            "537:\tlearn: 0.3653540\ttotal: 777ms\tremaining: 667ms\n",
            "538:\tlearn: 0.3652703\ttotal: 778ms\tremaining: 666ms\n",
            "539:\tlearn: 0.3651841\ttotal: 780ms\tremaining: 664ms\n",
            "540:\tlearn: 0.3651430\ttotal: 782ms\tremaining: 663ms\n",
            "541:\tlearn: 0.3650890\ttotal: 783ms\tremaining: 662ms\n",
            "542:\tlearn: 0.3649464\ttotal: 785ms\tremaining: 660ms\n",
            "543:\tlearn: 0.3649001\ttotal: 786ms\tremaining: 659ms\n",
            "544:\tlearn: 0.3648636\ttotal: 788ms\tremaining: 657ms\n",
            "545:\tlearn: 0.3647120\ttotal: 789ms\tremaining: 656ms\n",
            "546:\tlearn: 0.3645691\ttotal: 790ms\tremaining: 655ms\n",
            "547:\tlearn: 0.3644496\ttotal: 792ms\tremaining: 653ms\n",
            "548:\tlearn: 0.3643909\ttotal: 793ms\tremaining: 652ms\n",
            "549:\tlearn: 0.3643722\ttotal: 794ms\tremaining: 650ms\n",
            "550:\tlearn: 0.3642948\ttotal: 796ms\tremaining: 648ms\n",
            "551:\tlearn: 0.3642602\ttotal: 797ms\tremaining: 647ms\n",
            "552:\tlearn: 0.3641916\ttotal: 799ms\tremaining: 645ms\n",
            "553:\tlearn: 0.3640639\ttotal: 800ms\tremaining: 644ms\n",
            "554:\tlearn: 0.3640264\ttotal: 801ms\tremaining: 643ms\n",
            "555:\tlearn: 0.3639622\ttotal: 802ms\tremaining: 641ms\n",
            "556:\tlearn: 0.3638093\ttotal: 804ms\tremaining: 639ms\n",
            "557:\tlearn: 0.3636997\ttotal: 805ms\tremaining: 638ms\n",
            "558:\tlearn: 0.3636492\ttotal: 807ms\tremaining: 636ms\n",
            "559:\tlearn: 0.3634895\ttotal: 808ms\tremaining: 635ms\n",
            "560:\tlearn: 0.3634396\ttotal: 809ms\tremaining: 633ms\n",
            "561:\tlearn: 0.3633978\ttotal: 811ms\tremaining: 632ms\n",
            "562:\tlearn: 0.3632289\ttotal: 812ms\tremaining: 630ms\n",
            "563:\tlearn: 0.3631672\ttotal: 814ms\tremaining: 629ms\n",
            "564:\tlearn: 0.3631118\ttotal: 815ms\tremaining: 627ms\n",
            "565:\tlearn: 0.3631096\ttotal: 816ms\tremaining: 625ms\n",
            "566:\tlearn: 0.3630611\ttotal: 817ms\tremaining: 624ms\n",
            "567:\tlearn: 0.3630297\ttotal: 818ms\tremaining: 622ms\n",
            "568:\tlearn: 0.3629130\ttotal: 820ms\tremaining: 621ms\n",
            "569:\tlearn: 0.3628327\ttotal: 821ms\tremaining: 620ms\n",
            "570:\tlearn: 0.3627399\ttotal: 823ms\tremaining: 618ms\n",
            "571:\tlearn: 0.3626691\ttotal: 824ms\tremaining: 617ms\n",
            "572:\tlearn: 0.3625539\ttotal: 825ms\tremaining: 615ms\n",
            "573:\tlearn: 0.3624662\ttotal: 827ms\tremaining: 614ms\n",
            "574:\tlearn: 0.3623531\ttotal: 828ms\tremaining: 612ms\n",
            "575:\tlearn: 0.3623218\ttotal: 830ms\tremaining: 611ms\n",
            "576:\tlearn: 0.3622459\ttotal: 831ms\tremaining: 609ms\n",
            "577:\tlearn: 0.3621053\ttotal: 833ms\tremaining: 608ms\n",
            "578:\tlearn: 0.3620538\ttotal: 834ms\tremaining: 606ms\n",
            "579:\tlearn: 0.3618913\ttotal: 837ms\tremaining: 606ms\n",
            "580:\tlearn: 0.3617761\ttotal: 839ms\tremaining: 605ms\n",
            "581:\tlearn: 0.3617029\ttotal: 841ms\tremaining: 604ms\n",
            "582:\tlearn: 0.3616658\ttotal: 842ms\tremaining: 602ms\n",
            "583:\tlearn: 0.3615104\ttotal: 843ms\tremaining: 601ms\n",
            "584:\tlearn: 0.3614597\ttotal: 845ms\tremaining: 599ms\n",
            "585:\tlearn: 0.3613156\ttotal: 846ms\tremaining: 598ms\n",
            "586:\tlearn: 0.3612165\ttotal: 847ms\tremaining: 596ms\n",
            "587:\tlearn: 0.3611097\ttotal: 849ms\tremaining: 595ms\n",
            "588:\tlearn: 0.3610001\ttotal: 850ms\tremaining: 593ms\n",
            "589:\tlearn: 0.3609457\ttotal: 852ms\tremaining: 592ms\n",
            "590:\tlearn: 0.3609079\ttotal: 853ms\tremaining: 590ms\n",
            "591:\tlearn: 0.3607382\ttotal: 855ms\tremaining: 589ms\n",
            "592:\tlearn: 0.3607000\ttotal: 856ms\tremaining: 588ms\n",
            "593:\tlearn: 0.3606380\ttotal: 857ms\tremaining: 586ms\n",
            "594:\tlearn: 0.3605825\ttotal: 859ms\tremaining: 585ms\n",
            "595:\tlearn: 0.3605121\ttotal: 860ms\tremaining: 583ms\n",
            "596:\tlearn: 0.3604189\ttotal: 862ms\tremaining: 582ms\n",
            "597:\tlearn: 0.3603263\ttotal: 889ms\tremaining: 598ms\n",
            "598:\tlearn: 0.3602407\ttotal: 891ms\tremaining: 596ms\n",
            "599:\tlearn: 0.3601235\ttotal: 895ms\tremaining: 597ms\n",
            "600:\tlearn: 0.3600666\ttotal: 897ms\tremaining: 595ms\n",
            "601:\tlearn: 0.3599414\ttotal: 898ms\tremaining: 594ms\n",
            "602:\tlearn: 0.3597914\ttotal: 900ms\tremaining: 593ms\n",
            "603:\tlearn: 0.3597452\ttotal: 902ms\tremaining: 591ms\n",
            "604:\tlearn: 0.3596593\ttotal: 904ms\tremaining: 590ms\n",
            "605:\tlearn: 0.3595713\ttotal: 905ms\tremaining: 589ms\n",
            "606:\tlearn: 0.3594554\ttotal: 907ms\tremaining: 587ms\n",
            "607:\tlearn: 0.3593535\ttotal: 909ms\tremaining: 586ms\n",
            "608:\tlearn: 0.3592448\ttotal: 910ms\tremaining: 584ms\n",
            "609:\tlearn: 0.3591335\ttotal: 911ms\tremaining: 583ms\n",
            "610:\tlearn: 0.3590951\ttotal: 912ms\tremaining: 581ms\n",
            "611:\tlearn: 0.3589932\ttotal: 915ms\tremaining: 580ms\n",
            "612:\tlearn: 0.3589105\ttotal: 916ms\tremaining: 578ms\n",
            "613:\tlearn: 0.3588593\ttotal: 918ms\tremaining: 577ms\n",
            "614:\tlearn: 0.3587211\ttotal: 920ms\tremaining: 576ms\n",
            "615:\tlearn: 0.3586940\ttotal: 926ms\tremaining: 577ms\n",
            "616:\tlearn: 0.3585969\ttotal: 927ms\tremaining: 575ms\n",
            "617:\tlearn: 0.3583851\ttotal: 928ms\tremaining: 574ms\n",
            "618:\tlearn: 0.3583165\ttotal: 930ms\tremaining: 572ms\n",
            "619:\tlearn: 0.3581118\ttotal: 931ms\tremaining: 571ms\n",
            "620:\tlearn: 0.3580523\ttotal: 933ms\tremaining: 569ms\n",
            "621:\tlearn: 0.3580456\ttotal: 933ms\tremaining: 567ms\n",
            "622:\tlearn: 0.3579706\ttotal: 935ms\tremaining: 566ms\n",
            "623:\tlearn: 0.3579170\ttotal: 936ms\tremaining: 564ms\n",
            "624:\tlearn: 0.3578588\ttotal: 938ms\tremaining: 563ms\n",
            "625:\tlearn: 0.3577676\ttotal: 939ms\tremaining: 561ms\n",
            "626:\tlearn: 0.3577175\ttotal: 941ms\tremaining: 560ms\n",
            "627:\tlearn: 0.3576462\ttotal: 942ms\tremaining: 558ms\n",
            "628:\tlearn: 0.3576269\ttotal: 944ms\tremaining: 557ms\n",
            "629:\tlearn: 0.3575634\ttotal: 945ms\tremaining: 555ms\n",
            "630:\tlearn: 0.3575447\ttotal: 947ms\tremaining: 554ms\n",
            "631:\tlearn: 0.3573041\ttotal: 948ms\tremaining: 552ms\n",
            "632:\tlearn: 0.3572616\ttotal: 950ms\tremaining: 551ms\n",
            "633:\tlearn: 0.3572420\ttotal: 951ms\tremaining: 549ms\n",
            "634:\tlearn: 0.3572143\ttotal: 953ms\tremaining: 548ms\n",
            "635:\tlearn: 0.3571745\ttotal: 954ms\tremaining: 546ms\n",
            "636:\tlearn: 0.3570202\ttotal: 956ms\tremaining: 545ms\n",
            "637:\tlearn: 0.3569770\ttotal: 957ms\tremaining: 543ms\n",
            "638:\tlearn: 0.3568641\ttotal: 959ms\tremaining: 542ms\n",
            "639:\tlearn: 0.3567739\ttotal: 960ms\tremaining: 540ms\n",
            "640:\tlearn: 0.3566441\ttotal: 961ms\tremaining: 538ms\n",
            "641:\tlearn: 0.3564785\ttotal: 963ms\tremaining: 537ms\n",
            "642:\tlearn: 0.3564041\ttotal: 964ms\tremaining: 535ms\n",
            "643:\tlearn: 0.3562849\ttotal: 966ms\tremaining: 534ms\n",
            "644:\tlearn: 0.3562045\ttotal: 967ms\tremaining: 532ms\n",
            "645:\tlearn: 0.3561164\ttotal: 969ms\tremaining: 531ms\n",
            "646:\tlearn: 0.3560707\ttotal: 970ms\tremaining: 529ms\n",
            "647:\tlearn: 0.3559803\ttotal: 971ms\tremaining: 528ms\n",
            "648:\tlearn: 0.3559388\ttotal: 973ms\tremaining: 526ms\n",
            "649:\tlearn: 0.3557698\ttotal: 974ms\tremaining: 524ms\n",
            "650:\tlearn: 0.3557250\ttotal: 975ms\tremaining: 523ms\n",
            "651:\tlearn: 0.3556375\ttotal: 977ms\tremaining: 521ms\n",
            "652:\tlearn: 0.3555232\ttotal: 978ms\tremaining: 520ms\n",
            "653:\tlearn: 0.3554873\ttotal: 980ms\tremaining: 518ms\n",
            "654:\tlearn: 0.3554598\ttotal: 981ms\tremaining: 516ms\n",
            "655:\tlearn: 0.3554379\ttotal: 982ms\tremaining: 515ms\n",
            "656:\tlearn: 0.3553198\ttotal: 983ms\tremaining: 513ms\n",
            "657:\tlearn: 0.3552876\ttotal: 985ms\tremaining: 512ms\n",
            "658:\tlearn: 0.3551686\ttotal: 986ms\tremaining: 510ms\n",
            "659:\tlearn: 0.3551458\ttotal: 987ms\tremaining: 508ms\n",
            "660:\tlearn: 0.3548682\ttotal: 988ms\tremaining: 507ms\n",
            "661:\tlearn: 0.3546777\ttotal: 990ms\tremaining: 506ms\n",
            "662:\tlearn: 0.3545608\ttotal: 992ms\tremaining: 504ms\n",
            "663:\tlearn: 0.3545345\ttotal: 993ms\tremaining: 502ms\n",
            "664:\tlearn: 0.3544840\ttotal: 994ms\tremaining: 501ms\n",
            "665:\tlearn: 0.3544361\ttotal: 996ms\tremaining: 499ms\n",
            "666:\tlearn: 0.3543209\ttotal: 997ms\tremaining: 498ms\n",
            "667:\tlearn: 0.3542041\ttotal: 998ms\tremaining: 496ms\n",
            "668:\tlearn: 0.3540933\ttotal: 1000ms\tremaining: 495ms\n",
            "669:\tlearn: 0.3540084\ttotal: 1s\tremaining: 493ms\n",
            "670:\tlearn: 0.3539645\ttotal: 1s\tremaining: 491ms\n",
            "671:\tlearn: 0.3539570\ttotal: 1s\tremaining: 490ms\n",
            "672:\tlearn: 0.3539022\ttotal: 1s\tremaining: 488ms\n",
            "673:\tlearn: 0.3538310\ttotal: 1.01s\tremaining: 487ms\n",
            "674:\tlearn: 0.3537620\ttotal: 1.01s\tremaining: 485ms\n",
            "675:\tlearn: 0.3535444\ttotal: 1.01s\tremaining: 484ms\n",
            "676:\tlearn: 0.3534627\ttotal: 1.01s\tremaining: 483ms\n",
            "677:\tlearn: 0.3533817\ttotal: 1.01s\tremaining: 481ms\n",
            "678:\tlearn: 0.3533118\ttotal: 1.01s\tremaining: 480ms\n",
            "679:\tlearn: 0.3532279\ttotal: 1.02s\tremaining: 479ms\n",
            "680:\tlearn: 0.3531582\ttotal: 1.02s\tremaining: 477ms\n",
            "681:\tlearn: 0.3530846\ttotal: 1.02s\tremaining: 477ms\n",
            "682:\tlearn: 0.3530507\ttotal: 1.02s\tremaining: 476ms\n",
            "683:\tlearn: 0.3529356\ttotal: 1.03s\tremaining: 474ms\n",
            "684:\tlearn: 0.3528964\ttotal: 1.03s\tremaining: 472ms\n",
            "685:\tlearn: 0.3528064\ttotal: 1.03s\tremaining: 471ms\n",
            "686:\tlearn: 0.3527120\ttotal: 1.03s\tremaining: 469ms\n",
            "687:\tlearn: 0.3525981\ttotal: 1.03s\tremaining: 468ms\n",
            "688:\tlearn: 0.3525169\ttotal: 1.03s\tremaining: 466ms\n",
            "689:\tlearn: 0.3524348\ttotal: 1.03s\tremaining: 465ms\n",
            "690:\tlearn: 0.3523144\ttotal: 1.04s\tremaining: 463ms\n",
            "691:\tlearn: 0.3522512\ttotal: 1.04s\tremaining: 462ms\n",
            "692:\tlearn: 0.3521455\ttotal: 1.04s\tremaining: 461ms\n",
            "693:\tlearn: 0.3520678\ttotal: 1.04s\tremaining: 459ms\n",
            "694:\tlearn: 0.3518743\ttotal: 1.04s\tremaining: 457ms\n",
            "695:\tlearn: 0.3518597\ttotal: 1.04s\tremaining: 456ms\n",
            "696:\tlearn: 0.3517732\ttotal: 1.04s\tremaining: 454ms\n",
            "697:\tlearn: 0.3516731\ttotal: 1.05s\tremaining: 453ms\n",
            "698:\tlearn: 0.3515642\ttotal: 1.05s\tremaining: 451ms\n",
            "699:\tlearn: 0.3514311\ttotal: 1.05s\tremaining: 449ms\n",
            "700:\tlearn: 0.3512600\ttotal: 1.05s\tremaining: 448ms\n",
            "701:\tlearn: 0.3511596\ttotal: 1.05s\tremaining: 446ms\n",
            "702:\tlearn: 0.3510947\ttotal: 1.05s\tremaining: 445ms\n",
            "703:\tlearn: 0.3510410\ttotal: 1.05s\tremaining: 443ms\n",
            "704:\tlearn: 0.3510076\ttotal: 1.05s\tremaining: 441ms\n",
            "705:\tlearn: 0.3509639\ttotal: 1.05s\tremaining: 440ms\n",
            "706:\tlearn: 0.3508500\ttotal: 1.06s\tremaining: 438ms\n",
            "707:\tlearn: 0.3506874\ttotal: 1.06s\tremaining: 436ms\n",
            "708:\tlearn: 0.3506026\ttotal: 1.06s\tremaining: 435ms\n",
            "709:\tlearn: 0.3505298\ttotal: 1.06s\tremaining: 433ms\n",
            "710:\tlearn: 0.3504886\ttotal: 1.06s\tremaining: 432ms\n",
            "711:\tlearn: 0.3504296\ttotal: 1.06s\tremaining: 430ms\n",
            "712:\tlearn: 0.3503625\ttotal: 1.06s\tremaining: 429ms\n",
            "713:\tlearn: 0.3502671\ttotal: 1.06s\tremaining: 427ms\n",
            "714:\tlearn: 0.3501704\ttotal: 1.07s\tremaining: 425ms\n",
            "715:\tlearn: 0.3500638\ttotal: 1.07s\tremaining: 424ms\n",
            "716:\tlearn: 0.3500067\ttotal: 1.07s\tremaining: 424ms\n",
            "717:\tlearn: 0.3498252\ttotal: 1.08s\tremaining: 423ms\n",
            "718:\tlearn: 0.3497600\ttotal: 1.08s\tremaining: 422ms\n",
            "719:\tlearn: 0.3497168\ttotal: 1.08s\tremaining: 421ms\n",
            "720:\tlearn: 0.3496494\ttotal: 1.08s\tremaining: 420ms\n",
            "721:\tlearn: 0.3495506\ttotal: 1.09s\tremaining: 418ms\n",
            "722:\tlearn: 0.3494587\ttotal: 1.09s\tremaining: 417ms\n",
            "723:\tlearn: 0.3493369\ttotal: 1.09s\tremaining: 415ms\n",
            "724:\tlearn: 0.3492168\ttotal: 1.09s\tremaining: 414ms\n",
            "725:\tlearn: 0.3490517\ttotal: 1.09s\tremaining: 412ms\n",
            "726:\tlearn: 0.3489824\ttotal: 1.09s\tremaining: 411ms\n",
            "727:\tlearn: 0.3488698\ttotal: 1.09s\tremaining: 409ms\n",
            "728:\tlearn: 0.3487290\ttotal: 1.1s\tremaining: 408ms\n",
            "729:\tlearn: 0.3485116\ttotal: 1.1s\tremaining: 406ms\n",
            "730:\tlearn: 0.3484172\ttotal: 1.1s\tremaining: 405ms\n",
            "731:\tlearn: 0.3483532\ttotal: 1.1s\tremaining: 403ms\n",
            "732:\tlearn: 0.3482598\ttotal: 1.1s\tremaining: 402ms\n",
            "733:\tlearn: 0.3481538\ttotal: 1.1s\tremaining: 400ms\n",
            "734:\tlearn: 0.3480238\ttotal: 1.1s\tremaining: 398ms\n",
            "735:\tlearn: 0.3479314\ttotal: 1.11s\tremaining: 397ms\n",
            "736:\tlearn: 0.3478160\ttotal: 1.11s\tremaining: 395ms\n",
            "737:\tlearn: 0.3477142\ttotal: 1.11s\tremaining: 394ms\n",
            "738:\tlearn: 0.3476928\ttotal: 1.11s\tremaining: 393ms\n",
            "739:\tlearn: 0.3476396\ttotal: 1.11s\tremaining: 391ms\n",
            "740:\tlearn: 0.3475473\ttotal: 1.12s\tremaining: 390ms\n",
            "741:\tlearn: 0.3474394\ttotal: 1.12s\tremaining: 390ms\n",
            "742:\tlearn: 0.3473456\ttotal: 1.12s\tremaining: 389ms\n",
            "743:\tlearn: 0.3472955\ttotal: 1.13s\tremaining: 388ms\n",
            "744:\tlearn: 0.3472055\ttotal: 1.13s\tremaining: 386ms\n",
            "745:\tlearn: 0.3471184\ttotal: 1.13s\tremaining: 385ms\n",
            "746:\tlearn: 0.3468842\ttotal: 1.13s\tremaining: 383ms\n",
            "747:\tlearn: 0.3468044\ttotal: 1.13s\tremaining: 382ms\n",
            "748:\tlearn: 0.3467253\ttotal: 1.13s\tremaining: 380ms\n",
            "749:\tlearn: 0.3466474\ttotal: 1.14s\tremaining: 379ms\n",
            "750:\tlearn: 0.3465837\ttotal: 1.14s\tremaining: 377ms\n",
            "751:\tlearn: 0.3465448\ttotal: 1.14s\tremaining: 376ms\n",
            "752:\tlearn: 0.3464988\ttotal: 1.14s\tremaining: 375ms\n",
            "753:\tlearn: 0.3464067\ttotal: 1.14s\tremaining: 373ms\n",
            "754:\tlearn: 0.3463633\ttotal: 1.15s\tremaining: 372ms\n",
            "755:\tlearn: 0.3463106\ttotal: 1.15s\tremaining: 370ms\n",
            "756:\tlearn: 0.3462454\ttotal: 1.15s\tremaining: 369ms\n",
            "757:\tlearn: 0.3461871\ttotal: 1.15s\tremaining: 367ms\n",
            "758:\tlearn: 0.3460694\ttotal: 1.15s\tremaining: 366ms\n",
            "759:\tlearn: 0.3459372\ttotal: 1.15s\tremaining: 364ms\n",
            "760:\tlearn: 0.3459027\ttotal: 1.15s\tremaining: 363ms\n",
            "761:\tlearn: 0.3458402\ttotal: 1.16s\tremaining: 361ms\n",
            "762:\tlearn: 0.3456763\ttotal: 1.16s\tremaining: 359ms\n",
            "763:\tlearn: 0.3455488\ttotal: 1.16s\tremaining: 358ms\n",
            "764:\tlearn: 0.3454835\ttotal: 1.16s\tremaining: 356ms\n",
            "765:\tlearn: 0.3453653\ttotal: 1.16s\tremaining: 355ms\n",
            "766:\tlearn: 0.3452611\ttotal: 1.16s\tremaining: 353ms\n",
            "767:\tlearn: 0.3452096\ttotal: 1.16s\tremaining: 352ms\n",
            "768:\tlearn: 0.3450905\ttotal: 1.17s\tremaining: 350ms\n",
            "769:\tlearn: 0.3449992\ttotal: 1.17s\tremaining: 349ms\n",
            "770:\tlearn: 0.3449164\ttotal: 1.17s\tremaining: 347ms\n",
            "771:\tlearn: 0.3448784\ttotal: 1.17s\tremaining: 345ms\n",
            "772:\tlearn: 0.3446887\ttotal: 1.17s\tremaining: 344ms\n",
            "773:\tlearn: 0.3445958\ttotal: 1.17s\tremaining: 342ms\n",
            "774:\tlearn: 0.3445270\ttotal: 1.17s\tremaining: 341ms\n",
            "775:\tlearn: 0.3444546\ttotal: 1.17s\tremaining: 339ms\n",
            "776:\tlearn: 0.3443129\ttotal: 1.18s\tremaining: 338ms\n",
            "777:\tlearn: 0.3441676\ttotal: 1.18s\tremaining: 336ms\n",
            "778:\tlearn: 0.3440970\ttotal: 1.18s\tremaining: 335ms\n",
            "779:\tlearn: 0.3440384\ttotal: 1.18s\tremaining: 333ms\n",
            "780:\tlearn: 0.3439640\ttotal: 1.18s\tremaining: 332ms\n",
            "781:\tlearn: 0.3439037\ttotal: 1.19s\tremaining: 331ms\n",
            "782:\tlearn: 0.3438557\ttotal: 1.19s\tremaining: 329ms\n",
            "783:\tlearn: 0.3437278\ttotal: 1.19s\tremaining: 328ms\n",
            "784:\tlearn: 0.3436504\ttotal: 1.19s\tremaining: 326ms\n",
            "785:\tlearn: 0.3435391\ttotal: 1.19s\tremaining: 324ms\n",
            "786:\tlearn: 0.3434209\ttotal: 1.19s\tremaining: 323ms\n",
            "787:\tlearn: 0.3433738\ttotal: 1.19s\tremaining: 321ms\n",
            "788:\tlearn: 0.3432855\ttotal: 1.2s\tremaining: 320ms\n",
            "789:\tlearn: 0.3432159\ttotal: 1.2s\tremaining: 318ms\n",
            "790:\tlearn: 0.3431201\ttotal: 1.2s\tremaining: 317ms\n",
            "791:\tlearn: 0.3430580\ttotal: 1.2s\tremaining: 315ms\n",
            "792:\tlearn: 0.3429692\ttotal: 1.2s\tremaining: 314ms\n",
            "793:\tlearn: 0.3428945\ttotal: 1.21s\tremaining: 313ms\n",
            "794:\tlearn: 0.3427503\ttotal: 1.21s\tremaining: 311ms\n",
            "795:\tlearn: 0.3426235\ttotal: 1.21s\tremaining: 310ms\n",
            "796:\tlearn: 0.3425501\ttotal: 1.21s\tremaining: 309ms\n",
            "797:\tlearn: 0.3424271\ttotal: 1.21s\tremaining: 307ms\n",
            "798:\tlearn: 0.3423646\ttotal: 1.21s\tremaining: 306ms\n",
            "799:\tlearn: 0.3422638\ttotal: 1.22s\tremaining: 304ms\n",
            "800:\tlearn: 0.3421847\ttotal: 1.22s\tremaining: 302ms\n",
            "801:\tlearn: 0.3421013\ttotal: 1.22s\tremaining: 301ms\n",
            "802:\tlearn: 0.3420712\ttotal: 1.22s\tremaining: 299ms\n",
            "803:\tlearn: 0.3419981\ttotal: 1.22s\tremaining: 298ms\n",
            "804:\tlearn: 0.3419044\ttotal: 1.22s\tremaining: 296ms\n",
            "805:\tlearn: 0.3417876\ttotal: 1.22s\tremaining: 295ms\n",
            "806:\tlearn: 0.3416604\ttotal: 1.23s\tremaining: 293ms\n",
            "807:\tlearn: 0.3415031\ttotal: 1.23s\tremaining: 292ms\n",
            "808:\tlearn: 0.3414339\ttotal: 1.23s\tremaining: 290ms\n",
            "809:\tlearn: 0.3412980\ttotal: 1.23s\tremaining: 289ms\n",
            "810:\tlearn: 0.3412222\ttotal: 1.23s\tremaining: 287ms\n",
            "811:\tlearn: 0.3411600\ttotal: 1.23s\tremaining: 286ms\n",
            "812:\tlearn: 0.3410687\ttotal: 1.24s\tremaining: 284ms\n",
            "813:\tlearn: 0.3409894\ttotal: 1.24s\tremaining: 283ms\n",
            "814:\tlearn: 0.3409131\ttotal: 1.24s\tremaining: 281ms\n",
            "815:\tlearn: 0.3408509\ttotal: 1.24s\tremaining: 279ms\n",
            "816:\tlearn: 0.3406593\ttotal: 1.24s\tremaining: 278ms\n",
            "817:\tlearn: 0.3405875\ttotal: 1.24s\tremaining: 276ms\n",
            "818:\tlearn: 0.3405687\ttotal: 1.24s\tremaining: 275ms\n",
            "819:\tlearn: 0.3404810\ttotal: 1.24s\tremaining: 273ms\n",
            "820:\tlearn: 0.3403645\ttotal: 1.25s\tremaining: 272ms\n",
            "821:\tlearn: 0.3402426\ttotal: 1.25s\tremaining: 270ms\n",
            "822:\tlearn: 0.3401133\ttotal: 1.25s\tremaining: 269ms\n",
            "823:\tlearn: 0.3400378\ttotal: 1.25s\tremaining: 267ms\n",
            "824:\tlearn: 0.3399387\ttotal: 1.25s\tremaining: 266ms\n",
            "825:\tlearn: 0.3398329\ttotal: 1.25s\tremaining: 264ms\n",
            "826:\tlearn: 0.3397594\ttotal: 1.26s\tremaining: 264ms\n",
            "827:\tlearn: 0.3396591\ttotal: 1.26s\tremaining: 262ms\n",
            "828:\tlearn: 0.3395676\ttotal: 1.26s\tremaining: 261ms\n",
            "829:\tlearn: 0.3394102\ttotal: 1.26s\tremaining: 259ms\n",
            "830:\tlearn: 0.3393412\ttotal: 1.27s\tremaining: 258ms\n",
            "831:\tlearn: 0.3392819\ttotal: 1.27s\tremaining: 256ms\n",
            "832:\tlearn: 0.3392406\ttotal: 1.27s\tremaining: 254ms\n",
            "833:\tlearn: 0.3391634\ttotal: 1.27s\tremaining: 253ms\n",
            "834:\tlearn: 0.3390511\ttotal: 1.27s\tremaining: 251ms\n",
            "835:\tlearn: 0.3389797\ttotal: 1.27s\tremaining: 250ms\n",
            "836:\tlearn: 0.3389050\ttotal: 1.27s\tremaining: 248ms\n",
            "837:\tlearn: 0.3387657\ttotal: 1.28s\tremaining: 247ms\n",
            "838:\tlearn: 0.3386980\ttotal: 1.28s\tremaining: 245ms\n",
            "839:\tlearn: 0.3385630\ttotal: 1.28s\tremaining: 244ms\n",
            "840:\tlearn: 0.3384873\ttotal: 1.28s\tremaining: 242ms\n",
            "841:\tlearn: 0.3383504\ttotal: 1.28s\tremaining: 241ms\n",
            "842:\tlearn: 0.3382878\ttotal: 1.28s\tremaining: 239ms\n",
            "843:\tlearn: 0.3381330\ttotal: 1.28s\tremaining: 238ms\n",
            "844:\tlearn: 0.3380322\ttotal: 1.29s\tremaining: 236ms\n",
            "845:\tlearn: 0.3379485\ttotal: 1.29s\tremaining: 234ms\n",
            "846:\tlearn: 0.3377785\ttotal: 1.29s\tremaining: 233ms\n",
            "847:\tlearn: 0.3376814\ttotal: 1.29s\tremaining: 231ms\n",
            "848:\tlearn: 0.3376336\ttotal: 1.29s\tremaining: 230ms\n",
            "849:\tlearn: 0.3375974\ttotal: 1.29s\tremaining: 228ms\n",
            "850:\tlearn: 0.3375218\ttotal: 1.29s\tremaining: 227ms\n",
            "851:\tlearn: 0.3373953\ttotal: 1.3s\tremaining: 225ms\n",
            "852:\tlearn: 0.3373067\ttotal: 1.3s\tremaining: 224ms\n",
            "853:\tlearn: 0.3371494\ttotal: 1.3s\tremaining: 222ms\n",
            "854:\tlearn: 0.3370536\ttotal: 1.3s\tremaining: 221ms\n",
            "855:\tlearn: 0.3368876\ttotal: 1.3s\tremaining: 219ms\n",
            "856:\tlearn: 0.3367163\ttotal: 1.3s\tremaining: 217ms\n",
            "857:\tlearn: 0.3366427\ttotal: 1.3s\tremaining: 216ms\n",
            "858:\tlearn: 0.3365765\ttotal: 1.31s\tremaining: 214ms\n",
            "859:\tlearn: 0.3365719\ttotal: 1.31s\tremaining: 213ms\n",
            "860:\tlearn: 0.3365287\ttotal: 1.31s\tremaining: 211ms\n",
            "861:\tlearn: 0.3364031\ttotal: 1.31s\tremaining: 210ms\n",
            "862:\tlearn: 0.3363426\ttotal: 1.31s\tremaining: 208ms\n",
            "863:\tlearn: 0.3362857\ttotal: 1.31s\tremaining: 207ms\n",
            "864:\tlearn: 0.3360887\ttotal: 1.31s\tremaining: 205ms\n",
            "865:\tlearn: 0.3359218\ttotal: 1.31s\tremaining: 204ms\n",
            "866:\tlearn: 0.3358700\ttotal: 1.32s\tremaining: 202ms\n",
            "867:\tlearn: 0.3357364\ttotal: 1.32s\tremaining: 200ms\n",
            "868:\tlearn: 0.3356657\ttotal: 1.32s\tremaining: 199ms\n",
            "869:\tlearn: 0.3355792\ttotal: 1.32s\tremaining: 197ms\n",
            "870:\tlearn: 0.3354780\ttotal: 1.32s\tremaining: 196ms\n",
            "871:\tlearn: 0.3353684\ttotal: 1.32s\tremaining: 194ms\n",
            "872:\tlearn: 0.3353104\ttotal: 1.32s\tremaining: 193ms\n",
            "873:\tlearn: 0.3351463\ttotal: 1.33s\tremaining: 191ms\n",
            "874:\tlearn: 0.3350753\ttotal: 1.33s\tremaining: 190ms\n",
            "875:\tlearn: 0.3349841\ttotal: 1.33s\tremaining: 188ms\n",
            "876:\tlearn: 0.3349350\ttotal: 1.33s\tremaining: 187ms\n",
            "877:\tlearn: 0.3348586\ttotal: 1.33s\tremaining: 185ms\n",
            "878:\tlearn: 0.3347838\ttotal: 1.33s\tremaining: 184ms\n",
            "879:\tlearn: 0.3346365\ttotal: 1.33s\tremaining: 182ms\n",
            "880:\tlearn: 0.3345569\ttotal: 1.34s\tremaining: 181ms\n",
            "881:\tlearn: 0.3344735\ttotal: 1.34s\tremaining: 179ms\n",
            "882:\tlearn: 0.3344250\ttotal: 1.34s\tremaining: 177ms\n",
            "883:\tlearn: 0.3343904\ttotal: 1.34s\tremaining: 176ms\n",
            "884:\tlearn: 0.3342458\ttotal: 1.34s\tremaining: 174ms\n",
            "885:\tlearn: 0.3341449\ttotal: 1.34s\tremaining: 173ms\n",
            "886:\tlearn: 0.3340366\ttotal: 1.34s\tremaining: 171ms\n",
            "887:\tlearn: 0.3338728\ttotal: 1.35s\tremaining: 170ms\n",
            "888:\tlearn: 0.3338195\ttotal: 1.35s\tremaining: 168ms\n",
            "889:\tlearn: 0.3337570\ttotal: 1.35s\tremaining: 167ms\n",
            "890:\tlearn: 0.3337343\ttotal: 1.35s\tremaining: 165ms\n",
            "891:\tlearn: 0.3336943\ttotal: 1.35s\tremaining: 164ms\n",
            "892:\tlearn: 0.3336348\ttotal: 1.35s\tremaining: 162ms\n",
            "893:\tlearn: 0.3335666\ttotal: 1.35s\tremaining: 161ms\n",
            "894:\tlearn: 0.3334920\ttotal: 1.36s\tremaining: 159ms\n",
            "895:\tlearn: 0.3333773\ttotal: 1.36s\tremaining: 158ms\n",
            "896:\tlearn: 0.3333003\ttotal: 1.36s\tremaining: 156ms\n",
            "897:\tlearn: 0.3331834\ttotal: 1.36s\tremaining: 155ms\n",
            "898:\tlearn: 0.3330440\ttotal: 1.36s\tremaining: 153ms\n",
            "899:\tlearn: 0.3329017\ttotal: 1.36s\tremaining: 151ms\n",
            "900:\tlearn: 0.3328348\ttotal: 1.36s\tremaining: 150ms\n",
            "901:\tlearn: 0.3327798\ttotal: 1.37s\tremaining: 148ms\n",
            "902:\tlearn: 0.3327252\ttotal: 1.37s\tremaining: 147ms\n",
            "903:\tlearn: 0.3326670\ttotal: 1.37s\tremaining: 146ms\n",
            "904:\tlearn: 0.3325775\ttotal: 1.37s\tremaining: 144ms\n",
            "905:\tlearn: 0.3324489\ttotal: 1.38s\tremaining: 143ms\n",
            "906:\tlearn: 0.3323012\ttotal: 1.38s\tremaining: 141ms\n",
            "907:\tlearn: 0.3322173\ttotal: 1.38s\tremaining: 140ms\n",
            "908:\tlearn: 0.3321546\ttotal: 1.38s\tremaining: 138ms\n",
            "909:\tlearn: 0.3320296\ttotal: 1.38s\tremaining: 137ms\n",
            "910:\tlearn: 0.3319684\ttotal: 1.38s\tremaining: 135ms\n",
            "911:\tlearn: 0.3318362\ttotal: 1.39s\tremaining: 134ms\n",
            "912:\tlearn: 0.3317648\ttotal: 1.39s\tremaining: 132ms\n",
            "913:\tlearn: 0.3317140\ttotal: 1.39s\tremaining: 131ms\n",
            "914:\tlearn: 0.3315943\ttotal: 1.39s\tremaining: 129ms\n",
            "915:\tlearn: 0.3315284\ttotal: 1.39s\tremaining: 128ms\n",
            "916:\tlearn: 0.3314480\ttotal: 1.39s\tremaining: 126ms\n",
            "917:\tlearn: 0.3313928\ttotal: 1.39s\tremaining: 124ms\n",
            "918:\tlearn: 0.3313018\ttotal: 1.4s\tremaining: 123ms\n",
            "919:\tlearn: 0.3311927\ttotal: 1.4s\tremaining: 121ms\n",
            "920:\tlearn: 0.3311132\ttotal: 1.4s\tremaining: 120ms\n",
            "921:\tlearn: 0.3310619\ttotal: 1.4s\tremaining: 118ms\n",
            "922:\tlearn: 0.3310142\ttotal: 1.4s\tremaining: 117ms\n",
            "923:\tlearn: 0.3309514\ttotal: 1.4s\tremaining: 115ms\n",
            "924:\tlearn: 0.3308419\ttotal: 1.4s\tremaining: 114ms\n",
            "925:\tlearn: 0.3307716\ttotal: 1.4s\tremaining: 112ms\n",
            "926:\tlearn: 0.3306480\ttotal: 1.41s\tremaining: 111ms\n",
            "927:\tlearn: 0.3304963\ttotal: 1.41s\tremaining: 109ms\n",
            "928:\tlearn: 0.3304336\ttotal: 1.41s\tremaining: 108ms\n",
            "929:\tlearn: 0.3303146\ttotal: 1.41s\tremaining: 106ms\n",
            "930:\tlearn: 0.3302642\ttotal: 1.41s\tremaining: 105ms\n",
            "931:\tlearn: 0.3302038\ttotal: 1.41s\tremaining: 103ms\n",
            "932:\tlearn: 0.3301715\ttotal: 1.41s\tremaining: 102ms\n",
            "933:\tlearn: 0.3300633\ttotal: 1.41s\tremaining: 100ms\n",
            "934:\tlearn: 0.3298863\ttotal: 1.42s\tremaining: 98.5ms\n",
            "935:\tlearn: 0.3298253\ttotal: 1.42s\tremaining: 96.9ms\n",
            "936:\tlearn: 0.3297747\ttotal: 1.42s\tremaining: 95.4ms\n",
            "937:\tlearn: 0.3296306\ttotal: 1.42s\tremaining: 93.9ms\n",
            "938:\tlearn: 0.3295127\ttotal: 1.42s\tremaining: 92.4ms\n",
            "939:\tlearn: 0.3294436\ttotal: 1.42s\tremaining: 90.9ms\n",
            "940:\tlearn: 0.3293313\ttotal: 1.43s\tremaining: 89.4ms\n",
            "941:\tlearn: 0.3292516\ttotal: 1.43s\tremaining: 87.9ms\n",
            "942:\tlearn: 0.3291506\ttotal: 1.43s\tremaining: 86.5ms\n",
            "943:\tlearn: 0.3290980\ttotal: 1.43s\tremaining: 85ms\n",
            "944:\tlearn: 0.3290228\ttotal: 1.43s\tremaining: 83.5ms\n",
            "945:\tlearn: 0.3289083\ttotal: 1.44s\tremaining: 82ms\n",
            "946:\tlearn: 0.3288399\ttotal: 1.44s\tremaining: 80.5ms\n",
            "947:\tlearn: 0.3287583\ttotal: 1.44s\tremaining: 79ms\n",
            "948:\tlearn: 0.3286730\ttotal: 1.44s\tremaining: 77.5ms\n",
            "949:\tlearn: 0.3286010\ttotal: 1.44s\tremaining: 76ms\n",
            "950:\tlearn: 0.3285427\ttotal: 1.44s\tremaining: 74.4ms\n",
            "951:\tlearn: 0.3285062\ttotal: 1.45s\tremaining: 72.9ms\n",
            "952:\tlearn: 0.3284771\ttotal: 1.45s\tremaining: 71.4ms\n",
            "953:\tlearn: 0.3283995\ttotal: 1.45s\tremaining: 69.8ms\n",
            "954:\tlearn: 0.3283466\ttotal: 1.45s\tremaining: 68.3ms\n",
            "955:\tlearn: 0.3281288\ttotal: 1.45s\tremaining: 66.8ms\n",
            "956:\tlearn: 0.3280769\ttotal: 1.45s\tremaining: 65.3ms\n",
            "957:\tlearn: 0.3279729\ttotal: 1.45s\tremaining: 63.7ms\n",
            "958:\tlearn: 0.3279157\ttotal: 1.46s\tremaining: 62.2ms\n",
            "959:\tlearn: 0.3277416\ttotal: 1.46s\tremaining: 60.7ms\n",
            "960:\tlearn: 0.3276667\ttotal: 1.46s\tremaining: 59.2ms\n",
            "961:\tlearn: 0.3274888\ttotal: 1.46s\tremaining: 57.7ms\n",
            "962:\tlearn: 0.3274204\ttotal: 1.46s\tremaining: 56.2ms\n",
            "963:\tlearn: 0.3273211\ttotal: 1.46s\tremaining: 54.6ms\n",
            "964:\tlearn: 0.3272788\ttotal: 1.46s\tremaining: 53.1ms\n",
            "965:\tlearn: 0.3272287\ttotal: 1.47s\tremaining: 51.6ms\n",
            "966:\tlearn: 0.3270584\ttotal: 1.47s\tremaining: 50.1ms\n",
            "967:\tlearn: 0.3270225\ttotal: 1.47s\tremaining: 48.5ms\n",
            "968:\tlearn: 0.3269308\ttotal: 1.47s\tremaining: 47ms\n",
            "969:\tlearn: 0.3268823\ttotal: 1.47s\tremaining: 45.5ms\n",
            "970:\tlearn: 0.3268292\ttotal: 1.47s\tremaining: 44ms\n",
            "971:\tlearn: 0.3267811\ttotal: 1.47s\tremaining: 42.5ms\n",
            "972:\tlearn: 0.3267137\ttotal: 1.48s\tremaining: 41ms\n",
            "973:\tlearn: 0.3265406\ttotal: 1.48s\tremaining: 39.4ms\n",
            "974:\tlearn: 0.3264485\ttotal: 1.48s\tremaining: 37.9ms\n",
            "975:\tlearn: 0.3264007\ttotal: 1.48s\tremaining: 36.4ms\n",
            "976:\tlearn: 0.3263695\ttotal: 1.48s\tremaining: 34.9ms\n",
            "977:\tlearn: 0.3262891\ttotal: 1.48s\tremaining: 33.4ms\n",
            "978:\tlearn: 0.3261795\ttotal: 1.48s\tremaining: 31.8ms\n",
            "979:\tlearn: 0.3260830\ttotal: 1.49s\tremaining: 30.3ms\n",
            "980:\tlearn: 0.3259451\ttotal: 1.49s\tremaining: 28.8ms\n",
            "981:\tlearn: 0.3258998\ttotal: 1.49s\tremaining: 27.3ms\n",
            "982:\tlearn: 0.3257148\ttotal: 1.49s\tremaining: 25.8ms\n",
            "983:\tlearn: 0.3256117\ttotal: 1.49s\tremaining: 24.3ms\n",
            "984:\tlearn: 0.3254603\ttotal: 1.49s\tremaining: 22.7ms\n",
            "985:\tlearn: 0.3253964\ttotal: 1.49s\tremaining: 21.2ms\n",
            "986:\tlearn: 0.3253371\ttotal: 1.5s\tremaining: 19.7ms\n",
            "987:\tlearn: 0.3252530\ttotal: 1.5s\tremaining: 18.2ms\n",
            "988:\tlearn: 0.3251367\ttotal: 1.5s\tremaining: 16.7ms\n",
            "989:\tlearn: 0.3250743\ttotal: 1.5s\tremaining: 15.2ms\n",
            "990:\tlearn: 0.3249033\ttotal: 1.5s\tremaining: 13.6ms\n",
            "991:\tlearn: 0.3248600\ttotal: 1.5s\tremaining: 12.1ms\n",
            "992:\tlearn: 0.3247322\ttotal: 1.5s\tremaining: 10.6ms\n",
            "993:\tlearn: 0.3246788\ttotal: 1.51s\tremaining: 9.1ms\n",
            "994:\tlearn: 0.3246184\ttotal: 1.51s\tremaining: 7.58ms\n",
            "995:\tlearn: 0.3245050\ttotal: 1.51s\tremaining: 6.06ms\n",
            "996:\tlearn: 0.3243796\ttotal: 1.51s\tremaining: 4.55ms\n",
            "997:\tlearn: 0.3243718\ttotal: 1.51s\tremaining: 3.03ms\n",
            "998:\tlearn: 0.3242573\ttotal: 1.51s\tremaining: 1.51ms\n",
            "999:\tlearn: 0.3241694\ttotal: 1.51s\tremaining: 0us\n",
            "Accuracy of Catboost Classifier:  87.4\n"
          ]
        }
      ]
    },
    {
      "cell_type": "markdown",
      "source": [
        "## "
      ],
      "metadata": {
        "id": "r2sevvwWo40R"
      }
    },
    {
      "cell_type": "code",
      "source": [
        "classifier_name = [\"DecisionTree Classifier\",\"Adaboost Classifier\", \"Random Forest Classifier\", \"XGB Classifier\", \"LightGBM Classifier\", \"Catboost Classifier\"]\n",
        "accuracies = [accuracy_decision, accuracy_adaboost, accuracy_random, accuracy_xgb, accuracy_lgb, accuracy_catboost]"
      ],
      "metadata": {
        "id": "9GFBqtmjo-4J"
      },
      "execution_count": 113,
      "outputs": []
    },
    {
      "cell_type": "code",
      "source": [
        "bar_plot = sns.barplot(x='classifier', y='accuracy', data=pd.DataFrame({\"classifier\": classifier_name, \"accuracy\": accuracies}))\n",
        "bar_plot.set_xticklabels(bar_plot.get_xticklabels(), rotation=45)"
      ],
      "metadata": {
        "colab": {
          "base_uri": "https://localhost:8080/",
          "height": 457
        },
        "id": "CGToPndiqP8b",
        "outputId": "1f0b8482-a97d-4b57-eac7-9654c0812197"
      },
      "execution_count": 114,
      "outputs": [
        {
          "output_type": "execute_result",
          "data": {
            "text/plain": [
              "[Text(0, 0, 'DecisionTree Classifier'),\n",
              " Text(0, 0, 'Adaboost Classifier'),\n",
              " Text(0, 0, 'Random Forest Classifier'),\n",
              " Text(0, 0, 'XGB Classifier'),\n",
              " Text(0, 0, 'LightGBM Classifier'),\n",
              " Text(0, 0, 'Catboost Classifier')]"
            ]
          },
          "metadata": {},
          "execution_count": 114
        },
        {
          "output_type": "display_data",
          "data": {
            "image/png": "[encoded data removed]",
            "text/plain": [
              "<Figure size 432x288 with 1 Axes>"
            ]
          },
          "metadata": {}
        }
      ]
    },
    {
      "cell_type": "markdown",
      "source": [
        "## GB Regression Techniques"
      ],
      "metadata": {
        "id": "jAB33Y6jqxa5"
      }
    },
    {
      "cell_type": "markdown",
      "source": [
        "XGB Regressor"
      ],
      "metadata": {
        "id": "X_T4eP0lwTLA"
      }
    },
    {
      "cell_type": "code",
      "source": [
        "from sklearn import datasets\n",
        "\n",
        "db = datasets.load_iris()"
      ],
      "metadata": {
        "id": "Vkxvz17tsXR3"
      },
      "execution_count": 84,
      "outputs": []
    },
    {
      "cell_type": "code",
      "source": [
        "X = db.data\n",
        "y = db.target\n",
        "X_train, X_test, Y_train, Y_test = train_test_split(X, y, test_size=0.2)"
      ],
      "metadata": {
        "id": "yajmj4ibsf_S"
      },
      "execution_count": 85,
      "outputs": []
    },
    {
      "cell_type": "code",
      "source": [
        "from xgboost import XGBRegressor\n",
        "from sklearn.model_selection import cross_val_score, KFold\n",
        "xgbr = XGBRegressor(n_estimators=1000, max_depth=7, eta=0.1, subsample=0.7, colsample_bytree=0.8) \n",
        "print(xgbr)\n",
        "\n",
        "# XGBRegressor(base_score=0.5, booster='gbtree', colsample_bylevel=1,\n",
        "#        colsample_bynode=1, colsample_bytree=1, gamma=0,\n",
        "#        importance_type='gain', learning_rate=0.1, max_delta_step=0,\n",
        "#        max_depth=3, min_child_weight=1, missing=None, n_estimators=100,\n",
        "#        n_jobs=1, nthread=None, objective='reg:linear', random_state=0,\n",
        "#        reg_alpha=0, reg_lambda=1, scale_pos_weight=1, seed=None,\n",
        "#        silent=None, subsample=1, verbosity=1)\n",
        "\n"
      ],
      "metadata": {
        "colab": {
          "base_uri": "https://localhost:8080/"
        },
        "id": "E9HAgVqAq1md",
        "outputId": "8ae6764d-f488-40ec-81cb-1d055637a83a"
      },
      "execution_count": 87,
      "outputs": [
        {
          "output_type": "stream",
          "name": "stdout",
          "text": [
            "XGBRegressor(colsample_bytree=0.8, eta=0.1, max_depth=7, n_estimators=1000,\n",
            "             subsample=0.7)\n"
          ]
        }
      ]
    },
    {
      "cell_type": "code",
      "source": [
        "xgbr.fit(X_train, Y_train)\n",
        "score = xgbr.score(X_train, Y_train)  \n",
        "print(\"Training score: \", score)\n",
        "scores = cross_val_score(xgbr, X_train, Y_train,cv=10)\n",
        "print(\"Mean cross-validation score: %.2f\" % scores.mean())"
      ],
      "metadata": {
        "colab": {
          "base_uri": "https://localhost:8080/"
        },
        "id": "ONH_f_q0th59",
        "outputId": "5bcbeab8-9721-454d-d060-c775c7363def"
      },
      "execution_count": 88,
      "outputs": [
        {
          "output_type": "stream",
          "name": "stdout",
          "text": [
            "[23:49:28] WARNING: /workspace/src/objective/regression_obj.cu:152: reg:linear is now deprecated in favor of reg:squarederror.\n",
            "Training score:  0.9999994575795195\n",
            "[23:49:29] WARNING: /workspace/src/objective/regression_obj.cu:152: reg:linear is now deprecated in favor of reg:squarederror.\n",
            "[23:49:29] WARNING: /workspace/src/objective/regression_obj.cu:152: reg:linear is now deprecated in favor of reg:squarederror.\n",
            "[23:49:29] WARNING: /workspace/src/objective/regression_obj.cu:152: reg:linear is now deprecated in favor of reg:squarederror.\n",
            "[23:49:29] WARNING: /workspace/src/objective/regression_obj.cu:152: reg:linear is now deprecated in favor of reg:squarederror.\n",
            "[23:49:29] WARNING: /workspace/src/objective/regression_obj.cu:152: reg:linear is now deprecated in favor of reg:squarederror.\n",
            "[23:49:29] WARNING: /workspace/src/objective/regression_obj.cu:152: reg:linear is now deprecated in favor of reg:squarederror.\n",
            "[23:49:29] WARNING: /workspace/src/objective/regression_obj.cu:152: reg:linear is now deprecated in favor of reg:squarederror.\n",
            "[23:49:29] WARNING: /workspace/src/objective/regression_obj.cu:152: reg:linear is now deprecated in favor of reg:squarederror.\n",
            "[23:49:29] WARNING: /workspace/src/objective/regression_obj.cu:152: reg:linear is now deprecated in favor of reg:squarederror.\n",
            "[23:49:29] WARNING: /workspace/src/objective/regression_obj.cu:152: reg:linear is now deprecated in favor of reg:squarederror.\n",
            "Mean cross-validation score: 0.93\n"
          ]
        }
      ]
    },
    {
      "cell_type": "code",
      "source": [
        "kfold = KFold(n_splits=10, shuffle=True)\n",
        "kf_cv_scores = cross_val_score(xgbr, X_train, Y_train\n",
        "                               , cv=kfold )\n",
        "print(\"K-fold CV average score: %.2f\" % kf_cv_scores.mean())\n",
        "\n"
      ],
      "metadata": {
        "colab": {
          "base_uri": "https://localhost:8080/"
        },
        "id": "TJZazECrswrJ",
        "outputId": "87fc5e2a-95a9-42b8-b999-fe612542017a"
      },
      "execution_count": 90,
      "outputs": [
        {
          "output_type": "stream",
          "name": "stdout",
          "text": [
            "[23:49:52] WARNING: /workspace/src/objective/regression_obj.cu:152: reg:linear is now deprecated in favor of reg:squarederror.\n",
            "[23:49:52] WARNING: /workspace/src/objective/regression_obj.cu:152: reg:linear is now deprecated in favor of reg:squarederror.\n",
            "[23:49:52] WARNING: /workspace/src/objective/regression_obj.cu:152: reg:linear is now deprecated in favor of reg:squarederror.\n",
            "[23:49:52] WARNING: /workspace/src/objective/regression_obj.cu:152: reg:linear is now deprecated in favor of reg:squarederror.\n",
            "[23:49:52] WARNING: /workspace/src/objective/regression_obj.cu:152: reg:linear is now deprecated in favor of reg:squarederror.\n",
            "[23:49:52] WARNING: /workspace/src/objective/regression_obj.cu:152: reg:linear is now deprecated in favor of reg:squarederror.\n",
            "[23:49:52] WARNING: /workspace/src/objective/regression_obj.cu:152: reg:linear is now deprecated in favor of reg:squarederror.\n",
            "[23:49:52] WARNING: /workspace/src/objective/regression_obj.cu:152: reg:linear is now deprecated in favor of reg:squarederror.\n",
            "[23:49:52] WARNING: /workspace/src/objective/regression_obj.cu:152: reg:linear is now deprecated in favor of reg:squarederror.\n",
            "[23:49:52] WARNING: /workspace/src/objective/regression_obj.cu:152: reg:linear is now deprecated in favor of reg:squarederror.\n",
            "K-fold CV average score: 0.92\n"
          ]
        }
      ]
    },
    {
      "cell_type": "code",
      "source": [
        "from sklearn.metrics import mean_squared_error\n",
        "y_pred = xgbr.predict(X_test)\n",
        "mse = mean_squared_error(Y_test, y_pred)\n",
        "print(\"MSE: %.2f\" % mse)\n",
        "print(\"RMSE: %.2f\" % (mse**(1/2.0)))"
      ],
      "metadata": {
        "colab": {
          "base_uri": "https://localhost:8080/"
        },
        "id": "5ohn_ro5sx3b",
        "outputId": "b0909fcf-1a42-41e5-9af4-81de3952af3d"
      },
      "execution_count": 92,
      "outputs": [
        {
          "output_type": "stream",
          "name": "stdout",
          "text": [
            "MSE: 0.07\n",
            "RMSE: 0.27\n"
          ]
        }
      ]
    },
    {
      "cell_type": "markdown",
      "source": [
        "Catboost Regressor"
      ],
      "metadata": {
        "id": "3Z1AFVm1wXtw"
      }
    },
    {
      "cell_type": "code",
      "source": [
        "from catboost import CatBoostRegressor\n",
        "\n",
        "cb_reg = CatBoostRegressor(iterations=100,\n",
        "                             learning_rate=0.02,\n",
        "                             depth=12,\n",
        "                             eval_metric='RMSE',\n",
        "                             random_seed = 23,\n",
        "                             bagging_temperature = 0.2,\n",
        "                             od_type='Iter',\n",
        "                             metric_period = 75,\n",
        "                             od_wait=100)"
      ],
      "metadata": {
        "id": "ozWj0bI7wZL-"
      },
      "execution_count": 93,
      "outputs": []
    },
    {
      "cell_type": "code",
      "source": [
        "cb_reg.fit(X_train, Y_train,\n",
        "             eval_set=(X_test, Y_test),\n",
        "             use_best_model=True,\n",
        "             verbose=True)"
      ],
      "metadata": {
        "colab": {
          "base_uri": "https://localhost:8080/"
        },
        "id": "KTVkHO2SwWMO",
        "outputId": "d4924c34-767c-437c-ddb3-12f3bf65d31e"
      },
      "execution_count": 97,
      "outputs": [
        {
          "output_type": "stream",
          "name": "stderr",
          "text": [
            "Warning: Overfitting detector is active, thus evaluation metric is calculated on every iteration. 'metric_period' is ignored for evaluation metric.\n"
          ]
        },
        {
          "output_type": "stream",
          "name": "stdout",
          "text": [
            "0:\tlearn: 0.7940265\ttest: 0.8512985\tbest: 0.8512985 (0)\ttotal: 657us\tremaining: 65.1ms\n",
            "75:\tlearn: 0.2978316\ttest: 0.3930366\tbest: 0.3930366 (75)\ttotal: 220ms\tremaining: 69.5ms\n",
            "99:\tlearn: 0.2287841\ttest: 0.3335302\tbest: 0.3335302 (99)\ttotal: 288ms\tremaining: 0us\n",
            "\n",
            "bestTest = 0.3335302292\n",
            "bestIteration = 99\n",
            "\n"
          ]
        },
        {
          "output_type": "execute_result",
          "data": {
            "text/plain": [
              "<catboost.core.CatBoostRegressor at 0x7f7e407ef610>"
            ]
          },
          "metadata": {},
          "execution_count": 97
        }
      ]
    },
    {
      "cell_type": "code",
      "source": [
        "y_pred = cb_reg.predict(X_test)\n",
        "mse = mean_squared_error(Y_test, y_pred)\n",
        "print(\"MSE: %.2f\" % mse)\n",
        "print(\"RMSE: %.2f\" % (mse**(1/2.0)))"
      ],
      "metadata": {
        "colab": {
          "base_uri": "https://localhost:8080/"
        },
        "id": "kNYTTu99ybTb",
        "outputId": "59fce185-4f2b-4fb1-f5aa-0d5b06e3d1ff"
      },
      "execution_count": 98,
      "outputs": [
        {
          "output_type": "stream",
          "name": "stdout",
          "text": [
            "MSE: 0.11\n",
            "RMSE: 0.33\n"
          ]
        }
      ]
    },
    {
      "cell_type": "markdown",
      "source": [
        "Light GBM Regressor"
      ],
      "metadata": {
        "id": "jtL5AnGYyl5f"
      }
    },
    {
      "cell_type": "code",
      "source": [
        "from lightgbm import LGBMRegressor\n",
        "lg_reg = LGBMRegressor(objective =\"regression\", num_leaves = 35, random_state= 1)\n",
        "lg_reg.fit(X_train, Y_train,\n",
        "             eval_set=(X_test, Y_test),\n",
        "             verbose=True)"
      ],
      "metadata": {
        "colab": {
          "base_uri": "https://localhost:8080/"
        },
        "id": "B8UC_WNoy-1t",
        "outputId": "e2cafa76-9de5-414d-c170-539da5efa978"
      },
      "execution_count": 100,
      "outputs": [
        {
          "output_type": "stream",
          "name": "stdout",
          "text": [
            "[1]\tvalid_0's l2: 0.617544\n",
            "[2]\tvalid_0's l2: 0.516292\n",
            "[3]\tvalid_0's l2: 0.433844\n",
            "[4]\tvalid_0's l2: 0.367691\n",
            "[5]\tvalid_0's l2: 0.31339\n",
            "[6]\tvalid_0's l2: 0.271401\n",
            "[7]\tvalid_0's l2: 0.235709\n",
            "[8]\tvalid_0's l2: 0.201295\n",
            "[9]\tvalid_0's l2: 0.177935\n",
            "[10]\tvalid_0's l2: 0.154733\n",
            "[11]\tvalid_0's l2: 0.136018\n",
            "[12]\tvalid_0's l2: 0.123675\n",
            "[13]\tvalid_0's l2: 0.110608\n",
            "[14]\tvalid_0's l2: 0.0986731\n",
            "[15]\tvalid_0's l2: 0.0925788\n",
            "[16]\tvalid_0's l2: 0.0841256\n",
            "[17]\tvalid_0's l2: 0.0792845\n",
            "[18]\tvalid_0's l2: 0.0741721\n",
            "[19]\tvalid_0's l2: 0.0709667\n",
            "[20]\tvalid_0's l2: 0.067447\n",
            "[21]\tvalid_0's l2: 0.0653181\n",
            "[22]\tvalid_0's l2: 0.0628596\n",
            "[23]\tvalid_0's l2: 0.0608236\n",
            "[24]\tvalid_0's l2: 0.0602046\n",
            "[25]\tvalid_0's l2: 0.0596972\n",
            "[26]\tvalid_0's l2: 0.0577109\n",
            "[27]\tvalid_0's l2: 0.0572122\n",
            "[28]\tvalid_0's l2: 0.0557286\n",
            "[29]\tvalid_0's l2: 0.054474\n",
            "[30]\tvalid_0's l2: 0.0545985\n",
            "[31]\tvalid_0's l2: 0.0535922\n",
            "[32]\tvalid_0's l2: 0.0527454\n",
            "[33]\tvalid_0's l2: 0.052627\n",
            "[34]\tvalid_0's l2: 0.051971\n",
            "[35]\tvalid_0's l2: 0.0514042\n",
            "[36]\tvalid_0's l2: 0.0513974\n",
            "[37]\tvalid_0's l2: 0.0514733\n",
            "[38]\tvalid_0's l2: 0.0514413\n",
            "[39]\tvalid_0's l2: 0.0514316\n",
            "[40]\tvalid_0's l2: 0.0515094\n",
            "[41]\tvalid_0's l2: 0.0516157\n",
            "[42]\tvalid_0's l2: 0.051649\n",
            "[43]\tvalid_0's l2: 0.051435\n",
            "[44]\tvalid_0's l2: 0.0515523\n",
            "[45]\tvalid_0's l2: 0.05165\n",
            "[46]\tvalid_0's l2: 0.0517119\n",
            "[47]\tvalid_0's l2: 0.0517677\n",
            "[48]\tvalid_0's l2: 0.0516238\n",
            "[49]\tvalid_0's l2: 0.0517322\n",
            "[50]\tvalid_0's l2: 0.0518374\n",
            "[51]\tvalid_0's l2: 0.0516978\n",
            "[52]\tvalid_0's l2: 0.051576\n",
            "[53]\tvalid_0's l2: 0.0516567\n",
            "[54]\tvalid_0's l2: 0.0515573\n",
            "[55]\tvalid_0's l2: 0.051706\n",
            "[56]\tvalid_0's l2: 0.0518223\n",
            "[57]\tvalid_0's l2: 0.0519381\n",
            "[58]\tvalid_0's l2: 0.0518656\n",
            "[59]\tvalid_0's l2: 0.0517046\n",
            "[60]\tvalid_0's l2: 0.05185\n",
            "[61]\tvalid_0's l2: 0.0519658\n",
            "[62]\tvalid_0's l2: 0.0518227\n",
            "[63]\tvalid_0's l2: 0.0519538\n",
            "[64]\tvalid_0's l2: 0.0518254\n",
            "[65]\tvalid_0's l2: 0.0519434\n",
            "[66]\tvalid_0's l2: 0.0518323\n",
            "[67]\tvalid_0's l2: 0.0519602\n",
            "[68]\tvalid_0's l2: 0.0521876\n",
            "[69]\tvalid_0's l2: 0.052085\n",
            "[70]\tvalid_0's l2: 0.0522145\n",
            "[71]\tvalid_0's l2: 0.0521225\n",
            "[72]\tvalid_0's l2: 0.0522514\n",
            "[73]\tvalid_0's l2: 0.0523684\n",
            "[74]\tvalid_0's l2: 0.0522842\n",
            "[75]\tvalid_0's l2: 0.0524136\n",
            "[76]\tvalid_0's l2: 0.0523365\n",
            "[77]\tvalid_0's l2: 0.0525427\n",
            "[78]\tvalid_0's l2: 0.0526217\n",
            "[79]\tvalid_0's l2: 0.0525748\n",
            "[80]\tvalid_0's l2: 0.0525009\n",
            "[81]\tvalid_0's l2: 0.0527064\n",
            "[82]\tvalid_0's l2: 0.0526413\n",
            "[83]\tvalid_0's l2: 0.0525868\n",
            "[84]\tvalid_0's l2: 0.0527615\n",
            "[85]\tvalid_0's l2: 0.0528349\n",
            "[86]\tvalid_0's l2: 0.0527709\n",
            "[87]\tvalid_0's l2: 0.0527193\n",
            "[88]\tvalid_0's l2: 0.0528175\n",
            "[89]\tvalid_0's l2: 0.0527585\n",
            "[90]\tvalid_0's l2: 0.0527093\n",
            "[91]\tvalid_0's l2: 0.0528063\n",
            "[92]\tvalid_0's l2: 0.0530146\n",
            "[93]\tvalid_0's l2: 0.0529565\n",
            "[94]\tvalid_0's l2: 0.0532269\n",
            "[95]\tvalid_0's l2: 0.0531657\n",
            "[96]\tvalid_0's l2: 0.0531092\n",
            "[97]\tvalid_0's l2: 0.0533794\n",
            "[98]\tvalid_0's l2: 0.0533023\n",
            "[99]\tvalid_0's l2: 0.0535307\n",
            "[100]\tvalid_0's l2: 0.0534465\n"
          ]
        },
        {
          "output_type": "execute_result",
          "data": {
            "text/plain": [
              "LGBMRegressor(num_leaves=35, objective='regression', random_state=1)"
            ]
          },
          "metadata": {},
          "execution_count": 100
        }
      ]
    },
    {
      "cell_type": "code",
      "source": [
        "y_pred = lg_reg.predict(X_test)\n",
        "mse = mean_squared_error(Y_test, y_pred)\n",
        "print(\"MSE: %.2f\" % mse)\n",
        "print(\"RMSE: %.2f\" % (mse**(1/2.0)))"
      ],
      "metadata": {
        "colab": {
          "base_uri": "https://localhost:8080/"
        },
        "id": "yBGGUjjCzb7z",
        "outputId": "8399f2ff-bba9-4450-cb22-50e5392f14e0"
      },
      "execution_count": 101,
      "outputs": [
        {
          "output_type": "stream",
          "name": "stdout",
          "text": [
            "MSE: 0.05\n",
            "RMSE: 0.23\n"
          ]
        }
      ]
    },
    {
      "cell_type": "markdown",
      "source": [
        "References:\n",
        "\n",
        "\n",
        "1.   https://medium.com/backprop-labs/kaggle-submission-for-titanic-dataset-fd7950a0d65\n",
        "2.   https://www.datatechnotes.com/2019/06/regression-example-with-xgbregressor-in.html\n",
        "3. https://medium.com/predictly-on-tech/learning-to-rank-using-xgboost-83de0166229d\n",
        "\n"
      ],
      "metadata": {
        "id": "d7NuRdM4rzuz"
      }
    }
  ]
}