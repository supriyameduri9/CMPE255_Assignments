{
  "nbformat": 4,
  "nbformat_minor": 0,
  "metadata": {
    "colab": {
      "name": "DM-3.ipynb",
      "provenance": [],
      "toc_visible": true,
      "mount_file_id": "13qWogpHXlFPEAq5_uq44p7xVVJIm0yRt",
      "authorship_tag": "ABX9TyOpkKWDBtad44F88mBhSTTp",
      "include_colab_link": true
    },
    "kernelspec": {
      "name": "python3",
      "display_name": "Python 3"
    },
    "language_info": {
      "name": "python"
    }
  },
  "cells": [
    {
      "cell_type": "markdown",
      "metadata": {
        "id": "view-in-github",
        "colab_type": "text"
      },
      "source": [
        "<a href=\"https://colab.research.google.com/github/supriyameduri9/CMPE255_Assignments/blob/main/Assignment_4.ipynb\" target=\"_parent\"><img src=\"https://colab.research.google.com/assets/colab-badge.svg\" alt=\"Open In Colab\"/></a>"
      ]
    },
    {
      "cell_type": "markdown",
      "metadata": {
        "id": "febQ8HcmC8gd"
      },
      "source": [
        "## K-Means from Scratch\n",
        "\n",
        "K-Means clustering algorithm is a unsupervised machine learning algoirthm. It is used to bucket the features which are not labelled based on the similar observations.\n",
        "\n",
        "To implement K-Means clustering algorithm from scratch, the following steps are followed\n",
        "\n",
        "1. Randomly pick K data points as our initial centroids\n",
        "2. Based on the centroids assign each observation to a cluster\n",
        "3. Find out the mean coordinates for each cluster to be considered as new cluster\n",
        "4. Reassign clusters based on new centroids\n",
        "5. Repeat steps 3 and 4 until optimized(centroids not moving)\n",
        "\n",
        "For this I am using [Iris Dataset](https://archive.ics.uci.edu/ml/datasets/iris).\n",
        "\n"
      ]
    },
    {
      "cell_type": "markdown",
      "metadata": {
        "id": "uvdD-n89iHJN"
      },
      "source": [
        "#### Import Dependencies"
      ]
    },
    {
      "cell_type": "code",
      "metadata": {
        "id": "QiztM53mZxhs"
      },
      "source": [
        "import pandas as pd\n",
        "import numpy as np\n",
        "import matplotlib.pyplot as plt \n",
        "import seaborn as sns\n",
        "import random\n",
        "import numpy.matlib\n",
        "from random import randrange\n",
        "from sklearn.datasets import load_iris \n",
        "\n",
        "\n",
        "from scipy.spatial.distance import cdist"
      ],
      "execution_count": 28,
      "outputs": []
    },
    {
      "cell_type": "markdown",
      "metadata": {
        "id": "HtmJKzCLiKel"
      },
      "source": [
        "#### Mounting Google Drive"
      ]
    },
    {
      "cell_type": "code",
      "metadata": {
        "colab": {
          "base_uri": "https://localhost:8080/"
        },
        "id": "ubS9RJUqLQak",
        "outputId": "ad4794d2-66e9-4494-b87b-9b048bbcf6bc"
      },
      "source": [
        "from google.colab import drive\n",
        "drive.mount('/content/drive')"
      ],
      "execution_count": 20,
      "outputs": [
        {
          "output_type": "stream",
          "name": "stdout",
          "text": [
            "Drive already mounted at /content/drive; to attempt to forcibly remount, call drive.mount(\"/content/drive\", force_remount=True).\n"
          ]
        }
      ]
    },
    {
      "cell_type": "markdown",
      "metadata": {
        "id": "ZBX_DsdgiQOQ"
      },
      "source": [
        "#### Load Iris dataset from drive"
      ]
    },
    {
      "cell_type": "code",
      "metadata": {
        "colab": {
          "base_uri": "https://localhost:8080/",
          "height": 423
        },
        "id": "sy5yUm0Yp0tD",
        "outputId": "9b6a4a03-b188-4a9f-839b-d5783353f999"
      },
      "source": [
        "iris = pd.read_csv('/content/Iris.csv')\n",
        "iris"
      ],
      "execution_count": 23,
      "outputs": [
        {
          "output_type": "execute_result",
          "data": {
            "text/html": [
              "<div>\n",
              "<style scoped>\n",
              "    .dataframe tbody tr th:only-of-type {\n",
              "        vertical-align: middle;\n",
              "    }\n",
              "\n",
              "    .dataframe tbody tr th {\n",
              "        vertical-align: top;\n",
              "    }\n",
              "\n",
              "    .dataframe thead th {\n",
              "        text-align: right;\n",
              "    }\n",
              "</style>\n",
              "<table border=\"1\" class=\"dataframe\">\n",
              "  <thead>\n",
              "    <tr style=\"text-align: right;\">\n",
              "      <th></th>\n",
              "      <th>Id</th>\n",
              "      <th>SepalLengthCm</th>\n",
              "      <th>SepalWidthCm</th>\n",
              "      <th>PetalLengthCm</th>\n",
              "      <th>PetalWidthCm</th>\n",
              "      <th>Species</th>\n",
              "    </tr>\n",
              "  </thead>\n",
              "  <tbody>\n",
              "    <tr>\n",
              "      <th>0</th>\n",
              "      <td>1</td>\n",
              "      <td>5.1</td>\n",
              "      <td>3.5</td>\n",
              "      <td>1.4</td>\n",
              "      <td>0.2</td>\n",
              "      <td>Iris-setosa</td>\n",
              "    </tr>\n",
              "    <tr>\n",
              "      <th>1</th>\n",
              "      <td>2</td>\n",
              "      <td>4.9</td>\n",
              "      <td>3.0</td>\n",
              "      <td>1.4</td>\n",
              "      <td>0.2</td>\n",
              "      <td>Iris-setosa</td>\n",
              "    </tr>\n",
              "    <tr>\n",
              "      <th>2</th>\n",
              "      <td>3</td>\n",
              "      <td>4.7</td>\n",
              "      <td>3.2</td>\n",
              "      <td>1.3</td>\n",
              "      <td>0.2</td>\n",
              "      <td>Iris-setosa</td>\n",
              "    </tr>\n",
              "    <tr>\n",
              "      <th>3</th>\n",
              "      <td>4</td>\n",
              "      <td>4.6</td>\n",
              "      <td>3.1</td>\n",
              "      <td>1.5</td>\n",
              "      <td>0.2</td>\n",
              "      <td>Iris-setosa</td>\n",
              "    </tr>\n",
              "    <tr>\n",
              "      <th>4</th>\n",
              "      <td>5</td>\n",
              "      <td>5.0</td>\n",
              "      <td>3.6</td>\n",
              "      <td>1.4</td>\n",
              "      <td>0.2</td>\n",
              "      <td>Iris-setosa</td>\n",
              "    </tr>\n",
              "    <tr>\n",
              "      <th>...</th>\n",
              "      <td>...</td>\n",
              "      <td>...</td>\n",
              "      <td>...</td>\n",
              "      <td>...</td>\n",
              "      <td>...</td>\n",
              "      <td>...</td>\n",
              "    </tr>\n",
              "    <tr>\n",
              "      <th>145</th>\n",
              "      <td>146</td>\n",
              "      <td>6.7</td>\n",
              "      <td>3.0</td>\n",
              "      <td>5.2</td>\n",
              "      <td>2.3</td>\n",
              "      <td>Iris-virginica</td>\n",
              "    </tr>\n",
              "    <tr>\n",
              "      <th>146</th>\n",
              "      <td>147</td>\n",
              "      <td>6.3</td>\n",
              "      <td>2.5</td>\n",
              "      <td>5.0</td>\n",
              "      <td>1.9</td>\n",
              "      <td>Iris-virginica</td>\n",
              "    </tr>\n",
              "    <tr>\n",
              "      <th>147</th>\n",
              "      <td>148</td>\n",
              "      <td>6.5</td>\n",
              "      <td>3.0</td>\n",
              "      <td>5.2</td>\n",
              "      <td>2.0</td>\n",
              "      <td>Iris-virginica</td>\n",
              "    </tr>\n",
              "    <tr>\n",
              "      <th>148</th>\n",
              "      <td>149</td>\n",
              "      <td>6.2</td>\n",
              "      <td>3.4</td>\n",
              "      <td>5.4</td>\n",
              "      <td>2.3</td>\n",
              "      <td>Iris-virginica</td>\n",
              "    </tr>\n",
              "    <tr>\n",
              "      <th>149</th>\n",
              "      <td>150</td>\n",
              "      <td>5.9</td>\n",
              "      <td>3.0</td>\n",
              "      <td>5.1</td>\n",
              "      <td>1.8</td>\n",
              "      <td>Iris-virginica</td>\n",
              "    </tr>\n",
              "  </tbody>\n",
              "</table>\n",
              "<p>150 rows × 6 columns</p>\n",
              "</div>"
            ],
            "text/plain": [
              "      Id  SepalLengthCm  ...  PetalWidthCm         Species\n",
              "0      1            5.1  ...           0.2     Iris-setosa\n",
              "1      2            4.9  ...           0.2     Iris-setosa\n",
              "2      3            4.7  ...           0.2     Iris-setosa\n",
              "3      4            4.6  ...           0.2     Iris-setosa\n",
              "4      5            5.0  ...           0.2     Iris-setosa\n",
              "..   ...            ...  ...           ...             ...\n",
              "145  146            6.7  ...           2.3  Iris-virginica\n",
              "146  147            6.3  ...           1.9  Iris-virginica\n",
              "147  148            6.5  ...           2.0  Iris-virginica\n",
              "148  149            6.2  ...           2.3  Iris-virginica\n",
              "149  150            5.9  ...           1.8  Iris-virginica\n",
              "\n",
              "[150 rows x 6 columns]"
            ]
          },
          "metadata": {},
          "execution_count": 23
        }
      ]
    },
    {
      "cell_type": "code",
      "metadata": {
        "id": "JOh5CFosg51p"
      },
      "source": [
        "data = iris.iloc[1:,0:4]\n",
        "data_array = np.asarray(data, dtype=float)\n",
        "# iris_data\n",
        "\n",
        "iris_labels = data.iloc[1:, 3]\n",
        "iris_labels\n",
        "\n",
        "# iris_data = np.asarray(iris[1:,0:4], dtype=float)\n",
        "# iris_labels = iris[1:,4]"
      ],
      "execution_count": null,
      "outputs": []
    },
    {
      "cell_type": "code",
      "metadata": {
        "colab": {
          "base_uri": "https://localhost:8080/",
          "height": 423
        },
        "id": "klkb0UR4oR3V",
        "outputId": "d9c1ea6f-cd8d-4caa-93eb-f1e6f7df7bcd"
      },
      "source": [
        "data"
      ],
      "execution_count": 40,
      "outputs": [
        {
          "output_type": "execute_result",
          "data": {
            "text/html": [
              "<div>\n",
              "<style scoped>\n",
              "    .dataframe tbody tr th:only-of-type {\n",
              "        vertical-align: middle;\n",
              "    }\n",
              "\n",
              "    .dataframe tbody tr th {\n",
              "        vertical-align: top;\n",
              "    }\n",
              "\n",
              "    .dataframe thead th {\n",
              "        text-align: right;\n",
              "    }\n",
              "</style>\n",
              "<table border=\"1\" class=\"dataframe\">\n",
              "  <thead>\n",
              "    <tr style=\"text-align: right;\">\n",
              "      <th></th>\n",
              "      <th>Id</th>\n",
              "      <th>SepalLengthCm</th>\n",
              "      <th>SepalWidthCm</th>\n",
              "      <th>PetalLengthCm</th>\n",
              "    </tr>\n",
              "  </thead>\n",
              "  <tbody>\n",
              "    <tr>\n",
              "      <th>1</th>\n",
              "      <td>2</td>\n",
              "      <td>4.9</td>\n",
              "      <td>3.0</td>\n",
              "      <td>1.4</td>\n",
              "    </tr>\n",
              "    <tr>\n",
              "      <th>2</th>\n",
              "      <td>3</td>\n",
              "      <td>4.7</td>\n",
              "      <td>3.2</td>\n",
              "      <td>1.3</td>\n",
              "    </tr>\n",
              "    <tr>\n",
              "      <th>3</th>\n",
              "      <td>4</td>\n",
              "      <td>4.6</td>\n",
              "      <td>3.1</td>\n",
              "      <td>1.5</td>\n",
              "    </tr>\n",
              "    <tr>\n",
              "      <th>4</th>\n",
              "      <td>5</td>\n",
              "      <td>5.0</td>\n",
              "      <td>3.6</td>\n",
              "      <td>1.4</td>\n",
              "    </tr>\n",
              "    <tr>\n",
              "      <th>5</th>\n",
              "      <td>6</td>\n",
              "      <td>5.4</td>\n",
              "      <td>3.9</td>\n",
              "      <td>1.7</td>\n",
              "    </tr>\n",
              "    <tr>\n",
              "      <th>...</th>\n",
              "      <td>...</td>\n",
              "      <td>...</td>\n",
              "      <td>...</td>\n",
              "      <td>...</td>\n",
              "    </tr>\n",
              "    <tr>\n",
              "      <th>145</th>\n",
              "      <td>146</td>\n",
              "      <td>6.7</td>\n",
              "      <td>3.0</td>\n",
              "      <td>5.2</td>\n",
              "    </tr>\n",
              "    <tr>\n",
              "      <th>146</th>\n",
              "      <td>147</td>\n",
              "      <td>6.3</td>\n",
              "      <td>2.5</td>\n",
              "      <td>5.0</td>\n",
              "    </tr>\n",
              "    <tr>\n",
              "      <th>147</th>\n",
              "      <td>148</td>\n",
              "      <td>6.5</td>\n",
              "      <td>3.0</td>\n",
              "      <td>5.2</td>\n",
              "    </tr>\n",
              "    <tr>\n",
              "      <th>148</th>\n",
              "      <td>149</td>\n",
              "      <td>6.2</td>\n",
              "      <td>3.4</td>\n",
              "      <td>5.4</td>\n",
              "    </tr>\n",
              "    <tr>\n",
              "      <th>149</th>\n",
              "      <td>150</td>\n",
              "      <td>5.9</td>\n",
              "      <td>3.0</td>\n",
              "      <td>5.1</td>\n",
              "    </tr>\n",
              "  </tbody>\n",
              "</table>\n",
              "<p>149 rows × 4 columns</p>\n",
              "</div>"
            ],
            "text/plain": [
              "      Id  SepalLengthCm  SepalWidthCm  PetalLengthCm\n",
              "1      2            4.9           3.0            1.4\n",
              "2      3            4.7           3.2            1.3\n",
              "3      4            4.6           3.1            1.5\n",
              "4      5            5.0           3.6            1.4\n",
              "5      6            5.4           3.9            1.7\n",
              "..   ...            ...           ...            ...\n",
              "145  146            6.7           3.0            5.2\n",
              "146  147            6.3           2.5            5.0\n",
              "147  148            6.5           3.0            5.2\n",
              "148  149            6.2           3.4            5.4\n",
              "149  150            5.9           3.0            5.1\n",
              "\n",
              "[149 rows x 4 columns]"
            ]
          },
          "metadata": {},
          "execution_count": 40
        }
      ]
    },
    {
      "cell_type": "markdown",
      "metadata": {
        "id": "pKY4vBeeiWGk"
      },
      "source": [
        "#### Function to calculate distance "
      ]
    },
    {
      "cell_type": "code",
      "metadata": {
        "id": "hNoK-aZyit1r"
      },
      "source": [
        "def find_distance(p1, p2):\n",
        "\tdis = sum((p1 - p2)**2)**0.5\n",
        "\treturn dis"
      ],
      "execution_count": 26,
      "outputs": []
    },
    {
      "cell_type": "markdown",
      "metadata": {
        "id": "amotl6eZixs7"
      },
      "source": [
        "#### Function to assign each centroid to a cluster"
      ]
    },
    {
      "cell_type": "code",
      "metadata": {
        "id": "nrqBjjAXJWcV"
      },
      "source": [
        "def assign_clusters(centroids, data_array):\n",
        "    clusters = []\n",
        "    shape = data_array.shape[0]\n",
        "    print(shape)\n",
        "    for i in range(shape):\n",
        "        distances = []\n",
        "        for centroid in centroids:\n",
        "            temp_distance = find_distance(centroid, data_array[i])                              \n",
        "            distances.append(temp_distance)\n",
        "        single = [i for i, val in enumerate(distances) if val==min(distances)]\n",
        "        clusters.append(single[0])\n",
        "    return clusters"
      ],
      "execution_count": 32,
      "outputs": []
    },
    {
      "cell_type": "markdown",
      "metadata": {
        "id": "a9xSAX9OjIVO"
      },
      "source": [
        "#### Function to calculate centroids"
      ]
    },
    {
      "cell_type": "code",
      "metadata": {
        "id": "ekxXeLK1Jeei"
      },
      "source": [
        "def calc_centroids(clusters, data_array):\n",
        "    new_centroids = []\n",
        "    df = pd.concat([pd.DataFrame(data_array),pd.DataFrame(clusters, columns=['single'])],axis=1)\n",
        "    for c in set(df['single']):\n",
        "        current_cluster = df[df['single']\\==c][df.columns[:-1]]\n",
        "        cluster_mean = current_cluster.mean(axis=0)\n",
        "        new_centroids.append(cluster_mean)\n",
        "    return new_centroids"
      ],
      "execution_count": null,
      "outputs": []
    },
    {
      "cell_type": "markdown",
      "metadata": {
        "id": "qteu6w86jMjn"
      },
      "source": [
        "#### Function to calculate centroid variance"
      ]
    },
    {
      "cell_type": "code",
      "metadata": {
        "id": "8mbpEuJ7Jrtz"
      },
      "source": [
        "def calc_centroid_variance(clusters, cluster_array):\n",
        "    sum_squares = []\n",
        "    cluster_df = pd.concat([pd.DataFrame(cluster_array),\n",
        "                            pd.DataFrame(clusters, \n",
        "                                         columns=['cluster'])], \n",
        "                           axis=1)\n",
        "    for c in set(cluster_df['cluster']):\n",
        "        current_cluster = cluster_df[cluster_df['cluster']\\\n",
        "                                     ==c][cluster_df.columns[:-1]]\n",
        "        cluster_mean = current_cluster.mean(axis=0)\n",
        "        mean_repmat = np.matlib.repmat(cluster_mean, \n",
        "                                       current_cluster.shape[0],1)\n",
        "        sum_squares.append(np.sum(np.sum((current_cluster - mean_repmat)**2)))\n",
        "    return sum_squares"
      ],
      "execution_count": null,
      "outputs": []
    },
    {
      "cell_type": "markdown",
      "metadata": {
        "id": "s4wmqArwjTsk"
      },
      "source": [
        "#### Apply the functions to the dataset"
      ]
    },
    {
      "cell_type": "code",
      "metadata": {
        "id": "Odt_GsJFJviq"
      },
      "source": [
        "k = 4\n",
        "cluster_vars = []\n",
        "centroids = [cluster_array[i+2] for i in range(k)]\n",
        "clusters = assign_clusters(centroids, cluster_array)\n",
        "initial_clusters = clusters\n",
        "print(0, round(np.mean(calc_centroid_variance(clusters, cluster_array))))\n",
        "for i in range(20):\n",
        "    centroids = calc_centroids(clusters, cluster_array)\n",
        "    clusters = assign_clusters(centroids, cluster_array)\n",
        "    cluster_var = np.mean(calc_centroid_variance(clusters, \n",
        "                                                 cluster_array))\n",
        "    cluster_vars.append(cluster_var)\n",
        "    print(i+1, round(cluster_var))"
      ],
      "execution_count": null,
      "outputs": []
    },
    {
      "cell_type": "markdown",
      "metadata": {
        "id": "IpsHy3iyjaco"
      },
      "source": [
        "#### Visualization"
      ]
    },
    {
      "cell_type": "code",
      "metadata": {
        "colab": {
          "base_uri": "https://localhost:8080/",
          "height": 374
        },
        "id": "dEv8ipgWNhpp",
        "outputId": "0ef085ba-f90b-4da8-c1e3-d7b582eed906"
      },
      "source": [
        "plt.subplots(figsize=(9,6))\n",
        "plt.scatter(x=cluster_array[:,0], y=cluster_array[:,1], \n",
        "            c=clusters, cmap=plt.cm.Spectral);\n",
        "\n",
        "plt.savefig('final_clusters', bpi=150)"
      ],
      "execution_count": 39,
      "outputs": [
        {
          "output_type": "display_data",
          "data": {
            "image/png": "[encoded data removed]",
            "text/plain": [
              "<Figure size 648x432 with 1 Axes>"
            ]
          },
          "metadata": {
            "needs_background": "light"
          }
        }
      ]
    },
    {
      "cell_type": "markdown",
      "metadata": {
        "id": "JzstinoNjfUc"
      },
      "source": [
        "#### References : K-Means algorithm from Scratch\n",
        "\n",
        "\n",
        "1.   List item\n",
        "2.   List item\n",
        "\n"
      ]
    },
    {
      "cell_type": "markdown",
      "metadata": {
        "id": "UDleqrSGa-mr"
      },
      "source": [
        "## Hierarchial Clustering\n",
        "\n",
        "We use the same iris dataset. \n",
        "\n"
      ]
    },
    {
      "cell_type": "markdown",
      "metadata": {
        "id": "PfHVnKMbh31P"
      },
      "source": [
        "#### Data preparation for cluster analysis\n",
        "\n",
        "Scaling the dataset to a standard deviation of 1"
      ]
    },
    {
      "cell_type": "code",
      "metadata": {
        "id": "dKJlYpXebA8p"
      },
      "source": [
        "from scipy.cluster.vq import whiten\n",
        "scaled_data = whiten(data.to_numpy())"
      ],
      "execution_count": 34,
      "outputs": []
    },
    {
      "cell_type": "code",
      "metadata": {
        "colab": {
          "base_uri": "https://localhost:8080/",
          "height": 300
        },
        "id": "PyU_5afJikRH",
        "outputId": "8a10b38e-c5cf-496f-806b-220282c26a29"
      },
      "source": [
        "pd.DataFrame(scaled_data).describe()"
      ],
      "execution_count": 35,
      "outputs": [
        {
          "output_type": "execute_result",
          "data": {
            "text/html": [
              "<div>\n",
              "<style scoped>\n",
              "    .dataframe tbody tr th:only-of-type {\n",
              "        vertical-align: middle;\n",
              "    }\n",
              "\n",
              "    .dataframe tbody tr th {\n",
              "        vertical-align: top;\n",
              "    }\n",
              "\n",
              "    .dataframe thead th {\n",
              "        text-align: right;\n",
              "    }\n",
              "</style>\n",
              "<table border=\"1\" class=\"dataframe\">\n",
              "  <thead>\n",
              "    <tr style=\"text-align: right;\">\n",
              "      <th></th>\n",
              "      <th>0</th>\n",
              "      <th>1</th>\n",
              "      <th>2</th>\n",
              "      <th>3</th>\n",
              "    </tr>\n",
              "  </thead>\n",
              "  <tbody>\n",
              "    <tr>\n",
              "      <th>count</th>\n",
              "      <td>149.000000</td>\n",
              "      <td>149.000000</td>\n",
              "      <td>149.000000</td>\n",
              "      <td>149.000000</td>\n",
              "    </tr>\n",
              "    <tr>\n",
              "      <th>mean</th>\n",
              "      <td>1.766964</td>\n",
              "      <td>7.081932</td>\n",
              "      <td>7.061833</td>\n",
              "      <td>2.152260</td>\n",
              "    </tr>\n",
              "    <tr>\n",
              "      <th>std</th>\n",
              "      <td>1.003373</td>\n",
              "      <td>1.003373</td>\n",
              "      <td>1.003373</td>\n",
              "      <td>1.003373</td>\n",
              "    </tr>\n",
              "    <tr>\n",
              "      <th>min</th>\n",
              "      <td>0.046499</td>\n",
              "      <td>5.207016</td>\n",
              "      <td>4.629182</td>\n",
              "      <td>0.570211</td>\n",
              "    </tr>\n",
              "    <tr>\n",
              "      <th>25%</th>\n",
              "      <td>0.906732</td>\n",
              "      <td>6.175763</td>\n",
              "      <td>6.480855</td>\n",
              "      <td>0.912338</td>\n",
              "    </tr>\n",
              "    <tr>\n",
              "      <th>50%</th>\n",
              "      <td>1.766964</td>\n",
              "      <td>7.023417</td>\n",
              "      <td>6.943774</td>\n",
              "      <td>2.508929</td>\n",
              "    </tr>\n",
              "    <tr>\n",
              "      <th>75%</th>\n",
              "      <td>2.627197</td>\n",
              "      <td>7.749977</td>\n",
              "      <td>7.638151</td>\n",
              "      <td>2.908077</td>\n",
              "    </tr>\n",
              "    <tr>\n",
              "      <th>max</th>\n",
              "      <td>3.487429</td>\n",
              "      <td>9.566378</td>\n",
              "      <td>10.184201</td>\n",
              "      <td>3.934457</td>\n",
              "    </tr>\n",
              "  </tbody>\n",
              "</table>\n",
              "</div>"
            ],
            "text/plain": [
              "                0           1           2           3\n",
              "count  149.000000  149.000000  149.000000  149.000000\n",
              "mean     1.766964    7.081932    7.061833    2.152260\n",
              "std      1.003373    1.003373    1.003373    1.003373\n",
              "min      0.046499    5.207016    4.629182    0.570211\n",
              "25%      0.906732    6.175763    6.480855    0.912338\n",
              "50%      1.766964    7.023417    6.943774    2.508929\n",
              "75%      2.627197    7.749977    7.638151    2.908077\n",
              "max      3.487429    9.566378   10.184201    3.934457"
            ]
          },
          "metadata": {},
          "execution_count": 35
        }
      ]
    },
    {
      "cell_type": "markdown",
      "metadata": {
        "id": "5NkxJd6KjuJU"
      },
      "source": [
        "#### Use dendogram to decide the number of clusters"
      ]
    },
    {
      "cell_type": "code",
      "metadata": {
        "colab": {
          "base_uri": "https://localhost:8080/",
          "height": 444
        },
        "id": "IvgT0ZJQjYBV",
        "outputId": "b4922223-de15-4a24-a0b5-0d70c3d62ae3"
      },
      "source": [
        "import scipy.cluster.hierarchy as shc\n",
        "\n",
        "plt.figure(figsize=(10, 7))  \n",
        "plt.title(\"Dendrograms\")  \n",
        "dend = shc.dendrogram(shc.linkage(scaled_data, method='ward'))"
      ],
      "execution_count": 37,
      "outputs": [
        {
          "output_type": "display_data",
          "data": {
            "image/png": "[encoded data removed]",
            "text/plain": [
              "<Figure size 720x504 with 1 Axes>"
            ]
          },
          "metadata": {
            "needs_background": "light"
          }
        }
      ]
    },
    {
      "cell_type": "markdown",
      "metadata": {
        "id": "g8aA3QfCmqDn"
      },
      "source": [
        "#### From the above dendogram, we can consider the number of clusters as 3. Apply hierarchial clustering for 3 clusters"
      ]
    },
    {
      "cell_type": "code",
      "metadata": {
        "colab": {
          "base_uri": "https://localhost:8080/"
        },
        "id": "2B1ZmoN7nJT6",
        "outputId": "f535dfde-b4ee-4bac-9419-8a002bdee6dc"
      },
      "source": [
        "from sklearn.cluster import AgglomerativeClustering\n",
        "cluster = AgglomerativeClustering(n_clusters=3, affinity='euclidean', linkage='ward')  \n",
        "cluster.fit_predict(scaled_data)"
      ],
      "execution_count": 38,
      "outputs": [
        {
          "output_type": "execute_result",
          "data": {
            "text/plain": [
              "array([1, 1, 1, 1, 1, 1, 1, 1, 1, 1, 1, 1, 1, 1, 1, 1, 1, 1, 1, 1, 1, 1,\n",
              "       1, 1, 1, 1, 1, 1, 1, 1, 1, 1, 1, 1, 1, 1, 1, 1, 1, 1, 0, 1, 1, 1,\n",
              "       1, 1, 1, 1, 1, 0, 0, 0, 0, 0, 0, 0, 0, 0, 0, 0, 0, 0, 0, 0, 0, 0,\n",
              "       0, 0, 0, 0, 0, 0, 0, 0, 0, 0, 0, 0, 0, 0, 0, 0, 0, 0, 0, 0, 0, 0,\n",
              "       0, 0, 0, 0, 0, 0, 0, 0, 0, 0, 0, 2, 0, 2, 2, 2, 2, 0, 2, 2, 2, 2,\n",
              "       2, 2, 0, 0, 2, 2, 2, 2, 0, 2, 0, 2, 2, 2, 2, 2, 2, 2, 2, 2, 2, 2,\n",
              "       2, 2, 2, 2, 2, 2, 2, 2, 2, 2, 2, 2, 2, 2, 2, 2, 2])"
            ]
          },
          "metadata": {},
          "execution_count": 38
        }
      ]
    },
    {
      "cell_type": "markdown",
      "metadata": {
        "id": "ZqjYPeWypqzd"
      },
      "source": [
        "In the above we see three values 0,1,2 which represent the 3 clusters identified.\n",
        "\n",
        "1.  Cluster 1 --> 0\n",
        "2.  Cluster 2 --> 1\n",
        "3. Cluster 3 --> 2\n",
        "\n"
      ]
    },
    {
      "cell_type": "markdown",
      "metadata": {
        "id": "CvmhdNHwqkhd"
      },
      "source": [
        "#### Visualization"
      ]
    },
    {
      "cell_type": "code",
      "metadata": {
        "colab": {
          "base_uri": "https://localhost:8080/",
          "height": 447
        },
        "id": "1pXYuYtcn3a5",
        "outputId": "59b4b4a4-7b84-4643-f10c-184e114e774a"
      },
      "source": [
        "plt.figure(figsize=(10, 7))  \n",
        "# plt.scatter(scaled_data[0], scaled_data[1], c=scaled_data['cluster.labels_'])\n",
        "\n",
        "plt.scatter(data['SepalLengthCm'], data['SepalWidthCm'], c=cluster.labels_)\n",
        "\n"
      ],
      "execution_count": 46,
      "outputs": [
        {
          "output_type": "execute_result",
          "data": {
            "text/plain": [
              "<matplotlib.collections.PathCollection at 0x7f1195785990>"
            ]
          },
          "metadata": {},
          "execution_count": 46
        },
        {
          "output_type": "display_data",
          "data": {
            "image/png": "[encoded data removed]",
            "text/plain": [
              "<Figure size 720x504 with 1 Axes>"
            ]
          },
          "metadata": {
            "needs_background": "light"
          }
        }
      ]
    },
    {
      "cell_type": "markdown",
      "metadata": {
        "id": "mqOIHFSIqoI-"
      },
      "source": [
        "In the above plot we can clearly identify the three clusters forme"
      ]
    },
    {
      "cell_type": "markdown",
      "metadata": {
        "id": "i1PjPZj-qsvm"
      },
      "source": [
        "#### References : Hierarchial Clustering\n",
        "\n",
        "1.   https://www.analyticsvidhya.com/blog/2019/05/beginners-guide-hierarchical-clustering/\n",
        "2.   https://medium.com/swlh/hierarchical-clustering-in-python-9646cfddee35\n",
        "\n"
      ]
    },
    {
      "cell_type": "markdown",
      "metadata": {
        "id": "a4YSmZrsq62a"
      },
      "source": [
        "## Gaussian Mixture Models Clustering\n",
        "\n",
        "\n",
        "It is used to cluster unlabeled data, having advantages over k-means algorithm.\n",
        "\n",
        "1. GMM handles very oblong clusters\n",
        "2. GMM provides us with the probabilities that a given data point belongs to a possible cluster\n",
        "\n"
      ]
    },
    {
      "cell_type": "markdown",
      "metadata": {
        "id": "IGDh2HF9Csbq"
      },
      "source": [
        "### Feature Scaling\n",
        "\n",
        "To transform the data and normalize the features in a dataset into a finite range"
      ]
    },
    {
      "cell_type": "code",
      "metadata": {
        "colab": {
          "base_uri": "https://localhost:8080/",
          "height": 206
        },
        "id": "fRODVCSnCu1Z",
        "outputId": "3532c7db-d961-42d6-9c15-9ad8c822ca4b"
      },
      "source": [
        "from sklearn import preprocessing\n",
        "import matplotlib as mpl\n",
        "\n",
        "\n",
        "scaler = preprocessing.StandardScaler()\n",
        "\n",
        "scaler.fit(data)\n",
        "X_scaled_array = scaler.transform(data)\n",
        "X_scaled = pd.DataFrame(X_scaled_array, columns = data.columns)\n",
        "\n",
        "X_scaled.sample(5)"
      ],
      "execution_count": 59,
      "outputs": [
        {
          "output_type": "execute_result",
          "data": {
            "text/html": [
              "<div>\n",
              "<style scoped>\n",
              "    .dataframe tbody tr th:only-of-type {\n",
              "        vertical-align: middle;\n",
              "    }\n",
              "\n",
              "    .dataframe tbody tr th {\n",
              "        vertical-align: top;\n",
              "    }\n",
              "\n",
              "    .dataframe thead th {\n",
              "        text-align: right;\n",
              "    }\n",
              "</style>\n",
              "<table border=\"1\" class=\"dataframe\">\n",
              "  <thead>\n",
              "    <tr style=\"text-align: right;\">\n",
              "      <th></th>\n",
              "      <th>Id</th>\n",
              "      <th>SepalLengthCm</th>\n",
              "      <th>SepalWidthCm</th>\n",
              "      <th>PetalLengthCm</th>\n",
              "    </tr>\n",
              "  </thead>\n",
              "  <tbody>\n",
              "    <tr>\n",
              "      <th>90</th>\n",
              "      <td>0.371992</td>\n",
              "      <td>0.304765</td>\n",
              "      <td>-0.118060</td>\n",
              "      <td>0.470711</td>\n",
              "    </tr>\n",
              "    <tr>\n",
              "      <th>20</th>\n",
              "      <td>-1.255474</td>\n",
              "      <td>-0.906169</td>\n",
              "      <td>1.502154</td>\n",
              "      <td>-1.296943</td>\n",
              "    </tr>\n",
              "    <tr>\n",
              "      <th>120</th>\n",
              "      <td>1.069478</td>\n",
              "      <td>-0.300702</td>\n",
              "      <td>-0.580978</td>\n",
              "      <td>0.641775</td>\n",
              "    </tr>\n",
              "    <tr>\n",
              "      <th>17</th>\n",
              "      <td>-1.325223</td>\n",
              "      <td>-0.179608</td>\n",
              "      <td>1.733613</td>\n",
              "      <td>-1.182901</td>\n",
              "    </tr>\n",
              "    <tr>\n",
              "      <th>108</th>\n",
              "      <td>0.790484</td>\n",
              "      <td>1.636793</td>\n",
              "      <td>1.270695</td>\n",
              "      <td>1.326028</td>\n",
              "    </tr>\n",
              "  </tbody>\n",
              "</table>\n",
              "</div>"
            ],
            "text/plain": [
              "           Id  SepalLengthCm  SepalWidthCm  PetalLengthCm\n",
              "90   0.371992       0.304765     -0.118060       0.470711\n",
              "20  -1.255474      -0.906169      1.502154      -1.296943\n",
              "120  1.069478      -0.300702     -0.580978       0.641775\n",
              "17  -1.325223      -0.179608      1.733613      -1.182901\n",
              "108  0.790484       1.636793      1.270695       1.326028"
            ]
          },
          "metadata": {},
          "execution_count": 59
        }
      ]
    },
    {
      "cell_type": "markdown",
      "metadata": {
        "id": "bnkWbL3gDRfJ"
      },
      "source": [
        "### Principal Component Analysis\n",
        "\n",
        "We reduce the features based on Principal Component Analysis. \n"
      ]
    },
    {
      "cell_type": "code",
      "metadata": {
        "colab": {
          "base_uri": "https://localhost:8080/",
          "height": 206
        },
        "id": "aw3VLVKYtdHp",
        "outputId": "1e68980a-4221-4b75-92e2-82fee57e5154"
      },
      "source": [
        "from sklearn.decomposition import PCA\n",
        "\n",
        "ndimensions = 2\n",
        "seed = 0\n",
        "\n",
        "pca = PCA(n_components=ndimensions, random_state=seed)\n",
        "pca.fit(X_scaled)\n",
        "X_pca_array = pca.transform(X_scaled)\n",
        "X_pca = pd.DataFrame(X_pca_array, columns=['PC1','PC2']) # PC=principal component\n",
        "X_pca.sample(5)"
      ],
      "execution_count": 50,
      "outputs": [
        {
          "output_type": "execute_result",
          "data": {
            "text/html": [
              "<div>\n",
              "<style scoped>\n",
              "    .dataframe tbody tr th:only-of-type {\n",
              "        vertical-align: middle;\n",
              "    }\n",
              "\n",
              "    .dataframe tbody tr th {\n",
              "        vertical-align: top;\n",
              "    }\n",
              "\n",
              "    .dataframe thead th {\n",
              "        text-align: right;\n",
              "    }\n",
              "</style>\n",
              "<table border=\"1\" class=\"dataframe\">\n",
              "  <thead>\n",
              "    <tr style=\"text-align: right;\">\n",
              "      <th></th>\n",
              "      <th>PC1</th>\n",
              "      <th>PC2</th>\n",
              "    </tr>\n",
              "  </thead>\n",
              "  <tbody>\n",
              "    <tr>\n",
              "      <th>30</th>\n",
              "      <td>-1.837933</td>\n",
              "      <td>0.415654</td>\n",
              "    </tr>\n",
              "    <tr>\n",
              "      <th>74</th>\n",
              "      <td>0.714810</td>\n",
              "      <td>0.295379</td>\n",
              "    </tr>\n",
              "    <tr>\n",
              "      <th>4</th>\n",
              "      <td>-2.435051</td>\n",
              "      <td>1.466645</td>\n",
              "    </tr>\n",
              "    <tr>\n",
              "      <th>97</th>\n",
              "      <td>-0.069939</td>\n",
              "      <td>-1.557481</td>\n",
              "    </tr>\n",
              "    <tr>\n",
              "      <th>132</th>\n",
              "      <td>1.638463</td>\n",
              "      <td>-0.239434</td>\n",
              "    </tr>\n",
              "  </tbody>\n",
              "</table>\n",
              "</div>"
            ],
            "text/plain": [
              "          PC1       PC2\n",
              "30  -1.837933  0.415654\n",
              "74   0.714810  0.295379\n",
              "4   -2.435051  1.466645\n",
              "97  -0.069939 -1.557481\n",
              "132  1.638463 -0.239434"
            ]
          },
          "metadata": {},
          "execution_count": 50
        }
      ]
    },
    {
      "cell_type": "code",
      "metadata": {
        "colab": {
          "base_uri": "https://localhost:8080/",
          "height": 206
        },
        "id": "FxH3vM54HcsM",
        "outputId": "729fec08-66b8-40ba-9cfd-164517868406"
      },
      "source": [
        "# y_id_array = pd.Categorical.from_array(iris['Species']).codes\n",
        "\n",
        "df_plot = X_pca.copy()\n",
        "df_plot.sample(5)"
      ],
      "execution_count": 57,
      "outputs": [
        {
          "output_type": "execute_result",
          "data": {
            "text/html": [
              "<div>\n",
              "<style scoped>\n",
              "    .dataframe tbody tr th:only-of-type {\n",
              "        vertical-align: middle;\n",
              "    }\n",
              "\n",
              "    .dataframe tbody tr th {\n",
              "        vertical-align: top;\n",
              "    }\n",
              "\n",
              "    .dataframe thead th {\n",
              "        text-align: right;\n",
              "    }\n",
              "</style>\n",
              "<table border=\"1\" class=\"dataframe\">\n",
              "  <thead>\n",
              "    <tr style=\"text-align: right;\">\n",
              "      <th></th>\n",
              "      <th>PC1</th>\n",
              "      <th>PC2</th>\n",
              "    </tr>\n",
              "  </thead>\n",
              "  <tbody>\n",
              "    <tr>\n",
              "      <th>70</th>\n",
              "      <td>0.347336</td>\n",
              "      <td>-0.392119</td>\n",
              "    </tr>\n",
              "    <tr>\n",
              "      <th>55</th>\n",
              "      <td>0.184513</td>\n",
              "      <td>0.780021</td>\n",
              "    </tr>\n",
              "    <tr>\n",
              "      <th>3</th>\n",
              "      <td>-2.601806</td>\n",
              "      <td>0.624070</td>\n",
              "    </tr>\n",
              "    <tr>\n",
              "      <th>140</th>\n",
              "      <td>1.920651</td>\n",
              "      <td>0.694966</td>\n",
              "    </tr>\n",
              "    <tr>\n",
              "      <th>29</th>\n",
              "      <td>-1.996619</td>\n",
              "      <td>-0.513788</td>\n",
              "    </tr>\n",
              "  </tbody>\n",
              "</table>\n",
              "</div>"
            ],
            "text/plain": [
              "          PC1       PC2\n",
              "70   0.347336 -0.392119\n",
              "55   0.184513  0.780021\n",
              "3   -2.601806  0.624070\n",
              "140  1.920651  0.694966\n",
              "29  -1.996619 -0.513788"
            ]
          },
          "metadata": {},
          "execution_count": 57
        }
      ]
    },
    {
      "cell_type": "code",
      "metadata": {
        "colab": {
          "base_uri": "https://localhost:8080/"
        },
        "id": "E9jziO6Qrr_4",
        "outputId": "117b279e-ae89-47c1-bad3-28b095a6222a"
      },
      "source": [
        "from sklearn.mixture import GaussianMixture\n",
        "\n",
        "nclusters = 3\n",
        "gmm = GaussianMixture(n_components=nclusters)\n",
        "gmm.fit(X_scaled)\n",
        "\n",
        "# predict the cluster for each data point\n",
        "y_cluster_gmm = gmm.predict(X_scaled)\n",
        "y_cluster_gmm"
      ],
      "execution_count": 52,
      "outputs": [
        {
          "output_type": "execute_result",
          "data": {
            "text/plain": [
              "array([0, 0, 0, 0, 0, 0, 0, 0, 0, 0, 0, 0, 0, 0, 0, 0, 0, 0, 0, 0, 0, 0,\n",
              "       0, 0, 0, 0, 0, 0, 0, 0, 0, 0, 0, 0, 0, 0, 0, 0, 0, 0, 0, 0, 0, 0,\n",
              "       0, 0, 0, 0, 0, 1, 1, 1, 1, 1, 1, 1, 1, 1, 1, 1, 1, 1, 1, 1, 1, 1,\n",
              "       1, 1, 1, 1, 1, 1, 1, 1, 1, 1, 1, 1, 1, 1, 1, 1, 1, 1, 1, 1, 1, 1,\n",
              "       1, 1, 1, 1, 1, 1, 1, 1, 1, 1, 1, 2, 2, 2, 2, 2, 2, 2, 2, 2, 2, 2,\n",
              "       2, 2, 2, 2, 2, 2, 2, 2, 2, 2, 2, 2, 2, 2, 2, 2, 2, 2, 2, 2, 2, 2,\n",
              "       2, 2, 2, 2, 2, 2, 2, 2, 2, 2, 2, 2, 2, 2, 2, 2, 2])"
            ]
          },
          "metadata": {},
          "execution_count": 52
        }
      ]
    },
    {
      "cell_type": "markdown",
      "metadata": {
        "id": "HbBXtfA3ECa2"
      },
      "source": [
        "### Function for plotting graph"
      ]
    },
    {
      "cell_type": "code",
      "metadata": {
        "id": "6nu8C0b6EjRH"
      },
      "source": [
        "def plotData(df, groupby):\n",
        "    \n",
        "    fig, ax = plt.subplots(figsize = (7,7))\n",
        "    cmap = mpl.cm.get_cmap('prism')\n",
        "\n",
        "    for i, cluster in df.groupby(groupby):\n",
        "        cluster.plot(ax = ax, # need to pass this so all scatterplots are on same graph\n",
        "                     kind = 'scatter', \n",
        "                     x = 'PC1', y = 'PC2',\n",
        "                     color = cmap(i/(nclusters-1)), # cmap maps a number to a color\n",
        "                    #  label = \"%s %i\" % (groupby, i), \n",
        "                     s=30) # dot size\n",
        "    "
      ],
      "execution_count": 65,
      "outputs": []
    },
    {
      "cell_type": "code",
      "metadata": {
        "colab": {
          "base_uri": "https://localhost:8080/",
          "height": 442
        },
        "id": "UQASCRz_GslG",
        "outputId": "f31b0bf6-e0d4-4f89-a5a9-4dff57512353"
      },
      "source": [
        "df_plot['ClusterGMM'] = y_cluster_gmm\n",
        "plotData(df_plot, 'ClusterGMM')"
      ],
      "execution_count": 66,
      "outputs": [
        {
          "output_type": "display_data",
          "data": {
            "image/png": "[encoded data removed]",
            "text/plain": [
              "<Figure size 504x504 with 1 Axes>"
            ]
          },
          "metadata": {
            "needs_background": "light"
          }
        }
      ]
    },
    {
      "cell_type": "markdown",
      "metadata": {
        "id": "J7oRttezI8z7"
      },
      "source": [
        "### References : Gaussian Mixture Model\n",
        "\n",
        "https://www.kaggle.com/bburns/iris-exploration-pca-k-means-and-gmm-clustering"
      ]
    },
    {
      "cell_type": "markdown",
      "metadata": {
        "id": "hribg97lNQQr"
      },
      "source": [
        "## DBSCAN Clustering\n",
        "\n",
        "Used as an alternative to K-Means clustering algorithm, where we need not provide initial number of  clusters, but tune two other parameters called eps and min_samples parameters.\n",
        "\n",
        "1.   Eps parameter is the maximum distance between two data points to be considered in the same neighborhood.\n",
        "\n",
        "2.  The min_sample parameter is the minimum amount of data points in a neighborhood to be considered a cluster.\n",
        "\n",
        "These parameters are necessary to find out the density of each cluster."
      ]
    },
    {
      "cell_type": "markdown",
      "metadata": {
        "id": "Kss0v-WVUtal"
      },
      "source": [
        "#### Create an instance of DB Scan"
      ]
    },
    {
      "cell_type": "code",
      "metadata": {
        "id": "3VK0PAdnUtPx"
      },
      "source": [
        "from sklearn.cluster import DBSCAN\n",
        "dbscan = DBSCAN()"
      ],
      "execution_count": 68,
      "outputs": []
    },
    {
      "cell_type": "code",
      "metadata": {
        "colab": {
          "base_uri": "https://localhost:8080/"
        },
        "id": "wUwJidrdRS3Q",
        "outputId": "d2ba796b-7f08-4106-c428-d94be4e1d536"
      },
      "source": [
        "Y_preds = dbscan.fit_predict(X_pca_array)\n",
        "Y_preds"
      ],
      "execution_count": 71,
      "outputs": [
        {
          "output_type": "execute_result",
          "data": {
            "text/plain": [
              "array([ 0,  0,  0,  0,  0,  0,  0,  0,  0,  0,  0,  0,  0,  0, -1,  0,  0,\n",
              "        0,  0,  0,  0,  0,  0,  0,  0,  0,  0,  0,  0,  0,  0,  0,  0,  0,\n",
              "        0,  0,  0,  0,  0,  0, -1,  0,  0,  0,  0,  0,  0,  0,  0,  1,  1,\n",
              "        1,  1,  1,  1,  1, -1,  1, -1, -1,  1,  1,  1,  1,  1,  1,  1,  1,\n",
              "        1,  1,  1,  1,  1,  1,  1,  1,  1,  1,  1,  1,  1,  1,  1,  1,  1,\n",
              "        1,  1,  1,  1,  1,  1,  1,  1,  1,  1,  1,  1,  1,  1,  1,  1,  1,\n",
              "        1,  1,  1,  1,  1,  1, -1,  1,  1,  1,  1,  1,  1,  1, -1,  1, -1,\n",
              "        1,  1,  1,  1,  1,  1,  1,  1,  1,  1,  1, -1,  1,  1,  1,  1,  1,\n",
              "        1,  1,  1,  1,  1,  1,  1,  1,  1,  1,  1,  1,  1])"
            ]
          },
          "metadata": {},
          "execution_count": 71
        }
      ]
    },
    {
      "cell_type": "markdown",
      "metadata": {
        "id": "YfajcYm0hOWb"
      },
      "source": [
        "#### Evaluating performance of DB Scan"
      ]
    },
    {
      "cell_type": "code",
      "metadata": {
        "id": "dN-RxhyGhfmW"
      },
      "source": [
        ""
      ],
      "execution_count": null,
      "outputs": []
    },
    {
      "cell_type": "code",
      "metadata": {
        "colab": {
          "base_uri": "https://localhost:8080/"
        },
        "id": "rY5aNCGLbPUa",
        "outputId": "0cca569e-bd6d-4819-9290-f8875eea56b4"
      },
      "source": [
        "db = DBSCAN(eps=0.5, min_samples=5, )\n",
        "pred = db.fit_predict(X_pca_array)\n",
        "\n",
        "pred"
      ],
      "execution_count": 83,
      "outputs": [
        {
          "output_type": "execute_result",
          "data": {
            "text/plain": [
              "array([ 0,  0,  0,  0,  0,  0,  0,  0,  0,  0,  0,  0,  0,  0, -1,  0,  0,\n",
              "        0,  0,  0,  0,  0,  0,  0,  0,  0,  0,  0,  0,  0,  0,  0,  0,  0,\n",
              "        0,  0,  0,  0,  0,  0, -1,  0,  0,  0,  0,  0,  0,  0,  0,  1,  1,\n",
              "        1,  1,  1,  1,  1, -1,  1, -1, -1,  1,  1,  1,  1,  1,  1,  1,  1,\n",
              "        1,  1,  1,  1,  1,  1,  1,  1,  1,  1,  1,  1,  1,  1,  1,  1,  1,\n",
              "        1,  1,  1,  1,  1,  1,  1,  1,  1,  1,  1,  1,  1,  1,  1,  1,  1,\n",
              "        1,  1,  1,  1,  1,  1, -1,  1,  1,  1,  1,  1,  1,  1, -1,  1, -1,\n",
              "        1,  1,  1,  1,  1,  1,  1,  1,  1,  1,  1, -1,  1,  1,  1,  1,  1,\n",
              "        1,  1,  1,  1,  1,  1,  1,  1,  1,  1,  1,  1,  1])"
            ]
          },
          "metadata": {},
          "execution_count": 83
        }
      ]
    },
    {
      "cell_type": "code",
      "metadata": {
        "colab": {
          "base_uri": "https://localhost:8080/",
          "height": 281
        },
        "id": "lP1rinEueNiy",
        "outputId": "db3c104b-1e06-49ad-cff7-27ef2f8de30c"
      },
      "source": [
        "for i in range(0, X_pca_array.shape[0]):\n",
        "  if db.labels_[i] == 0:\n",
        "    c1 = plt.scatter(X_pca_array[i,0],X_pca_array[i,1],c='r', marker='+')\n",
        "  elif db.labels_[i] == 1:\n",
        "    c2 = plt.scatter(X_pca_array[i,0],X_pca_array[i,1],c='g',\n",
        "    marker='o')\n",
        "  elif db.labels_[i] == -1:\n",
        "    c3 = plt.scatter(X_pca_array[i,0],X_pca_array[i,1],c='b',\n",
        "    marker='*')\n",
        "plt.legend([c1, c2, c3], ['Cluster 1', 'Cluster 2','Noise'])\n",
        "plt.title('DBSCAN')\n",
        "plt.show()"
      ],
      "execution_count": 86,
      "outputs": [
        {
          "output_type": "display_data",
          "data": {
            "image/png": "[encoded data removed]",
            "text/plain": [
              "<Figure size 432x288 with 1 Axes>"
            ]
          },
          "metadata": {
            "needs_background": "light"
          }
        }
      ]
    },
    {
      "cell_type": "markdown",
      "metadata": {
        "id": "lzO9K9H9QyXQ"
      },
      "source": [
        "### References : DB Scan Clustering\n",
        "\n",
        "\n",
        "1.   https://www.dummies.com/programming/big-data/data-science/how-to-create-an-unsupervised-learning-model-with-dbscan/\n",
        "2.   https://coderzcolumn.com/tutorials/machine-learning/scikit-learn-sklearn-clustering-dbscan\n",
        "\n"
      ]
    }
  ]
}