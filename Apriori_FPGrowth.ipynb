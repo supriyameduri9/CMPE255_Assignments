{
  "nbformat": 4,
  "nbformat_minor": 0,
  "metadata": {
    "colab": {
      "name": "Apriori_FPGrowth.ipynb",
      "provenance": [],
      "toc_visible": true,
      "authorship_tag": "ABX9TyNw0BX+p17T6HEdlmFAGMOZ",
      "include_colab_link": true
    },
    "kernelspec": {
      "name": "python3",
      "display_name": "Python 3"
    },
    "language_info": {
      "name": "python"
    }
  },
  "cells": [
    {
      "cell_type": "markdown",
      "metadata": {
        "id": "view-in-github",
        "colab_type": "text"
      },
      "source": [
        "<a href=\"https://colab.research.google.com/github/supriyameduri9/CMPE255_Assignments/blob/main/Apriori_FPGrowth.ipynb\" target=\"_parent\"><img src=\"https://colab.research.google.com/assets/colab-badge.svg\" alt=\"Open In Colab\"/></a>"
      ]
    },
    {
      "cell_type": "markdown",
      "source": [
        "# Frequent Pattern Mining Algorithms\n",
        "\n",
        " "
      ],
      "metadata": {
        "id": "uBwy86yWMDHa"
      }
    },
    {
      "cell_type": "markdown",
      "source": [
        "## Apriori Algorithm\n",
        "\n",
        "Apriori Algorithm is a Machine Learning algorithm which is used to gain insight into the structured relationships between different items involved. The most prominent practical application of the algorithm is to recommend products based on the products already present in the user’s cart. Walmart especially has made great use of the algorithm in suggesting products to it’s users."
      ],
      "metadata": {
        "id": "cs-rp1nZMWFm"
      }
    },
    {
      "cell_type": "markdown",
      "source": [
        "### Import Dependencies"
      ],
      "metadata": {
        "id": "Z_oUwF44MTv0"
      }
    },
    {
      "cell_type": "code",
      "source": [
        "pip install mlxtend --user"
      ],
      "metadata": {
        "colab": {
          "base_uri": "https://localhost:8080/"
        },
        "id": "nSo2czmzDbtJ",
        "outputId": "f41a6bcd-ab12-496f-c7fe-12f5cc02644f"
      },
      "execution_count": 1,
      "outputs": [
        {
          "output_type": "stream",
          "name": "stdout",
          "text": [
            "Requirement already satisfied: mlxtend in /usr/local/lib/python3.7/dist-packages (0.19.0)\n",
            "Requirement already satisfied: setuptools in /usr/local/lib/python3.7/dist-packages (from mlxtend) (57.4.0)\n",
            "Requirement already satisfied: pandas>=0.24.2 in /usr/local/lib/python3.7/dist-packages (from mlxtend) (1.1.5)\n",
            "Requirement already satisfied: matplotlib>=3.0.0 in /usr/local/lib/python3.7/dist-packages (from mlxtend) (3.2.2)\n",
            "Requirement already satisfied: joblib>=0.13.2 in /usr/local/lib/python3.7/dist-packages (from mlxtend) (1.1.0)\n",
            "Requirement already satisfied: numpy>=1.16.2 in /usr/local/lib/python3.7/dist-packages (from mlxtend) (1.19.5)\n",
            "Requirement already satisfied: scikit-learn>=0.20.3 in /usr/local/lib/python3.7/dist-packages (from mlxtend) (1.0.1)\n",
            "Requirement already satisfied: scipy>=1.2.1 in /usr/local/lib/python3.7/dist-packages (from mlxtend) (1.4.1)\n",
            "Requirement already satisfied: kiwisolver>=1.0.1 in /usr/local/lib/python3.7/dist-packages (from matplotlib>=3.0.0->mlxtend) (1.3.2)\n",
            "Requirement already satisfied: python-dateutil>=2.1 in /usr/local/lib/python3.7/dist-packages (from matplotlib>=3.0.0->mlxtend) (2.8.2)\n",
            "Requirement already satisfied: pyparsing!=2.0.4,!=2.1.2,!=2.1.6,>=2.0.1 in /usr/local/lib/python3.7/dist-packages (from matplotlib>=3.0.0->mlxtend) (3.0.6)\n",
            "Requirement already satisfied: cycler>=0.10 in /usr/local/lib/python3.7/dist-packages (from matplotlib>=3.0.0->mlxtend) (0.11.0)\n",
            "Requirement already satisfied: pytz>=2017.2 in /usr/local/lib/python3.7/dist-packages (from pandas>=0.24.2->mlxtend) (2018.9)\n",
            "Requirement already satisfied: six>=1.5 in /usr/local/lib/python3.7/dist-packages (from python-dateutil>=2.1->matplotlib>=3.0.0->mlxtend) (1.15.0)\n",
            "Requirement already satisfied: threadpoolctl>=2.0.0 in /usr/local/lib/python3.7/dist-packages (from scikit-learn>=0.20.3->mlxtend) (3.0.0)\n"
          ]
        }
      ]
    },
    {
      "cell_type": "code",
      "source": [
        "%pip install mlxtend --upgrade"
      ],
      "metadata": {
        "colab": {
          "base_uri": "https://localhost:8080/"
        },
        "id": "syB2wR_NEE7k",
        "outputId": "0ab1ab28-e517-4c47-e4b2-b544860b32e5"
      },
      "execution_count": 2,
      "outputs": [
        {
          "output_type": "stream",
          "name": "stdout",
          "text": [
            "Requirement already satisfied: mlxtend in /usr/local/lib/python3.7/dist-packages (0.19.0)\n",
            "Requirement already satisfied: numpy>=1.16.2 in /usr/local/lib/python3.7/dist-packages (from mlxtend) (1.19.5)\n",
            "Requirement already satisfied: matplotlib>=3.0.0 in /usr/local/lib/python3.7/dist-packages (from mlxtend) (3.2.2)\n",
            "Requirement already satisfied: pandas>=0.24.2 in /usr/local/lib/python3.7/dist-packages (from mlxtend) (1.1.5)\n",
            "Requirement already satisfied: joblib>=0.13.2 in /usr/local/lib/python3.7/dist-packages (from mlxtend) (1.1.0)\n",
            "Requirement already satisfied: setuptools in /usr/local/lib/python3.7/dist-packages (from mlxtend) (57.4.0)\n",
            "Requirement already satisfied: scikit-learn>=0.20.3 in /usr/local/lib/python3.7/dist-packages (from mlxtend) (1.0.1)\n",
            "Requirement already satisfied: scipy>=1.2.1 in /usr/local/lib/python3.7/dist-packages (from mlxtend) (1.4.1)\n",
            "Requirement already satisfied: kiwisolver>=1.0.1 in /usr/local/lib/python3.7/dist-packages (from matplotlib>=3.0.0->mlxtend) (1.3.2)\n",
            "Requirement already satisfied: pyparsing!=2.0.4,!=2.1.2,!=2.1.6,>=2.0.1 in /usr/local/lib/python3.7/dist-packages (from matplotlib>=3.0.0->mlxtend) (3.0.6)\n",
            "Requirement already satisfied: cycler>=0.10 in /usr/local/lib/python3.7/dist-packages (from matplotlib>=3.0.0->mlxtend) (0.11.0)\n",
            "Requirement already satisfied: python-dateutil>=2.1 in /usr/local/lib/python3.7/dist-packages (from matplotlib>=3.0.0->mlxtend) (2.8.2)\n",
            "Requirement already satisfied: pytz>=2017.2 in /usr/local/lib/python3.7/dist-packages (from pandas>=0.24.2->mlxtend) (2018.9)\n",
            "Requirement already satisfied: six>=1.5 in /usr/local/lib/python3.7/dist-packages (from python-dateutil>=2.1->matplotlib>=3.0.0->mlxtend) (1.15.0)\n",
            "Requirement already satisfied: threadpoolctl>=2.0.0 in /usr/local/lib/python3.7/dist-packages (from scikit-learn>=0.20.3->mlxtend) (3.0.0)\n"
          ]
        }
      ]
    },
    {
      "cell_type": "code",
      "source": [
        "\n",
        "import numpy as np\n",
        "import pandas as pd\n",
        "from mlxtend.frequent_patterns import apriori, association_rules, fpgrowth"
      ],
      "metadata": {
        "id": "vDy4NlahzY8y"
      },
      "execution_count": 4,
      "outputs": []
    },
    {
      "cell_type": "markdown",
      "source": [
        "### Load google drive"
      ],
      "metadata": {
        "id": "h1RB0H3cMbbp"
      }
    },
    {
      "cell_type": "code",
      "source": [
        "from google.colab import drive\n",
        "drive._mount('/content/drive')"
      ],
      "metadata": {
        "colab": {
          "base_uri": "https://localhost:8080/"
        },
        "id": "Ru5XGV4N0_vc",
        "outputId": "0435a9ba-56d7-4113-f065-907582878a77"
      },
      "execution_count": 5,
      "outputs": [
        {
          "output_type": "stream",
          "name": "stdout",
          "text": [
            "Mounted at /content/drive\n"
          ]
        }
      ]
    },
    {
      "cell_type": "markdown",
      "source": [
        "### Dataset\n",
        "\n",
        "I used UCI groceries [dataset](http://archive.ics.uci.edu/ml/datasets/Online+Retail) which contains all the transactions for a UK based online retail store"
      ],
      "metadata": {
        "id": "V3-g45uPMel1"
      }
    },
    {
      "cell_type": "code",
      "source": [
        "data = pd.read_excel('/content/drive/MyDrive/Online Retail.xlsx')\n",
        "data.head()"
      ],
      "metadata": {
        "colab": {
          "base_uri": "https://localhost:8080/",
          "height": 206
        },
        "id": "Squq2JhM1MUx",
        "outputId": "5d3cb6e2-ebbe-46d4-e8d1-0e5c69cebe4f"
      },
      "execution_count": 6,
      "outputs": [
        {
          "output_type": "execute_result",
          "data": {
            "text/html": [
              "<div>\n",
              "<style scoped>\n",
              "    .dataframe tbody tr th:only-of-type {\n",
              "        vertical-align: middle;\n",
              "    }\n",
              "\n",
              "    .dataframe tbody tr th {\n",
              "        vertical-align: top;\n",
              "    }\n",
              "\n",
              "    .dataframe thead th {\n",
              "        text-align: right;\n",
              "    }\n",
              "</style>\n",
              "<table border=\"1\" class=\"dataframe\">\n",
              "  <thead>\n",
              "    <tr style=\"text-align: right;\">\n",
              "      <th></th>\n",
              "      <th>InvoiceNo</th>\n",
              "      <th>StockCode</th>\n",
              "      <th>Description</th>\n",
              "      <th>Quantity</th>\n",
              "      <th>InvoiceDate</th>\n",
              "      <th>UnitPrice</th>\n",
              "      <th>CustomerID</th>\n",
              "      <th>Country</th>\n",
              "    </tr>\n",
              "  </thead>\n",
              "  <tbody>\n",
              "    <tr>\n",
              "      <th>0</th>\n",
              "      <td>536365</td>\n",
              "      <td>85123A</td>\n",
              "      <td>WHITE HANGING HEART T-LIGHT HOLDER</td>\n",
              "      <td>6</td>\n",
              "      <td>2010-12-01 08:26:00</td>\n",
              "      <td>2.55</td>\n",
              "      <td>17850.0</td>\n",
              "      <td>United Kingdom</td>\n",
              "    </tr>\n",
              "    <tr>\n",
              "      <th>1</th>\n",
              "      <td>536365</td>\n",
              "      <td>71053</td>\n",
              "      <td>WHITE METAL LANTERN</td>\n",
              "      <td>6</td>\n",
              "      <td>2010-12-01 08:26:00</td>\n",
              "      <td>3.39</td>\n",
              "      <td>17850.0</td>\n",
              "      <td>United Kingdom</td>\n",
              "    </tr>\n",
              "    <tr>\n",
              "      <th>2</th>\n",
              "      <td>536365</td>\n",
              "      <td>84406B</td>\n",
              "      <td>CREAM CUPID HEARTS COAT HANGER</td>\n",
              "      <td>8</td>\n",
              "      <td>2010-12-01 08:26:00</td>\n",
              "      <td>2.75</td>\n",
              "      <td>17850.0</td>\n",
              "      <td>United Kingdom</td>\n",
              "    </tr>\n",
              "    <tr>\n",
              "      <th>3</th>\n",
              "      <td>536365</td>\n",
              "      <td>84029G</td>\n",
              "      <td>KNITTED UNION FLAG HOT WATER BOTTLE</td>\n",
              "      <td>6</td>\n",
              "      <td>2010-12-01 08:26:00</td>\n",
              "      <td>3.39</td>\n",
              "      <td>17850.0</td>\n",
              "      <td>United Kingdom</td>\n",
              "    </tr>\n",
              "    <tr>\n",
              "      <th>4</th>\n",
              "      <td>536365</td>\n",
              "      <td>84029E</td>\n",
              "      <td>RED WOOLLY HOTTIE WHITE HEART.</td>\n",
              "      <td>6</td>\n",
              "      <td>2010-12-01 08:26:00</td>\n",
              "      <td>3.39</td>\n",
              "      <td>17850.0</td>\n",
              "      <td>United Kingdom</td>\n",
              "    </tr>\n",
              "  </tbody>\n",
              "</table>\n",
              "</div>"
            ],
            "text/plain": [
              "  InvoiceNo StockCode  ... CustomerID         Country\n",
              "0    536365    85123A  ...    17850.0  United Kingdom\n",
              "1    536365     71053  ...    17850.0  United Kingdom\n",
              "2    536365    84406B  ...    17850.0  United Kingdom\n",
              "3    536365    84029G  ...    17850.0  United Kingdom\n",
              "4    536365    84029E  ...    17850.0  United Kingdom\n",
              "\n",
              "[5 rows x 8 columns]"
            ]
          },
          "metadata": {},
          "execution_count": 6
        }
      ]
    },
    {
      "cell_type": "code",
      "source": [
        "data.columns"
      ],
      "metadata": {
        "colab": {
          "base_uri": "https://localhost:8080/"
        },
        "id": "KnL1wWuR1W9C",
        "outputId": "746a5d21-b7c4-418c-fd3f-3dcf0da150d5"
      },
      "execution_count": 7,
      "outputs": [
        {
          "output_type": "execute_result",
          "data": {
            "text/plain": [
              "Index(['InvoiceNo', 'StockCode', 'Description', 'Quantity', 'InvoiceDate',\n",
              "       'UnitPrice', 'CustomerID', 'Country'],\n",
              "      dtype='object')"
            ]
          },
          "metadata": {},
          "execution_count": 7
        }
      ]
    },
    {
      "cell_type": "code",
      "source": [
        "data.Country.unique()"
      ],
      "metadata": {
        "colab": {
          "base_uri": "https://localhost:8080/"
        },
        "id": "fOxtdWnZ1Z67",
        "outputId": "ecdb482d-f352-4d0e-92db-c592799398a0"
      },
      "execution_count": 8,
      "outputs": [
        {
          "output_type": "execute_result",
          "data": {
            "text/plain": [
              "array(['United Kingdom', 'France', 'Australia', 'Netherlands', 'Germany',\n",
              "       'Norway', 'EIRE', 'Switzerland', 'Spain', 'Poland', 'Portugal',\n",
              "       'Italy', 'Belgium', 'Lithuania', 'Japan', 'Iceland',\n",
              "       'Channel Islands', 'Denmark', 'Cyprus', 'Sweden', 'Austria',\n",
              "       'Israel', 'Finland', 'Bahrain', 'Greece', 'Hong Kong', 'Singapore',\n",
              "       'Lebanon', 'United Arab Emirates', 'Saudi Arabia',\n",
              "       'Czech Republic', 'Canada', 'Unspecified', 'Brazil', 'USA',\n",
              "       'European Community', 'Malta', 'RSA'], dtype=object)"
            ]
          },
          "metadata": {},
          "execution_count": 8
        }
      ]
    },
    {
      "cell_type": "markdown",
      "source": [
        "### Data Cleaning"
      ],
      "metadata": {
        "id": "5xi8JFL2N3-k"
      }
    },
    {
      "cell_type": "code",
      "source": [
        "data['Description'] = data['Description'].str.strip()\n",
        "data.dropna(axis = 0, subset =['InvoiceNo'], inplace = True)\n",
        "data['InvoiceNo'] = data['InvoiceNo'].astype('str')\n",
        " \n",
        "# Dropping all transactions which were done on credit\n",
        "data = data[~data['InvoiceNo'].str.contains('C')]"
      ],
      "metadata": {
        "id": "7e7iyTBy-IjG"
      },
      "execution_count": 9,
      "outputs": []
    },
    {
      "cell_type": "markdown",
      "source": [
        "Here we divide the data for each country."
      ],
      "metadata": {
        "id": "en7glczKN8eI"
      }
    },
    {
      "cell_type": "code",
      "source": [
        "# Transactions done in France\n",
        "basket_France = (data[data['Country'] ==\"France\"]\n",
        "          .groupby(['InvoiceNo', 'Description'])['Quantity']\n",
        "          .sum().unstack().reset_index().fillna(0)\n",
        "          .set_index('InvoiceNo'))\n",
        " \n",
        "# Transactions done in the United Kingdom\n",
        "basket_UK = (data[data['Country'] ==\"United Kingdom\"]\n",
        "          .groupby(['InvoiceNo', 'Description'])['Quantity']\n",
        "          .sum().unstack().reset_index().fillna(0)\n",
        "          .set_index('InvoiceNo'))\n",
        " \n",
        "# Transactions done in Portugal\n",
        "basket_Por = (data[data['Country'] ==\"Portugal\"]\n",
        "          .groupby(['InvoiceNo', 'Description'])['Quantity']\n",
        "          .sum().unstack().reset_index().fillna(0)\n",
        "          .set_index('InvoiceNo'))\n",
        " \n",
        "basket_Sweden = (data[data['Country'] ==\"Sweden\"]\n",
        "          .groupby(['InvoiceNo', 'Description'])['Quantity']\n",
        "          .sum().unstack().reset_index().fillna(0)\n",
        "          .set_index('InvoiceNo'))"
      ],
      "metadata": {
        "id": "-kWlNuFs-R1r"
      },
      "execution_count": 10,
      "outputs": []
    },
    {
      "cell_type": "markdown",
      "source": [
        "### Hot encoding the data"
      ],
      "metadata": {
        "id": "sb7Tf6kCOxGa"
      }
    },
    {
      "cell_type": "code",
      "source": [
        "# Defining the hot encoding function to make the data suitable\n",
        "# for the concerned libraries\n",
        "def hot_encode(x):\n",
        "    if(x<= 0):\n",
        "        return 0\n",
        "    if(x>= 1):\n",
        "        return 1\n",
        " \n",
        "# Encoding the datasets\n",
        "basket_encoded = basket_France.applymap(hot_encode)\n",
        "basket_France = basket_encoded\n",
        " \n",
        "basket_encoded = basket_UK.applymap(hot_encode)\n",
        "basket_UK = basket_encoded\n",
        " \n",
        "basket_encoded = basket_Por.applymap(hot_encode)\n",
        "basket_Por = basket_encoded\n",
        " \n",
        "basket_encoded = basket_Sweden.applymap(hot_encode)\n",
        "basket_Sweden = basket_encoded"
      ],
      "metadata": {
        "id": "tgPSclj--T6D"
      },
      "execution_count": 11,
      "outputs": []
    },
    {
      "cell_type": "markdown",
      "source": [
        "### Build Model"
      ],
      "metadata": {
        "id": "jtd-CG1nO5DA"
      }
    },
    {
      "cell_type": "markdown",
      "source": [
        "For country of France, from the results we can observe that usually plates and cups are bought together \n",
        "\n",
        "\n",
        "\n"
      ],
      "metadata": {
        "id": "V6wkyOvQPRvr"
      }
    },
    {
      "cell_type": "code",
      "source": [
        "# Building the model\n",
        "frq_items = apriori(basket_France, min_support = 0.05, use_colnames = True)\n",
        " \n",
        "# Collecting the inferred rules in a dataframe\n",
        "rules = association_rules(frq_items, metric =\"lift\", min_threshold = 1)\n",
        "rules = rules.sort_values(['confidence', 'lift'], ascending =[False, False])\n",
        "rules.head()"
      ],
      "metadata": {
        "colab": {
          "base_uri": "https://localhost:8080/",
          "height": 293
        },
        "id": "kbURki_q-Xgu",
        "outputId": "21434074-3ff4-4d41-bf0f-6333f10416e5"
      },
      "execution_count": 12,
      "outputs": [
        {
          "output_type": "execute_result",
          "data": {
            "text/html": [
              "<div>\n",
              "<style scoped>\n",
              "    .dataframe tbody tr th:only-of-type {\n",
              "        vertical-align: middle;\n",
              "    }\n",
              "\n",
              "    .dataframe tbody tr th {\n",
              "        vertical-align: top;\n",
              "    }\n",
              "\n",
              "    .dataframe thead th {\n",
              "        text-align: right;\n",
              "    }\n",
              "</style>\n",
              "<table border=\"1\" class=\"dataframe\">\n",
              "  <thead>\n",
              "    <tr style=\"text-align: right;\">\n",
              "      <th></th>\n",
              "      <th>antecedents</th>\n",
              "      <th>consequents</th>\n",
              "      <th>antecedent support</th>\n",
              "      <th>consequent support</th>\n",
              "      <th>support</th>\n",
              "      <th>confidence</th>\n",
              "      <th>lift</th>\n",
              "      <th>leverage</th>\n",
              "      <th>conviction</th>\n",
              "    </tr>\n",
              "  </thead>\n",
              "  <tbody>\n",
              "    <tr>\n",
              "      <th>45</th>\n",
              "      <td>(JUMBO BAG WOODLAND ANIMALS)</td>\n",
              "      <td>(POSTAGE)</td>\n",
              "      <td>0.076531</td>\n",
              "      <td>0.765306</td>\n",
              "      <td>0.076531</td>\n",
              "      <td>1.000</td>\n",
              "      <td>1.306667</td>\n",
              "      <td>0.017961</td>\n",
              "      <td>inf</td>\n",
              "    </tr>\n",
              "    <tr>\n",
              "      <th>260</th>\n",
              "      <td>(RED TOADSTOOL LED NIGHT LIGHT, PLASTERS IN TI...</td>\n",
              "      <td>(POSTAGE)</td>\n",
              "      <td>0.051020</td>\n",
              "      <td>0.765306</td>\n",
              "      <td>0.051020</td>\n",
              "      <td>1.000</td>\n",
              "      <td>1.306667</td>\n",
              "      <td>0.011974</td>\n",
              "      <td>inf</td>\n",
              "    </tr>\n",
              "    <tr>\n",
              "      <th>272</th>\n",
              "      <td>(RED TOADSTOOL LED NIGHT LIGHT, PLASTERS IN TI...</td>\n",
              "      <td>(POSTAGE)</td>\n",
              "      <td>0.053571</td>\n",
              "      <td>0.765306</td>\n",
              "      <td>0.053571</td>\n",
              "      <td>1.000</td>\n",
              "      <td>1.306667</td>\n",
              "      <td>0.012573</td>\n",
              "      <td>inf</td>\n",
              "    </tr>\n",
              "    <tr>\n",
              "      <th>302</th>\n",
              "      <td>(SET/20 RED RETROSPOT PAPER NAPKINS, SET/6 RED...</td>\n",
              "      <td>(SET/6 RED SPOTTY PAPER PLATES)</td>\n",
              "      <td>0.102041</td>\n",
              "      <td>0.127551</td>\n",
              "      <td>0.099490</td>\n",
              "      <td>0.975</td>\n",
              "      <td>7.644000</td>\n",
              "      <td>0.086474</td>\n",
              "      <td>34.897959</td>\n",
              "    </tr>\n",
              "    <tr>\n",
              "      <th>300</th>\n",
              "      <td>(SET/6 RED SPOTTY PAPER PLATES, SET/20 RED RET...</td>\n",
              "      <td>(SET/6 RED SPOTTY PAPER CUPS)</td>\n",
              "      <td>0.102041</td>\n",
              "      <td>0.137755</td>\n",
              "      <td>0.099490</td>\n",
              "      <td>0.975</td>\n",
              "      <td>7.077778</td>\n",
              "      <td>0.085433</td>\n",
              "      <td>34.489796</td>\n",
              "    </tr>\n",
              "  </tbody>\n",
              "</table>\n",
              "</div>"
            ],
            "text/plain": [
              "                                           antecedents  ... conviction\n",
              "45                        (JUMBO BAG WOODLAND ANIMALS)  ...        inf\n",
              "260  (RED TOADSTOOL LED NIGHT LIGHT, PLASTERS IN TI...  ...        inf\n",
              "272  (RED TOADSTOOL LED NIGHT LIGHT, PLASTERS IN TI...  ...        inf\n",
              "302  (SET/20 RED RETROSPOT PAPER NAPKINS, SET/6 RED...  ...  34.897959\n",
              "300  (SET/6 RED SPOTTY PAPER PLATES, SET/20 RED RET...  ...  34.489796\n",
              "\n",
              "[5 rows x 9 columns]"
            ]
          },
          "metadata": {},
          "execution_count": 12
        }
      ]
    },
    {
      "cell_type": "markdown",
      "source": [
        "For country of Portland, from the results we can observe that usually tiffin sets and candies are bought together"
      ],
      "metadata": {
        "id": "k_nvroKgw1ln"
      }
    },
    {
      "cell_type": "code",
      "source": [
        "frq_items = apriori(basket_Por, min_support = 0.05, use_colnames = True)\n",
        "rules = association_rules(frq_items, metric =\"lift\", min_threshold = 1)\n",
        "rules = rules.sort_values(['confidence', 'lift'], ascending =[False, False])\n",
        "rules"
      ],
      "metadata": {
        "colab": {
          "base_uri": "https://localhost:8080/",
          "height": 563
        },
        "id": "JoXYtnfz-vzB",
        "outputId": "ef3f2257-0f22-40b7-8af8-78063cf93ed4"
      },
      "execution_count": 15,
      "outputs": [
        {
          "output_type": "execute_result",
          "data": {
            "text/html": [
              "<div>\n",
              "<style scoped>\n",
              "    .dataframe tbody tr th:only-of-type {\n",
              "        vertical-align: middle;\n",
              "    }\n",
              "\n",
              "    .dataframe tbody tr th {\n",
              "        vertical-align: top;\n",
              "    }\n",
              "\n",
              "    .dataframe thead th {\n",
              "        text-align: right;\n",
              "    }\n",
              "</style>\n",
              "<table border=\"1\" class=\"dataframe\">\n",
              "  <thead>\n",
              "    <tr style=\"text-align: right;\">\n",
              "      <th></th>\n",
              "      <th>antecedents</th>\n",
              "      <th>consequents</th>\n",
              "      <th>antecedent support</th>\n",
              "      <th>consequent support</th>\n",
              "      <th>support</th>\n",
              "      <th>confidence</th>\n",
              "      <th>lift</th>\n",
              "      <th>leverage</th>\n",
              "      <th>conviction</th>\n",
              "    </tr>\n",
              "  </thead>\n",
              "  <tbody>\n",
              "    <tr>\n",
              "      <th>1170</th>\n",
              "      <td>(SET 12 COLOUR PENCILS SPACEBOY)</td>\n",
              "      <td>(SET 12 COLOUR PENCILS DOLLY GIRL)</td>\n",
              "      <td>0.051724</td>\n",
              "      <td>0.051724</td>\n",
              "      <td>0.051724</td>\n",
              "      <td>1.0</td>\n",
              "      <td>19.333333</td>\n",
              "      <td>0.049049</td>\n",
              "      <td>inf</td>\n",
              "    </tr>\n",
              "    <tr>\n",
              "      <th>1171</th>\n",
              "      <td>(SET 12 COLOUR PENCILS DOLLY GIRL)</td>\n",
              "      <td>(SET 12 COLOUR PENCILS SPACEBOY)</td>\n",
              "      <td>0.051724</td>\n",
              "      <td>0.051724</td>\n",
              "      <td>0.051724</td>\n",
              "      <td>1.0</td>\n",
              "      <td>19.333333</td>\n",
              "      <td>0.049049</td>\n",
              "      <td>inf</td>\n",
              "    </tr>\n",
              "    <tr>\n",
              "      <th>1172</th>\n",
              "      <td>(SET 12 COLOUR PENCILS DOLLY GIRL)</td>\n",
              "      <td>(SET OF 4 KNICK KNACK TINS LONDON)</td>\n",
              "      <td>0.051724</td>\n",
              "      <td>0.051724</td>\n",
              "      <td>0.051724</td>\n",
              "      <td>1.0</td>\n",
              "      <td>19.333333</td>\n",
              "      <td>0.049049</td>\n",
              "      <td>inf</td>\n",
              "    </tr>\n",
              "    <tr>\n",
              "      <th>1173</th>\n",
              "      <td>(SET OF 4 KNICK KNACK TINS LONDON)</td>\n",
              "      <td>(SET 12 COLOUR PENCILS DOLLY GIRL)</td>\n",
              "      <td>0.051724</td>\n",
              "      <td>0.051724</td>\n",
              "      <td>0.051724</td>\n",
              "      <td>1.0</td>\n",
              "      <td>19.333333</td>\n",
              "      <td>0.049049</td>\n",
              "      <td>inf</td>\n",
              "    </tr>\n",
              "    <tr>\n",
              "      <th>1174</th>\n",
              "      <td>(SET 12 COLOUR PENCILS DOLLY GIRL)</td>\n",
              "      <td>(SET OF 4 KNICK KNACK TINS POPPIES)</td>\n",
              "      <td>0.051724</td>\n",
              "      <td>0.051724</td>\n",
              "      <td>0.051724</td>\n",
              "      <td>1.0</td>\n",
              "      <td>19.333333</td>\n",
              "      <td>0.049049</td>\n",
              "      <td>inf</td>\n",
              "    </tr>\n",
              "    <tr>\n",
              "      <th>...</th>\n",
              "      <td>...</td>\n",
              "      <td>...</td>\n",
              "      <td>...</td>\n",
              "      <td>...</td>\n",
              "      <td>...</td>\n",
              "      <td>...</td>\n",
              "      <td>...</td>\n",
              "      <td>...</td>\n",
              "      <td>...</td>\n",
              "    </tr>\n",
              "    <tr>\n",
              "      <th>1056</th>\n",
              "      <td>(POSTAGE)</td>\n",
              "      <td>(REGENCY CAKESTAND 3 TIER)</td>\n",
              "      <td>0.517241</td>\n",
              "      <td>0.086207</td>\n",
              "      <td>0.051724</td>\n",
              "      <td>0.1</td>\n",
              "      <td>1.160000</td>\n",
              "      <td>0.007134</td>\n",
              "      <td>1.015326</td>\n",
              "    </tr>\n",
              "    <tr>\n",
              "      <th>1058</th>\n",
              "      <td>(POSTAGE)</td>\n",
              "      <td>(RETROSPOT HEART HOT WATER BOTTLE)</td>\n",
              "      <td>0.517241</td>\n",
              "      <td>0.086207</td>\n",
              "      <td>0.051724</td>\n",
              "      <td>0.1</td>\n",
              "      <td>1.160000</td>\n",
              "      <td>0.007134</td>\n",
              "      <td>1.015326</td>\n",
              "    </tr>\n",
              "    <tr>\n",
              "      <th>1066</th>\n",
              "      <td>(POSTAGE)</td>\n",
              "      <td>(SET OF 3 CAKE TINS PANTRY DESIGN)</td>\n",
              "      <td>0.517241</td>\n",
              "      <td>0.086207</td>\n",
              "      <td>0.051724</td>\n",
              "      <td>0.1</td>\n",
              "      <td>1.160000</td>\n",
              "      <td>0.007134</td>\n",
              "      <td>1.015326</td>\n",
              "    </tr>\n",
              "    <tr>\n",
              "      <th>1070</th>\n",
              "      <td>(POSTAGE)</td>\n",
              "      <td>(SET OF 36 TEATIME PAPER DOILIES)</td>\n",
              "      <td>0.517241</td>\n",
              "      <td>0.086207</td>\n",
              "      <td>0.051724</td>\n",
              "      <td>0.1</td>\n",
              "      <td>1.160000</td>\n",
              "      <td>0.007134</td>\n",
              "      <td>1.015326</td>\n",
              "    </tr>\n",
              "    <tr>\n",
              "      <th>1209</th>\n",
              "      <td>(POSTAGE)</td>\n",
              "      <td>(4 TRADITIONAL SPINNING TOPS, CHARLOTTE BAG SU...</td>\n",
              "      <td>0.517241</td>\n",
              "      <td>0.086207</td>\n",
              "      <td>0.051724</td>\n",
              "      <td>0.1</td>\n",
              "      <td>1.160000</td>\n",
              "      <td>0.007134</td>\n",
              "      <td>1.015326</td>\n",
              "    </tr>\n",
              "  </tbody>\n",
              "</table>\n",
              "<p>335164 rows × 9 columns</p>\n",
              "</div>"
            ],
            "text/plain": [
              "                             antecedents  ... conviction\n",
              "1170    (SET 12 COLOUR PENCILS SPACEBOY)  ...        inf\n",
              "1171  (SET 12 COLOUR PENCILS DOLLY GIRL)  ...        inf\n",
              "1172  (SET 12 COLOUR PENCILS DOLLY GIRL)  ...        inf\n",
              "1173  (SET OF 4 KNICK KNACK TINS LONDON)  ...        inf\n",
              "1174  (SET 12 COLOUR PENCILS DOLLY GIRL)  ...        inf\n",
              "...                                  ...  ...        ...\n",
              "1056                           (POSTAGE)  ...   1.015326\n",
              "1058                           (POSTAGE)  ...   1.015326\n",
              "1066                           (POSTAGE)  ...   1.015326\n",
              "1070                           (POSTAGE)  ...   1.015326\n",
              "1209                           (POSTAGE)  ...   1.015326\n",
              "\n",
              "[335164 rows x 9 columns]"
            ]
          },
          "metadata": {},
          "execution_count": 15
        }
      ]
    },
    {
      "cell_type": "markdown",
      "source": [
        "For country of Sweden, from the results we can observe that usually boys’ and girls’ cutlery are paired together."
      ],
      "metadata": {
        "id": "8KDVJqL-xqSu"
      }
    },
    {
      "cell_type": "code",
      "source": [
        "\n",
        "frq_items = apriori(basket_Sweden, min_support = 0.05, use_colnames = True)\n",
        "rules = association_rules(frq_items, metric =\"lift\", min_threshold = 1)\n",
        "rules = rules.sort_values(['confidence', 'lift'], ascending =[False, False])\n",
        "print(rules.head())"
      ],
      "metadata": {
        "id": "5FTuFKt6-xg7"
      },
      "execution_count": null,
      "outputs": []
    },
    {
      "cell_type": "markdown",
      "source": [
        "## FP Growth"
      ],
      "metadata": {
        "id": "hi4jrNlVCB4n"
      }
    },
    {
      "cell_type": "code",
      "source": [
        "from mlxtend.frequent_patterns import fpgrowth\n"
      ],
      "metadata": {
        "id": "qzj61Ps-CBgA"
      },
      "execution_count": 16,
      "outputs": []
    },
    {
      "cell_type": "markdown",
      "source": [
        "France:"
      ],
      "metadata": {
        "id": "Dp7uMgOOynbf"
      }
    },
    {
      "cell_type": "code",
      "source": [
        "# Building the model\n",
        "frq_items_france = fpgrowth(basket_France, min_support = 0.05, use_colnames = True)\n",
        " \n",
        "frq_items_france"
      ],
      "metadata": {
        "colab": {
          "base_uri": "https://localhost:8080/",
          "height": 423
        },
        "id": "cQrsZhwWEOkF",
        "outputId": "c2f19ba8-1bca-404f-dd18-b90cdda478d9"
      },
      "execution_count": 17,
      "outputs": [
        {
          "output_type": "execute_result",
          "data": {
            "text/html": [
              "<div>\n",
              "<style scoped>\n",
              "    .dataframe tbody tr th:only-of-type {\n",
              "        vertical-align: middle;\n",
              "    }\n",
              "\n",
              "    .dataframe tbody tr th {\n",
              "        vertical-align: top;\n",
              "    }\n",
              "\n",
              "    .dataframe thead th {\n",
              "        text-align: right;\n",
              "    }\n",
              "</style>\n",
              "<table border=\"1\" class=\"dataframe\">\n",
              "  <thead>\n",
              "    <tr style=\"text-align: right;\">\n",
              "      <th></th>\n",
              "      <th>support</th>\n",
              "      <th>itemsets</th>\n",
              "    </tr>\n",
              "  </thead>\n",
              "  <tbody>\n",
              "    <tr>\n",
              "      <th>0</th>\n",
              "      <td>0.765306</td>\n",
              "      <td>(POSTAGE)</td>\n",
              "    </tr>\n",
              "    <tr>\n",
              "      <th>1</th>\n",
              "      <td>0.181122</td>\n",
              "      <td>(RED TOADSTOOL LED NIGHT LIGHT)</td>\n",
              "    </tr>\n",
              "    <tr>\n",
              "      <th>2</th>\n",
              "      <td>0.158163</td>\n",
              "      <td>(ROUND SNACK BOXES SET OF4 WOODLAND)</td>\n",
              "    </tr>\n",
              "    <tr>\n",
              "      <th>3</th>\n",
              "      <td>0.125000</td>\n",
              "      <td>(SPACEBOY LUNCH BOX)</td>\n",
              "    </tr>\n",
              "    <tr>\n",
              "      <th>4</th>\n",
              "      <td>0.104592</td>\n",
              "      <td>(MINI PAINT SET VINTAGE)</td>\n",
              "    </tr>\n",
              "    <tr>\n",
              "      <th>...</th>\n",
              "      <td>...</td>\n",
              "      <td>...</td>\n",
              "    </tr>\n",
              "    <tr>\n",
              "      <th>190</th>\n",
              "      <td>0.061224</td>\n",
              "      <td>(POSTAGE, LUNCH BAG APPLE DESIGN, LUNCH BAG RE...</td>\n",
              "    </tr>\n",
              "    <tr>\n",
              "      <th>191</th>\n",
              "      <td>0.063776</td>\n",
              "      <td>(CHILDRENS CUTLERY DOLLY GIRL, CHILDRENS CUTLE...</td>\n",
              "    </tr>\n",
              "    <tr>\n",
              "      <th>192</th>\n",
              "      <td>0.053571</td>\n",
              "      <td>(POSTAGE, CHARLOTTE BAG APPLES DESIGN)</td>\n",
              "    </tr>\n",
              "    <tr>\n",
              "      <th>193</th>\n",
              "      <td>0.058673</td>\n",
              "      <td>(POSTAGE, JUMBO BAG APPLES)</td>\n",
              "    </tr>\n",
              "    <tr>\n",
              "      <th>194</th>\n",
              "      <td>0.165816</td>\n",
              "      <td>(POSTAGE, RABBIT NIGHT LIGHT)</td>\n",
              "    </tr>\n",
              "  </tbody>\n",
              "</table>\n",
              "<p>195 rows × 2 columns</p>\n",
              "</div>"
            ],
            "text/plain": [
              "      support                                           itemsets\n",
              "0    0.765306                                          (POSTAGE)\n",
              "1    0.181122                    (RED TOADSTOOL LED NIGHT LIGHT)\n",
              "2    0.158163               (ROUND SNACK BOXES SET OF4 WOODLAND)\n",
              "3    0.125000                               (SPACEBOY LUNCH BOX)\n",
              "4    0.104592                           (MINI PAINT SET VINTAGE)\n",
              "..        ...                                                ...\n",
              "190  0.061224  (POSTAGE, LUNCH BAG APPLE DESIGN, LUNCH BAG RE...\n",
              "191  0.063776  (CHILDRENS CUTLERY DOLLY GIRL, CHILDRENS CUTLE...\n",
              "192  0.053571             (POSTAGE, CHARLOTTE BAG APPLES DESIGN)\n",
              "193  0.058673                        (POSTAGE, JUMBO BAG APPLES)\n",
              "194  0.165816                      (POSTAGE, RABBIT NIGHT LIGHT)\n",
              "\n",
              "[195 rows x 2 columns]"
            ]
          },
          "metadata": {},
          "execution_count": 17
        }
      ]
    },
    {
      "cell_type": "markdown",
      "source": [
        "From the below observation, for the country of France, **Red Toadstool led night light and rabbit night light** are bought together based on the lift value"
      ],
      "metadata": {
        "id": "DVRG2Ma2yTF5"
      }
    },
    {
      "cell_type": "code",
      "source": [
        "# Collecting the inferred rules in a dataframe\n",
        "rules = association_rules(frq_items_france, metric =\"lift\", min_threshold = 1)\n",
        "rules_france = rules.sort_values(['confidence', 'lift'], ascending =[False, False])\n",
        "rules"
      ],
      "metadata": {
        "colab": {
          "base_uri": "https://localhost:8080/",
          "height": 511
        },
        "id": "vqi0cU8fFh6P",
        "outputId": "be37b12a-1548-45dc-b950-2c5583217be9"
      },
      "execution_count": 19,
      "outputs": [
        {
          "output_type": "execute_result",
          "data": {
            "text/html": [
              "<div>\n",
              "<style scoped>\n",
              "    .dataframe tbody tr th:only-of-type {\n",
              "        vertical-align: middle;\n",
              "    }\n",
              "\n",
              "    .dataframe tbody tr th {\n",
              "        vertical-align: top;\n",
              "    }\n",
              "\n",
              "    .dataframe thead th {\n",
              "        text-align: right;\n",
              "    }\n",
              "</style>\n",
              "<table border=\"1\" class=\"dataframe\">\n",
              "  <thead>\n",
              "    <tr style=\"text-align: right;\">\n",
              "      <th></th>\n",
              "      <th>antecedents</th>\n",
              "      <th>consequents</th>\n",
              "      <th>antecedent support</th>\n",
              "      <th>consequent support</th>\n",
              "      <th>support</th>\n",
              "      <th>confidence</th>\n",
              "      <th>lift</th>\n",
              "      <th>leverage</th>\n",
              "      <th>conviction</th>\n",
              "    </tr>\n",
              "  </thead>\n",
              "  <tbody>\n",
              "    <tr>\n",
              "      <th>0</th>\n",
              "      <td>(POSTAGE)</td>\n",
              "      <td>(RED TOADSTOOL LED NIGHT LIGHT)</td>\n",
              "      <td>0.765306</td>\n",
              "      <td>0.181122</td>\n",
              "      <td>0.158163</td>\n",
              "      <td>0.206667</td>\n",
              "      <td>1.141033</td>\n",
              "      <td>0.019549</td>\n",
              "      <td>1.032199</td>\n",
              "    </tr>\n",
              "    <tr>\n",
              "      <th>1</th>\n",
              "      <td>(RED TOADSTOOL LED NIGHT LIGHT)</td>\n",
              "      <td>(POSTAGE)</td>\n",
              "      <td>0.181122</td>\n",
              "      <td>0.765306</td>\n",
              "      <td>0.158163</td>\n",
              "      <td>0.873239</td>\n",
              "      <td>1.141033</td>\n",
              "      <td>0.019549</td>\n",
              "      <td>1.851474</td>\n",
              "    </tr>\n",
              "    <tr>\n",
              "      <th>2</th>\n",
              "      <td>(RED TOADSTOOL LED NIGHT LIGHT)</td>\n",
              "      <td>(RABBIT NIGHT LIGHT)</td>\n",
              "      <td>0.181122</td>\n",
              "      <td>0.188776</td>\n",
              "      <td>0.053571</td>\n",
              "      <td>0.295775</td>\n",
              "      <td>1.566806</td>\n",
              "      <td>0.019380</td>\n",
              "      <td>1.151939</td>\n",
              "    </tr>\n",
              "    <tr>\n",
              "      <th>3</th>\n",
              "      <td>(RABBIT NIGHT LIGHT)</td>\n",
              "      <td>(RED TOADSTOOL LED NIGHT LIGHT)</td>\n",
              "      <td>0.188776</td>\n",
              "      <td>0.181122</td>\n",
              "      <td>0.053571</td>\n",
              "      <td>0.283784</td>\n",
              "      <td>1.566806</td>\n",
              "      <td>0.019380</td>\n",
              "      <td>1.143338</td>\n",
              "    </tr>\n",
              "    <tr>\n",
              "      <th>4</th>\n",
              "      <td>(POSTAGE)</td>\n",
              "      <td>(ROUND SNACK BOXES SET OF4 WOODLAND)</td>\n",
              "      <td>0.765306</td>\n",
              "      <td>0.158163</td>\n",
              "      <td>0.147959</td>\n",
              "      <td>0.193333</td>\n",
              "      <td>1.222366</td>\n",
              "      <td>0.026916</td>\n",
              "      <td>1.043599</td>\n",
              "    </tr>\n",
              "    <tr>\n",
              "      <th>...</th>\n",
              "      <td>...</td>\n",
              "      <td>...</td>\n",
              "      <td>...</td>\n",
              "      <td>...</td>\n",
              "      <td>...</td>\n",
              "      <td>...</td>\n",
              "      <td>...</td>\n",
              "      <td>...</td>\n",
              "      <td>...</td>\n",
              "    </tr>\n",
              "    <tr>\n",
              "      <th>343</th>\n",
              "      <td>(CHARLOTTE BAG APPLES DESIGN)</td>\n",
              "      <td>(POSTAGE)</td>\n",
              "      <td>0.068878</td>\n",
              "      <td>0.765306</td>\n",
              "      <td>0.053571</td>\n",
              "      <td>0.777778</td>\n",
              "      <td>1.016296</td>\n",
              "      <td>0.000859</td>\n",
              "      <td>1.056122</td>\n",
              "    </tr>\n",
              "    <tr>\n",
              "      <th>344</th>\n",
              "      <td>(POSTAGE)</td>\n",
              "      <td>(JUMBO BAG APPLES)</td>\n",
              "      <td>0.765306</td>\n",
              "      <td>0.066327</td>\n",
              "      <td>0.058673</td>\n",
              "      <td>0.076667</td>\n",
              "      <td>1.155897</td>\n",
              "      <td>0.007913</td>\n",
              "      <td>1.011199</td>\n",
              "    </tr>\n",
              "    <tr>\n",
              "      <th>345</th>\n",
              "      <td>(JUMBO BAG APPLES)</td>\n",
              "      <td>(POSTAGE)</td>\n",
              "      <td>0.066327</td>\n",
              "      <td>0.765306</td>\n",
              "      <td>0.058673</td>\n",
              "      <td>0.884615</td>\n",
              "      <td>1.155897</td>\n",
              "      <td>0.007913</td>\n",
              "      <td>2.034014</td>\n",
              "    </tr>\n",
              "    <tr>\n",
              "      <th>346</th>\n",
              "      <td>(POSTAGE)</td>\n",
              "      <td>(RABBIT NIGHT LIGHT)</td>\n",
              "      <td>0.765306</td>\n",
              "      <td>0.188776</td>\n",
              "      <td>0.165816</td>\n",
              "      <td>0.216667</td>\n",
              "      <td>1.147748</td>\n",
              "      <td>0.021345</td>\n",
              "      <td>1.035606</td>\n",
              "    </tr>\n",
              "    <tr>\n",
              "      <th>347</th>\n",
              "      <td>(RABBIT NIGHT LIGHT)</td>\n",
              "      <td>(POSTAGE)</td>\n",
              "      <td>0.188776</td>\n",
              "      <td>0.765306</td>\n",
              "      <td>0.165816</td>\n",
              "      <td>0.878378</td>\n",
              "      <td>1.147748</td>\n",
              "      <td>0.021345</td>\n",
              "      <td>1.929705</td>\n",
              "    </tr>\n",
              "  </tbody>\n",
              "</table>\n",
              "<p>348 rows × 9 columns</p>\n",
              "</div>"
            ],
            "text/plain": [
              "                         antecedents  ... conviction\n",
              "0                          (POSTAGE)  ...   1.032199\n",
              "1    (RED TOADSTOOL LED NIGHT LIGHT)  ...   1.851474\n",
              "2    (RED TOADSTOOL LED NIGHT LIGHT)  ...   1.151939\n",
              "3               (RABBIT NIGHT LIGHT)  ...   1.143338\n",
              "4                          (POSTAGE)  ...   1.043599\n",
              "..                               ...  ...        ...\n",
              "343    (CHARLOTTE BAG APPLES DESIGN)  ...   1.056122\n",
              "344                        (POSTAGE)  ...   1.011199\n",
              "345               (JUMBO BAG APPLES)  ...   2.034014\n",
              "346                        (POSTAGE)  ...   1.035606\n",
              "347             (RABBIT NIGHT LIGHT)  ...   1.929705\n",
              "\n",
              "[348 rows x 9 columns]"
            ]
          },
          "metadata": {},
          "execution_count": 19
        }
      ]
    },
    {
      "cell_type": "markdown",
      "source": [
        "Sweden"
      ],
      "metadata": {
        "id": "_s9GMcQAyqEM"
      }
    },
    {
      "cell_type": "code",
      "source": [
        "frq_items_swe = fpgrowth(basket_Sweden, min_support = 0.05, use_colnames = True)\n",
        " \n",
        "frq_items_swe"
      ],
      "metadata": {
        "colab": {
          "base_uri": "https://localhost:8080/",
          "height": 423
        },
        "id": "hvLr4PxkymO9",
        "outputId": "402c9d36-cb81-4c3a-df48-1f61a46b82bc"
      },
      "execution_count": 22,
      "outputs": [
        {
          "output_type": "execute_result",
          "data": {
            "text/html": [
              "<div>\n",
              "<style scoped>\n",
              "    .dataframe tbody tr th:only-of-type {\n",
              "        vertical-align: middle;\n",
              "    }\n",
              "\n",
              "    .dataframe tbody tr th {\n",
              "        vertical-align: top;\n",
              "    }\n",
              "\n",
              "    .dataframe thead th {\n",
              "        text-align: right;\n",
              "    }\n",
              "</style>\n",
              "<table border=\"1\" class=\"dataframe\">\n",
              "  <thead>\n",
              "    <tr style=\"text-align: right;\">\n",
              "      <th></th>\n",
              "      <th>support</th>\n",
              "      <th>itemsets</th>\n",
              "    </tr>\n",
              "  </thead>\n",
              "  <tbody>\n",
              "    <tr>\n",
              "      <th>0</th>\n",
              "      <td>0.194444</td>\n",
              "      <td>(SET OF 3 CAKE TINS PANTRY DESIGN)</td>\n",
              "    </tr>\n",
              "    <tr>\n",
              "      <th>1</th>\n",
              "      <td>0.138889</td>\n",
              "      <td>(WORLD WAR 2 GLIDERS ASSTD DESIGNS)</td>\n",
              "    </tr>\n",
              "    <tr>\n",
              "      <th>2</th>\n",
              "      <td>0.111111</td>\n",
              "      <td>(ROUND SNACK BOXES SET OF 4 FRUITS)</td>\n",
              "    </tr>\n",
              "    <tr>\n",
              "      <th>3</th>\n",
              "      <td>0.111111</td>\n",
              "      <td>(PACK OF 72 RETROSPOT CAKE CASES)</td>\n",
              "    </tr>\n",
              "    <tr>\n",
              "      <th>4</th>\n",
              "      <td>0.111111</td>\n",
              "      <td>(PACK OF 60 SPACEBOY CAKE CASES)</td>\n",
              "    </tr>\n",
              "    <tr>\n",
              "      <th>...</th>\n",
              "      <td>...</td>\n",
              "      <td>...</td>\n",
              "    </tr>\n",
              "    <tr>\n",
              "      <th>2851</th>\n",
              "      <td>0.055556</td>\n",
              "      <td>(MINI LIGHTS WOODLAND MUSHROOMS, RABBIT NIGHT ...</td>\n",
              "    </tr>\n",
              "    <tr>\n",
              "      <th>2852</th>\n",
              "      <td>0.055556</td>\n",
              "      <td>(POSTAGE, MINI LIGHTS WOODLAND MUSHROOMS, RABB...</td>\n",
              "    </tr>\n",
              "    <tr>\n",
              "      <th>2853</th>\n",
              "      <td>0.055556</td>\n",
              "      <td>(POSTAGE, MINI LIGHTS WOODLAND MUSHROOMS, GUMB...</td>\n",
              "    </tr>\n",
              "    <tr>\n",
              "      <th>2854</th>\n",
              "      <td>0.055556</td>\n",
              "      <td>(MINI LIGHTS WOODLAND MUSHROOMS, GUMBALL COAT ...</td>\n",
              "    </tr>\n",
              "    <tr>\n",
              "      <th>2855</th>\n",
              "      <td>0.055556</td>\n",
              "      <td>(POSTAGE, MINI LIGHTS WOODLAND MUSHROOMS, GUMB...</td>\n",
              "    </tr>\n",
              "  </tbody>\n",
              "</table>\n",
              "<p>2856 rows × 2 columns</p>\n",
              "</div>"
            ],
            "text/plain": [
              "       support                                           itemsets\n",
              "0     0.194444                 (SET OF 3 CAKE TINS PANTRY DESIGN)\n",
              "1     0.138889                (WORLD WAR 2 GLIDERS ASSTD DESIGNS)\n",
              "2     0.111111                (ROUND SNACK BOXES SET OF 4 FRUITS)\n",
              "3     0.111111                  (PACK OF 72 RETROSPOT CAKE CASES)\n",
              "4     0.111111                   (PACK OF 60 SPACEBOY CAKE CASES)\n",
              "...        ...                                                ...\n",
              "2851  0.055556  (MINI LIGHTS WOODLAND MUSHROOMS, RABBIT NIGHT ...\n",
              "2852  0.055556  (POSTAGE, MINI LIGHTS WOODLAND MUSHROOMS, RABB...\n",
              "2853  0.055556  (POSTAGE, MINI LIGHTS WOODLAND MUSHROOMS, GUMB...\n",
              "2854  0.055556  (MINI LIGHTS WOODLAND MUSHROOMS, GUMBALL COAT ...\n",
              "2855  0.055556  (POSTAGE, MINI LIGHTS WOODLAND MUSHROOMS, GUMB...\n",
              "\n",
              "[2856 rows x 2 columns]"
            ]
          },
          "metadata": {},
          "execution_count": 22
        }
      ]
    },
    {
      "cell_type": "markdown",
      "source": [
        "From the below observation, for the country of Sweden, *PACK OF 60 SPACEBOY CAKE CASES, RETROSPOT TEA SET CERAMIC 11 PC *  are bought together based on the lift value"
      ],
      "metadata": {
        "id": "gE651wARyyLI"
      }
    },
    {
      "cell_type": "code",
      "source": [
        "# Collecting the inferred rules in a dataframe\n",
        "rules = association_rules(frq_items_swe, metric =\"lift\", min_threshold = 1)\n",
        "rules_swe = rules.sort_values(['confidence', 'lift'], ascending =[False, False])\n",
        "rules_swe"
      ],
      "metadata": {
        "colab": {
          "base_uri": "https://localhost:8080/",
          "height": 580
        },
        "id": "7eb4fuJeywGx",
        "outputId": "d9cda38d-5d3b-4efb-a21a-449a39072de6"
      },
      "execution_count": 23,
      "outputs": [
        {
          "output_type": "execute_result",
          "data": {
            "text/html": [
              "<div>\n",
              "<style scoped>\n",
              "    .dataframe tbody tr th:only-of-type {\n",
              "        vertical-align: middle;\n",
              "    }\n",
              "\n",
              "    .dataframe tbody tr th {\n",
              "        vertical-align: top;\n",
              "    }\n",
              "\n",
              "    .dataframe thead th {\n",
              "        text-align: right;\n",
              "    }\n",
              "</style>\n",
              "<table border=\"1\" class=\"dataframe\">\n",
              "  <thead>\n",
              "    <tr style=\"text-align: right;\">\n",
              "      <th></th>\n",
              "      <th>antecedents</th>\n",
              "      <th>consequents</th>\n",
              "      <th>antecedent support</th>\n",
              "      <th>consequent support</th>\n",
              "      <th>support</th>\n",
              "      <th>confidence</th>\n",
              "      <th>lift</th>\n",
              "      <th>leverage</th>\n",
              "      <th>conviction</th>\n",
              "    </tr>\n",
              "  </thead>\n",
              "  <tbody>\n",
              "    <tr>\n",
              "      <th>121</th>\n",
              "      <td>(MINI PAINT SET VINTAGE, PACK OF 72 RETROSPOT ...</td>\n",
              "      <td>(PACK OF 60 SPACEBOY CAKE CASES, RETROSPOT TEA...</td>\n",
              "      <td>0.055556</td>\n",
              "      <td>0.055556</td>\n",
              "      <td>0.055556</td>\n",
              "      <td>1.000000</td>\n",
              "      <td>18.000000</td>\n",
              "      <td>0.052469</td>\n",
              "      <td>inf</td>\n",
              "    </tr>\n",
              "    <tr>\n",
              "      <th>122</th>\n",
              "      <td>(PACK OF 72 RETROSPOT CAKE CASES, RETROSPOT TE...</td>\n",
              "      <td>(PACK OF 60 SPACEBOY CAKE CASES, MINI PAINT SE...</td>\n",
              "      <td>0.055556</td>\n",
              "      <td>0.055556</td>\n",
              "      <td>0.055556</td>\n",
              "      <td>1.000000</td>\n",
              "      <td>18.000000</td>\n",
              "      <td>0.052469</td>\n",
              "      <td>inf</td>\n",
              "    </tr>\n",
              "    <tr>\n",
              "      <th>123</th>\n",
              "      <td>(PACK OF 60 SPACEBOY CAKE CASES, MINI PAINT SE...</td>\n",
              "      <td>(PACK OF 72 RETROSPOT CAKE CASES, RETROSPOT TE...</td>\n",
              "      <td>0.055556</td>\n",
              "      <td>0.055556</td>\n",
              "      <td>0.055556</td>\n",
              "      <td>1.000000</td>\n",
              "      <td>18.000000</td>\n",
              "      <td>0.052469</td>\n",
              "      <td>inf</td>\n",
              "    </tr>\n",
              "    <tr>\n",
              "      <th>124</th>\n",
              "      <td>(PACK OF 60 SPACEBOY CAKE CASES, RETROSPOT TEA...</td>\n",
              "      <td>(MINI PAINT SET VINTAGE, PACK OF 72 RETROSPOT ...</td>\n",
              "      <td>0.055556</td>\n",
              "      <td>0.055556</td>\n",
              "      <td>0.055556</td>\n",
              "      <td>1.000000</td>\n",
              "      <td>18.000000</td>\n",
              "      <td>0.052469</td>\n",
              "      <td>inf</td>\n",
              "    </tr>\n",
              "    <tr>\n",
              "      <th>149</th>\n",
              "      <td>(SET OF 3 CAKE TINS PANTRY DESIGN, PACK OF 60 ...</td>\n",
              "      <td>(PACK OF 72 RETROSPOT CAKE CASES, RETROSPOT TE...</td>\n",
              "      <td>0.055556</td>\n",
              "      <td>0.055556</td>\n",
              "      <td>0.055556</td>\n",
              "      <td>1.000000</td>\n",
              "      <td>18.000000</td>\n",
              "      <td>0.052469</td>\n",
              "      <td>inf</td>\n",
              "    </tr>\n",
              "    <tr>\n",
              "      <th>...</th>\n",
              "      <td>...</td>\n",
              "      <td>...</td>\n",
              "      <td>...</td>\n",
              "      <td>...</td>\n",
              "      <td>...</td>\n",
              "      <td>...</td>\n",
              "      <td>...</td>\n",
              "      <td>...</td>\n",
              "      <td>...</td>\n",
              "    </tr>\n",
              "    <tr>\n",
              "      <th>104604</th>\n",
              "      <td>(POSTAGE)</td>\n",
              "      <td>(MINI LIGHTS WOODLAND MUSHROOMS, GUMBALL COAT ...</td>\n",
              "      <td>0.611111</td>\n",
              "      <td>0.055556</td>\n",
              "      <td>0.055556</td>\n",
              "      <td>0.090909</td>\n",
              "      <td>1.636364</td>\n",
              "      <td>0.021605</td>\n",
              "      <td>1.038889</td>\n",
              "    </tr>\n",
              "    <tr>\n",
              "      <th>1342</th>\n",
              "      <td>(POSTAGE)</td>\n",
              "      <td>(ROUND SNACK BOXES SET OF4 WOODLAND)</td>\n",
              "      <td>0.611111</td>\n",
              "      <td>0.083333</td>\n",
              "      <td>0.055556</td>\n",
              "      <td>0.090909</td>\n",
              "      <td>1.090909</td>\n",
              "      <td>0.004630</td>\n",
              "      <td>1.008333</td>\n",
              "    </tr>\n",
              "    <tr>\n",
              "      <th>1347</th>\n",
              "      <td>(POSTAGE)</td>\n",
              "      <td>(ROUND SNACK BOXES SET OF4 WOODLAND, ROUND SNA...</td>\n",
              "      <td>0.611111</td>\n",
              "      <td>0.083333</td>\n",
              "      <td>0.055556</td>\n",
              "      <td>0.090909</td>\n",
              "      <td>1.090909</td>\n",
              "      <td>0.004630</td>\n",
              "      <td>1.008333</td>\n",
              "    </tr>\n",
              "    <tr>\n",
              "      <th>81604</th>\n",
              "      <td>(POSTAGE)</td>\n",
              "      <td>(CUPCAKE LACE PAPER SET 6)</td>\n",
              "      <td>0.611111</td>\n",
              "      <td>0.083333</td>\n",
              "      <td>0.055556</td>\n",
              "      <td>0.090909</td>\n",
              "      <td>1.090909</td>\n",
              "      <td>0.004630</td>\n",
              "      <td>1.008333</td>\n",
              "    </tr>\n",
              "    <tr>\n",
              "      <th>104362</th>\n",
              "      <td>(POSTAGE)</td>\n",
              "      <td>(MINI PLAYING CARDS DOLLY GIRL)</td>\n",
              "      <td>0.611111</td>\n",
              "      <td>0.083333</td>\n",
              "      <td>0.055556</td>\n",
              "      <td>0.090909</td>\n",
              "      <td>1.090909</td>\n",
              "      <td>0.004630</td>\n",
              "      <td>1.008333</td>\n",
              "    </tr>\n",
              "  </tbody>\n",
              "</table>\n",
              "<p>104608 rows × 9 columns</p>\n",
              "</div>"
            ],
            "text/plain": [
              "                                              antecedents  ... conviction\n",
              "121     (MINI PAINT SET VINTAGE, PACK OF 72 RETROSPOT ...  ...        inf\n",
              "122     (PACK OF 72 RETROSPOT CAKE CASES, RETROSPOT TE...  ...        inf\n",
              "123     (PACK OF 60 SPACEBOY CAKE CASES, MINI PAINT SE...  ...        inf\n",
              "124     (PACK OF 60 SPACEBOY CAKE CASES, RETROSPOT TEA...  ...        inf\n",
              "149     (SET OF 3 CAKE TINS PANTRY DESIGN, PACK OF 60 ...  ...        inf\n",
              "...                                                   ...  ...        ...\n",
              "104604                                          (POSTAGE)  ...   1.038889\n",
              "1342                                            (POSTAGE)  ...   1.008333\n",
              "1347                                            (POSTAGE)  ...   1.008333\n",
              "81604                                           (POSTAGE)  ...   1.008333\n",
              "104362                                          (POSTAGE)  ...   1.008333\n",
              "\n",
              "[104608 rows x 9 columns]"
            ]
          },
          "metadata": {},
          "execution_count": 23
        }
      ]
    },
    {
      "cell_type": "markdown",
      "source": [
        "Portugal"
      ],
      "metadata": {
        "id": "FyZHEhp_yw_i"
      }
    },
    {
      "cell_type": "code",
      "source": [
        "frq_items_por = fpgrowth(basket_Por, min_support = 0.05, use_colnames = True)\n",
        " \n",
        "frq_items_por"
      ],
      "metadata": {
        "colab": {
          "base_uri": "https://localhost:8080/",
          "height": 423
        },
        "id": "IJpBLIxJyuty",
        "outputId": "6b01f1e2-230e-41a2-ef6b-ee07d85ac89c"
      },
      "execution_count": 20,
      "outputs": [
        {
          "output_type": "execute_result",
          "data": {
            "text/html": [
              "<div>\n",
              "<style scoped>\n",
              "    .dataframe tbody tr th:only-of-type {\n",
              "        vertical-align: middle;\n",
              "    }\n",
              "\n",
              "    .dataframe tbody tr th {\n",
              "        vertical-align: top;\n",
              "    }\n",
              "\n",
              "    .dataframe thead th {\n",
              "        text-align: right;\n",
              "    }\n",
              "</style>\n",
              "<table border=\"1\" class=\"dataframe\">\n",
              "  <thead>\n",
              "    <tr style=\"text-align: right;\">\n",
              "      <th></th>\n",
              "      <th>support</th>\n",
              "      <th>itemsets</th>\n",
              "    </tr>\n",
              "  </thead>\n",
              "  <tbody>\n",
              "    <tr>\n",
              "      <th>0</th>\n",
              "      <td>0.517241</td>\n",
              "      <td>(POSTAGE)</td>\n",
              "    </tr>\n",
              "    <tr>\n",
              "      <th>1</th>\n",
              "      <td>0.206897</td>\n",
              "      <td>(LUNCH BAG CARS BLUE)</td>\n",
              "    </tr>\n",
              "    <tr>\n",
              "      <th>2</th>\n",
              "      <td>0.086207</td>\n",
              "      <td>(LUNCH BAG WOODLAND)</td>\n",
              "    </tr>\n",
              "    <tr>\n",
              "      <th>3</th>\n",
              "      <td>0.068966</td>\n",
              "      <td>(VINTAGE PAISLEY STATIONERY SET)</td>\n",
              "    </tr>\n",
              "    <tr>\n",
              "      <th>4</th>\n",
              "      <td>0.051724</td>\n",
              "      <td>(LUNCH BAG SUKI  DESIGN)</td>\n",
              "    </tr>\n",
              "    <tr>\n",
              "      <th>...</th>\n",
              "      <td>...</td>\n",
              "      <td>...</td>\n",
              "    </tr>\n",
              "    <tr>\n",
              "      <th>7441</th>\n",
              "      <td>0.086207</td>\n",
              "      <td>(SET OF 10 LED DOLLY LIGHTS, POSTAGE)</td>\n",
              "    </tr>\n",
              "    <tr>\n",
              "      <th>7442</th>\n",
              "      <td>0.051724</td>\n",
              "      <td>(VINTAGE DOILY JUMBO BAG RED, JUMBO BAG PAISLE...</td>\n",
              "    </tr>\n",
              "    <tr>\n",
              "      <th>7443</th>\n",
              "      <td>0.051724</td>\n",
              "      <td>(VINTAGE DOILY JUMBO BAG RED, LUNCH BAG PAISLE...</td>\n",
              "    </tr>\n",
              "    <tr>\n",
              "      <th>7444</th>\n",
              "      <td>0.051724</td>\n",
              "      <td>(VINTAGE DOILY JUMBO BAG RED, JUMBO BAG PAISLE...</td>\n",
              "    </tr>\n",
              "    <tr>\n",
              "      <th>7445</th>\n",
              "      <td>0.051724</td>\n",
              "      <td>(POSTAGE, RABBIT NIGHT LIGHT)</td>\n",
              "    </tr>\n",
              "  </tbody>\n",
              "</table>\n",
              "<p>7446 rows × 2 columns</p>\n",
              "</div>"
            ],
            "text/plain": [
              "       support                                           itemsets\n",
              "0     0.517241                                          (POSTAGE)\n",
              "1     0.206897                              (LUNCH BAG CARS BLUE)\n",
              "2     0.086207                               (LUNCH BAG WOODLAND)\n",
              "3     0.068966                   (VINTAGE PAISLEY STATIONERY SET)\n",
              "4     0.051724                           (LUNCH BAG SUKI  DESIGN)\n",
              "...        ...                                                ...\n",
              "7441  0.086207              (SET OF 10 LED DOLLY LIGHTS, POSTAGE)\n",
              "7442  0.051724  (VINTAGE DOILY JUMBO BAG RED, JUMBO BAG PAISLE...\n",
              "7443  0.051724  (VINTAGE DOILY JUMBO BAG RED, LUNCH BAG PAISLE...\n",
              "7444  0.051724  (VINTAGE DOILY JUMBO BAG RED, JUMBO BAG PAISLE...\n",
              "7445  0.051724                      (POSTAGE, RABBIT NIGHT LIGHT)\n",
              "\n",
              "[7446 rows x 2 columns]"
            ]
          },
          "metadata": {},
          "execution_count": 20
        }
      ]
    },
    {
      "cell_type": "markdown",
      "source": [
        "From the below observation, for the country of Portugal, **JUMBO BAG PAISLEY PARK, LUNCH BAG PAISLEY PARK** are bought together based on the lift value"
      ],
      "metadata": {
        "id": "uOx1aafTy2th"
      }
    },
    {
      "cell_type": "code",
      "source": [
        "# Collecting the inferred rules in a dataframe\n",
        "rules = association_rules(frq_items_por, metric =\"lift\", min_threshold = 1)\n",
        "rules_france = rules.sort_values(['confidence', 'lift'], ascending =[False, False])\n",
        "rules"
      ],
      "metadata": {
        "colab": {
          "base_uri": "https://localhost:8080/",
          "height": 545
        },
        "id": "O4SP0-HCywlK",
        "outputId": "57208bc3-99d6-4de4-d8ba-f5c5f0d00f2c"
      },
      "execution_count": 21,
      "outputs": [
        {
          "output_type": "execute_result",
          "data": {
            "text/html": [
              "<div>\n",
              "<style scoped>\n",
              "    .dataframe tbody tr th:only-of-type {\n",
              "        vertical-align: middle;\n",
              "    }\n",
              "\n",
              "    .dataframe tbody tr th {\n",
              "        vertical-align: top;\n",
              "    }\n",
              "\n",
              "    .dataframe thead th {\n",
              "        text-align: right;\n",
              "    }\n",
              "</style>\n",
              "<table border=\"1\" class=\"dataframe\">\n",
              "  <thead>\n",
              "    <tr style=\"text-align: right;\">\n",
              "      <th></th>\n",
              "      <th>antecedents</th>\n",
              "      <th>consequents</th>\n",
              "      <th>antecedent support</th>\n",
              "      <th>consequent support</th>\n",
              "      <th>support</th>\n",
              "      <th>confidence</th>\n",
              "      <th>lift</th>\n",
              "      <th>leverage</th>\n",
              "      <th>conviction</th>\n",
              "    </tr>\n",
              "  </thead>\n",
              "  <tbody>\n",
              "    <tr>\n",
              "      <th>0</th>\n",
              "      <td>(LUNCH BAG CARS BLUE)</td>\n",
              "      <td>(LUNCH BAG RED RETROSPOT)</td>\n",
              "      <td>0.206897</td>\n",
              "      <td>0.241379</td>\n",
              "      <td>0.137931</td>\n",
              "      <td>0.666667</td>\n",
              "      <td>2.761905</td>\n",
              "      <td>0.087990</td>\n",
              "      <td>2.275862</td>\n",
              "    </tr>\n",
              "    <tr>\n",
              "      <th>1</th>\n",
              "      <td>(LUNCH BAG RED RETROSPOT)</td>\n",
              "      <td>(LUNCH BAG CARS BLUE)</td>\n",
              "      <td>0.241379</td>\n",
              "      <td>0.206897</td>\n",
              "      <td>0.137931</td>\n",
              "      <td>0.571429</td>\n",
              "      <td>2.761905</td>\n",
              "      <td>0.087990</td>\n",
              "      <td>1.850575</td>\n",
              "    </tr>\n",
              "    <tr>\n",
              "      <th>2</th>\n",
              "      <td>(LUNCH BAG CARS BLUE)</td>\n",
              "      <td>(RETROSPOT TEA SET CERAMIC 11 PC)</td>\n",
              "      <td>0.206897</td>\n",
              "      <td>0.241379</td>\n",
              "      <td>0.086207</td>\n",
              "      <td>0.416667</td>\n",
              "      <td>1.726190</td>\n",
              "      <td>0.036266</td>\n",
              "      <td>1.300493</td>\n",
              "    </tr>\n",
              "    <tr>\n",
              "      <th>3</th>\n",
              "      <td>(RETROSPOT TEA SET CERAMIC 11 PC)</td>\n",
              "      <td>(LUNCH BAG CARS BLUE)</td>\n",
              "      <td>0.241379</td>\n",
              "      <td>0.206897</td>\n",
              "      <td>0.086207</td>\n",
              "      <td>0.357143</td>\n",
              "      <td>1.726190</td>\n",
              "      <td>0.036266</td>\n",
              "      <td>1.233716</td>\n",
              "    </tr>\n",
              "    <tr>\n",
              "      <th>4</th>\n",
              "      <td>(LUNCH BAG CARS BLUE, LUNCH BAG RED RETROSPOT)</td>\n",
              "      <td>(RETROSPOT TEA SET CERAMIC 11 PC)</td>\n",
              "      <td>0.137931</td>\n",
              "      <td>0.241379</td>\n",
              "      <td>0.068966</td>\n",
              "      <td>0.500000</td>\n",
              "      <td>2.071429</td>\n",
              "      <td>0.035672</td>\n",
              "      <td>1.517241</td>\n",
              "    </tr>\n",
              "    <tr>\n",
              "      <th>...</th>\n",
              "      <td>...</td>\n",
              "      <td>...</td>\n",
              "      <td>...</td>\n",
              "      <td>...</td>\n",
              "      <td>...</td>\n",
              "      <td>...</td>\n",
              "      <td>...</td>\n",
              "      <td>...</td>\n",
              "      <td>...</td>\n",
              "    </tr>\n",
              "    <tr>\n",
              "      <th>335159</th>\n",
              "      <td>(VINTAGE DOILY JUMBO BAG RED)</td>\n",
              "      <td>(JUMBO BAG PAISLEY PARK, LUNCH BAG PAISLEY PARK)</td>\n",
              "      <td>0.051724</td>\n",
              "      <td>0.068966</td>\n",
              "      <td>0.051724</td>\n",
              "      <td>1.000000</td>\n",
              "      <td>14.500000</td>\n",
              "      <td>0.048157</td>\n",
              "      <td>inf</td>\n",
              "    </tr>\n",
              "    <tr>\n",
              "      <th>335160</th>\n",
              "      <td>(JUMBO BAG PAISLEY PARK)</td>\n",
              "      <td>(VINTAGE DOILY JUMBO BAG RED, LUNCH BAG PAISLE...</td>\n",
              "      <td>0.068966</td>\n",
              "      <td>0.051724</td>\n",
              "      <td>0.051724</td>\n",
              "      <td>0.750000</td>\n",
              "      <td>14.500000</td>\n",
              "      <td>0.048157</td>\n",
              "      <td>3.793103</td>\n",
              "    </tr>\n",
              "    <tr>\n",
              "      <th>335161</th>\n",
              "      <td>(LUNCH BAG PAISLEY PARK)</td>\n",
              "      <td>(VINTAGE DOILY JUMBO BAG RED, JUMBO BAG PAISLE...</td>\n",
              "      <td>0.086207</td>\n",
              "      <td>0.051724</td>\n",
              "      <td>0.051724</td>\n",
              "      <td>0.600000</td>\n",
              "      <td>11.600000</td>\n",
              "      <td>0.047265</td>\n",
              "      <td>2.370690</td>\n",
              "    </tr>\n",
              "    <tr>\n",
              "      <th>335162</th>\n",
              "      <td>(POSTAGE)</td>\n",
              "      <td>(RABBIT NIGHT LIGHT)</td>\n",
              "      <td>0.517241</td>\n",
              "      <td>0.051724</td>\n",
              "      <td>0.051724</td>\n",
              "      <td>0.100000</td>\n",
              "      <td>1.933333</td>\n",
              "      <td>0.024970</td>\n",
              "      <td>1.053640</td>\n",
              "    </tr>\n",
              "    <tr>\n",
              "      <th>335163</th>\n",
              "      <td>(RABBIT NIGHT LIGHT)</td>\n",
              "      <td>(POSTAGE)</td>\n",
              "      <td>0.051724</td>\n",
              "      <td>0.517241</td>\n",
              "      <td>0.051724</td>\n",
              "      <td>1.000000</td>\n",
              "      <td>1.933333</td>\n",
              "      <td>0.024970</td>\n",
              "      <td>inf</td>\n",
              "    </tr>\n",
              "  </tbody>\n",
              "</table>\n",
              "<p>335164 rows × 9 columns</p>\n",
              "</div>"
            ],
            "text/plain": [
              "                                           antecedents  ... conviction\n",
              "0                                (LUNCH BAG CARS BLUE)  ...   2.275862\n",
              "1                            (LUNCH BAG RED RETROSPOT)  ...   1.850575\n",
              "2                                (LUNCH BAG CARS BLUE)  ...   1.300493\n",
              "3                    (RETROSPOT TEA SET CERAMIC 11 PC)  ...   1.233716\n",
              "4       (LUNCH BAG CARS BLUE, LUNCH BAG RED RETROSPOT)  ...   1.517241\n",
              "...                                                ...  ...        ...\n",
              "335159                   (VINTAGE DOILY JUMBO BAG RED)  ...        inf\n",
              "335160                        (JUMBO BAG PAISLEY PARK)  ...   3.793103\n",
              "335161                        (LUNCH BAG PAISLEY PARK)  ...   2.370690\n",
              "335162                                       (POSTAGE)  ...   1.053640\n",
              "335163                            (RABBIT NIGHT LIGHT)  ...        inf\n",
              "\n",
              "[335164 rows x 9 columns]"
            ]
          },
          "metadata": {},
          "execution_count": 21
        }
      ]
    },
    {
      "cell_type": "markdown",
      "source": [
        "## References:\n",
        "\n",
        "1.   https://www.geeksforgeeks.org/implementing-apriori-algorithm-in-python/\n",
        "2. https://www.kaggle.com/sajidcse/market-basket-analysis#FP-GROWTH(Frequent-Pattern-Growth)\n",
        "\n"
      ],
      "metadata": {
        "id": "rpGNZJ1f_EgI"
      }
    }
  ]
}